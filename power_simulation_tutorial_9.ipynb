{
 "cells": [
  {
   "cell_type": "code",
   "execution_count": 5,
   "id": "2de52333",
   "metadata": {},
   "outputs": [],
   "source": [
    "using PowerSystems\n",
    "using Dates\n",
    "using TimeSeries\n",
    "using PowerSimulations\n",
    "using HiGHS\n",
    "\n",
    "using PowerSystemCaseBuilder\n",
    "using HydroPowerSimulations"
   ]
  },
  {
   "cell_type": "code",
   "execution_count": 6,
   "id": "daa7563c",
   "metadata": {},
   "outputs": [
    {
     "data": {
      "text/plain": [
       "MathOptInterface.OptimizerWithAttributes(HiGHS.Optimizer, Pair{MathOptInterface.AbstractOptimizerAttribute, Any}[MathOptInterface.RawOptimizerAttribute(\"mip_rel_gap\") => 0.5])"
      ]
     },
     "execution_count": 6,
     "metadata": {},
     "output_type": "execute_result"
    }
   ],
   "source": [
    "solver = optimizer_with_attributes(HiGHS.Optimizer, \"mip_rel_gap\" => 0.5)"
   ]
  },
  {
   "cell_type": "code",
   "execution_count": 7,
   "id": "922d7210",
   "metadata": {},
   "outputs": [
    {
     "name": "stderr",
     "output_type": "stream",
     "text": [
      "\u001b[36m\u001b[1m[ \u001b[22m\u001b[39m\u001b[36m\u001b[1mInfo: \u001b[22m\u001b[39mLoaded time series from storage file existing=/home/clhar/.julia/packages/PowerSystemCaseBuilder/dJGb8/data/serialized_system/e3b0c44298fc1c149afbf4c8996fb92427ae41e4649b934ca495991b7852b855/modified_RTS_GMLC_DA_sys_time_series_storage.h5 new=/tmp/jl_xkMYfx compression=CompressionSettings(false, CompressionTypes.DEFLATE = 1, 3, true)\n"
     ]
    },
    {
     "data": {
      "text/html": [
       "<table>\n",
       "  <caption style = \"text-align: left;\">System</caption>\n",
       "  <thead>\n",
       "    <tr class = \"header headerLastRow\">\n",
       "      <th style = \"text-align: left;\">Property</th>\n",
       "      <th style = \"text-align: left;\">Value</th>\n",
       "    </tr>\n",
       "  </thead>\n",
       "  <tbody>\n",
       "    <tr>\n",
       "      <td style = \"text-align: left;\">Name</td>\n",
       "      <td style = \"text-align: left;\"></td>\n",
       "    </tr>\n",
       "    <tr>\n",
       "      <td style = \"text-align: left;\">Description</td>\n",
       "      <td style = \"text-align: left;\"></td>\n",
       "    </tr>\n",
       "    <tr>\n",
       "      <td style = \"text-align: left;\">System Units Base</td>\n",
       "      <td style = \"text-align: left;\">SYSTEM_BASE</td>\n",
       "    </tr>\n",
       "    <tr>\n",
       "      <td style = \"text-align: left;\">Base Power</td>\n",
       "      <td style = \"text-align: left;\">100.0</td>\n",
       "    </tr>\n",
       "    <tr>\n",
       "      <td style = \"text-align: left;\">Base Frequency</td>\n",
       "      <td style = \"text-align: left;\">60.0</td>\n",
       "    </tr>\n",
       "    <tr>\n",
       "      <td style = \"text-align: left;\">Num Components</td>\n",
       "      <td style = \"text-align: left;\">501</td>\n",
       "    </tr>\n",
       "  </tbody>\n",
       "</table>\n",
       "\n",
       "<table>\n",
       "  <caption style = \"text-align: left;\">Static Components</caption>\n",
       "  <thead>\n",
       "    <tr class = \"header headerLastRow\">\n",
       "      <th style = \"text-align: left;\">Type</th>\n",
       "      <th style = \"text-align: left;\">Count</th>\n",
       "    </tr>\n",
       "  </thead>\n",
       "  <tbody>\n",
       "    <tr>\n",
       "      <td style = \"text-align: left;\">ACBus</td>\n",
       "      <td style = \"text-align: left;\">73</td>\n",
       "    </tr>\n",
       "    <tr>\n",
       "      <td style = \"text-align: left;\">Arc</td>\n",
       "      <td style = \"text-align: left;\">109</td>\n",
       "    </tr>\n",
       "    <tr>\n",
       "      <td style = \"text-align: left;\">Area</td>\n",
       "      <td style = \"text-align: left;\">3</td>\n",
       "    </tr>\n",
       "    <tr>\n",
       "      <td style = \"text-align: left;\">FixedAdmittance</td>\n",
       "      <td style = \"text-align: left;\">3</td>\n",
       "    </tr>\n",
       "    <tr>\n",
       "      <td style = \"text-align: left;\">HydroDispatch</td>\n",
       "      <td style = \"text-align: left;\">1</td>\n",
       "    </tr>\n",
       "    <tr>\n",
       "      <td style = \"text-align: left;\">Line</td>\n",
       "      <td style = \"text-align: left;\">105</td>\n",
       "    </tr>\n",
       "    <tr>\n",
       "      <td style = \"text-align: left;\">LoadZone</td>\n",
       "      <td style = \"text-align: left;\">21</td>\n",
       "    </tr>\n",
       "    <tr>\n",
       "      <td style = \"text-align: left;\">PowerLoad</td>\n",
       "      <td style = \"text-align: left;\">51</td>\n",
       "    </tr>\n",
       "    <tr>\n",
       "      <td style = \"text-align: left;\">RenewableDispatch</td>\n",
       "      <td style = \"text-align: left;\">29</td>\n",
       "    </tr>\n",
       "    <tr>\n",
       "      <td style = \"text-align: left;\">RenewableNonDispatch</td>\n",
       "      <td style = \"text-align: left;\">31</td>\n",
       "    </tr>\n",
       "    <tr>\n",
       "      <td style = \"text-align: left;\">TapTransformer</td>\n",
       "      <td style = \"text-align: left;\">15</td>\n",
       "    </tr>\n",
       "    <tr>\n",
       "      <td style = \"text-align: left;\">ThermalStandard</td>\n",
       "      <td style = \"text-align: left;\">54</td>\n",
       "    </tr>\n",
       "    <tr>\n",
       "      <td style = \"text-align: left;\">TwoTerminalHVDCLine</td>\n",
       "      <td style = \"text-align: left;\">1</td>\n",
       "    </tr>\n",
       "    <tr>\n",
       "      <td style = \"text-align: left;\">VariableReserve{ReserveDown}</td>\n",
       "      <td style = \"text-align: left;\">1</td>\n",
       "    </tr>\n",
       "    <tr>\n",
       "      <td style = \"text-align: left;\">VariableReserve{ReserveUp}</td>\n",
       "      <td style = \"text-align: left;\">4</td>\n",
       "    </tr>\n",
       "  </tbody>\n",
       "</table>\n",
       "\n",
       "<table>\n",
       "  <caption style = \"text-align: left;\">StaticTimeSeries Summary</caption>\n",
       "  <thead>\n",
       "    <tr class = \"header\">\n",
       "      <th style = \"text-align: left;\">owner_type</th>\n",
       "      <th style = \"text-align: left;\">owner_category</th>\n",
       "      <th style = \"text-align: left;\">time_series_type</th>\n",
       "      <th style = \"text-align: left;\">initial_timestamp</th>\n",
       "      <th style = \"text-align: left;\">resolution</th>\n",
       "      <th style = \"text-align: left;\">count</th>\n",
       "      <th style = \"text-align: left;\">time_step_count</th>\n",
       "    </tr>\n",
       "    <tr class = \"subheader headerLastRow\">\n",
       "      <th style = \"text-align: left;\">String</th>\n",
       "      <th style = \"text-align: left;\">String</th>\n",
       "      <th style = \"text-align: left;\">String</th>\n",
       "      <th style = \"text-align: left;\">String</th>\n",
       "      <th style = \"text-align: left;\">Dates.CompoundPeriod</th>\n",
       "      <th style = \"text-align: left;\">Int64</th>\n",
       "      <th style = \"text-align: left;\">Int64</th>\n",
       "    </tr>\n",
       "  </thead>\n",
       "  <tbody>\n",
       "    <tr>\n",
       "      <td style = \"text-align: left;\">Area</td>\n",
       "      <td style = \"text-align: left;\">Component</td>\n",
       "      <td style = \"text-align: left;\">SingleTimeSeries</td>\n",
       "      <td style = \"text-align: left;\">2020-01-01T00:00:00</td>\n",
       "      <td style = \"text-align: left;\">1 hour</td>\n",
       "      <td style = \"text-align: left;\">3</td>\n",
       "      <td style = \"text-align: left;\">8784</td>\n",
       "    </tr>\n",
       "    <tr>\n",
       "      <td style = \"text-align: left;\">FixedAdmittance</td>\n",
       "      <td style = \"text-align: left;\">Component</td>\n",
       "      <td style = \"text-align: left;\">SingleTimeSeries</td>\n",
       "      <td style = \"text-align: left;\">2020-01-01T00:00:00</td>\n",
       "      <td style = \"text-align: left;\">1 hour</td>\n",
       "      <td style = \"text-align: left;\">3</td>\n",
       "      <td style = \"text-align: left;\">8784</td>\n",
       "    </tr>\n",
       "    <tr>\n",
       "      <td style = \"text-align: left;\">HydroDispatch</td>\n",
       "      <td style = \"text-align: left;\">Component</td>\n",
       "      <td style = \"text-align: left;\">SingleTimeSeries</td>\n",
       "      <td style = \"text-align: left;\">2020-01-01T00:00:00</td>\n",
       "      <td style = \"text-align: left;\">1 hour</td>\n",
       "      <td style = \"text-align: left;\">2</td>\n",
       "      <td style = \"text-align: left;\">8784</td>\n",
       "    </tr>\n",
       "    <tr>\n",
       "      <td style = \"text-align: left;\">PowerLoad</td>\n",
       "      <td style = \"text-align: left;\">Component</td>\n",
       "      <td style = \"text-align: left;\">SingleTimeSeries</td>\n",
       "      <td style = \"text-align: left;\">2020-01-01T00:00:00</td>\n",
       "      <td style = \"text-align: left;\">1 hour</td>\n",
       "      <td style = \"text-align: left;\">51</td>\n",
       "      <td style = \"text-align: left;\">8784</td>\n",
       "    </tr>\n",
       "    <tr>\n",
       "      <td style = \"text-align: left;\">RenewableDispatch</td>\n",
       "      <td style = \"text-align: left;\">Component</td>\n",
       "      <td style = \"text-align: left;\">SingleTimeSeries</td>\n",
       "      <td style = \"text-align: left;\">2020-01-01T00:00:00</td>\n",
       "      <td style = \"text-align: left;\">1 hour</td>\n",
       "      <td style = \"text-align: left;\">29</td>\n",
       "      <td style = \"text-align: left;\">8784</td>\n",
       "    </tr>\n",
       "    <tr>\n",
       "      <td style = \"text-align: left;\">RenewableNonDispatch</td>\n",
       "      <td style = \"text-align: left;\">Component</td>\n",
       "      <td style = \"text-align: left;\">SingleTimeSeries</td>\n",
       "      <td style = \"text-align: left;\">2020-01-01T00:00:00</td>\n",
       "      <td style = \"text-align: left;\">1 hour</td>\n",
       "      <td style = \"text-align: left;\">31</td>\n",
       "      <td style = \"text-align: left;\">8784</td>\n",
       "    </tr>\n",
       "    <tr>\n",
       "      <td style = \"text-align: left;\">VariableReserve</td>\n",
       "      <td style = \"text-align: left;\">Component</td>\n",
       "      <td style = \"text-align: left;\">SingleTimeSeries</td>\n",
       "      <td style = \"text-align: left;\">2020-01-01T00:00:00</td>\n",
       "      <td style = \"text-align: left;\">1 hour</td>\n",
       "      <td style = \"text-align: left;\">5</td>\n",
       "      <td style = \"text-align: left;\">8784</td>\n",
       "    </tr>\n",
       "  </tbody>\n",
       "</table>\n",
       "<table>\n",
       "  <caption style = \"text-align: left;\">Forecast Summary</caption>\n",
       "  <thead>\n",
       "    <tr class = \"header\">\n",
       "      <th style = \"text-align: left;\">owner_type</th>\n",
       "      <th style = \"text-align: left;\">owner_category</th>\n",
       "      <th style = \"text-align: left;\">time_series_type</th>\n",
       "      <th style = \"text-align: left;\">initial_timestamp</th>\n",
       "      <th style = \"text-align: left;\">resolution</th>\n",
       "      <th style = \"text-align: left;\">count</th>\n",
       "      <th style = \"text-align: left;\">horizon</th>\n",
       "      <th style = \"text-align: left;\">interval</th>\n",
       "      <th style = \"text-align: left;\">window_count</th>\n",
       "    </tr>\n",
       "    <tr class = \"subheader headerLastRow\">\n",
       "      <th style = \"text-align: left;\">String</th>\n",
       "      <th style = \"text-align: left;\">String</th>\n",
       "      <th style = \"text-align: left;\">String</th>\n",
       "      <th style = \"text-align: left;\">String</th>\n",
       "      <th style = \"text-align: left;\">Dates.CompoundPeriod</th>\n",
       "      <th style = \"text-align: left;\">Int64</th>\n",
       "      <th style = \"text-align: left;\">Dates.CompoundPeriod</th>\n",
       "      <th style = \"text-align: left;\">Dates.CompoundPeriod</th>\n",
       "      <th style = \"text-align: left;\">Int64</th>\n",
       "    </tr>\n",
       "  </thead>\n",
       "  <tbody>\n",
       "    <tr>\n",
       "      <td style = \"text-align: left;\">Area</td>\n",
       "      <td style = \"text-align: left;\">Component</td>\n",
       "      <td style = \"text-align: left;\">DeterministicSingleTimeSeries</td>\n",
       "      <td style = \"text-align: left;\">2020-01-01T00:00:00</td>\n",
       "      <td style = \"text-align: left;\">1 hour</td>\n",
       "      <td style = \"text-align: left;\">3</td>\n",
       "      <td style = \"text-align: left;\">2 days</td>\n",
       "      <td style = \"text-align: left;\">1 day</td>\n",
       "      <td style = \"text-align: left;\">365</td>\n",
       "    </tr>\n",
       "    <tr>\n",
       "      <td style = \"text-align: left;\">FixedAdmittance</td>\n",
       "      <td style = \"text-align: left;\">Component</td>\n",
       "      <td style = \"text-align: left;\">DeterministicSingleTimeSeries</td>\n",
       "      <td style = \"text-align: left;\">2020-01-01T00:00:00</td>\n",
       "      <td style = \"text-align: left;\">1 hour</td>\n",
       "      <td style = \"text-align: left;\">3</td>\n",
       "      <td style = \"text-align: left;\">2 days</td>\n",
       "      <td style = \"text-align: left;\">1 day</td>\n",
       "      <td style = \"text-align: left;\">365</td>\n",
       "    </tr>\n",
       "    <tr>\n",
       "      <td style = \"text-align: left;\">HydroDispatch</td>\n",
       "      <td style = \"text-align: left;\">Component</td>\n",
       "      <td style = \"text-align: left;\">DeterministicSingleTimeSeries</td>\n",
       "      <td style = \"text-align: left;\">2020-01-01T00:00:00</td>\n",
       "      <td style = \"text-align: left;\">1 hour</td>\n",
       "      <td style = \"text-align: left;\">2</td>\n",
       "      <td style = \"text-align: left;\">2 days</td>\n",
       "      <td style = \"text-align: left;\">1 day</td>\n",
       "      <td style = \"text-align: left;\">365</td>\n",
       "    </tr>\n",
       "    <tr>\n",
       "      <td style = \"text-align: left;\">PowerLoad</td>\n",
       "      <td style = \"text-align: left;\">Component</td>\n",
       "      <td style = \"text-align: left;\">DeterministicSingleTimeSeries</td>\n",
       "      <td style = \"text-align: left;\">2020-01-01T00:00:00</td>\n",
       "      <td style = \"text-align: left;\">1 hour</td>\n",
       "      <td style = \"text-align: left;\">51</td>\n",
       "      <td style = \"text-align: left;\">2 days</td>\n",
       "      <td style = \"text-align: left;\">1 day</td>\n",
       "      <td style = \"text-align: left;\">365</td>\n",
       "    </tr>\n",
       "    <tr>\n",
       "      <td style = \"text-align: left;\">RenewableDispatch</td>\n",
       "      <td style = \"text-align: left;\">Component</td>\n",
       "      <td style = \"text-align: left;\">DeterministicSingleTimeSeries</td>\n",
       "      <td style = \"text-align: left;\">2020-01-01T00:00:00</td>\n",
       "      <td style = \"text-align: left;\">1 hour</td>\n",
       "      <td style = \"text-align: left;\">29</td>\n",
       "      <td style = \"text-align: left;\">2 days</td>\n",
       "      <td style = \"text-align: left;\">1 day</td>\n",
       "      <td style = \"text-align: left;\">365</td>\n",
       "    </tr>\n",
       "    <tr>\n",
       "      <td style = \"text-align: left;\">RenewableNonDispatch</td>\n",
       "      <td style = \"text-align: left;\">Component</td>\n",
       "      <td style = \"text-align: left;\">DeterministicSingleTimeSeries</td>\n",
       "      <td style = \"text-align: left;\">2020-01-01T00:00:00</td>\n",
       "      <td style = \"text-align: left;\">1 hour</td>\n",
       "      <td style = \"text-align: left;\">31</td>\n",
       "      <td style = \"text-align: left;\">2 days</td>\n",
       "      <td style = \"text-align: left;\">1 day</td>\n",
       "      <td style = \"text-align: left;\">365</td>\n",
       "    </tr>\n",
       "    <tr>\n",
       "      <td style = \"text-align: left;\">VariableReserve</td>\n",
       "      <td style = \"text-align: left;\">Component</td>\n",
       "      <td style = \"text-align: left;\">DeterministicSingleTimeSeries</td>\n",
       "      <td style = \"text-align: left;\">2020-01-01T00:00:00</td>\n",
       "      <td style = \"text-align: left;\">1 hour</td>\n",
       "      <td style = \"text-align: left;\">5</td>\n",
       "      <td style = \"text-align: left;\">2 days</td>\n",
       "      <td style = \"text-align: left;\">1 day</td>\n",
       "      <td style = \"text-align: left;\">365</td>\n",
       "    </tr>\n",
       "  </tbody>\n",
       "</table>\n"
      ],
      "text/plain": [
       "\u001b[1mSystem\u001b[0m\n",
       "┌───────────────────┬─────────────┐\n",
       "│\u001b[1m Property          \u001b[0m│\u001b[1m Value       \u001b[0m│\n",
       "├───────────────────┼─────────────┤\n",
       "│ Name              │             │\n",
       "│ Description       │             │\n",
       "│ System Units Base │ SYSTEM_BASE │\n",
       "│ Base Power        │ 100.0       │\n",
       "│ Base Frequency    │ 60.0        │\n",
       "│ Num Components    │ 501         │\n",
       "└───────────────────┴─────────────┘\n",
       "\n",
       "\u001b[1mStatic Components\u001b[0m\n",
       "┌──────────────────────────────┬───────┐\n",
       "│\u001b[1m Type                         \u001b[0m│\u001b[1m Count \u001b[0m│\n",
       "├──────────────────────────────┼───────┤\n",
       "│ ACBus                        │ 73    │\n",
       "│ Arc                          │ 109   │\n",
       "│ Area                         │ 3     │\n",
       "│ FixedAdmittance              │ 3     │\n",
       "│ HydroDispatch                │ 1     │\n",
       "│ Line                         │ 105   │\n",
       "│ LoadZone                     │ 21    │\n",
       "│ PowerLoad                    │ 51    │\n",
       "│ RenewableDispatch            │ 29    │\n",
       "│ RenewableNonDispatch         │ 31    │\n",
       "│ TapTransformer               │ 15    │\n",
       "│ ThermalStandard              │ 54    │\n",
       "│ TwoTerminalHVDCLine          │ 1     │\n",
       "│ VariableReserve{ReserveDown} │ 1     │\n",
       "│ VariableReserve{ReserveUp}   │ 4     │\n",
       "└──────────────────────────────┴───────┘\n",
       "\n",
       "\u001b[1mStaticTimeSeries Summary\u001b[0m\n",
       "┌──────────────────────┬────────────────┬──────────────────┬────────────────────\n",
       "│\u001b[1m owner_type           \u001b[0m│\u001b[1m owner_category \u001b[0m│\u001b[1m time_series_type \u001b[0m│\u001b[1m initial_timestamp\u001b[0m ⋯\n",
       "│\u001b[90m String               \u001b[0m│\u001b[90m String         \u001b[0m│\u001b[90m String           \u001b[0m│\u001b[90m String           \u001b[0m ⋯\n",
       "├──────────────────────┼────────────────┼──────────────────┼────────────────────\n",
       "│ Area                 │ Component      │ SingleTimeSeries │ 2020-01-01T00:00: ⋯\n",
       "│ FixedAdmittance      │ Component      │ SingleTimeSeries │ 2020-01-01T00:00: ⋯\n",
       "│ HydroDispatch        │ Component      │ SingleTimeSeries │ 2020-01-01T00:00: ⋯\n",
       "│ PowerLoad            │ Component      │ SingleTimeSeries │ 2020-01-01T00:00: ⋯\n",
       "│ RenewableDispatch    │ Component      │ SingleTimeSeries │ 2020-01-01T00:00: ⋯\n",
       "│ RenewableNonDispatch │ Component      │ SingleTimeSeries │ 2020-01-01T00:00: ⋯\n",
       "│ VariableReserve      │ Component      │ SingleTimeSeries │ 2020-01-01T00:00: ⋯\n",
       "└──────────────────────┴────────────────┴──────────────────┴────────────────────\n",
       "\u001b[36m                                                               4 columns omitted\u001b[0m\n",
       "\u001b[1mForecast Summary\u001b[0m\n",
       "┌──────────────────────┬────────────────┬───────────────────────────────┬───────\n",
       "│\u001b[1m owner_type           \u001b[0m│\u001b[1m owner_category \u001b[0m│\u001b[1m time_series_type              \u001b[0m│\u001b[1m init\u001b[0m ⋯\n",
       "│\u001b[90m String               \u001b[0m│\u001b[90m String         \u001b[0m│\u001b[90m String                        \u001b[0m│\u001b[90m Stri\u001b[0m ⋯\n",
       "├──────────────────────┼────────────────┼───────────────────────────────┼───────\n",
       "│ Area                 │ Component      │ DeterministicSingleTimeSeries │ 2020 ⋯\n",
       "│ FixedAdmittance      │ Component      │ DeterministicSingleTimeSeries │ 2020 ⋯\n",
       "│ HydroDispatch        │ Component      │ DeterministicSingleTimeSeries │ 2020 ⋯\n",
       "│ PowerLoad            │ Component      │ DeterministicSingleTimeSeries │ 2020 ⋯\n",
       "│ RenewableDispatch    │ Component      │ DeterministicSingleTimeSeries │ 2020 ⋯\n",
       "│ RenewableNonDispatch │ Component      │ DeterministicSingleTimeSeries │ 2020 ⋯\n",
       "│ VariableReserve      │ Component      │ DeterministicSingleTimeSeries │ 2020 ⋯\n",
       "└──────────────────────┴────────────────┴───────────────────────────────┴───────\n",
       "\u001b[36m                                                               6 columns omitted\u001b[0m\n"
      ]
     },
     "execution_count": 7,
     "metadata": {},
     "output_type": "execute_result"
    }
   ],
   "source": [
    "sys = build_system(PSISystems, \"modified_RTS_GMLC_DA_sys\")"
   ]
  },
  {
   "cell_type": "code",
   "execution_count": 8,
   "id": "149a7159",
   "metadata": {},
   "outputs": [
    {
     "data": {
      "text/html": [
       "<table>\n",
       "  <caption style = \"text-align: left;\">System</caption>\n",
       "  <thead>\n",
       "    <tr class = \"header headerLastRow\">\n",
       "      <th style = \"text-align: left;\">Property</th>\n",
       "      <th style = \"text-align: left;\">Value</th>\n",
       "    </tr>\n",
       "  </thead>\n",
       "  <tbody>\n",
       "    <tr>\n",
       "      <td style = \"text-align: left;\">Name</td>\n",
       "      <td style = \"text-align: left;\"></td>\n",
       "    </tr>\n",
       "    <tr>\n",
       "      <td style = \"text-align: left;\">Description</td>\n",
       "      <td style = \"text-align: left;\"></td>\n",
       "    </tr>\n",
       "    <tr>\n",
       "      <td style = \"text-align: left;\">System Units Base</td>\n",
       "      <td style = \"text-align: left;\">SYSTEM_BASE</td>\n",
       "    </tr>\n",
       "    <tr>\n",
       "      <td style = \"text-align: left;\">Base Power</td>\n",
       "      <td style = \"text-align: left;\">100.0</td>\n",
       "    </tr>\n",
       "    <tr>\n",
       "      <td style = \"text-align: left;\">Base Frequency</td>\n",
       "      <td style = \"text-align: left;\">60.0</td>\n",
       "    </tr>\n",
       "    <tr>\n",
       "      <td style = \"text-align: left;\">Num Components</td>\n",
       "      <td style = \"text-align: left;\">501</td>\n",
       "    </tr>\n",
       "  </tbody>\n",
       "</table>\n",
       "\n",
       "<table>\n",
       "  <caption style = \"text-align: left;\">Static Components</caption>\n",
       "  <thead>\n",
       "    <tr class = \"header headerLastRow\">\n",
       "      <th style = \"text-align: left;\">Type</th>\n",
       "      <th style = \"text-align: left;\">Count</th>\n",
       "    </tr>\n",
       "  </thead>\n",
       "  <tbody>\n",
       "    <tr>\n",
       "      <td style = \"text-align: left;\">ACBus</td>\n",
       "      <td style = \"text-align: left;\">73</td>\n",
       "    </tr>\n",
       "    <tr>\n",
       "      <td style = \"text-align: left;\">Arc</td>\n",
       "      <td style = \"text-align: left;\">109</td>\n",
       "    </tr>\n",
       "    <tr>\n",
       "      <td style = \"text-align: left;\">Area</td>\n",
       "      <td style = \"text-align: left;\">3</td>\n",
       "    </tr>\n",
       "    <tr>\n",
       "      <td style = \"text-align: left;\">FixedAdmittance</td>\n",
       "      <td style = \"text-align: left;\">3</td>\n",
       "    </tr>\n",
       "    <tr>\n",
       "      <td style = \"text-align: left;\">HydroDispatch</td>\n",
       "      <td style = \"text-align: left;\">1</td>\n",
       "    </tr>\n",
       "    <tr>\n",
       "      <td style = \"text-align: left;\">Line</td>\n",
       "      <td style = \"text-align: left;\">105</td>\n",
       "    </tr>\n",
       "    <tr>\n",
       "      <td style = \"text-align: left;\">LoadZone</td>\n",
       "      <td style = \"text-align: left;\">21</td>\n",
       "    </tr>\n",
       "    <tr>\n",
       "      <td style = \"text-align: left;\">PowerLoad</td>\n",
       "      <td style = \"text-align: left;\">51</td>\n",
       "    </tr>\n",
       "    <tr>\n",
       "      <td style = \"text-align: left;\">RenewableDispatch</td>\n",
       "      <td style = \"text-align: left;\">29</td>\n",
       "    </tr>\n",
       "    <tr>\n",
       "      <td style = \"text-align: left;\">RenewableNonDispatch</td>\n",
       "      <td style = \"text-align: left;\">31</td>\n",
       "    </tr>\n",
       "    <tr>\n",
       "      <td style = \"text-align: left;\">TapTransformer</td>\n",
       "      <td style = \"text-align: left;\">15</td>\n",
       "    </tr>\n",
       "    <tr>\n",
       "      <td style = \"text-align: left;\">ThermalStandard</td>\n",
       "      <td style = \"text-align: left;\">54</td>\n",
       "    </tr>\n",
       "    <tr>\n",
       "      <td style = \"text-align: left;\">TwoTerminalHVDCLine</td>\n",
       "      <td style = \"text-align: left;\">1</td>\n",
       "    </tr>\n",
       "    <tr>\n",
       "      <td style = \"text-align: left;\">VariableReserve{ReserveDown}</td>\n",
       "      <td style = \"text-align: left;\">1</td>\n",
       "    </tr>\n",
       "    <tr>\n",
       "      <td style = \"text-align: left;\">VariableReserve{ReserveUp}</td>\n",
       "      <td style = \"text-align: left;\">4</td>\n",
       "    </tr>\n",
       "  </tbody>\n",
       "</table>\n",
       "\n",
       "<table>\n",
       "  <caption style = \"text-align: left;\">StaticTimeSeries Summary</caption>\n",
       "  <thead>\n",
       "    <tr class = \"header\">\n",
       "      <th style = \"text-align: left;\">owner_type</th>\n",
       "      <th style = \"text-align: left;\">owner_category</th>\n",
       "      <th style = \"text-align: left;\">time_series_type</th>\n",
       "      <th style = \"text-align: left;\">initial_timestamp</th>\n",
       "      <th style = \"text-align: left;\">resolution</th>\n",
       "      <th style = \"text-align: left;\">count</th>\n",
       "      <th style = \"text-align: left;\">time_step_count</th>\n",
       "    </tr>\n",
       "    <tr class = \"subheader headerLastRow\">\n",
       "      <th style = \"text-align: left;\">String</th>\n",
       "      <th style = \"text-align: left;\">String</th>\n",
       "      <th style = \"text-align: left;\">String</th>\n",
       "      <th style = \"text-align: left;\">String</th>\n",
       "      <th style = \"text-align: left;\">Dates.CompoundPeriod</th>\n",
       "      <th style = \"text-align: left;\">Int64</th>\n",
       "      <th style = \"text-align: left;\">Int64</th>\n",
       "    </tr>\n",
       "  </thead>\n",
       "  <tbody>\n",
       "    <tr>\n",
       "      <td style = \"text-align: left;\">Area</td>\n",
       "      <td style = \"text-align: left;\">Component</td>\n",
       "      <td style = \"text-align: left;\">SingleTimeSeries</td>\n",
       "      <td style = \"text-align: left;\">2020-01-01T00:00:00</td>\n",
       "      <td style = \"text-align: left;\">1 hour</td>\n",
       "      <td style = \"text-align: left;\">3</td>\n",
       "      <td style = \"text-align: left;\">8784</td>\n",
       "    </tr>\n",
       "    <tr>\n",
       "      <td style = \"text-align: left;\">FixedAdmittance</td>\n",
       "      <td style = \"text-align: left;\">Component</td>\n",
       "      <td style = \"text-align: left;\">SingleTimeSeries</td>\n",
       "      <td style = \"text-align: left;\">2020-01-01T00:00:00</td>\n",
       "      <td style = \"text-align: left;\">1 hour</td>\n",
       "      <td style = \"text-align: left;\">3</td>\n",
       "      <td style = \"text-align: left;\">8784</td>\n",
       "    </tr>\n",
       "    <tr>\n",
       "      <td style = \"text-align: left;\">HydroDispatch</td>\n",
       "      <td style = \"text-align: left;\">Component</td>\n",
       "      <td style = \"text-align: left;\">SingleTimeSeries</td>\n",
       "      <td style = \"text-align: left;\">2020-01-01T00:00:00</td>\n",
       "      <td style = \"text-align: left;\">1 hour</td>\n",
       "      <td style = \"text-align: left;\">2</td>\n",
       "      <td style = \"text-align: left;\">8784</td>\n",
       "    </tr>\n",
       "    <tr>\n",
       "      <td style = \"text-align: left;\">PowerLoad</td>\n",
       "      <td style = \"text-align: left;\">Component</td>\n",
       "      <td style = \"text-align: left;\">SingleTimeSeries</td>\n",
       "      <td style = \"text-align: left;\">2020-01-01T00:00:00</td>\n",
       "      <td style = \"text-align: left;\">1 hour</td>\n",
       "      <td style = \"text-align: left;\">51</td>\n",
       "      <td style = \"text-align: left;\">8784</td>\n",
       "    </tr>\n",
       "    <tr>\n",
       "      <td style = \"text-align: left;\">RenewableDispatch</td>\n",
       "      <td style = \"text-align: left;\">Component</td>\n",
       "      <td style = \"text-align: left;\">SingleTimeSeries</td>\n",
       "      <td style = \"text-align: left;\">2020-01-01T00:00:00</td>\n",
       "      <td style = \"text-align: left;\">1 hour</td>\n",
       "      <td style = \"text-align: left;\">29</td>\n",
       "      <td style = \"text-align: left;\">8784</td>\n",
       "    </tr>\n",
       "    <tr>\n",
       "      <td style = \"text-align: left;\">RenewableNonDispatch</td>\n",
       "      <td style = \"text-align: left;\">Component</td>\n",
       "      <td style = \"text-align: left;\">SingleTimeSeries</td>\n",
       "      <td style = \"text-align: left;\">2020-01-01T00:00:00</td>\n",
       "      <td style = \"text-align: left;\">1 hour</td>\n",
       "      <td style = \"text-align: left;\">31</td>\n",
       "      <td style = \"text-align: left;\">8784</td>\n",
       "    </tr>\n",
       "    <tr>\n",
       "      <td style = \"text-align: left;\">VariableReserve</td>\n",
       "      <td style = \"text-align: left;\">Component</td>\n",
       "      <td style = \"text-align: left;\">SingleTimeSeries</td>\n",
       "      <td style = \"text-align: left;\">2020-01-01T00:00:00</td>\n",
       "      <td style = \"text-align: left;\">1 hour</td>\n",
       "      <td style = \"text-align: left;\">5</td>\n",
       "      <td style = \"text-align: left;\">8784</td>\n",
       "    </tr>\n",
       "  </tbody>\n",
       "</table>\n",
       "<table>\n",
       "  <caption style = \"text-align: left;\">Forecast Summary</caption>\n",
       "  <thead>\n",
       "    <tr class = \"header\">\n",
       "      <th style = \"text-align: left;\">owner_type</th>\n",
       "      <th style = \"text-align: left;\">owner_category</th>\n",
       "      <th style = \"text-align: left;\">time_series_type</th>\n",
       "      <th style = \"text-align: left;\">initial_timestamp</th>\n",
       "      <th style = \"text-align: left;\">resolution</th>\n",
       "      <th style = \"text-align: left;\">count</th>\n",
       "      <th style = \"text-align: left;\">horizon</th>\n",
       "      <th style = \"text-align: left;\">interval</th>\n",
       "      <th style = \"text-align: left;\">window_count</th>\n",
       "    </tr>\n",
       "    <tr class = \"subheader headerLastRow\">\n",
       "      <th style = \"text-align: left;\">String</th>\n",
       "      <th style = \"text-align: left;\">String</th>\n",
       "      <th style = \"text-align: left;\">String</th>\n",
       "      <th style = \"text-align: left;\">String</th>\n",
       "      <th style = \"text-align: left;\">Dates.CompoundPeriod</th>\n",
       "      <th style = \"text-align: left;\">Int64</th>\n",
       "      <th style = \"text-align: left;\">Dates.CompoundPeriod</th>\n",
       "      <th style = \"text-align: left;\">Dates.CompoundPeriod</th>\n",
       "      <th style = \"text-align: left;\">Int64</th>\n",
       "    </tr>\n",
       "  </thead>\n",
       "  <tbody>\n",
       "    <tr>\n",
       "      <td style = \"text-align: left;\">Area</td>\n",
       "      <td style = \"text-align: left;\">Component</td>\n",
       "      <td style = \"text-align: left;\">DeterministicSingleTimeSeries</td>\n",
       "      <td style = \"text-align: left;\">2020-01-01T00:00:00</td>\n",
       "      <td style = \"text-align: left;\">1 hour</td>\n",
       "      <td style = \"text-align: left;\">3</td>\n",
       "      <td style = \"text-align: left;\">2 days</td>\n",
       "      <td style = \"text-align: left;\">1 day</td>\n",
       "      <td style = \"text-align: left;\">365</td>\n",
       "    </tr>\n",
       "    <tr>\n",
       "      <td style = \"text-align: left;\">FixedAdmittance</td>\n",
       "      <td style = \"text-align: left;\">Component</td>\n",
       "      <td style = \"text-align: left;\">DeterministicSingleTimeSeries</td>\n",
       "      <td style = \"text-align: left;\">2020-01-01T00:00:00</td>\n",
       "      <td style = \"text-align: left;\">1 hour</td>\n",
       "      <td style = \"text-align: left;\">3</td>\n",
       "      <td style = \"text-align: left;\">2 days</td>\n",
       "      <td style = \"text-align: left;\">1 day</td>\n",
       "      <td style = \"text-align: left;\">365</td>\n",
       "    </tr>\n",
       "    <tr>\n",
       "      <td style = \"text-align: left;\">HydroDispatch</td>\n",
       "      <td style = \"text-align: left;\">Component</td>\n",
       "      <td style = \"text-align: left;\">DeterministicSingleTimeSeries</td>\n",
       "      <td style = \"text-align: left;\">2020-01-01T00:00:00</td>\n",
       "      <td style = \"text-align: left;\">1 hour</td>\n",
       "      <td style = \"text-align: left;\">2</td>\n",
       "      <td style = \"text-align: left;\">2 days</td>\n",
       "      <td style = \"text-align: left;\">1 day</td>\n",
       "      <td style = \"text-align: left;\">365</td>\n",
       "    </tr>\n",
       "    <tr>\n",
       "      <td style = \"text-align: left;\">PowerLoad</td>\n",
       "      <td style = \"text-align: left;\">Component</td>\n",
       "      <td style = \"text-align: left;\">DeterministicSingleTimeSeries</td>\n",
       "      <td style = \"text-align: left;\">2020-01-01T00:00:00</td>\n",
       "      <td style = \"text-align: left;\">1 hour</td>\n",
       "      <td style = \"text-align: left;\">51</td>\n",
       "      <td style = \"text-align: left;\">2 days</td>\n",
       "      <td style = \"text-align: left;\">1 day</td>\n",
       "      <td style = \"text-align: left;\">365</td>\n",
       "    </tr>\n",
       "    <tr>\n",
       "      <td style = \"text-align: left;\">RenewableDispatch</td>\n",
       "      <td style = \"text-align: left;\">Component</td>\n",
       "      <td style = \"text-align: left;\">DeterministicSingleTimeSeries</td>\n",
       "      <td style = \"text-align: left;\">2020-01-01T00:00:00</td>\n",
       "      <td style = \"text-align: left;\">1 hour</td>\n",
       "      <td style = \"text-align: left;\">29</td>\n",
       "      <td style = \"text-align: left;\">2 days</td>\n",
       "      <td style = \"text-align: left;\">1 day</td>\n",
       "      <td style = \"text-align: left;\">365</td>\n",
       "    </tr>\n",
       "    <tr>\n",
       "      <td style = \"text-align: left;\">RenewableNonDispatch</td>\n",
       "      <td style = \"text-align: left;\">Component</td>\n",
       "      <td style = \"text-align: left;\">DeterministicSingleTimeSeries</td>\n",
       "      <td style = \"text-align: left;\">2020-01-01T00:00:00</td>\n",
       "      <td style = \"text-align: left;\">1 hour</td>\n",
       "      <td style = \"text-align: left;\">31</td>\n",
       "      <td style = \"text-align: left;\">2 days</td>\n",
       "      <td style = \"text-align: left;\">1 day</td>\n",
       "      <td style = \"text-align: left;\">365</td>\n",
       "    </tr>\n",
       "    <tr>\n",
       "      <td style = \"text-align: left;\">VariableReserve</td>\n",
       "      <td style = \"text-align: left;\">Component</td>\n",
       "      <td style = \"text-align: left;\">DeterministicSingleTimeSeries</td>\n",
       "      <td style = \"text-align: left;\">2020-01-01T00:00:00</td>\n",
       "      <td style = \"text-align: left;\">1 hour</td>\n",
       "      <td style = \"text-align: left;\">5</td>\n",
       "      <td style = \"text-align: left;\">2 days</td>\n",
       "      <td style = \"text-align: left;\">1 day</td>\n",
       "      <td style = \"text-align: left;\">365</td>\n",
       "    </tr>\n",
       "  </tbody>\n",
       "</table>\n"
      ],
      "text/plain": [
       "\u001b[1mSystem\u001b[0m\n",
       "┌───────────────────┬─────────────┐\n",
       "│\u001b[1m Property          \u001b[0m│\u001b[1m Value       \u001b[0m│\n",
       "├───────────────────┼─────────────┤\n",
       "│ Name              │             │\n",
       "│ Description       │             │\n",
       "│ System Units Base │ SYSTEM_BASE │\n",
       "│ Base Power        │ 100.0       │\n",
       "│ Base Frequency    │ 60.0        │\n",
       "│ Num Components    │ 501         │\n",
       "└───────────────────┴─────────────┘\n",
       "\n",
       "\u001b[1mStatic Components\u001b[0m\n",
       "┌──────────────────────────────┬───────┐\n",
       "│\u001b[1m Type                         \u001b[0m│\u001b[1m Count \u001b[0m│\n",
       "├──────────────────────────────┼───────┤\n",
       "│ ACBus                        │ 73    │\n",
       "│ Arc                          │ 109   │\n",
       "│ Area                         │ 3     │\n",
       "│ FixedAdmittance              │ 3     │\n",
       "│ HydroDispatch                │ 1     │\n",
       "│ Line                         │ 105   │\n",
       "│ LoadZone                     │ 21    │\n",
       "│ PowerLoad                    │ 51    │\n",
       "│ RenewableDispatch            │ 29    │\n",
       "│ RenewableNonDispatch         │ 31    │\n",
       "│ TapTransformer               │ 15    │\n",
       "│ ThermalStandard              │ 54    │\n",
       "│ TwoTerminalHVDCLine          │ 1     │\n",
       "│ VariableReserve{ReserveDown} │ 1     │\n",
       "│ VariableReserve{ReserveUp}   │ 4     │\n",
       "└──────────────────────────────┴───────┘\n",
       "\n",
       "\u001b[1mStaticTimeSeries Summary\u001b[0m\n",
       "┌──────────────────────┬────────────────┬──────────────────┬────────────────────\n",
       "│\u001b[1m owner_type           \u001b[0m│\u001b[1m owner_category \u001b[0m│\u001b[1m time_series_type \u001b[0m│\u001b[1m initial_timestamp\u001b[0m ⋯\n",
       "│\u001b[90m String               \u001b[0m│\u001b[90m String         \u001b[0m│\u001b[90m String           \u001b[0m│\u001b[90m String           \u001b[0m ⋯\n",
       "├──────────────────────┼────────────────┼──────────────────┼────────────────────\n",
       "│ Area                 │ Component      │ SingleTimeSeries │ 2020-01-01T00:00: ⋯\n",
       "│ FixedAdmittance      │ Component      │ SingleTimeSeries │ 2020-01-01T00:00: ⋯\n",
       "│ HydroDispatch        │ Component      │ SingleTimeSeries │ 2020-01-01T00:00: ⋯\n",
       "│ PowerLoad            │ Component      │ SingleTimeSeries │ 2020-01-01T00:00: ⋯\n",
       "│ RenewableDispatch    │ Component      │ SingleTimeSeries │ 2020-01-01T00:00: ⋯\n",
       "│ RenewableNonDispatch │ Component      │ SingleTimeSeries │ 2020-01-01T00:00: ⋯\n",
       "│ VariableReserve      │ Component      │ SingleTimeSeries │ 2020-01-01T00:00: ⋯\n",
       "└──────────────────────┴────────────────┴──────────────────┴────────────────────\n",
       "\u001b[36m                                                               4 columns omitted\u001b[0m\n",
       "\u001b[1mForecast Summary\u001b[0m\n",
       "┌──────────────────────┬────────────────┬───────────────────────────────┬───────\n",
       "│\u001b[1m owner_type           \u001b[0m│\u001b[1m owner_category \u001b[0m│\u001b[1m time_series_type              \u001b[0m│\u001b[1m init\u001b[0m ⋯\n",
       "│\u001b[90m String               \u001b[0m│\u001b[90m String         \u001b[0m│\u001b[90m String                        \u001b[0m│\u001b[90m Stri\u001b[0m ⋯\n",
       "├──────────────────────┼────────────────┼───────────────────────────────┼───────\n",
       "│ Area                 │ Component      │ DeterministicSingleTimeSeries │ 2020 ⋯\n",
       "│ FixedAdmittance      │ Component      │ DeterministicSingleTimeSeries │ 2020 ⋯\n",
       "│ HydroDispatch        │ Component      │ DeterministicSingleTimeSeries │ 2020 ⋯\n",
       "│ PowerLoad            │ Component      │ DeterministicSingleTimeSeries │ 2020 ⋯\n",
       "│ RenewableDispatch    │ Component      │ DeterministicSingleTimeSeries │ 2020 ⋯\n",
       "│ RenewableNonDispatch │ Component      │ DeterministicSingleTimeSeries │ 2020 ⋯\n",
       "│ VariableReserve      │ Component      │ DeterministicSingleTimeSeries │ 2020 ⋯\n",
       "└──────────────────────┴────────────────┴───────────────────────────────┴───────\n",
       "\u001b[36m                                                               6 columns omitted\u001b[0m\n"
      ]
     },
     "execution_count": 8,
     "metadata": {},
     "output_type": "execute_result"
    }
   ],
   "source": [
    "sys"
   ]
  },
  {
   "cell_type": "markdown",
   "id": "815fe83b",
   "metadata": {},
   "source": [
    "### Add formulation to the tamplate"
   ]
  },
  {
   "cell_type": "code",
   "execution_count": 9,
   "id": "6f83aed7",
   "metadata": {},
   "outputs": [
    {
     "data": {
      "text/html": [
       "<table>\n",
       "  <caption style = \"text-align: left;\">Network Model</caption>\n",
       "  <tbody>\n",
       "    <tr>\n",
       "      <td style = \"text-align: left;\">Network Model</td>\n",
       "      <td style = \"text-align: left;\">CopperPlatePowerModel</td>\n",
       "    </tr>\n",
       "    <tr>\n",
       "      <td style = \"text-align: left;\">Slacks</td>\n",
       "      <td style = \"text-align: left;\">false</td>\n",
       "    </tr>\n",
       "    <tr>\n",
       "      <td style = \"text-align: left;\">PTDF</td>\n",
       "      <td style = \"text-align: left;\">false</td>\n",
       "    </tr>\n",
       "    <tr>\n",
       "      <td style = \"text-align: left;\">Duals</td>\n",
       "      <td style = \"text-align: left;\">None</td>\n",
       "    </tr>\n",
       "  </tbody>\n",
       "</table>\n",
       "\n",
       "<table>\n",
       "  <caption style = \"text-align: left;\">Device Models</caption>\n",
       "  <thead>\n",
       "    <tr class = \"header headerLastRow\">\n",
       "      <th style = \"text-align: left;\">Device Type</th>\n",
       "      <th style = \"text-align: left;\">Formulation</th>\n",
       "      <th style = \"text-align: left;\">Slacks</th>\n",
       "    </tr>\n",
       "  </thead>\n",
       "  <tbody>\n",
       "  </tbody>\n",
       "</table>\n"
      ],
      "text/plain": [
       "\u001b[1mNetwork Model\u001b[0m\n",
       "┌───────────────┬───────────────────────┐\n",
       "│ Network Model │ CopperPlatePowerModel │\n",
       "│ Slacks        │ false                 │\n",
       "│ PTDF          │ false                 │\n",
       "│ Duals         │ None                  │\n",
       "└───────────────┴───────────────────────┘\n",
       "\n",
       "\u001b[1mDevice Models\u001b[0m\n",
       "┌─────────────┬─────────────┬────────┐\n",
       "│\u001b[1m Device Type \u001b[0m│\u001b[1m Formulation \u001b[0m│\u001b[1m Slacks \u001b[0m│\n",
       "└─────────────┴─────────────┴────────┘\n"
      ]
     },
     "execution_count": 9,
     "metadata": {},
     "output_type": "execute_result"
    }
   ],
   "source": [
    "template_uc = ProblemTemplate()"
   ]
  },
  {
   "cell_type": "markdown",
   "id": "e9375b7d",
   "metadata": {},
   "source": [
    "Every static component should have a template attached (unless just topological)"
   ]
  },
  {
   "cell_type": "code",
   "execution_count": 10,
   "id": "664f6034",
   "metadata": {},
   "outputs": [],
   "source": [
    "set_device_model!(template_uc, ThermalStandard, ThermalStandardUnitCommitment)\n",
    "set_device_model!(template_uc, HydroDispatch, HydroDispatchRunOfRiver)\n",
    "set_device_model!(template_uc, PowerLoad, StaticPowerLoad)\n",
    "set_device_model!(template_uc, RenewableDispatch, RenewableFullDispatch)\n",
    "set_device_model!(template_uc, RenewableNonDispatch, FixedOutput)\n",
    "\n",
    "set_device_model!(template_uc, Line, StaticBranch)\n",
    "set_device_model!(template_uc, Transformer2W, StaticBranch)\n",
    "set_device_model!(template_uc, TapTransformer, StaticBranch)\n",
    "set_device_model!(template_uc, TwoTerminalHVDCLine, HVDCTwoTerminalDispatch)\n",
    "\n",
    "set_service_model!(template_uc, VariableReserve{ReserveUp}, RangeReserve)\n",
    "set_service_model!(template_uc, VariableReserve{ReserveDown}, RangeReserve)\n",
    "\n"
   ]
  },
  {
   "cell_type": "code",
   "execution_count": 11,
   "id": "3a683229",
   "metadata": {},
   "outputs": [
    {
     "data": {
      "text/html": [
       "<table>\n",
       "  <caption style = \"text-align: left;\">Network Model</caption>\n",
       "  <tbody>\n",
       "    <tr>\n",
       "      <td style = \"text-align: left;\">Network Model</td>\n",
       "      <td style = \"text-align: left;\">CopperPlatePowerModel</td>\n",
       "    </tr>\n",
       "    <tr>\n",
       "      <td style = \"text-align: left;\">Slacks</td>\n",
       "      <td style = \"text-align: left;\">false</td>\n",
       "    </tr>\n",
       "    <tr>\n",
       "      <td style = \"text-align: left;\">PTDF</td>\n",
       "      <td style = \"text-align: left;\">false</td>\n",
       "    </tr>\n",
       "    <tr>\n",
       "      <td style = \"text-align: left;\">Duals</td>\n",
       "      <td style = \"text-align: left;\">None</td>\n",
       "    </tr>\n",
       "  </tbody>\n",
       "</table>\n",
       "\n",
       "<table>\n",
       "  <caption style = \"text-align: left;\">Device Models</caption>\n",
       "  <thead>\n",
       "    <tr class = \"header headerLastRow\">\n",
       "      <th style = \"text-align: left;\">Device Type</th>\n",
       "      <th style = \"text-align: left;\">Formulation</th>\n",
       "      <th style = \"text-align: left;\">Slacks</th>\n",
       "    </tr>\n",
       "  </thead>\n",
       "  <tbody>\n",
       "    <tr>\n",
       "      <td style = \"text-align: left;\">RenewableNonDispatch</td>\n",
       "      <td style = \"text-align: left;\">FixedOutput</td>\n",
       "      <td style = \"text-align: left;\">false</td>\n",
       "    </tr>\n",
       "    <tr>\n",
       "      <td style = \"text-align: left;\">ThermalStandard</td>\n",
       "      <td style = \"text-align: left;\">ThermalStandardUnitCommitment</td>\n",
       "      <td style = \"text-align: left;\">false</td>\n",
       "    </tr>\n",
       "    <tr>\n",
       "      <td style = \"text-align: left;\">HydroDispatch</td>\n",
       "      <td style = \"text-align: left;\">HydroDispatchRunOfRiver</td>\n",
       "      <td style = \"text-align: left;\">false</td>\n",
       "    </tr>\n",
       "    <tr>\n",
       "      <td style = \"text-align: left;\">PowerLoad</td>\n",
       "      <td style = \"text-align: left;\">StaticPowerLoad</td>\n",
       "      <td style = \"text-align: left;\">false</td>\n",
       "    </tr>\n",
       "    <tr>\n",
       "      <td style = \"text-align: left;\">RenewableDispatch</td>\n",
       "      <td style = \"text-align: left;\">RenewableFullDispatch</td>\n",
       "      <td style = \"text-align: left;\">false</td>\n",
       "    </tr>\n",
       "  </tbody>\n",
       "</table>\n",
       "\n",
       "<table>\n",
       "  <caption style = \"text-align: left;\">Branch Models</caption>\n",
       "  <thead>\n",
       "    <tr class = \"header headerLastRow\">\n",
       "      <th style = \"text-align: left;\">Branch Type</th>\n",
       "      <th style = \"text-align: left;\">Formulation</th>\n",
       "      <th style = \"text-align: left;\">Slacks</th>\n",
       "    </tr>\n",
       "  </thead>\n",
       "  <tbody>\n",
       "    <tr>\n",
       "      <td style = \"text-align: left;\">Line</td>\n",
       "      <td style = \"text-align: left;\">StaticBranch</td>\n",
       "      <td style = \"text-align: left;\">false</td>\n",
       "    </tr>\n",
       "    <tr>\n",
       "      <td style = \"text-align: left;\">TapTransformer</td>\n",
       "      <td style = \"text-align: left;\">StaticBranch</td>\n",
       "      <td style = \"text-align: left;\">false</td>\n",
       "    </tr>\n",
       "    <tr>\n",
       "      <td style = \"text-align: left;\">Transformer2W</td>\n",
       "      <td style = \"text-align: left;\">StaticBranch</td>\n",
       "      <td style = \"text-align: left;\">false</td>\n",
       "    </tr>\n",
       "    <tr>\n",
       "      <td style = \"text-align: left;\">TwoTerminalHVDCLine</td>\n",
       "      <td style = \"text-align: left;\">HVDCTwoTerminalDispatch</td>\n",
       "      <td style = \"text-align: left;\">false</td>\n",
       "    </tr>\n",
       "  </tbody>\n",
       "</table>\n",
       "\n",
       "<table>\n",
       "  <caption style = \"text-align: left;\">Service Models</caption>\n",
       "  <thead>\n",
       "    <tr class = \"header headerLastRow\">\n",
       "      <th style = \"text-align: left;\">Name</th>\n",
       "      <th style = \"text-align: left;\">Service Type</th>\n",
       "      <th style = \"text-align: left;\">Formulation</th>\n",
       "      <th style = \"text-align: left;\">Slacks</th>\n",
       "      <th style = \"text-align: left;\">Aggregated Model</th>\n",
       "    </tr>\n",
       "  </thead>\n",
       "  <tbody>\n",
       "    <tr>\n",
       "      <td style = \"text-align: left;\">Reg_Down</td>\n",
       "      <td style = \"text-align: left;\">VariableReserve{ReserveDown}</td>\n",
       "      <td style = \"text-align: left;\">RangeReserve</td>\n",
       "      <td style = \"text-align: left;\">false</td>\n",
       "      <td style = \"text-align: left;\">false</td>\n",
       "    </tr>\n",
       "    <tr>\n",
       "      <td style = \"text-align: left;\">Spin_Up_R1</td>\n",
       "      <td style = \"text-align: left;\">VariableReserve{ReserveUp}</td>\n",
       "      <td style = \"text-align: left;\">RangeReserve</td>\n",
       "      <td style = \"text-align: left;\">false</td>\n",
       "      <td style = \"text-align: left;\">false</td>\n",
       "    </tr>\n",
       "    <tr>\n",
       "      <td style = \"text-align: left;\">Reg_Up</td>\n",
       "      <td style = \"text-align: left;\">VariableReserve{ReserveUp}</td>\n",
       "      <td style = \"text-align: left;\">RangeReserve</td>\n",
       "      <td style = \"text-align: left;\">false</td>\n",
       "      <td style = \"text-align: left;\">false</td>\n",
       "    </tr>\n",
       "    <tr>\n",
       "      <td style = \"text-align: left;\">Spin_Up_R2</td>\n",
       "      <td style = \"text-align: left;\">VariableReserve{ReserveUp}</td>\n",
       "      <td style = \"text-align: left;\">RangeReserve</td>\n",
       "      <td style = \"text-align: left;\">false</td>\n",
       "      <td style = \"text-align: left;\">false</td>\n",
       "    </tr>\n",
       "    <tr>\n",
       "      <td style = \"text-align: left;\">Spin_Up_R3</td>\n",
       "      <td style = \"text-align: left;\">VariableReserve{ReserveUp}</td>\n",
       "      <td style = \"text-align: left;\">RangeReserve</td>\n",
       "      <td style = \"text-align: left;\">false</td>\n",
       "      <td style = \"text-align: left;\">false</td>\n",
       "    </tr>\n",
       "  </tbody>\n",
       "</table>\n"
      ],
      "text/plain": [
       "\u001b[1mNetwork Model\u001b[0m\n",
       "┌───────────────┬───────────────────────┐\n",
       "│ Network Model │ CopperPlatePowerModel │\n",
       "│ Slacks        │ false                 │\n",
       "│ PTDF          │ false                 │\n",
       "│ Duals         │ None                  │\n",
       "└───────────────┴───────────────────────┘\n",
       "\n",
       "\u001b[1mDevice Models\u001b[0m\n",
       "┌──────────────────────┬───────────────────────────────┬────────┐\n",
       "│\u001b[1m Device Type          \u001b[0m│\u001b[1m Formulation                   \u001b[0m│\u001b[1m Slacks \u001b[0m│\n",
       "├──────────────────────┼───────────────────────────────┼────────┤\n",
       "│ RenewableNonDispatch │ FixedOutput                   │ false  │\n",
       "│ ThermalStandard      │ ThermalStandardUnitCommitment │ false  │\n",
       "│ HydroDispatch        │ HydroDispatchRunOfRiver       │ false  │\n",
       "│ PowerLoad            │ StaticPowerLoad               │ false  │\n",
       "│ RenewableDispatch    │ RenewableFullDispatch         │ false  │\n",
       "└──────────────────────┴───────────────────────────────┴────────┘\n",
       "\n",
       "\u001b[1mBranch Models\u001b[0m\n",
       "┌─────────────────────┬─────────────────────────┬────────┐\n",
       "│\u001b[1m Branch Type         \u001b[0m│\u001b[1m Formulation             \u001b[0m│\u001b[1m Slacks \u001b[0m│\n",
       "├─────────────────────┼─────────────────────────┼────────┤\n",
       "│ Line                │ StaticBranch            │ false  │\n",
       "│ TapTransformer      │ StaticBranch            │ false  │\n",
       "│ Transformer2W       │ StaticBranch            │ false  │\n",
       "│ TwoTerminalHVDCLine │ HVDCTwoTerminalDispatch │ false  │\n",
       "└─────────────────────┴─────────────────────────┴────────┘\n",
       "\n",
       "\u001b[1mService Models\u001b[0m\n",
       "┌────────────┬──────────────────────────────┬──────────────┬────────┬───────────\n",
       "│\u001b[1m Name       \u001b[0m│\u001b[1m Service Type                 \u001b[0m│\u001b[1m Formulation  \u001b[0m│\u001b[1m Slacks \u001b[0m│\u001b[1m Aggregat\u001b[0m ⋯\n",
       "├────────────┼──────────────────────────────┼──────────────┼────────┼───────────\n",
       "│ Reg_Down   │ VariableReserve{ReserveDown} │ RangeReserve │ false  │ false    ⋯\n",
       "│ Spin_Up_R1 │ VariableReserve{ReserveUp}   │ RangeReserve │ false  │ false    ⋯\n",
       "│ Reg_Up     │ VariableReserve{ReserveUp}   │ RangeReserve │ false  │ false    ⋯\n",
       "│ Spin_Up_R2 │ VariableReserve{ReserveUp}   │ RangeReserve │ false  │ false    ⋯\n",
       "│ Spin_Up_R3 │ VariableReserve{ReserveUp}   │ RangeReserve │ false  │ false    ⋯\n",
       "└────────────┴──────────────────────────────┴──────────────┴────────┴───────────\n",
       "\u001b[36m                                                                1 column omitted\u001b[0m\n"
      ]
     },
     "execution_count": 11,
     "metadata": {},
     "output_type": "execute_result"
    }
   ],
   "source": [
    "problem = DecisionModel(template_uc, sys; optimizer=solver, horizon=Hour(24) )"
   ]
  },
  {
   "cell_type": "code",
   "execution_count": 12,
   "id": "db0b4650",
   "metadata": {},
   "outputs": [
    {
     "data": {
      "text/plain": [
       "InfrastructureSystems.Optimization.ModelBuildStatusModule.ModelBuildStatus.BUILT = 0"
      ]
     },
     "execution_count": 12,
     "metadata": {},
     "output_type": "execute_result"
    }
   ],
   "source": [
    "build!(problem, output_dir=\"/opt/julia/Sienna/example_dir\")"
   ]
  },
  {
   "cell_type": "markdown",
   "id": "ab9ddf5e",
   "metadata": {},
   "source": [
    "Comparison to my model"
   ]
  },
  {
   "cell_type": "code",
   "execution_count": 22,
   "id": "10c7a2f2",
   "metadata": {},
   "outputs": [
    {
     "name": "stderr",
     "output_type": "stream",
     "text": [
      "\u001b[33m\u001b[1m┌ \u001b[22m\u001b[39m\u001b[33m\u001b[1mWarning: \u001b[22m\u001b[39mAssignment to `config` in soft scope is ambiguous because a global variable by the same name exists: `config` will be treated as a new local. Disambiguate by using `local config` to suppress this warning or `global config` to assign to the existing global variable.\n",
      "\u001b[33m\u001b[1m└ \u001b[22m\u001b[39m\u001b[90m@ ~/showcase/Sienna/SiennaSimulations.jl:1051\u001b[39m\n",
      "\u001b[33m\u001b[1m┌ \u001b[22m\u001b[39m\u001b[33m\u001b[1mWarning: \u001b[22m\u001b[39mAssignment to `sienna_sys` in soft scope is ambiguous because a global variable by the same name exists: `sienna_sys` will be treated as a new local. Disambiguate by using `local sienna_sys` to suppress this warning or `global sienna_sys` to assign to the existing global variable.\n",
      "\u001b[33m\u001b[1m└ \u001b[22m\u001b[39m\u001b[90m@ ~/showcase/Sienna/SiennaSimulations.jl:1052\u001b[39m\n"
     ]
    }
   ],
   "source": [
    "include(\"SiennaSimulations.jl\")\n",
    "include(\"SiennaSystem.jl\")\n",
    "include(\"SiennaConfig.jl\")"
   ]
  },
  {
   "cell_type": "code",
   "execution_count": null,
   "id": "e843da65",
   "metadata": {},
   "outputs": [],
   "source": [
    "config = SiennaConfig(\"config.toml\")\n",
    "sienna_sys = SiennaSystem(config)\n",
    "build_system!(sienna_sys)\n"
   ]
  },
  {
   "cell_type": "code",
   "execution_count": 24,
   "id": "4444ddd5",
   "metadata": {},
   "outputs": [
    {
     "name": "stderr",
     "output_type": "stream",
     "text": [
      "\u001b[36m\u001b[1m[ \u001b[22m\u001b[39m\u001b[36m\u001b[1mInfo: \u001b[22m\u001b[39m⚡ Initializing SiennaSimulations framework\n",
      "\u001b[36m\u001b[1m[ \u001b[22m\u001b[39m\u001b[36m\u001b[1mInfo: \u001b[22m\u001b[39m✅ SiennaSimulations initialized successfully\n",
      "\u001b[36m\u001b[1m[ \u001b[22m\u001b[39m\u001b[36m\u001b[1mInfo: \u001b[22m\u001b[39m   System: South African Power System 2030\n",
      "\u001b[36m\u001b[1m[ \u001b[22m\u001b[39m\u001b[36m\u001b[1mInfo: \u001b[22m\u001b[39m   Network Model: DCPPowerModel\n",
      "\u001b[36m\u001b[1m[ \u001b[22m\u001b[39m\u001b[36m\u001b[1mInfo: \u001b[22m\u001b[39m🔨 Building economic_dispatch problem...\n",
      "\u001b[36m\u001b[1m[ \u001b[22m\u001b[39m\u001b[36m\u001b[1mInfo: \u001b[22m\u001b[39mCreating template for economic_dispatch...\n",
      "\u001b[36m\u001b[1m[ \u001b[22m\u001b[39m\u001b[36m\u001b[1mInfo: \u001b[22m\u001b[39m📋 Creating PowerSimulations templates...\n",
      "\u001b[36m\u001b[1m[ \u001b[22m\u001b[39m\u001b[36m\u001b[1mInfo: \u001b[22m\u001b[39mCreating Economic Dispatch template...\n",
      "\u001b[36m\u001b[1m[ \u001b[22m\u001b[39m\u001b[36m\u001b[1mInfo: \u001b[22m\u001b[39mCreating config-driven template for: economic_dispatch\n",
      "\u001b[36m\u001b[1m[ \u001b[22m\u001b[39m\u001b[36m\u001b[1mInfo: \u001b[22m\u001b[39m  ✓ Network Model: DCPPowerModel\n",
      "\u001b[36m\u001b[1m[ \u001b[22m\u001b[39m\u001b[36m\u001b[1mInfo: \u001b[22m\u001b[39m  Using device formulations from config: [economic_dispatch]\n",
      "\u001b[36m\u001b[1m[ \u001b[22m\u001b[39m\u001b[36m\u001b[1mInfo: \u001b[22m\u001b[39m  ✓ ThermalStandard: 50 units (ThermalBasicDispatch)\n",
      "\u001b[36m\u001b[1m[ \u001b[22m\u001b[39m\u001b[36m\u001b[1mInfo: \u001b[22m\u001b[39m  ✓ RenewableDispatch: 131 units (RenewableFullDispatch)\n",
      "\u001b[36m\u001b[1m[ \u001b[22m\u001b[39m\u001b[36m\u001b[1mInfo: \u001b[22m\u001b[39m  ✓ PowerLoad: 10 units (StaticPowerLoad)\n",
      "\u001b[36m\u001b[1m[ \u001b[22m\u001b[39m\u001b[36m\u001b[1mInfo: \u001b[22m\u001b[39m  ✓ Line: 38 branches (StaticBranch)\n",
      "\u001b[36m\u001b[1m[ \u001b[22m\u001b[39m\u001b[36m\u001b[1mInfo: \u001b[22m\u001b[39m✓ Economic Dispatch template created\n",
      "\u001b[36m\u001b[1m[ \u001b[22m\u001b[39m\u001b[36m\u001b[1mInfo: \u001b[22m\u001b[39mCreating Unit Commitment template...\n",
      "\u001b[36m\u001b[1m[ \u001b[22m\u001b[39m\u001b[36m\u001b[1mInfo: \u001b[22m\u001b[39mCreating config-driven template for: unit_commitment\n",
      "\u001b[36m\u001b[1m[ \u001b[22m\u001b[39m\u001b[36m\u001b[1mInfo: \u001b[22m\u001b[39m  ✓ Network Model: DCPPowerModel\n",
      "\u001b[36m\u001b[1m[ \u001b[22m\u001b[39m\u001b[36m\u001b[1mInfo: \u001b[22m\u001b[39m  Using device formulations from config: [unit_commitment]\n",
      "\u001b[36m\u001b[1m[ \u001b[22m\u001b[39m\u001b[36m\u001b[1mInfo: \u001b[22m\u001b[39m  ✓ ThermalStandard: 50 units (ThermalBasicUnitCommitment)\n",
      "\u001b[36m\u001b[1m[ \u001b[22m\u001b[39m\u001b[36m\u001b[1mInfo: \u001b[22m\u001b[39m  ✓ RenewableDispatch: 131 units (RenewableFullDispatch)\n",
      "\u001b[36m\u001b[1m[ \u001b[22m\u001b[39m\u001b[36m\u001b[1mInfo: \u001b[22m\u001b[39m  ✓ PowerLoad: 10 units (StaticPowerLoad)\n",
      "\u001b[36m\u001b[1m[ \u001b[22m\u001b[39m\u001b[36m\u001b[1mInfo: \u001b[22m\u001b[39m  ✓ Line: 38 branches (StaticBranch)\n",
      "\u001b[36m\u001b[1m[ \u001b[22m\u001b[39m\u001b[36m\u001b[1mInfo: \u001b[22m\u001b[39m✓ Unit Commitment template created\n",
      "\u001b[36m\u001b[1m[ \u001b[22m\u001b[39m\u001b[36m\u001b[1mInfo: \u001b[22m\u001b[39m✅ All templates created successfully\n",
      "\u001b[36m\u001b[1m[ \u001b[22m\u001b[39m\u001b[36m\u001b[1mInfo: \u001b[22m\u001b[39mOptimizer settings from config:\n",
      "\u001b[36m\u001b[1m[ \u001b[22m\u001b[39m\u001b[36m\u001b[1mInfo: \u001b[22m\u001b[39m  Time limit: 300.0s\n",
      "\u001b[36m\u001b[1m[ \u001b[22m\u001b[39m\u001b[36m\u001b[1mInfo: \u001b[22m\u001b[39m  MIP gap: 0.01\n",
      "\u001b[36m\u001b[1m[ \u001b[22m\u001b[39m\u001b[36m\u001b[1mInfo: \u001b[22m\u001b[39m  Threads: auto\n",
      "\u001b[36m\u001b[1m[ \u001b[22m\u001b[39m\u001b[36m\u001b[1mInfo: \u001b[22m\u001b[39mCreating DecisionModel...\n",
      "\u001b[36m\u001b[1m[ \u001b[22m\u001b[39m\u001b[36m\u001b[1mInfo: \u001b[22m\u001b[39m✓ DecisionModel created\n",
      "\u001b[36m\u001b[1m[ \u001b[22m\u001b[39m\u001b[36m\u001b[1mInfo: \u001b[22m\u001b[39mBuilding optimization model...\n",
      "\u001b[36m\u001b[1m[ \u001b[22m\u001b[39m\u001b[36m\u001b[1mInfo: \u001b[22m\u001b[39m✅ Problem built successfully in 8.57 seconds\n"
     ]
    }
   ],
   "source": [
    "sim = SiennaSimulations(config, sienna_sys)\n",
    "build_problem!(sim, \"economic_dispatch\")"
   ]
  },
  {
   "cell_type": "code",
   "execution_count": 31,
   "id": "e9050375",
   "metadata": {},
   "outputs": [
    {
     "data": {
      "text/html": [
       "<table>\n",
       "  <caption style = \"text-align: left;\">Network Model</caption>\n",
       "  <tbody>\n",
       "    <tr>\n",
       "      <td style = \"text-align: left;\">Network Model</td>\n",
       "      <td style = \"text-align: left;\">DCPPowerModel</td>\n",
       "    </tr>\n",
       "    <tr>\n",
       "      <td style = \"text-align: left;\">Slacks</td>\n",
       "      <td style = \"text-align: left;\">false</td>\n",
       "    </tr>\n",
       "    <tr>\n",
       "      <td style = \"text-align: left;\">PTDF</td>\n",
       "      <td style = \"text-align: left;\">false</td>\n",
       "    </tr>\n",
       "    <tr>\n",
       "      <td style = \"text-align: left;\">Duals</td>\n",
       "      <td style = \"text-align: left;\">None</td>\n",
       "    </tr>\n",
       "  </tbody>\n",
       "</table>\n",
       "\n",
       "<table>\n",
       "  <caption style = \"text-align: left;\">Device Models</caption>\n",
       "  <thead>\n",
       "    <tr class = \"header headerLastRow\">\n",
       "      <th style = \"text-align: left;\">Device Type</th>\n",
       "      <th style = \"text-align: left;\">Formulation</th>\n",
       "      <th style = \"text-align: left;\">Slacks</th>\n",
       "    </tr>\n",
       "  </thead>\n",
       "  <tbody>\n",
       "    <tr>\n",
       "      <td style = \"text-align: left;\">ThermalStandard</td>\n",
       "      <td style = \"text-align: left;\">ThermalBasicDispatch</td>\n",
       "      <td style = \"text-align: left;\">false</td>\n",
       "    </tr>\n",
       "    <tr>\n",
       "      <td style = \"text-align: left;\">PowerLoad</td>\n",
       "      <td style = \"text-align: left;\">StaticPowerLoad</td>\n",
       "      <td style = \"text-align: left;\">false</td>\n",
       "    </tr>\n",
       "    <tr>\n",
       "      <td style = \"text-align: left;\">RenewableDispatch</td>\n",
       "      <td style = \"text-align: left;\">RenewableFullDispatch</td>\n",
       "      <td style = \"text-align: left;\">false</td>\n",
       "    </tr>\n",
       "  </tbody>\n",
       "</table>\n",
       "\n",
       "<table>\n",
       "  <caption style = \"text-align: left;\">Branch Models</caption>\n",
       "  <thead>\n",
       "    <tr class = \"header headerLastRow\">\n",
       "      <th style = \"text-align: left;\">Branch Type</th>\n",
       "      <th style = \"text-align: left;\">Formulation</th>\n",
       "      <th style = \"text-align: left;\">Slacks</th>\n",
       "    </tr>\n",
       "  </thead>\n",
       "  <tbody>\n",
       "    <tr>\n",
       "      <td style = \"text-align: left;\">Line</td>\n",
       "      <td style = \"text-align: left;\">StaticBranch</td>\n",
       "      <td style = \"text-align: left;\">false</td>\n",
       "    </tr>\n",
       "  </tbody>\n",
       "</table>\n"
      ],
      "text/plain": [
       "\u001b[1mNetwork Model\u001b[0m\n",
       "┌───────────────┬───────────────┐\n",
       "│ Network Model │ DCPPowerModel │\n",
       "│ Slacks        │ false         │\n",
       "│ PTDF          │ false         │\n",
       "│ Duals         │ None          │\n",
       "└───────────────┴───────────────┘\n",
       "\n",
       "\u001b[1mDevice Models\u001b[0m\n",
       "┌───────────────────┬───────────────────────┬────────┐\n",
       "│\u001b[1m Device Type       \u001b[0m│\u001b[1m Formulation           \u001b[0m│\u001b[1m Slacks \u001b[0m│\n",
       "├───────────────────┼───────────────────────┼────────┤\n",
       "│ ThermalStandard   │ ThermalBasicDispatch  │ false  │\n",
       "│ PowerLoad         │ StaticPowerLoad       │ false  │\n",
       "│ RenewableDispatch │ RenewableFullDispatch │ false  │\n",
       "└───────────────────┴───────────────────────┴────────┘\n",
       "\n",
       "\u001b[1mBranch Models\u001b[0m\n",
       "┌─────────────┬──────────────┬────────┐\n",
       "│\u001b[1m Branch Type \u001b[0m│\u001b[1m Formulation  \u001b[0m│\u001b[1m Slacks \u001b[0m│\n",
       "├─────────────┼──────────────┼────────┤\n",
       "│ Line        │ StaticBranch │ false  │\n",
       "└─────────────┴──────────────┴────────┘\n"
      ]
     },
     "execution_count": 31,
     "metadata": {},
     "output_type": "execute_result"
    }
   ],
   "source": [
    "problem2 = sim.problems[\"economic_dispatch\"]"
   ]
  },
  {
   "cell_type": "code",
   "execution_count": 37,
   "id": "ffd5293a",
   "metadata": {},
   "outputs": [
    {
     "data": {
      "text/html": [
       "<table>\n",
       "  <caption style = \"text-align: left;\">System</caption>\n",
       "  <thead>\n",
       "    <tr class = \"header headerLastRow\">\n",
       "      <th style = \"text-align: left;\">Property</th>\n",
       "      <th style = \"text-align: left;\">Value</th>\n",
       "    </tr>\n",
       "  </thead>\n",
       "  <tbody>\n",
       "    <tr>\n",
       "      <td style = \"text-align: left;\">Name</td>\n",
       "      <td style = \"text-align: left;\"></td>\n",
       "    </tr>\n",
       "    <tr>\n",
       "      <td style = \"text-align: left;\">Description</td>\n",
       "      <td style = \"text-align: left;\"></td>\n",
       "    </tr>\n",
       "    <tr>\n",
       "      <td style = \"text-align: left;\">System Units Base</td>\n",
       "      <td style = \"text-align: left;\">SYSTEM_BASE</td>\n",
       "    </tr>\n",
       "    <tr>\n",
       "      <td style = \"text-align: left;\">Base Power</td>\n",
       "      <td style = \"text-align: left;\">100.0</td>\n",
       "    </tr>\n",
       "    <tr>\n",
       "      <td style = \"text-align: left;\">Base Frequency</td>\n",
       "      <td style = \"text-align: left;\">60.0</td>\n",
       "    </tr>\n",
       "    <tr>\n",
       "      <td style = \"text-align: left;\">Num Components</td>\n",
       "      <td style = \"text-align: left;\">501</td>\n",
       "    </tr>\n",
       "  </tbody>\n",
       "</table>\n",
       "\n",
       "<table>\n",
       "  <caption style = \"text-align: left;\">Static Components</caption>\n",
       "  <thead>\n",
       "    <tr class = \"header headerLastRow\">\n",
       "      <th style = \"text-align: left;\">Type</th>\n",
       "      <th style = \"text-align: left;\">Count</th>\n",
       "    </tr>\n",
       "  </thead>\n",
       "  <tbody>\n",
       "    <tr>\n",
       "      <td style = \"text-align: left;\">ACBus</td>\n",
       "      <td style = \"text-align: left;\">73</td>\n",
       "    </tr>\n",
       "    <tr>\n",
       "      <td style = \"text-align: left;\">Arc</td>\n",
       "      <td style = \"text-align: left;\">109</td>\n",
       "    </tr>\n",
       "    <tr>\n",
       "      <td style = \"text-align: left;\">Area</td>\n",
       "      <td style = \"text-align: left;\">3</td>\n",
       "    </tr>\n",
       "    <tr>\n",
       "      <td style = \"text-align: left;\">FixedAdmittance</td>\n",
       "      <td style = \"text-align: left;\">3</td>\n",
       "    </tr>\n",
       "    <tr>\n",
       "      <td style = \"text-align: left;\">HydroDispatch</td>\n",
       "      <td style = \"text-align: left;\">1</td>\n",
       "    </tr>\n",
       "    <tr>\n",
       "      <td style = \"text-align: left;\">Line</td>\n",
       "      <td style = \"text-align: left;\">105</td>\n",
       "    </tr>\n",
       "    <tr>\n",
       "      <td style = \"text-align: left;\">LoadZone</td>\n",
       "      <td style = \"text-align: left;\">21</td>\n",
       "    </tr>\n",
       "    <tr>\n",
       "      <td style = \"text-align: left;\">PowerLoad</td>\n",
       "      <td style = \"text-align: left;\">51</td>\n",
       "    </tr>\n",
       "    <tr>\n",
       "      <td style = \"text-align: left;\">RenewableDispatch</td>\n",
       "      <td style = \"text-align: left;\">29</td>\n",
       "    </tr>\n",
       "    <tr>\n",
       "      <td style = \"text-align: left;\">RenewableNonDispatch</td>\n",
       "      <td style = \"text-align: left;\">31</td>\n",
       "    </tr>\n",
       "    <tr>\n",
       "      <td style = \"text-align: left;\">TapTransformer</td>\n",
       "      <td style = \"text-align: left;\">15</td>\n",
       "    </tr>\n",
       "    <tr>\n",
       "      <td style = \"text-align: left;\">ThermalStandard</td>\n",
       "      <td style = \"text-align: left;\">54</td>\n",
       "    </tr>\n",
       "    <tr>\n",
       "      <td style = \"text-align: left;\">TwoTerminalHVDCLine</td>\n",
       "      <td style = \"text-align: left;\">1</td>\n",
       "    </tr>\n",
       "    <tr>\n",
       "      <td style = \"text-align: left;\">VariableReserve{ReserveDown}</td>\n",
       "      <td style = \"text-align: left;\">1</td>\n",
       "    </tr>\n",
       "    <tr>\n",
       "      <td style = \"text-align: left;\">VariableReserve{ReserveUp}</td>\n",
       "      <td style = \"text-align: left;\">4</td>\n",
       "    </tr>\n",
       "  </tbody>\n",
       "</table>\n",
       "\n",
       "<table>\n",
       "  <caption style = \"text-align: left;\">StaticTimeSeries Summary</caption>\n",
       "  <thead>\n",
       "    <tr class = \"header\">\n",
       "      <th style = \"text-align: left;\">owner_type</th>\n",
       "      <th style = \"text-align: left;\">owner_category</th>\n",
       "      <th style = \"text-align: left;\">time_series_type</th>\n",
       "      <th style = \"text-align: left;\">initial_timestamp</th>\n",
       "      <th style = \"text-align: left;\">resolution</th>\n",
       "      <th style = \"text-align: left;\">count</th>\n",
       "      <th style = \"text-align: left;\">time_step_count</th>\n",
       "    </tr>\n",
       "    <tr class = \"subheader headerLastRow\">\n",
       "      <th style = \"text-align: left;\">String</th>\n",
       "      <th style = \"text-align: left;\">String</th>\n",
       "      <th style = \"text-align: left;\">String</th>\n",
       "      <th style = \"text-align: left;\">String</th>\n",
       "      <th style = \"text-align: left;\">Dates.CompoundPeriod</th>\n",
       "      <th style = \"text-align: left;\">Int64</th>\n",
       "      <th style = \"text-align: left;\">Int64</th>\n",
       "    </tr>\n",
       "  </thead>\n",
       "  <tbody>\n",
       "    <tr>\n",
       "      <td style = \"text-align: left;\">Area</td>\n",
       "      <td style = \"text-align: left;\">Component</td>\n",
       "      <td style = \"text-align: left;\">SingleTimeSeries</td>\n",
       "      <td style = \"text-align: left;\">2020-01-01T00:00:00</td>\n",
       "      <td style = \"text-align: left;\">1 hour</td>\n",
       "      <td style = \"text-align: left;\">3</td>\n",
       "      <td style = \"text-align: left;\">8784</td>\n",
       "    </tr>\n",
       "    <tr>\n",
       "      <td style = \"text-align: left;\">FixedAdmittance</td>\n",
       "      <td style = \"text-align: left;\">Component</td>\n",
       "      <td style = \"text-align: left;\">SingleTimeSeries</td>\n",
       "      <td style = \"text-align: left;\">2020-01-01T00:00:00</td>\n",
       "      <td style = \"text-align: left;\">1 hour</td>\n",
       "      <td style = \"text-align: left;\">3</td>\n",
       "      <td style = \"text-align: left;\">8784</td>\n",
       "    </tr>\n",
       "    <tr>\n",
       "      <td style = \"text-align: left;\">HydroDispatch</td>\n",
       "      <td style = \"text-align: left;\">Component</td>\n",
       "      <td style = \"text-align: left;\">SingleTimeSeries</td>\n",
       "      <td style = \"text-align: left;\">2020-01-01T00:00:00</td>\n",
       "      <td style = \"text-align: left;\">1 hour</td>\n",
       "      <td style = \"text-align: left;\">2</td>\n",
       "      <td style = \"text-align: left;\">8784</td>\n",
       "    </tr>\n",
       "    <tr>\n",
       "      <td style = \"text-align: left;\">PowerLoad</td>\n",
       "      <td style = \"text-align: left;\">Component</td>\n",
       "      <td style = \"text-align: left;\">SingleTimeSeries</td>\n",
       "      <td style = \"text-align: left;\">2020-01-01T00:00:00</td>\n",
       "      <td style = \"text-align: left;\">1 hour</td>\n",
       "      <td style = \"text-align: left;\">51</td>\n",
       "      <td style = \"text-align: left;\">8784</td>\n",
       "    </tr>\n",
       "    <tr>\n",
       "      <td style = \"text-align: left;\">RenewableDispatch</td>\n",
       "      <td style = \"text-align: left;\">Component</td>\n",
       "      <td style = \"text-align: left;\">SingleTimeSeries</td>\n",
       "      <td style = \"text-align: left;\">2020-01-01T00:00:00</td>\n",
       "      <td style = \"text-align: left;\">1 hour</td>\n",
       "      <td style = \"text-align: left;\">29</td>\n",
       "      <td style = \"text-align: left;\">8784</td>\n",
       "    </tr>\n",
       "    <tr>\n",
       "      <td style = \"text-align: left;\">RenewableNonDispatch</td>\n",
       "      <td style = \"text-align: left;\">Component</td>\n",
       "      <td style = \"text-align: left;\">SingleTimeSeries</td>\n",
       "      <td style = \"text-align: left;\">2020-01-01T00:00:00</td>\n",
       "      <td style = \"text-align: left;\">1 hour</td>\n",
       "      <td style = \"text-align: left;\">31</td>\n",
       "      <td style = \"text-align: left;\">8784</td>\n",
       "    </tr>\n",
       "    <tr>\n",
       "      <td style = \"text-align: left;\">VariableReserve</td>\n",
       "      <td style = \"text-align: left;\">Component</td>\n",
       "      <td style = \"text-align: left;\">SingleTimeSeries</td>\n",
       "      <td style = \"text-align: left;\">2020-01-01T00:00:00</td>\n",
       "      <td style = \"text-align: left;\">1 hour</td>\n",
       "      <td style = \"text-align: left;\">5</td>\n",
       "      <td style = \"text-align: left;\">8784</td>\n",
       "    </tr>\n",
       "  </tbody>\n",
       "</table>\n",
       "<table>\n",
       "  <caption style = \"text-align: left;\">Forecast Summary</caption>\n",
       "  <thead>\n",
       "    <tr class = \"header\">\n",
       "      <th style = \"text-align: left;\">owner_type</th>\n",
       "      <th style = \"text-align: left;\">owner_category</th>\n",
       "      <th style = \"text-align: left;\">time_series_type</th>\n",
       "      <th style = \"text-align: left;\">initial_timestamp</th>\n",
       "      <th style = \"text-align: left;\">resolution</th>\n",
       "      <th style = \"text-align: left;\">count</th>\n",
       "      <th style = \"text-align: left;\">horizon</th>\n",
       "      <th style = \"text-align: left;\">interval</th>\n",
       "      <th style = \"text-align: left;\">window_count</th>\n",
       "    </tr>\n",
       "    <tr class = \"subheader headerLastRow\">\n",
       "      <th style = \"text-align: left;\">String</th>\n",
       "      <th style = \"text-align: left;\">String</th>\n",
       "      <th style = \"text-align: left;\">String</th>\n",
       "      <th style = \"text-align: left;\">String</th>\n",
       "      <th style = \"text-align: left;\">Dates.CompoundPeriod</th>\n",
       "      <th style = \"text-align: left;\">Int64</th>\n",
       "      <th style = \"text-align: left;\">Dates.CompoundPeriod</th>\n",
       "      <th style = \"text-align: left;\">Dates.CompoundPeriod</th>\n",
       "      <th style = \"text-align: left;\">Int64</th>\n",
       "    </tr>\n",
       "  </thead>\n",
       "  <tbody>\n",
       "    <tr>\n",
       "      <td style = \"text-align: left;\">Area</td>\n",
       "      <td style = \"text-align: left;\">Component</td>\n",
       "      <td style = \"text-align: left;\">DeterministicSingleTimeSeries</td>\n",
       "      <td style = \"text-align: left;\">2020-01-01T00:00:00</td>\n",
       "      <td style = \"text-align: left;\">1 hour</td>\n",
       "      <td style = \"text-align: left;\">3</td>\n",
       "      <td style = \"text-align: left;\">2 days</td>\n",
       "      <td style = \"text-align: left;\">1 day</td>\n",
       "      <td style = \"text-align: left;\">365</td>\n",
       "    </tr>\n",
       "    <tr>\n",
       "      <td style = \"text-align: left;\">FixedAdmittance</td>\n",
       "      <td style = \"text-align: left;\">Component</td>\n",
       "      <td style = \"text-align: left;\">DeterministicSingleTimeSeries</td>\n",
       "      <td style = \"text-align: left;\">2020-01-01T00:00:00</td>\n",
       "      <td style = \"text-align: left;\">1 hour</td>\n",
       "      <td style = \"text-align: left;\">3</td>\n",
       "      <td style = \"text-align: left;\">2 days</td>\n",
       "      <td style = \"text-align: left;\">1 day</td>\n",
       "      <td style = \"text-align: left;\">365</td>\n",
       "    </tr>\n",
       "    <tr>\n",
       "      <td style = \"text-align: left;\">HydroDispatch</td>\n",
       "      <td style = \"text-align: left;\">Component</td>\n",
       "      <td style = \"text-align: left;\">DeterministicSingleTimeSeries</td>\n",
       "      <td style = \"text-align: left;\">2020-01-01T00:00:00</td>\n",
       "      <td style = \"text-align: left;\">1 hour</td>\n",
       "      <td style = \"text-align: left;\">2</td>\n",
       "      <td style = \"text-align: left;\">2 days</td>\n",
       "      <td style = \"text-align: left;\">1 day</td>\n",
       "      <td style = \"text-align: left;\">365</td>\n",
       "    </tr>\n",
       "    <tr>\n",
       "      <td style = \"text-align: left;\">PowerLoad</td>\n",
       "      <td style = \"text-align: left;\">Component</td>\n",
       "      <td style = \"text-align: left;\">DeterministicSingleTimeSeries</td>\n",
       "      <td style = \"text-align: left;\">2020-01-01T00:00:00</td>\n",
       "      <td style = \"text-align: left;\">1 hour</td>\n",
       "      <td style = \"text-align: left;\">51</td>\n",
       "      <td style = \"text-align: left;\">2 days</td>\n",
       "      <td style = \"text-align: left;\">1 day</td>\n",
       "      <td style = \"text-align: left;\">365</td>\n",
       "    </tr>\n",
       "    <tr>\n",
       "      <td style = \"text-align: left;\">RenewableDispatch</td>\n",
       "      <td style = \"text-align: left;\">Component</td>\n",
       "      <td style = \"text-align: left;\">DeterministicSingleTimeSeries</td>\n",
       "      <td style = \"text-align: left;\">2020-01-01T00:00:00</td>\n",
       "      <td style = \"text-align: left;\">1 hour</td>\n",
       "      <td style = \"text-align: left;\">29</td>\n",
       "      <td style = \"text-align: left;\">2 days</td>\n",
       "      <td style = \"text-align: left;\">1 day</td>\n",
       "      <td style = \"text-align: left;\">365</td>\n",
       "    </tr>\n",
       "    <tr>\n",
       "      <td style = \"text-align: left;\">RenewableNonDispatch</td>\n",
       "      <td style = \"text-align: left;\">Component</td>\n",
       "      <td style = \"text-align: left;\">DeterministicSingleTimeSeries</td>\n",
       "      <td style = \"text-align: left;\">2020-01-01T00:00:00</td>\n",
       "      <td style = \"text-align: left;\">1 hour</td>\n",
       "      <td style = \"text-align: left;\">31</td>\n",
       "      <td style = \"text-align: left;\">2 days</td>\n",
       "      <td style = \"text-align: left;\">1 day</td>\n",
       "      <td style = \"text-align: left;\">365</td>\n",
       "    </tr>\n",
       "    <tr>\n",
       "      <td style = \"text-align: left;\">VariableReserve</td>\n",
       "      <td style = \"text-align: left;\">Component</td>\n",
       "      <td style = \"text-align: left;\">DeterministicSingleTimeSeries</td>\n",
       "      <td style = \"text-align: left;\">2020-01-01T00:00:00</td>\n",
       "      <td style = \"text-align: left;\">1 hour</td>\n",
       "      <td style = \"text-align: left;\">5</td>\n",
       "      <td style = \"text-align: left;\">2 days</td>\n",
       "      <td style = \"text-align: left;\">1 day</td>\n",
       "      <td style = \"text-align: left;\">365</td>\n",
       "    </tr>\n",
       "  </tbody>\n",
       "</table>\n"
      ],
      "text/plain": [
       "\u001b[1mSystem\u001b[0m\n",
       "┌───────────────────┬─────────────┐\n",
       "│\u001b[1m Property          \u001b[0m│\u001b[1m Value       \u001b[0m│\n",
       "├───────────────────┼─────────────┤\n",
       "│ Name              │             │\n",
       "│ Description       │             │\n",
       "│ System Units Base │ SYSTEM_BASE │\n",
       "│ Base Power        │ 100.0       │\n",
       "│ Base Frequency    │ 60.0        │\n",
       "│ Num Components    │ 501         │\n",
       "└───────────────────┴─────────────┘\n",
       "\n",
       "\u001b[1mStatic Components\u001b[0m\n",
       "┌──────────────────────────────┬───────┐\n",
       "│\u001b[1m Type                         \u001b[0m│\u001b[1m Count \u001b[0m│\n",
       "├──────────────────────────────┼───────┤\n",
       "│ ACBus                        │ 73    │\n",
       "│ Arc                          │ 109   │\n",
       "│ Area                         │ 3     │\n",
       "│ FixedAdmittance              │ 3     │\n",
       "│ HydroDispatch                │ 1     │\n",
       "│ Line                         │ 105   │\n",
       "│ LoadZone                     │ 21    │\n",
       "│ PowerLoad                    │ 51    │\n",
       "│ RenewableDispatch            │ 29    │\n",
       "│ RenewableNonDispatch         │ 31    │\n",
       "│ TapTransformer               │ 15    │\n",
       "│ ThermalStandard              │ 54    │\n",
       "│ TwoTerminalHVDCLine          │ 1     │\n",
       "│ VariableReserve{ReserveDown} │ 1     │\n",
       "│ VariableReserve{ReserveUp}   │ 4     │\n",
       "└──────────────────────────────┴───────┘\n",
       "\n",
       "\u001b[1mStaticTimeSeries Summary\u001b[0m\n",
       "┌──────────────────────┬────────────────┬──────────────────┬────────────────────\n",
       "│\u001b[1m owner_type           \u001b[0m│\u001b[1m owner_category \u001b[0m│\u001b[1m time_series_type \u001b[0m│\u001b[1m initial_timestamp\u001b[0m ⋯\n",
       "│\u001b[90m String               \u001b[0m│\u001b[90m String         \u001b[0m│\u001b[90m String           \u001b[0m│\u001b[90m String           \u001b[0m ⋯\n",
       "├──────────────────────┼────────────────┼──────────────────┼────────────────────\n",
       "│ Area                 │ Component      │ SingleTimeSeries │ 2020-01-01T00:00: ⋯\n",
       "│ FixedAdmittance      │ Component      │ SingleTimeSeries │ 2020-01-01T00:00: ⋯\n",
       "│ HydroDispatch        │ Component      │ SingleTimeSeries │ 2020-01-01T00:00: ⋯\n",
       "│ PowerLoad            │ Component      │ SingleTimeSeries │ 2020-01-01T00:00: ⋯\n",
       "│ RenewableDispatch    │ Component      │ SingleTimeSeries │ 2020-01-01T00:00: ⋯\n",
       "│ RenewableNonDispatch │ Component      │ SingleTimeSeries │ 2020-01-01T00:00: ⋯\n",
       "│ VariableReserve      │ Component      │ SingleTimeSeries │ 2020-01-01T00:00: ⋯\n",
       "└──────────────────────┴────────────────┴──────────────────┴────────────────────\n",
       "\u001b[36m                                                               4 columns omitted\u001b[0m\n",
       "\u001b[1mForecast Summary\u001b[0m\n",
       "┌──────────────────────┬────────────────┬───────────────────────────────┬───────\n",
       "│\u001b[1m owner_type           \u001b[0m│\u001b[1m owner_category \u001b[0m│\u001b[1m time_series_type              \u001b[0m│\u001b[1m init\u001b[0m ⋯\n",
       "│\u001b[90m String               \u001b[0m│\u001b[90m String         \u001b[0m│\u001b[90m String                        \u001b[0m│\u001b[90m Stri\u001b[0m ⋯\n",
       "├──────────────────────┼────────────────┼───────────────────────────────┼───────\n",
       "│ Area                 │ Component      │ DeterministicSingleTimeSeries │ 2020 ⋯\n",
       "│ FixedAdmittance      │ Component      │ DeterministicSingleTimeSeries │ 2020 ⋯\n",
       "│ HydroDispatch        │ Component      │ DeterministicSingleTimeSeries │ 2020 ⋯\n",
       "│ PowerLoad            │ Component      │ DeterministicSingleTimeSeries │ 2020 ⋯\n",
       "│ RenewableDispatch    │ Component      │ DeterministicSingleTimeSeries │ 2020 ⋯\n",
       "│ RenewableNonDispatch │ Component      │ DeterministicSingleTimeSeries │ 2020 ⋯\n",
       "│ VariableReserve      │ Component      │ DeterministicSingleTimeSeries │ 2020 ⋯\n",
       "└──────────────────────┴────────────────┴───────────────────────────────┴───────\n",
       "\u001b[36m                                                               6 columns omitted\u001b[0m\n"
      ]
     },
     "execution_count": 37,
     "metadata": {},
     "output_type": "execute_result"
    }
   ],
   "source": [
    "sys"
   ]
  },
  {
   "cell_type": "markdown",
   "id": "2dcdf65e",
   "metadata": {},
   "source": [
    "### Read results"
   ]
  },
  {
   "cell_type": "code",
   "execution_count": 81,
   "id": "3fba44c6",
   "metadata": {},
   "outputs": [
    {
     "name": "stdout",
     "output_type": "stream",
     "text": [
      "Available variable results:\n",
      "\n",
      "Available parameter results:\n",
      "\n",
      "Available auxiliary variable results:\n"
     ]
    },
    {
     "data": {
      "text/plain": [
       "3-element Vector{String}:\n",
       " \"HydroEnergyOutput__HydroDispatch\"\n",
       " \"TimeDurationOff__ThermalStandard\"\n",
       " \"TimeDurationOn__ThermalStandard\""
      ]
     },
     "execution_count": 81,
     "metadata": {},
     "output_type": "execute_result"
    }
   ],
   "source": [
    "# Get the results from your solved model\n",
    "results = OptimizationProblemResults(problem)\n",
    "\n",
    "# Check what variables are available\n",
    "println(\"Available variable results:\")\n",
    "list_variable_names(results)\n",
    "\n",
    "# Check what parameters are available  \n",
    "println(\"\\nAvailable parameter results:\")\n",
    "list_parameter_names(results)\n",
    "\n",
    "# Check what auxiliary variables are available\n",
    "println(\"\\nAvailable auxiliary variable results:\")\n",
    "list_aux_variable_names(results)"
   ]
  },
  {
   "cell_type": "code",
   "execution_count": 95,
   "id": "85d05e74",
   "metadata": {},
   "outputs": [
    {
     "data": {
      "text/html": [
       "<p> Start: 2020-01-01T00:00:00</p>\n",
       "<p> End: 2020-01-01T23:00:00</p>\n",
       "<p> Resolution: 60 minutes</p>\n",
       "\n",
       "<table>\n",
       "  <caption style = \"text-align: left;\">PowerSimulations Problem Auxiliary variables Results</caption>\n",
       "  <tbody>\n",
       "    <tr>\n",
       "      <td style = \"text-align: left;\">HydroEnergyOutput__HydroDispatch</td>\n",
       "    </tr>\n",
       "    <tr>\n",
       "      <td style = \"text-align: left;\">TimeDurationOff__ThermalStandard</td>\n",
       "    </tr>\n",
       "    <tr>\n",
       "      <td style = \"text-align: left;\">TimeDurationOn__ThermalStandard</td>\n",
       "    </tr>\n",
       "  </tbody>\n",
       "</table>\n",
       "\n",
       "<table>\n",
       "  <caption style = \"text-align: left;\">PowerSimulations Problem Expressions Results</caption>\n",
       "  <tbody>\n",
       "    <tr>\n",
       "      <td style = \"text-align: left;\">ProductionCostExpression__RenewableDispatch</td>\n",
       "    </tr>\n",
       "    <tr>\n",
       "      <td style = \"text-align: left;\">ProductionCostExpression__ThermalStandard</td>\n",
       "    </tr>\n",
       "    <tr>\n",
       "      <td style = \"text-align: left;\">ActivePowerBalance__System</td>\n",
       "    </tr>\n",
       "    <tr>\n",
       "      <td style = \"text-align: left;\">ProductionCostExpression__HydroDispatch</td>\n",
       "    </tr>\n",
       "    <tr>\n",
       "      <td style = \"text-align: left;\">FuelConsumptionExpression__ThermalStandard</td>\n",
       "    </tr>\n",
       "  </tbody>\n",
       "</table>\n",
       "\n",
       "<table>\n",
       "  <caption style = \"text-align: left;\">PowerSimulations Problem Parameters Results</caption>\n",
       "  <tbody>\n",
       "    <tr>\n",
       "      <td style = \"text-align: left;\">ActivePowerTimeSeriesParameter__RenewableDispatch</td>\n",
       "    </tr>\n",
       "    <tr>\n",
       "      <td style = \"text-align: left;\">RequirementTimeSeriesParameter__VariableReserve__ReserveUp__Spin_Up_R2</td>\n",
       "    </tr>\n",
       "    <tr>\n",
       "      <td style = \"text-align: left;\">RequirementTimeSeriesParameter__VariableReserve__ReserveUp__Spin_Up_R3</td>\n",
       "    </tr>\n",
       "    <tr>\n",
       "      <td style = \"text-align: left;\">ActivePowerTimeSeriesParameter__HydroDispatch</td>\n",
       "    </tr>\n",
       "    <tr>\n",
       "      <td style = \"text-align: left;\">RequirementTimeSeriesParameter__VariableReserve__ReserveUp__Spin_Up_R1</td>\n",
       "    </tr>\n",
       "    <tr>\n",
       "      <td style = \"text-align: left;\">RequirementTimeSeriesParameter__VariableReserve__ReserveUp__Reg_Up</td>\n",
       "    </tr>\n",
       "    <tr>\n",
       "      <td style = \"text-align: left;\">ActivePowerTimeSeriesParameter__RenewableNonDispatch</td>\n",
       "    </tr>\n",
       "    <tr>\n",
       "      <td style = \"text-align: left;\">RequirementTimeSeriesParameter__VariableReserve__ReserveDown__Reg_Down</td>\n",
       "    </tr>\n",
       "    <tr>\n",
       "      <td style = \"text-align: left;\">ActivePowerTimeSeriesParameter__PowerLoad</td>\n",
       "    </tr>\n",
       "  </tbody>\n",
       "</table>\n",
       "\n",
       "<table>\n",
       "  <caption style = \"text-align: left;\">PowerSimulations Problem Variables Results</caption>\n",
       "  <tbody>\n",
       "    <tr>\n",
       "      <td style = \"text-align: left;\">ActivePowerReserveVariable__VariableReserve__ReserveDown__Reg_Down</td>\n",
       "    </tr>\n",
       "    <tr>\n",
       "      <td style = \"text-align: left;\">StopVariable__ThermalStandard</td>\n",
       "    </tr>\n",
       "    <tr>\n",
       "      <td style = \"text-align: left;\">ActivePowerReserveVariable__VariableReserve__ReserveUp__Spin_Up_R2</td>\n",
       "    </tr>\n",
       "    <tr>\n",
       "      <td style = \"text-align: left;\">StartVariable__ThermalStandard</td>\n",
       "    </tr>\n",
       "    <tr>\n",
       "      <td style = \"text-align: left;\">FlowActivePowerToFromVariable__TwoTerminalHVDCLine</td>\n",
       "    </tr>\n",
       "    <tr>\n",
       "      <td style = \"text-align: left;\">ActivePowerReserveVariable__VariableReserve__ReserveUp__Spin_Up_R1</td>\n",
       "    </tr>\n",
       "    <tr>\n",
       "      <td style = \"text-align: left;\">FlowActivePowerFromToVariable__TwoTerminalHVDCLine</td>\n",
       "    </tr>\n",
       "    <tr>\n",
       "      <td style = \"text-align: left;\">ActivePowerVariable__ThermalStandard</td>\n",
       "    </tr>\n",
       "    <tr>\n",
       "      <td style = \"text-align: left;\">ActivePowerReserveVariable__VariableReserve__ReserveUp__Reg_Up</td>\n",
       "    </tr>\n",
       "    <tr>\n",
       "      <td style = \"text-align: left;\">ActivePowerReserveVariable__VariableReserve__ReserveUp__Spin_Up_R3</td>\n",
       "    </tr>\n",
       "    <tr>\n",
       "      <td style = \"text-align: left;\">ActivePowerVariable__RenewableDispatch</td>\n",
       "    </tr>\n",
       "    <tr>\n",
       "      <td style = \"text-align: left;\">ActivePowerVariable__HydroDispatch</td>\n",
       "    </tr>\n",
       "    <tr>\n",
       "      <td style = \"text-align: left;\">HVDCLosses__TwoTerminalHVDCLine</td>\n",
       "    </tr>\n",
       "    <tr>\n",
       "      <td style = \"text-align: left;\">OnVariable__ThermalStandard</td>\n",
       "    </tr>\n",
       "    <tr>\n",
       "      <td style = \"text-align: left;\">HVDCFlowDirectionVariable__TwoTerminalHVDCLine</td>\n",
       "    </tr>\n",
       "  </tbody>\n",
       "</table>\n"
      ],
      "text/plain": [
       "Start: 2020-01-01T00:00:00\n",
       "End: 2020-01-01T23:00:00\n",
       "Resolution: 60 minutes\n",
       "\n",
       "\u001b[1mPowerSimulations Problem Auxiliary variables Results\u001b[0m\n",
       "┌──────────────────────────────────┐\n",
       "│ HydroEnergyOutput__HydroDispatch │\n",
       "│ TimeDurationOff__ThermalStandard │\n",
       "│ TimeDurationOn__ThermalStandard  │\n",
       "└──────────────────────────────────┘\n",
       "\n",
       "\u001b[1mPowerSimulations Problem Expressions Results\u001b[0m\n",
       "┌─────────────────────────────────────────────┐\n",
       "│ ProductionCostExpression__RenewableDispatch │\n",
       "│ ProductionCostExpression__ThermalStandard   │\n",
       "│ ActivePowerBalance__System                  │\n",
       "│ ProductionCostExpression__HydroDispatch     │\n",
       "│ FuelConsumptionExpression__ThermalStandard  │\n",
       "└─────────────────────────────────────────────┘\n",
       "\n",
       "\u001b[1mPowerSimulations Problem Parameters Results\u001b[0m\n",
       "┌────────────────────────────────────────────────────────────────────────┐\n",
       "│ ActivePowerTimeSeriesParameter__RenewableDispatch                      │\n",
       "│ RequirementTimeSeriesParameter__VariableReserve__ReserveUp__Spin_Up_R2 │\n",
       "│ RequirementTimeSeriesParameter__VariableReserve__ReserveUp__Spin_Up_R3 │\n",
       "│ ActivePowerTimeSeriesParameter__HydroDispatch                          │\n",
       "│ RequirementTimeSeriesParameter__VariableReserve__ReserveUp__Spin_Up_R1 │\n",
       "│ RequirementTimeSeriesParameter__VariableReserve__ReserveUp__Reg_Up     │\n",
       "│ ActivePowerTimeSeriesParameter__RenewableNonDispatch                   │\n",
       "│ RequirementTimeSeriesParameter__VariableReserve__ReserveDown__Reg_Down │\n",
       "│ ActivePowerTimeSeriesParameter__PowerLoad                              │\n",
       "└────────────────────────────────────────────────────────────────────────┘\n",
       "\n",
       "\u001b[1mPowerSimulations Problem Variables Results\u001b[0m\n",
       "┌────────────────────────────────────────────────────────────────────┐\n",
       "│ ActivePowerReserveVariable__VariableReserve__ReserveDown__Reg_Down │\n",
       "│ StopVariable__ThermalStandard                                      │\n",
       "│ ActivePowerReserveVariable__VariableReserve__ReserveUp__Spin_Up_R2 │\n",
       "│ StartVariable__ThermalStandard                                     │\n",
       "│ FlowActivePowerToFromVariable__TwoTerminalHVDCLine                 │\n",
       "│ ActivePowerReserveVariable__VariableReserve__ReserveUp__Spin_Up_R1 │\n",
       "│ FlowActivePowerFromToVariable__TwoTerminalHVDCLine                 │\n",
       "│ ActivePowerVariable__ThermalStandard                               │\n",
       "│ ActivePowerReserveVariable__VariableReserve__ReserveUp__Reg_Up     │\n",
       "│ ActivePowerReserveVariable__VariableReserve__ReserveUp__Spin_Up_R3 │\n",
       "│ ActivePowerVariable__RenewableDispatch                             │\n",
       "│ ActivePowerVariable__HydroDispatch                                 │\n",
       "│ HVDCLosses__TwoTerminalHVDCLine                                    │\n",
       "│ OnVariable__ThermalStandard                                        │\n",
       "│ HVDCFlowDirectionVariable__TwoTerminalHVDCLine                     │\n",
       "└────────────────────────────────────────────────────────────────────┘\n"
      ]
     },
     "execution_count": 95,
     "metadata": {},
     "output_type": "execute_result"
    }
   ],
   "source": [
    "results"
   ]
  },
  {
   "cell_type": "markdown",
   "id": "718118c4",
   "metadata": {},
   "source": [
    "graphics"
   ]
  },
  {
   "cell_type": "code",
   "execution_count": 98,
   "id": "6c7e8182",
   "metadata": {},
   "outputs": [
    {
     "data": {
      "application/vnd.webio.node+json": {
       "children": [],
       "instanceArgs": {
        "namespace": "html",
        "tag": "div"
       },
       "nodeType": "DOM",
       "props": {},
       "type": "node"
      },
      "text/html": [
       "<div style=\"padding: 1em; background-color: #f8d6da; border: 1px solid #f5c6cb; font-weight: bold;\">\n",
       "<p>The WebIO Jupyter extension was not detected. See the\n",
       "<a href=\"https://juliagizmos.github.io/WebIO.jl/latest/providers/ijulia/\" target=\"_blank\">\n",
       "    WebIO Jupyter integration documentation\n",
       "</a>\n",
       "for more information.\n",
       "</div>\n"
      ],
      "text/plain": [
       "WebIO._IJuliaInit()"
      ]
     },
     "metadata": {},
     "output_type": "display_data"
    },
    {
     "data": {
      "application/vnd.plotly.v1+json": {
       "config": {
        "editable": false,
        "responsive": true,
        "scrollZoom": true,
        "showLink": false,
        "staticPlot": false
       },
       "data": [
        {
         "line": {
          "color": "rgba(112, 118, 133, 1)",
          "dash": "solid",
          "shape": "linear"
         },
         "mode": "lines",
         "name": "ActivePowerVariable__ThermalStandard",
         "plot": {
          "type": "scatter"
         },
         "showlegend": true,
         "type": "scatter",
         "x": [
          "2020-01-01T00:00:00",
          "2020-01-01T01:00:00",
          "2020-01-01T02:00:00",
          "2020-01-01T03:00:00",
          "2020-01-01T04:00:00",
          "2020-01-01T05:00:00",
          "2020-01-01T06:00:00",
          "2020-01-01T07:00:00",
          "2020-01-01T08:00:00",
          "2020-01-01T09:00:00",
          "2020-01-01T10:00:00",
          "2020-01-01T11:00:00",
          "2020-01-01T12:00:00",
          "2020-01-01T13:00:00",
          "2020-01-01T14:00:00",
          "2020-01-01T15:00:00",
          "2020-01-01T16:00:00",
          "2020-01-01T17:00:00",
          "2020-01-01T18:00:00",
          "2020-01-01T19:00:00",
          "2020-01-01T20:00:00",
          "2020-01-01T21:00:00",
          "2020-01-01T22:00:00",
          "2020-01-01T23:00:00"
         ],
         "y": [
          3065.8333331999997,
          3055.3333331999997,
          3065.8333331999997,
          3069.3333331999997,
          3074.5833331999997,
          3079.8333331999997,
          3092.0833331999997,
          3102.5833331999997,
          3106.0833331999997,
          3102.5833331999997,
          3086.8333331999997,
          3071.0833331999997,
          3065.8333331999997,
          3067.5833331999997,
          3048.3333331999997,
          3053.5833331999997,
          3897.5324556179344,
          3905.2088337651335,
          3783.0362214310453,
          3421.250124601605,
          3099.0833331999997,
          3093.8333331999997,
          3090.3333331999997,
          3088.5833331999997
         ]
        },
        {
         "line": {
          "color": "rgba(91, 98, 114, 1)",
          "dash": "solid",
          "shape": "linear"
         },
         "mode": "lines",
         "name": "ActivePowerVariable__HydroDispatch__Curtailment",
         "plot": {
          "type": "scatter"
         },
         "showlegend": true,
         "type": "scatter",
         "x": [
          "2020-01-01T00:00:00",
          "2020-01-01T01:00:00",
          "2020-01-01T02:00:00",
          "2020-01-01T03:00:00",
          "2020-01-01T04:00:00",
          "2020-01-01T05:00:00",
          "2020-01-01T06:00:00",
          "2020-01-01T07:00:00",
          "2020-01-01T08:00:00",
          "2020-01-01T09:00:00",
          "2020-01-01T10:00:00",
          "2020-01-01T11:00:00",
          "2020-01-01T12:00:00",
          "2020-01-01T13:00:00",
          "2020-01-01T14:00:00",
          "2020-01-01T15:00:00",
          "2020-01-01T16:00:00",
          "2020-01-01T17:00:00",
          "2020-01-01T18:00:00",
          "2020-01-01T19:00:00",
          "2020-01-01T20:00:00",
          "2020-01-01T21:00:00",
          "2020-01-01T22:00:00",
          "2020-01-01T23:00:00"
         ],
         "y": [
          8.857544568953715,
          9.04802939839358,
          8.857544568953715,
          9.04802939839358,
          8.857544568953715,
          8.66705973951385,
          9.04802939839358,
          18.000816382067224,
          17.619846723187496,
          17.619846723187496,
          17.81033155262736,
          17.619846723187496,
          17.81033155262736,
          17.81033155262736,
          17.81033155262736,
          17.81033155262736,
          0,
          0,
          0,
          0,
          8.857544568953715,
          8.857544568953715,
          8.66705973951385,
          8.857544568953715
         ]
        },
        {
         "line": {
          "color": "rgba(24, 127, 148, 1)",
          "dash": "solid",
          "shape": "linear"
         },
         "mode": "lines",
         "name": "ActivePowerVariable__RenewableDispatch__Curtailment",
         "plot": {
          "type": "scatter"
         },
         "showlegend": true,
         "type": "scatter",
         "x": [
          "2020-01-01T00:00:00",
          "2020-01-01T01:00:00",
          "2020-01-01T02:00:00",
          "2020-01-01T03:00:00",
          "2020-01-01T04:00:00",
          "2020-01-01T05:00:00",
          "2020-01-01T06:00:00",
          "2020-01-01T07:00:00",
          "2020-01-01T08:00:00",
          "2020-01-01T09:00:00",
          "2020-01-01T10:00:00",
          "2020-01-01T11:00:00",
          "2020-01-01T12:00:00",
          "2020-01-01T13:00:00",
          "2020-01-01T14:00:00",
          "2020-01-01T15:00:00",
          "2020-01-01T16:00:00",
          "2020-01-01T17:00:00",
          "2020-01-01T18:00:00",
          "2020-01-01T19:00:00",
          "2020-01-01T20:00:00",
          "2020-01-01T21:00:00",
          "2020-01-01T22:00:00",
          "2020-01-01T23:00:00"
         ],
         "y": [
          1860.401449,
          2075.487510499999,
          1933.2606832,
          1860.2350121999993,
          1670.3249002000002,
          1348.3222262000018,
          853.0776141999991,
          1821.083927200001,
          2262.871101200001,
          2119.1970472,
          1895.2639872000022,
          1699.9654502000008,
          1646.9262672000025,
          1573.3771832000011,
          1145.872196199999,
          482.8724632000008,
          0,
          0,
          0,
          0,
          55.36419019999903,
          506.8164581999989,
          937.4177462000007,
          1073.6864649000013
         ]
        },
        {
         "line": {
          "color": "rgba(130, 0, 0, 1)",
          "dash": "solid",
          "shape": "linear"
         },
         "mode": "lines",
         "name": "ActivePowerTimeSeriesParameter__RenewableNonDispatch",
         "plot": {
          "type": "scatter"
         },
         "showlegend": true,
         "type": "scatter",
         "x": [
          "2020-01-01T00:00:00",
          "2020-01-01T01:00:00",
          "2020-01-01T02:00:00",
          "2020-01-01T03:00:00",
          "2020-01-01T04:00:00",
          "2020-01-01T05:00:00",
          "2020-01-01T06:00:00",
          "2020-01-01T07:00:00",
          "2020-01-01T08:00:00",
          "2020-01-01T09:00:00",
          "2020-01-01T10:00:00",
          "2020-01-01T11:00:00",
          "2020-01-01T12:00:00",
          "2020-01-01T13:00:00",
          "2020-01-01T14:00:00",
          "2020-01-01T15:00:00",
          "2020-01-01T16:00:00",
          "2020-01-01T17:00:00",
          "2020-01-01T18:00:00",
          "2020-01-01T19:00:00",
          "2020-01-01T20:00:00",
          "2020-01-01T21:00:00",
          "2020-01-01T22:00:00",
          "2020-01-01T23:00:00"
         ],
         "y": [
          0,
          0,
          0,
          0,
          0,
          0,
          0,
          50.759999999999984,
          127.26,
          185.25000000000003,
          221.5200000000001,
          232.40999999999994,
          228.09000000000006,
          204.54000000000002,
          158.97,
          77.19,
          0,
          0,
          0,
          0,
          0,
          0,
          0,
          0
         ]
        },
        {
         "line": {
          "color": "rgba(91, 152, 68, 1)",
          "dash": "solid",
          "shape": "linear"
         },
         "mode": "lines",
         "name": "ActivePowerVariable__RenewableDispatch",
         "plot": {
          "type": "scatter"
         },
         "showlegend": true,
         "type": "scatter",
         "x": [
          "2020-01-01T00:00:00",
          "2020-01-01T01:00:00",
          "2020-01-01T02:00:00",
          "2020-01-01T03:00:00",
          "2020-01-01T04:00:00",
          "2020-01-01T05:00:00",
          "2020-01-01T06:00:00",
          "2020-01-01T07:00:00",
          "2020-01-01T08:00:00",
          "2020-01-01T09:00:00",
          "2020-01-01T10:00:00",
          "2020-01-01T11:00:00",
          "2020-01-01T12:00:00",
          "2020-01-01T13:00:00",
          "2020-01-01T14:00:00",
          "2020-01-01T15:00:00",
          "2020-01-01T16:00:00",
          "2020-01-01T17:00:00",
          "2020-01-01T18:00:00",
          "2020-01-01T19:00:00",
          "2020-01-01T20:00:00",
          "2020-01-01T21:00:00",
          "2020-01-01T22:00:00",
          "2020-01-01T23:00:00"
         ],
         "y": [
          271.498551,
          205.7124895000006,
          181.33931680000018,
          195.2649878000005,
          328.2750997999997,
          592.3777737999983,
          856.4223858000009,
          833.4160727999994,
          769.3288987999995,
          744.5029527999995,
          714.736012799998,
          710.5345497999991,
          686.8737327999978,
          686.4228167999986,
          721.927803800001,
          782.027536799999,
          141.89999999999998,
          655.8,
          762.4999999999999,
          1019.1,
          1192.7358098000009,
          922.3835418000012,
          616.7822537999991,
          365.013535099999
         ]
        },
        {
         "line": {
          "color": "rgba(133, 61, 101, 1)",
          "dash": "solid",
          "shape": "linear"
         },
         "mode": "lines",
         "name": "ActivePowerVariable__HydroDispatch",
         "plot": {
          "type": "scatter"
         },
         "showlegend": true,
         "type": "scatter",
         "x": [
          "2020-01-01T00:00:00",
          "2020-01-01T01:00:00",
          "2020-01-01T02:00:00",
          "2020-01-01T03:00:00",
          "2020-01-01T04:00:00",
          "2020-01-01T05:00:00",
          "2020-01-01T06:00:00",
          "2020-01-01T07:00:00",
          "2020-01-01T08:00:00",
          "2020-01-01T09:00:00",
          "2020-01-01T10:00:00",
          "2020-01-01T11:00:00",
          "2020-01-01T12:00:00",
          "2020-01-01T13:00:00",
          "2020-01-01T14:00:00",
          "2020-01-01T15:00:00",
          "2020-01-01T16:00:00",
          "2020-01-01T17:00:00",
          "2020-01-01T18:00:00",
          "2020-01-01T19:00:00",
          "2020-01-01T20:00:00",
          "2020-01-01T21:00:00",
          "2020-01-01T22:00:00",
          "2020-01-01T23:00:00"
         ],
         "y": [
          0,
          0,
          0,
          0,
          0,
          0,
          0,
          0,
          0,
          0,
          0,
          0,
          0,
          0,
          0,
          0,
          18.000816382067224,
          17.0483922348679,
          8.857544568953715,
          9.04802939839358,
          0,
          0,
          0,
          0
         ]
        }
       ],
       "frames": [],
       "layout": {
        "barmode": "group",
        "margin": {
         "b": 50,
         "l": 50,
         "r": 50,
         "t": 60
        },
        "set": {
         "display": false
        },
        "template": {
         "data": {
          "bar": [
           {
            "error_x": {
             "color": "#2a3f5f"
            },
            "error_y": {
             "color": "#2a3f5f"
            },
            "marker": {
             "line": {
              "color": "#E5ECF6",
              "width": 0.5
             }
            },
            "type": "bar"
           }
          ],
          "barpolar": [
           {
            "marker": {
             "line": {
              "color": "#E5ECF6",
              "width": 0.5
             }
            },
            "type": "barpolar"
           }
          ],
          "carpet": [
           {
            "aaxis": {
             "endlinecolor": "#2a3f5f",
             "gridcolor": "white",
             "linecolor": "white",
             "minorgridcolor": "white",
             "startlinecolor": "#2a3f5f"
            },
            "baxis": {
             "endlinecolor": "#2a3f5f",
             "gridcolor": "white",
             "linecolor": "white",
             "minorgridcolor": "white",
             "startlinecolor": "#2a3f5f"
            },
            "type": "carpet"
           }
          ],
          "choropleth": [
           {
            "colorbar": {
             "outlinewidth": 0,
             "ticks": ""
            },
            "type": "choropleth"
           }
          ],
          "contour": [
           {
            "colorbar": {
             "outlinewidth": 0,
             "ticks": ""
            },
            "colorscale": [
             [
              0,
              "#0d0887"
             ],
             [
              0.1111111111111111,
              "#46039f"
             ],
             [
              0.2222222222222222,
              "#7201a8"
             ],
             [
              0.3333333333333333,
              "#9c179e"
             ],
             [
              0.4444444444444444,
              "#bd3786"
             ],
             [
              0.5555555555555556,
              "#d8576b"
             ],
             [
              0.6666666666666666,
              "#ed7953"
             ],
             [
              0.7777777777777778,
              "#fb9f3a"
             ],
             [
              0.8888888888888888,
              "#fdca26"
             ],
             [
              1,
              "#f0f921"
             ]
            ],
            "type": "contour"
           }
          ],
          "contourcarpet": [
           {
            "colorbar": {
             "outlinewidth": 0,
             "ticks": ""
            },
            "type": "contourcarpet"
           }
          ],
          "heatmap": [
           {
            "colorbar": {
             "outlinewidth": 0,
             "ticks": ""
            },
            "colorscale": [
             [
              0,
              "#0d0887"
             ],
             [
              0.1111111111111111,
              "#46039f"
             ],
             [
              0.2222222222222222,
              "#7201a8"
             ],
             [
              0.3333333333333333,
              "#9c179e"
             ],
             [
              0.4444444444444444,
              "#bd3786"
             ],
             [
              0.5555555555555556,
              "#d8576b"
             ],
             [
              0.6666666666666666,
              "#ed7953"
             ],
             [
              0.7777777777777778,
              "#fb9f3a"
             ],
             [
              0.8888888888888888,
              "#fdca26"
             ],
             [
              1,
              "#f0f921"
             ]
            ],
            "type": "heatmap"
           }
          ],
          "heatmapgl": [
           {
            "colorbar": {
             "outlinewidth": 0,
             "ticks": ""
            },
            "colorscale": [
             [
              0,
              "#0d0887"
             ],
             [
              0.1111111111111111,
              "#46039f"
             ],
             [
              0.2222222222222222,
              "#7201a8"
             ],
             [
              0.3333333333333333,
              "#9c179e"
             ],
             [
              0.4444444444444444,
              "#bd3786"
             ],
             [
              0.5555555555555556,
              "#d8576b"
             ],
             [
              0.6666666666666666,
              "#ed7953"
             ],
             [
              0.7777777777777778,
              "#fb9f3a"
             ],
             [
              0.8888888888888888,
              "#fdca26"
             ],
             [
              1,
              "#f0f921"
             ]
            ],
            "type": "heatmapgl"
           }
          ],
          "histogram": [
           {
            "marker": {
             "colorbar": {
              "outlinewidth": 0,
              "ticks": ""
             }
            },
            "type": "histogram"
           }
          ],
          "histogram2d": [
           {
            "colorbar": {
             "outlinewidth": 0,
             "ticks": ""
            },
            "colorscale": [
             [
              0,
              "#0d0887"
             ],
             [
              0.1111111111111111,
              "#46039f"
             ],
             [
              0.2222222222222222,
              "#7201a8"
             ],
             [
              0.3333333333333333,
              "#9c179e"
             ],
             [
              0.4444444444444444,
              "#bd3786"
             ],
             [
              0.5555555555555556,
              "#d8576b"
             ],
             [
              0.6666666666666666,
              "#ed7953"
             ],
             [
              0.7777777777777778,
              "#fb9f3a"
             ],
             [
              0.8888888888888888,
              "#fdca26"
             ],
             [
              1,
              "#f0f921"
             ]
            ],
            "type": "histogram2d"
           }
          ],
          "histogram2dcontour": [
           {
            "colorbar": {
             "outlinewidth": 0,
             "ticks": ""
            },
            "colorscale": [
             [
              0,
              "#0d0887"
             ],
             [
              0.1111111111111111,
              "#46039f"
             ],
             [
              0.2222222222222222,
              "#7201a8"
             ],
             [
              0.3333333333333333,
              "#9c179e"
             ],
             [
              0.4444444444444444,
              "#bd3786"
             ],
             [
              0.5555555555555556,
              "#d8576b"
             ],
             [
              0.6666666666666666,
              "#ed7953"
             ],
             [
              0.7777777777777778,
              "#fb9f3a"
             ],
             [
              0.8888888888888888,
              "#fdca26"
             ],
             [
              1,
              "#f0f921"
             ]
            ],
            "type": "histogram2dcontour"
           }
          ],
          "mesh3d": [
           {
            "colorbar": {
             "outlinewidth": 0,
             "ticks": ""
            },
            "type": "mesh3d"
           }
          ],
          "parcoords": [
           {
            "line": {
             "colorbar": {
              "outlinewidth": 0,
              "ticks": ""
             }
            },
            "type": "parcoords"
           }
          ],
          "pie": [
           {
            "automargin": true,
            "type": "pie"
           }
          ],
          "scatter": [
           {
            "marker": {
             "colorbar": {
              "outlinewidth": 0,
              "ticks": ""
             }
            },
            "type": "scatter"
           }
          ],
          "scatter3d": [
           {
            "line": {
             "colorbar": {
              "outlinewidth": 0,
              "ticks": ""
             }
            },
            "marker": {
             "colorbar": {
              "outlinewidth": 0,
              "ticks": ""
             }
            },
            "type": "scatter3d"
           }
          ],
          "scattercarpet": [
           {
            "marker": {
             "colorbar": {
              "outlinewidth": 0,
              "ticks": ""
             }
            },
            "type": "scattercarpet"
           }
          ],
          "scattergeo": [
           {
            "marker": {
             "colorbar": {
              "outlinewidth": 0,
              "ticks": ""
             }
            },
            "type": "scattergeo"
           }
          ],
          "scattergl": [
           {
            "marker": {
             "colorbar": {
              "outlinewidth": 0,
              "ticks": ""
             }
            },
            "type": "scattergl"
           }
          ],
          "scattermapbox": [
           {
            "marker": {
             "colorbar": {
              "outlinewidth": 0,
              "ticks": ""
             }
            },
            "type": "scattermapbox"
           }
          ],
          "scatterpolar": [
           {
            "marker": {
             "colorbar": {
              "outlinewidth": 0,
              "ticks": ""
             }
            },
            "type": "scatterpolar"
           }
          ],
          "scatterpolargl": [
           {
            "marker": {
             "colorbar": {
              "outlinewidth": 0,
              "ticks": ""
             }
            },
            "type": "scatterpolargl"
           }
          ],
          "scatterternary": [
           {
            "marker": {
             "colorbar": {
              "outlinewidth": 0,
              "ticks": ""
             }
            },
            "type": "scatterternary"
           }
          ],
          "surface": [
           {
            "colorbar": {
             "outlinewidth": 0,
             "ticks": ""
            },
            "colorscale": [
             [
              0,
              "#0d0887"
             ],
             [
              0.1111111111111111,
              "#46039f"
             ],
             [
              0.2222222222222222,
              "#7201a8"
             ],
             [
              0.3333333333333333,
              "#9c179e"
             ],
             [
              0.4444444444444444,
              "#bd3786"
             ],
             [
              0.5555555555555556,
              "#d8576b"
             ],
             [
              0.6666666666666666,
              "#ed7953"
             ],
             [
              0.7777777777777778,
              "#fb9f3a"
             ],
             [
              0.8888888888888888,
              "#fdca26"
             ],
             [
              1,
              "#f0f921"
             ]
            ],
            "type": "surface"
           }
          ],
          "table": [
           {
            "cells": {
             "fill": {
              "color": "#EBF0F8"
             },
             "line": {
              "color": "white"
             }
            },
            "header": {
             "fill": {
              "color": "#C8D4E3"
             },
             "line": {
              "color": "white"
             }
            },
            "type": "table"
           }
          ]
         },
         "layout": {
          "annotationdefaults": {
           "arrowcolor": "#2a3f5f",
           "arrowhead": 0,
           "arrowwidth": 1
          },
          "autotypenumbers": "strict",
          "coloraxis": {
           "colorbar": {
            "outlinewidth": 0,
            "ticks": ""
           }
          },
          "colorscale": {
           "diverging": [
            [
             0,
             "#8e0152"
            ],
            [
             0.1,
             "#c51b7d"
            ],
            [
             0.2,
             "#de77ae"
            ],
            [
             0.3,
             "#f1b6da"
            ],
            [
             0.4,
             "#fde0ef"
            ],
            [
             0.5,
             "#f7f7f7"
            ],
            [
             0.6,
             "#e6f5d0"
            ],
            [
             0.7,
             "#b8e186"
            ],
            [
             0.8,
             "#7fbc41"
            ],
            [
             0.9,
             "#4d9221"
            ],
            [
             1,
             "#276419"
            ]
           ],
           "sequential": [
            [
             0,
             "#0d0887"
            ],
            [
             0.1111111111111111,
             "#46039f"
            ],
            [
             0.2222222222222222,
             "#7201a8"
            ],
            [
             0.3333333333333333,
             "#9c179e"
            ],
            [
             0.4444444444444444,
             "#bd3786"
            ],
            [
             0.5555555555555556,
             "#d8576b"
            ],
            [
             0.6666666666666666,
             "#ed7953"
            ],
            [
             0.7777777777777778,
             "#fb9f3a"
            ],
            [
             0.8888888888888888,
             "#fdca26"
            ],
            [
             1,
             "#f0f921"
            ]
           ],
           "sequentialminus": [
            [
             0,
             "#0d0887"
            ],
            [
             0.1111111111111111,
             "#46039f"
            ],
            [
             0.2222222222222222,
             "#7201a8"
            ],
            [
             0.3333333333333333,
             "#9c179e"
            ],
            [
             0.4444444444444444,
             "#bd3786"
            ],
            [
             0.5555555555555556,
             "#d8576b"
            ],
            [
             0.6666666666666666,
             "#ed7953"
            ],
            [
             0.7777777777777778,
             "#fb9f3a"
            ],
            [
             0.8888888888888888,
             "#fdca26"
            ],
            [
             1,
             "#f0f921"
            ]
           ]
          },
          "colorway": [
           "#636efa",
           "#EF553B",
           "#00cc96",
           "#ab63fa",
           "#FFA15A",
           "#19d3f3",
           "#FF6692",
           "#B6E880",
           "#FF97FF",
           "#FECB52"
          ],
          "font": {
           "color": "#2a3f5f"
          },
          "geo": {
           "bgcolor": "white",
           "lakecolor": "white",
           "landcolor": "#E5ECF6",
           "showlakes": true,
           "showland": true,
           "subunitcolor": "white"
          },
          "hoverlabel": {
           "align": "left"
          },
          "hovermode": "closest",
          "mapbox": {
           "style": "light"
          },
          "paper_bgcolor": "white",
          "plot_bgcolor": "#E5ECF6",
          "polar": {
           "angularaxis": {
            "gridcolor": "white",
            "linecolor": "white",
            "ticks": ""
           },
           "bgcolor": "#E5ECF6",
           "radialaxis": {
            "gridcolor": "white",
            "linecolor": "white",
            "ticks": ""
           }
          },
          "scene": {
           "xaxis": {
            "backgroundcolor": "#E5ECF6",
            "gridcolor": "white",
            "gridwidth": 2,
            "linecolor": "white",
            "showbackground": true,
            "ticks": "",
            "zerolinecolor": "white"
           },
           "yaxis": {
            "backgroundcolor": "#E5ECF6",
            "gridcolor": "white",
            "gridwidth": 2,
            "linecolor": "white",
            "showbackground": true,
            "ticks": "",
            "zerolinecolor": "white"
           },
           "zaxis": {
            "backgroundcolor": "#E5ECF6",
            "gridcolor": "white",
            "gridwidth": 2,
            "linecolor": "white",
            "showbackground": true,
            "ticks": "",
            "zerolinecolor": "white"
           }
          },
          "shapedefaults": {
           "line": {
            "color": "#2a3f5f"
           }
          },
          "ternary": {
           "aaxis": {
            "gridcolor": "white",
            "linecolor": "white",
            "ticks": ""
           },
           "baxis": {
            "gridcolor": "white",
            "linecolor": "white",
            "ticks": ""
           },
           "bgcolor": "#E5ECF6",
           "caxis": {
            "gridcolor": "white",
            "linecolor": "white",
            "ticks": ""
           }
          },
          "title": {
           "x": 0.05
          },
          "xaxis": {
           "automargin": true,
           "gridcolor": "white",
           "linecolor": "white",
           "ticks": "",
           "title": {
            "standoff": 15
           },
           "zerolinecolor": "white",
           "zerolinewidth": 2
          },
          "yaxis": {
           "automargin": true,
           "gridcolor": "white",
           "linecolor": "white",
           "ticks": "",
           "title": {
            "standoff": 15
           },
           "zerolinecolor": "white",
           "zerolinewidth": 2
          }
         }
        },
        "title": " ",
        "xaxis": {
         "showticklabels": true,
         "title": "1 day"
        },
        "yaxis": {
         "rangemode": "tozero",
         "showticklabels": true,
         "title": ""
        }
       }
      },
      "text/html": [
       "<div\n",
       "    class=\"webio-mountpoint\"\n",
       "    data-webio-mountpoint=\"9735210928436231040\"\n",
       ">\n",
       "    <script>\n",
       "    (function(){\n",
       "    // Some integrations (namely, IJulia/Jupyter) use an alternate render pathway than\n",
       "    // just putting the html on the page. If WebIO isn't defined, then it's pretty likely\n",
       "    // that we're in one of those situations and the integration just isn't installed\n",
       "    // correctly.\n",
       "    if (typeof window.WebIO === \"undefined\") {\n",
       "        document\n",
       "            .querySelector('[data-webio-mountpoint=\"9735210928436231040\"]')\n",
       "            .innerHTML = (\n",
       "                '<div style=\"padding: 1em; background-color: #f8d6da; border: 1px solid #f5c6cb; font-weight: bold;\">' +\n",
       "                '<p><strong>WebIO not detected.</strong></p>' +\n",
       "                '<p>Please read ' +\n",
       "                '<a href=\"https://juliagizmos.github.io/WebIO.jl/latest/troubleshooting/not-detected/\" target=\"_blank\">the troubleshooting guide</a> ' +\n",
       "                'for more information on how to resolve this issue.</p>' +\n",
       "                '<p><a href=\"https://juliagizmos.github.io/WebIO.jl/latest/troubleshooting/not-detected/\" target=\"_blank\">https://juliagizmos.github.io/WebIO.jl/latest/troubleshooting/not-detected/</a></p>' +\n",
       "                '</div>'\n",
       "            );\n",
       "        return;\n",
       "    }\n",
       "    WebIO.mount(\n",
       "        document.querySelector('[data-webio-mountpoint=\"9735210928436231040\"]'),\n",
       "        {\"props\":{},\"nodeType\":\"Scope\",\"type\":\"node\",\"instanceArgs\":{\"imports\":{\"data\":[{\"name\":\"Plotly\",\"type\":\"js\",\"url\":\"\\/assetserver\\/7569978650b55b1a94db4d1901795a4a8ea96f89-plotly.min.js\"},{\"name\":null,\"type\":\"js\",\"url\":\"\\/assetserver\\/935ca4485508f7570fe321ba13edad9cea635536-plotly_webio.bundle.js\"}],\"type\":\"async_block\"},\"id\":\"3002792386643266043\",\"handlers\":{\"_toImage\":[\"(function (options){return this.Plotly.toImage(this.plotElem,options).then((function (data){return WebIO.setval({\\\"name\\\":\\\"image\\\",\\\"scope\\\":\\\"3002792386643266043\\\",\\\"id\\\":\\\"5\\\",\\\"type\\\":\\\"observable\\\"},data)}))})\"],\"__get_gd_contents\":[\"(function (prop){prop==\\\"data\\\" ? (WebIO.setval({\\\"name\\\":\\\"__gd_contents\\\",\\\"scope\\\":\\\"3002792386643266043\\\",\\\"id\\\":\\\"6\\\",\\\"type\\\":\\\"observable\\\"},this.plotElem.data)) : undefined; return prop==\\\"layout\\\" ? (WebIO.setval({\\\"name\\\":\\\"__gd_contents\\\",\\\"scope\\\":\\\"3002792386643266043\\\",\\\"id\\\":\\\"6\\\",\\\"type\\\":\\\"observable\\\"},this.plotElem.layout)) : undefined})\"],\"_downloadImage\":[\"(function (options){return this.Plotly.downloadImage(this.plotElem,options)})\"],\"_commands\":[\"(function (args){var fn=args.shift(); var elem=this.plotElem; var Plotly=this.Plotly; args.unshift(elem); return Plotly[fn].apply(this,args)})\"]},\"systemjs_options\":null,\"mount_callbacks\":[\"function () {\\n    var handler = ((function (Plotly,PlotlyWebIO){PlotlyWebIO.init(WebIO); var gd=this.dom.querySelector(\\\"#plot-4867017b-1942-4b82-badf-b13d401c0dba\\\"); this.plotElem=gd; this.Plotly=Plotly; (window.Blink!==undefined) ? (gd.style.width=\\\"100%\\\", gd.style.height=\\\"100vh\\\", gd.style.marginLeft=\\\"0%\\\", gd.style.marginTop=\\\"0vh\\\") : undefined; window.onresize=(function (){return Plotly.Plots.resize(gd)}); Plotly.newPlot(gd,[{\\\"showlegend\\\":true,\\\"mode\\\":\\\"lines\\\",\\\"line\\\":{\\\"color\\\":\\\"rgba(112, 118, 133, 1)\\\",\\\"dash\\\":\\\"solid\\\",\\\"shape\\\":\\\"linear\\\"},\\\"y\\\":[3065.8333331999997,3055.3333331999997,3065.8333331999997,3069.3333331999997,3074.5833331999997,3079.8333331999997,3092.0833331999997,3102.5833331999997,3106.0833331999997,3102.5833331999997,3086.8333331999997,3071.0833331999997,3065.8333331999997,3067.5833331999997,3048.3333331999997,3053.5833331999997,3897.5324556179344,3905.2088337651335,3783.0362214310453,3421.250124601605,3099.0833331999997,3093.8333331999997,3090.3333331999997,3088.5833331999997],\\\"type\\\":\\\"scatter\\\",\\\"name\\\":\\\"ActivePowerVariable__ThermalStandard\\\",\\\"plot\\\":{\\\"type\\\":\\\"scatter\\\"},\\\"x\\\":[\\\"2020-01-01T00:00:00\\\",\\\"2020-01-01T01:00:00\\\",\\\"2020-01-01T02:00:00\\\",\\\"2020-01-01T03:00:00\\\",\\\"2020-01-01T04:00:00\\\",\\\"2020-01-01T05:00:00\\\",\\\"2020-01-01T06:00:00\\\",\\\"2020-01-01T07:00:00\\\",\\\"2020-01-01T08:00:00\\\",\\\"2020-01-01T09:00:00\\\",\\\"2020-01-01T10:00:00\\\",\\\"2020-01-01T11:00:00\\\",\\\"2020-01-01T12:00:00\\\",\\\"2020-01-01T13:00:00\\\",\\\"2020-01-01T14:00:00\\\",\\\"2020-01-01T15:00:00\\\",\\\"2020-01-01T16:00:00\\\",\\\"2020-01-01T17:00:00\\\",\\\"2020-01-01T18:00:00\\\",\\\"2020-01-01T19:00:00\\\",\\\"2020-01-01T20:00:00\\\",\\\"2020-01-01T21:00:00\\\",\\\"2020-01-01T22:00:00\\\",\\\"2020-01-01T23:00:00\\\"]},{\\\"showlegend\\\":true,\\\"mode\\\":\\\"lines\\\",\\\"line\\\":{\\\"color\\\":\\\"rgba(91, 98, 114, 1)\\\",\\\"dash\\\":\\\"solid\\\",\\\"shape\\\":\\\"linear\\\"},\\\"y\\\":[8.857544568953715,9.04802939839358,8.857544568953715,9.04802939839358,8.857544568953715,8.66705973951385,9.04802939839358,18.000816382067224,17.619846723187496,17.619846723187496,17.81033155262736,17.619846723187496,17.81033155262736,17.81033155262736,17.81033155262736,17.81033155262736,0.0,0.0,0.0,0.0,8.857544568953715,8.857544568953715,8.66705973951385,8.857544568953715],\\\"type\\\":\\\"scatter\\\",\\\"name\\\":\\\"ActivePowerVariable__HydroDispatch__Curtailment\\\",\\\"plot\\\":{\\\"type\\\":\\\"scatter\\\"},\\\"x\\\":[\\\"2020-01-01T00:00:00\\\",\\\"2020-01-01T01:00:00\\\",\\\"2020-01-01T02:00:00\\\",\\\"2020-01-01T03:00:00\\\",\\\"2020-01-01T04:00:00\\\",\\\"2020-01-01T05:00:00\\\",\\\"2020-01-01T06:00:00\\\",\\\"2020-01-01T07:00:00\\\",\\\"2020-01-01T08:00:00\\\",\\\"2020-01-01T09:00:00\\\",\\\"2020-01-01T10:00:00\\\",\\\"2020-01-01T11:00:00\\\",\\\"2020-01-01T12:00:00\\\",\\\"2020-01-01T13:00:00\\\",\\\"2020-01-01T14:00:00\\\",\\\"2020-01-01T15:00:00\\\",\\\"2020-01-01T16:00:00\\\",\\\"2020-01-01T17:00:00\\\",\\\"2020-01-01T18:00:00\\\",\\\"2020-01-01T19:00:00\\\",\\\"2020-01-01T20:00:00\\\",\\\"2020-01-01T21:00:00\\\",\\\"2020-01-01T22:00:00\\\",\\\"2020-01-01T23:00:00\\\"]},{\\\"showlegend\\\":true,\\\"mode\\\":\\\"lines\\\",\\\"line\\\":{\\\"color\\\":\\\"rgba(24, 127, 148, 1)\\\",\\\"dash\\\":\\\"solid\\\",\\\"shape\\\":\\\"linear\\\"},\\\"y\\\":[1860.401449,2075.487510499999,1933.2606832,1860.2350121999993,1670.3249002000002,1348.3222262000018,853.0776141999991,1821.083927200001,2262.871101200001,2119.1970472,1895.2639872000022,1699.9654502000008,1646.9262672000025,1573.3771832000011,1145.872196199999,482.8724632000008,0.0,0.0,0.0,0.0,55.36419019999903,506.8164581999989,937.4177462000007,1073.6864649000013],\\\"type\\\":\\\"scatter\\\",\\\"name\\\":\\\"ActivePowerVariable__RenewableDispatch__Curtailment\\\",\\\"plot\\\":{\\\"type\\\":\\\"scatter\\\"},\\\"x\\\":[\\\"2020-01-01T00:00:00\\\",\\\"2020-01-01T01:00:00\\\",\\\"2020-01-01T02:00:00\\\",\\\"2020-01-01T03:00:00\\\",\\\"2020-01-01T04:00:00\\\",\\\"2020-01-01T05:00:00\\\",\\\"2020-01-01T06:00:00\\\",\\\"2020-01-01T07:00:00\\\",\\\"2020-01-01T08:00:00\\\",\\\"2020-01-01T09:00:00\\\",\\\"2020-01-01T10:00:00\\\",\\\"2020-01-01T11:00:00\\\",\\\"2020-01-01T12:00:00\\\",\\\"2020-01-01T13:00:00\\\",\\\"2020-01-01T14:00:00\\\",\\\"2020-01-01T15:00:00\\\",\\\"2020-01-01T16:00:00\\\",\\\"2020-01-01T17:00:00\\\",\\\"2020-01-01T18:00:00\\\",\\\"2020-01-01T19:00:00\\\",\\\"2020-01-01T20:00:00\\\",\\\"2020-01-01T21:00:00\\\",\\\"2020-01-01T22:00:00\\\",\\\"2020-01-01T23:00:00\\\"]},{\\\"showlegend\\\":true,\\\"mode\\\":\\\"lines\\\",\\\"line\\\":{\\\"color\\\":\\\"rgba(130, 0, 0, 1)\\\",\\\"dash\\\":\\\"solid\\\",\\\"shape\\\":\\\"linear\\\"},\\\"y\\\":[0.0,0.0,0.0,0.0,0.0,0.0,0.0,50.759999999999984,127.26,185.25000000000003,221.5200000000001,232.40999999999994,228.09000000000006,204.54000000000002,158.97,77.19,0.0,0.0,0.0,0.0,0.0,0.0,0.0,0.0],\\\"type\\\":\\\"scatter\\\",\\\"name\\\":\\\"ActivePowerTimeSeriesParameter__RenewableNonDispatch\\\",\\\"plot\\\":{\\\"type\\\":\\\"scatter\\\"},\\\"x\\\":[\\\"2020-01-01T00:00:00\\\",\\\"2020-01-01T01:00:00\\\",\\\"2020-01-01T02:00:00\\\",\\\"2020-01-01T03:00:00\\\",\\\"2020-01-01T04:00:00\\\",\\\"2020-01-01T05:00:00\\\",\\\"2020-01-01T06:00:00\\\",\\\"2020-01-01T07:00:00\\\",\\\"2020-01-01T08:00:00\\\",\\\"2020-01-01T09:00:00\\\",\\\"2020-01-01T10:00:00\\\",\\\"2020-01-01T11:00:00\\\",\\\"2020-01-01T12:00:00\\\",\\\"2020-01-01T13:00:00\\\",\\\"2020-01-01T14:00:00\\\",\\\"2020-01-01T15:00:00\\\",\\\"2020-01-01T16:00:00\\\",\\\"2020-01-01T17:00:00\\\",\\\"2020-01-01T18:00:00\\\",\\\"2020-01-01T19:00:00\\\",\\\"2020-01-01T20:00:00\\\",\\\"2020-01-01T21:00:00\\\",\\\"2020-01-01T22:00:00\\\",\\\"2020-01-01T23:00:00\\\"]},{\\\"showlegend\\\":true,\\\"mode\\\":\\\"lines\\\",\\\"line\\\":{\\\"color\\\":\\\"rgba(91, 152, 68, 1)\\\",\\\"dash\\\":\\\"solid\\\",\\\"shape\\\":\\\"linear\\\"},\\\"y\\\":[271.498551,205.7124895000006,181.33931680000018,195.2649878000005,328.2750997999997,592.3777737999983,856.4223858000009,833.4160727999994,769.3288987999995,744.5029527999995,714.736012799998,710.5345497999991,686.8737327999978,686.4228167999986,721.927803800001,782.027536799999,141.89999999999998,655.8,762.4999999999999,1019.1,1192.7358098000009,922.3835418000012,616.7822537999991,365.013535099999],\\\"type\\\":\\\"scatter\\\",\\\"name\\\":\\\"ActivePowerVariable__RenewableDispatch\\\",\\\"plot\\\":{\\\"type\\\":\\\"scatter\\\"},\\\"x\\\":[\\\"2020-01-01T00:00:00\\\",\\\"2020-01-01T01:00:00\\\",\\\"2020-01-01T02:00:00\\\",\\\"2020-01-01T03:00:00\\\",\\\"2020-01-01T04:00:00\\\",\\\"2020-01-01T05:00:00\\\",\\\"2020-01-01T06:00:00\\\",\\\"2020-01-01T07:00:00\\\",\\\"2020-01-01T08:00:00\\\",\\\"2020-01-01T09:00:00\\\",\\\"2020-01-01T10:00:00\\\",\\\"2020-01-01T11:00:00\\\",\\\"2020-01-01T12:00:00\\\",\\\"2020-01-01T13:00:00\\\",\\\"2020-01-01T14:00:00\\\",\\\"2020-01-01T15:00:00\\\",\\\"2020-01-01T16:00:00\\\",\\\"2020-01-01T17:00:00\\\",\\\"2020-01-01T18:00:00\\\",\\\"2020-01-01T19:00:00\\\",\\\"2020-01-01T20:00:00\\\",\\\"2020-01-01T21:00:00\\\",\\\"2020-01-01T22:00:00\\\",\\\"2020-01-01T23:00:00\\\"]},{\\\"showlegend\\\":true,\\\"mode\\\":\\\"lines\\\",\\\"line\\\":{\\\"color\\\":\\\"rgba(133, 61, 101, 1)\\\",\\\"dash\\\":\\\"solid\\\",\\\"shape\\\":\\\"linear\\\"},\\\"y\\\":[0.0,0.0,0.0,0.0,0.0,0.0,0.0,0.0,0.0,0.0,0.0,0.0,0.0,0.0,0.0,0.0,18.000816382067224,17.0483922348679,8.857544568953715,9.04802939839358,0.0,0.0,0.0,0.0],\\\"type\\\":\\\"scatter\\\",\\\"name\\\":\\\"ActivePowerVariable__HydroDispatch\\\",\\\"plot\\\":{\\\"type\\\":\\\"scatter\\\"},\\\"x\\\":[\\\"2020-01-01T00:00:00\\\",\\\"2020-01-01T01:00:00\\\",\\\"2020-01-01T02:00:00\\\",\\\"2020-01-01T03:00:00\\\",\\\"2020-01-01T04:00:00\\\",\\\"2020-01-01T05:00:00\\\",\\\"2020-01-01T06:00:00\\\",\\\"2020-01-01T07:00:00\\\",\\\"2020-01-01T08:00:00\\\",\\\"2020-01-01T09:00:00\\\",\\\"2020-01-01T10:00:00\\\",\\\"2020-01-01T11:00:00\\\",\\\"2020-01-01T12:00:00\\\",\\\"2020-01-01T13:00:00\\\",\\\"2020-01-01T14:00:00\\\",\\\"2020-01-01T15:00:00\\\",\\\"2020-01-01T16:00:00\\\",\\\"2020-01-01T17:00:00\\\",\\\"2020-01-01T18:00:00\\\",\\\"2020-01-01T19:00:00\\\",\\\"2020-01-01T20:00:00\\\",\\\"2020-01-01T21:00:00\\\",\\\"2020-01-01T22:00:00\\\",\\\"2020-01-01T23:00:00\\\"]}],{\\\"xaxis\\\":{\\\"showticklabels\\\":true,\\\"title\\\":\\\"1 day\\\"},\\\"template\\\":{\\\"layout\\\":{\\\"coloraxis\\\":{\\\"colorbar\\\":{\\\"ticks\\\":\\\"\\\",\\\"outlinewidth\\\":0}},\\\"xaxis\\\":{\\\"gridcolor\\\":\\\"white\\\",\\\"zerolinewidth\\\":2,\\\"title\\\":{\\\"standoff\\\":15},\\\"ticks\\\":\\\"\\\",\\\"zerolinecolor\\\":\\\"white\\\",\\\"automargin\\\":true,\\\"linecolor\\\":\\\"white\\\"},\\\"hovermode\\\":\\\"closest\\\",\\\"paper_bgcolor\\\":\\\"white\\\",\\\"geo\\\":{\\\"showlakes\\\":true,\\\"showland\\\":true,\\\"landcolor\\\":\\\"#E5ECF6\\\",\\\"bgcolor\\\":\\\"white\\\",\\\"subunitcolor\\\":\\\"white\\\",\\\"lakecolor\\\":\\\"white\\\"},\\\"colorscale\\\":{\\\"sequential\\\":[[0.0,\\\"#0d0887\\\"],[0.1111111111111111,\\\"#46039f\\\"],[0.2222222222222222,\\\"#7201a8\\\"],[0.3333333333333333,\\\"#9c179e\\\"],[0.4444444444444444,\\\"#bd3786\\\"],[0.5555555555555556,\\\"#d8576b\\\"],[0.6666666666666666,\\\"#ed7953\\\"],[0.7777777777777778,\\\"#fb9f3a\\\"],[0.8888888888888888,\\\"#fdca26\\\"],[1.0,\\\"#f0f921\\\"]],\\\"diverging\\\":[[0,\\\"#8e0152\\\"],[0.1,\\\"#c51b7d\\\"],[0.2,\\\"#de77ae\\\"],[0.3,\\\"#f1b6da\\\"],[0.4,\\\"#fde0ef\\\"],[0.5,\\\"#f7f7f7\\\"],[0.6,\\\"#e6f5d0\\\"],[0.7,\\\"#b8e186\\\"],[0.8,\\\"#7fbc41\\\"],[0.9,\\\"#4d9221\\\"],[1,\\\"#276419\\\"]],\\\"sequentialminus\\\":[[0.0,\\\"#0d0887\\\"],[0.1111111111111111,\\\"#46039f\\\"],[0.2222222222222222,\\\"#7201a8\\\"],[0.3333333333333333,\\\"#9c179e\\\"],[0.4444444444444444,\\\"#bd3786\\\"],[0.5555555555555556,\\\"#d8576b\\\"],[0.6666666666666666,\\\"#ed7953\\\"],[0.7777777777777778,\\\"#fb9f3a\\\"],[0.8888888888888888,\\\"#fdca26\\\"],[1.0,\\\"#f0f921\\\"]]},\\\"yaxis\\\":{\\\"gridcolor\\\":\\\"white\\\",\\\"zerolinewidth\\\":2,\\\"title\\\":{\\\"standoff\\\":15},\\\"ticks\\\":\\\"\\\",\\\"zerolinecolor\\\":\\\"white\\\",\\\"automargin\\\":true,\\\"linecolor\\\":\\\"white\\\"},\\\"shapedefaults\\\":{\\\"line\\\":{\\\"color\\\":\\\"#2a3f5f\\\"}},\\\"hoverlabel\\\":{\\\"align\\\":\\\"left\\\"},\\\"mapbox\\\":{\\\"style\\\":\\\"light\\\"},\\\"polar\\\":{\\\"angularaxis\\\":{\\\"gridcolor\\\":\\\"white\\\",\\\"ticks\\\":\\\"\\\",\\\"linecolor\\\":\\\"white\\\"},\\\"bgcolor\\\":\\\"#E5ECF6\\\",\\\"radialaxis\\\":{\\\"gridcolor\\\":\\\"white\\\",\\\"ticks\\\":\\\"\\\",\\\"linecolor\\\":\\\"white\\\"}},\\\"autotypenumbers\\\":\\\"strict\\\",\\\"font\\\":{\\\"color\\\":\\\"#2a3f5f\\\"},\\\"ternary\\\":{\\\"baxis\\\":{\\\"gridcolor\\\":\\\"white\\\",\\\"ticks\\\":\\\"\\\",\\\"linecolor\\\":\\\"white\\\"},\\\"bgcolor\\\":\\\"#E5ECF6\\\",\\\"caxis\\\":{\\\"gridcolor\\\":\\\"white\\\",\\\"ticks\\\":\\\"\\\",\\\"linecolor\\\":\\\"white\\\"},\\\"aaxis\\\":{\\\"gridcolor\\\":\\\"white\\\",\\\"ticks\\\":\\\"\\\",\\\"linecolor\\\":\\\"white\\\"}},\\\"annotationdefaults\\\":{\\\"arrowhead\\\":0,\\\"arrowwidth\\\":1,\\\"arrowcolor\\\":\\\"#2a3f5f\\\"},\\\"plot_bgcolor\\\":\\\"#E5ECF6\\\",\\\"title\\\":{\\\"x\\\":0.05},\\\"scene\\\":{\\\"xaxis\\\":{\\\"gridcolor\\\":\\\"white\\\",\\\"gridwidth\\\":2,\\\"backgroundcolor\\\":\\\"#E5ECF6\\\",\\\"ticks\\\":\\\"\\\",\\\"showbackground\\\":true,\\\"zerolinecolor\\\":\\\"white\\\",\\\"linecolor\\\":\\\"white\\\"},\\\"zaxis\\\":{\\\"gridcolor\\\":\\\"white\\\",\\\"gridwidth\\\":2,\\\"backgroundcolor\\\":\\\"#E5ECF6\\\",\\\"ticks\\\":\\\"\\\",\\\"showbackground\\\":true,\\\"zerolinecolor\\\":\\\"white\\\",\\\"linecolor\\\":\\\"white\\\"},\\\"yaxis\\\":{\\\"gridcolor\\\":\\\"white\\\",\\\"gridwidth\\\":2,\\\"backgroundcolor\\\":\\\"#E5ECF6\\\",\\\"ticks\\\":\\\"\\\",\\\"showbackground\\\":true,\\\"zerolinecolor\\\":\\\"white\\\",\\\"linecolor\\\":\\\"white\\\"}},\\\"colorway\\\":[\\\"#636efa\\\",\\\"#EF553B\\\",\\\"#00cc96\\\",\\\"#ab63fa\\\",\\\"#FFA15A\\\",\\\"#19d3f3\\\",\\\"#FF6692\\\",\\\"#B6E880\\\",\\\"#FF97FF\\\",\\\"#FECB52\\\"]},\\\"data\\\":{\\\"barpolar\\\":[{\\\"type\\\":\\\"barpolar\\\",\\\"marker\\\":{\\\"line\\\":{\\\"color\\\":\\\"#E5ECF6\\\",\\\"width\\\":0.5}}}],\\\"carpet\\\":[{\\\"aaxis\\\":{\\\"gridcolor\\\":\\\"white\\\",\\\"endlinecolor\\\":\\\"#2a3f5f\\\",\\\"minorgridcolor\\\":\\\"white\\\",\\\"startlinecolor\\\":\\\"#2a3f5f\\\",\\\"linecolor\\\":\\\"white\\\"},\\\"type\\\":\\\"carpet\\\",\\\"baxis\\\":{\\\"gridcolor\\\":\\\"white\\\",\\\"endlinecolor\\\":\\\"#2a3f5f\\\",\\\"minorgridcolor\\\":\\\"white\\\",\\\"startlinecolor\\\":\\\"#2a3f5f\\\",\\\"linecolor\\\":\\\"white\\\"}}],\\\"scatterpolar\\\":[{\\\"type\\\":\\\"scatterpolar\\\",\\\"marker\\\":{\\\"colorbar\\\":{\\\"ticks\\\":\\\"\\\",\\\"outlinewidth\\\":0}}}],\\\"parcoords\\\":[{\\\"line\\\":{\\\"colorbar\\\":{\\\"ticks\\\":\\\"\\\",\\\"outlinewidth\\\":0}},\\\"type\\\":\\\"parcoords\\\"}],\\\"scatter\\\":[{\\\"type\\\":\\\"scatter\\\",\\\"marker\\\":{\\\"colorbar\\\":{\\\"ticks\\\":\\\"\\\",\\\"outlinewidth\\\":0}}}],\\\"histogram2dcontour\\\":[{\\\"colorbar\\\":{\\\"ticks\\\":\\\"\\\",\\\"outlinewidth\\\":0},\\\"type\\\":\\\"histogram2dcontour\\\",\\\"colorscale\\\":[[0.0,\\\"#0d0887\\\"],[0.1111111111111111,\\\"#46039f\\\"],[0.2222222222222222,\\\"#7201a8\\\"],[0.3333333333333333,\\\"#9c179e\\\"],[0.4444444444444444,\\\"#bd3786\\\"],[0.5555555555555556,\\\"#d8576b\\\"],[0.6666666666666666,\\\"#ed7953\\\"],[0.7777777777777778,\\\"#fb9f3a\\\"],[0.8888888888888888,\\\"#fdca26\\\"],[1.0,\\\"#f0f921\\\"]]}],\\\"contour\\\":[{\\\"colorbar\\\":{\\\"ticks\\\":\\\"\\\",\\\"outlinewidth\\\":0},\\\"type\\\":\\\"contour\\\",\\\"colorscale\\\":[[0.0,\\\"#0d0887\\\"],[0.1111111111111111,\\\"#46039f\\\"],[0.2222222222222222,\\\"#7201a8\\\"],[0.3333333333333333,\\\"#9c179e\\\"],[0.4444444444444444,\\\"#bd3786\\\"],[0.5555555555555556,\\\"#d8576b\\\"],[0.6666666666666666,\\\"#ed7953\\\"],[0.7777777777777778,\\\"#fb9f3a\\\"],[0.8888888888888888,\\\"#fdca26\\\"],[1.0,\\\"#f0f921\\\"]]}],\\\"scattercarpet\\\":[{\\\"type\\\":\\\"scattercarpet\\\",\\\"marker\\\":{\\\"colorbar\\\":{\\\"ticks\\\":\\\"\\\",\\\"outlinewidth\\\":0}}}],\\\"mesh3d\\\":[{\\\"colorbar\\\":{\\\"ticks\\\":\\\"\\\",\\\"outlinewidth\\\":0},\\\"type\\\":\\\"mesh3d\\\"}],\\\"surface\\\":[{\\\"colorbar\\\":{\\\"ticks\\\":\\\"\\\",\\\"outlinewidth\\\":0},\\\"type\\\":\\\"surface\\\",\\\"colorscale\\\":[[0.0,\\\"#0d0887\\\"],[0.1111111111111111,\\\"#46039f\\\"],[0.2222222222222222,\\\"#7201a8\\\"],[0.3333333333333333,\\\"#9c179e\\\"],[0.4444444444444444,\\\"#bd3786\\\"],[0.5555555555555556,\\\"#d8576b\\\"],[0.6666666666666666,\\\"#ed7953\\\"],[0.7777777777777778,\\\"#fb9f3a\\\"],[0.8888888888888888,\\\"#fdca26\\\"],[1.0,\\\"#f0f921\\\"]]}],\\\"scattermapbox\\\":[{\\\"type\\\":\\\"scattermapbox\\\",\\\"marker\\\":{\\\"colorbar\\\":{\\\"ticks\\\":\\\"\\\",\\\"outlinewidth\\\":0}}}],\\\"scattergeo\\\":[{\\\"type\\\":\\\"scattergeo\\\",\\\"marker\\\":{\\\"colorbar\\\":{\\\"ticks\\\":\\\"\\\",\\\"outlinewidth\\\":0}}}],\\\"histogram\\\":[{\\\"type\\\":\\\"histogram\\\",\\\"marker\\\":{\\\"colorbar\\\":{\\\"ticks\\\":\\\"\\\",\\\"outlinewidth\\\":0}}}],\\\"pie\\\":[{\\\"type\\\":\\\"pie\\\",\\\"automargin\\\":true}],\\\"choropleth\\\":[{\\\"colorbar\\\":{\\\"ticks\\\":\\\"\\\",\\\"outlinewidth\\\":0},\\\"type\\\":\\\"choropleth\\\"}],\\\"heatmapgl\\\":[{\\\"colorbar\\\":{\\\"ticks\\\":\\\"\\\",\\\"outlinewidth\\\":0},\\\"type\\\":\\\"heatmapgl\\\",\\\"colorscale\\\":[[0.0,\\\"#0d0887\\\"],[0.1111111111111111,\\\"#46039f\\\"],[0.2222222222222222,\\\"#7201a8\\\"],[0.3333333333333333,\\\"#9c179e\\\"],[0.4444444444444444,\\\"#bd3786\\\"],[0.5555555555555556,\\\"#d8576b\\\"],[0.6666666666666666,\\\"#ed7953\\\"],[0.7777777777777778,\\\"#fb9f3a\\\"],[0.8888888888888888,\\\"#fdca26\\\"],[1.0,\\\"#f0f921\\\"]]}],\\\"bar\\\":[{\\\"type\\\":\\\"bar\\\",\\\"error_y\\\":{\\\"color\\\":\\\"#2a3f5f\\\"},\\\"error_x\\\":{\\\"color\\\":\\\"#2a3f5f\\\"},\\\"marker\\\":{\\\"line\\\":{\\\"color\\\":\\\"#E5ECF6\\\",\\\"width\\\":0.5}}}],\\\"heatmap\\\":[{\\\"colorbar\\\":{\\\"ticks\\\":\\\"\\\",\\\"outlinewidth\\\":0},\\\"type\\\":\\\"heatmap\\\",\\\"colorscale\\\":[[0.0,\\\"#0d0887\\\"],[0.1111111111111111,\\\"#46039f\\\"],[0.2222222222222222,\\\"#7201a8\\\"],[0.3333333333333333,\\\"#9c179e\\\"],[0.4444444444444444,\\\"#bd3786\\\"],[0.5555555555555556,\\\"#d8576b\\\"],[0.6666666666666666,\\\"#ed7953\\\"],[0.7777777777777778,\\\"#fb9f3a\\\"],[0.8888888888888888,\\\"#fdca26\\\"],[1.0,\\\"#f0f921\\\"]]}],\\\"contourcarpet\\\":[{\\\"colorbar\\\":{\\\"ticks\\\":\\\"\\\",\\\"outlinewidth\\\":0},\\\"type\\\":\\\"contourcarpet\\\"}],\\\"table\\\":[{\\\"type\\\":\\\"table\\\",\\\"header\\\":{\\\"line\\\":{\\\"color\\\":\\\"white\\\"},\\\"fill\\\":{\\\"color\\\":\\\"#C8D4E3\\\"}},\\\"cells\\\":{\\\"line\\\":{\\\"color\\\":\\\"white\\\"},\\\"fill\\\":{\\\"color\\\":\\\"#EBF0F8\\\"}}}],\\\"scatter3d\\\":[{\\\"line\\\":{\\\"colorbar\\\":{\\\"ticks\\\":\\\"\\\",\\\"outlinewidth\\\":0}},\\\"type\\\":\\\"scatter3d\\\",\\\"marker\\\":{\\\"colorbar\\\":{\\\"ticks\\\":\\\"\\\",\\\"outlinewidth\\\":0}}}],\\\"scattergl\\\":[{\\\"type\\\":\\\"scattergl\\\",\\\"marker\\\":{\\\"colorbar\\\":{\\\"ticks\\\":\\\"\\\",\\\"outlinewidth\\\":0}}}],\\\"histogram2d\\\":[{\\\"colorbar\\\":{\\\"ticks\\\":\\\"\\\",\\\"outlinewidth\\\":0},\\\"type\\\":\\\"histogram2d\\\",\\\"colorscale\\\":[[0.0,\\\"#0d0887\\\"],[0.1111111111111111,\\\"#46039f\\\"],[0.2222222222222222,\\\"#7201a8\\\"],[0.3333333333333333,\\\"#9c179e\\\"],[0.4444444444444444,\\\"#bd3786\\\"],[0.5555555555555556,\\\"#d8576b\\\"],[0.6666666666666666,\\\"#ed7953\\\"],[0.7777777777777778,\\\"#fb9f3a\\\"],[0.8888888888888888,\\\"#fdca26\\\"],[1.0,\\\"#f0f921\\\"]]}],\\\"scatterternary\\\":[{\\\"type\\\":\\\"scatterternary\\\",\\\"marker\\\":{\\\"colorbar\\\":{\\\"ticks\\\":\\\"\\\",\\\"outlinewidth\\\":0}}}],\\\"scatterpolargl\\\":[{\\\"type\\\":\\\"scatterpolargl\\\",\\\"marker\\\":{\\\"colorbar\\\":{\\\"ticks\\\":\\\"\\\",\\\"outlinewidth\\\":0}}}]}},\\\"barmode\\\":\\\"group\\\",\\\"margin\\\":{\\\"l\\\":50,\\\"b\\\":50,\\\"r\\\":50,\\\"t\\\":60},\\\"title\\\":\\\" \\\",\\\"yaxis\\\":{\\\"showticklabels\\\":true,\\\"rangemode\\\":\\\"tozero\\\",\\\"title\\\":\\\"\\\"},\\\"set\\\":{\\\"display\\\":false}},{\\\"showLink\\\":false,\\\"editable\\\":false,\\\"responsive\\\":true,\\\"staticPlot\\\":false,\\\"scrollZoom\\\":true}); gd.on(\\\"plotly_hover\\\",(function (data){var filtered_data=WebIO.PlotlyCommands.filterEventData(gd,data,\\\"hover\\\"); return !(filtered_data.isnil) ? (WebIO.setval({\\\"name\\\":\\\"hover\\\",\\\"scope\\\":\\\"3002792386643266043\\\",\\\"id\\\":\\\"1\\\",\\\"type\\\":\\\"observable\\\"},filtered_data.out)) : undefined})); gd.on(\\\"plotly_unhover\\\",(function (){return WebIO.setval({\\\"name\\\":\\\"hover\\\",\\\"scope\\\":\\\"3002792386643266043\\\",\\\"id\\\":\\\"1\\\",\\\"type\\\":\\\"observable\\\"},{})})); gd.on(\\\"plotly_selected\\\",(function (data){var filtered_data=WebIO.PlotlyCommands.filterEventData(gd,data,\\\"selected\\\"); return !(filtered_data.isnil) ? (WebIO.setval({\\\"name\\\":\\\"selected\\\",\\\"scope\\\":\\\"3002792386643266043\\\",\\\"id\\\":\\\"2\\\",\\\"type\\\":\\\"observable\\\"},filtered_data.out)) : undefined})); gd.on(\\\"plotly_deselect\\\",(function (){return WebIO.setval({\\\"name\\\":\\\"selected\\\",\\\"scope\\\":\\\"3002792386643266043\\\",\\\"id\\\":\\\"2\\\",\\\"type\\\":\\\"observable\\\"},{})})); gd.on(\\\"plotly_relayout\\\",(function (data){var filtered_data=WebIO.PlotlyCommands.filterEventData(gd,data,\\\"relayout\\\"); return !(filtered_data.isnil) ? (WebIO.setval({\\\"name\\\":\\\"relayout\\\",\\\"scope\\\":\\\"3002792386643266043\\\",\\\"id\\\":\\\"4\\\",\\\"type\\\":\\\"observable\\\"},filtered_data.out)) : undefined})); return gd.on(\\\"plotly_click\\\",(function (data){var filtered_data=WebIO.PlotlyCommands.filterEventData(gd,data,\\\"click\\\"); return !(filtered_data.isnil) ? (WebIO.setval({\\\"name\\\":\\\"click\\\",\\\"scope\\\":\\\"3002792386643266043\\\",\\\"id\\\":\\\"3\\\",\\\"type\\\":\\\"observable\\\"},filtered_data.out)) : undefined}))}));\\n    (WebIO.importBlock({\\\"data\\\":[{\\\"name\\\":\\\"Plotly\\\",\\\"type\\\":\\\"js\\\",\\\"url\\\":\\\"\\/assetserver\\/7569978650b55b1a94db4d1901795a4a8ea96f89-plotly.min.js\\\"},{\\\"name\\\":null,\\\"type\\\":\\\"js\\\",\\\"url\\\":\\\"\\/assetserver\\/935ca4485508f7570fe321ba13edad9cea635536-plotly_webio.bundle.js\\\"}],\\\"type\\\":\\\"async_block\\\"})).then((imports) => handler.apply(this, imports));\\n}\\n\"],\"observables\":{\"_toImage\":{\"sync\":false,\"id\":\"8\",\"value\":{}},\"hover\":{\"sync\":false,\"id\":\"1\",\"value\":{}},\"selected\":{\"sync\":false,\"id\":\"2\",\"value\":{}},\"__gd_contents\":{\"sync\":false,\"id\":\"6\",\"value\":{}},\"click\":{\"sync\":false,\"id\":\"3\",\"value\":{}},\"image\":{\"sync\":true,\"id\":\"5\",\"value\":\"\"},\"__get_gd_contents\":{\"sync\":false,\"id\":\"10\",\"value\":\"\"},\"_downloadImage\":{\"sync\":false,\"id\":\"9\",\"value\":{}},\"relayout\":{\"sync\":false,\"id\":\"4\",\"value\":{}},\"_commands\":{\"sync\":false,\"id\":\"7\",\"value\":[]}}},\"children\":[{\"props\":{\"id\":\"plot-4867017b-1942-4b82-badf-b13d401c0dba\"},\"nodeType\":\"DOM\",\"type\":\"node\",\"instanceArgs\":{\"namespace\":\"html\",\"tag\":\"div\"},\"children\":[]}]},\n",
       "        window,\n",
       "    );\n",
       "    })()\n",
       "    </script>\n",
       "</div>\n"
      ],
      "text/plain": [
       "data: [\n",
       "  \"scatter with fields line, mode, name, plot, showlegend, type, x, and y\",\n",
       "  \"scatter with fields line, mode, name, plot, showlegend, type, x, and y\",\n",
       "  \"scatter with fields line, mode, name, plot, showlegend, type, x, and y\",\n",
       "  \"scatter with fields line, mode, name, plot, showlegend, type, x, and y\",\n",
       "  \"scatter with fields line, mode, name, plot, showlegend, type, x, and y\",\n",
       "  \"scatter with fields line, mode, name, plot, showlegend, type, x, and y\"\n",
       "]\n",
       "\n",
       "layout: \"layout with fields barmode, margin, set, template, title, xaxis, and yaxis\"\n",
       "\n"
      ]
     },
     "metadata": {},
     "output_type": "display_data"
    },
    {
     "data": {
      "application/vnd.plotly.v1+json": {
       "config": {
        "editable": false,
        "responsive": true,
        "scrollZoom": true,
        "showLink": false,
        "staticPlot": false
       },
       "data": [
        {
         "line": {
          "color": "rgba(112, 118, 133, 1)",
          "dash": "solid",
          "shape": "linear"
         },
         "mode": "lines",
         "name": "ActivePowerVariable__ThermalStandard",
         "plot": {
          "type": "scatter"
         },
         "showlegend": true,
         "type": "scatter",
         "x": [
          "2020-01-01T00:00:00",
          "2020-01-01T01:00:00",
          "2020-01-01T02:00:00",
          "2020-01-01T03:00:00",
          "2020-01-01T04:00:00",
          "2020-01-01T05:00:00",
          "2020-01-01T06:00:00",
          "2020-01-01T07:00:00",
          "2020-01-01T08:00:00",
          "2020-01-01T09:00:00",
          "2020-01-01T10:00:00",
          "2020-01-01T11:00:00",
          "2020-01-01T12:00:00",
          "2020-01-01T13:00:00",
          "2020-01-01T14:00:00",
          "2020-01-01T15:00:00",
          "2020-01-01T16:00:00",
          "2020-01-01T17:00:00",
          "2020-01-01T18:00:00",
          "2020-01-01T19:00:00",
          "2020-01-01T20:00:00",
          "2020-01-01T21:00:00",
          "2020-01-01T22:00:00",
          "2020-01-01T23:00:00"
         ],
         "y": [
          3065.8333331999997,
          3055.3333331999997,
          3065.8333331999997,
          3069.3333331999997,
          3074.5833331999997,
          3079.8333331999997,
          3092.0833331999997,
          3102.5833331999997,
          3106.0833331999997,
          3102.5833331999997,
          3086.8333331999997,
          3071.0833331999997,
          3065.8333331999997,
          3067.5833331999997,
          3048.3333331999997,
          3053.5833331999997,
          3897.5324556179344,
          3905.2088337651335,
          3783.0362214310453,
          3421.250124601605,
          3099.0833331999997,
          3093.8333331999997,
          3090.3333331999997,
          3088.5833331999997
         ]
        },
        {
         "line": {
          "color": "rgba(91, 98, 114, 1)",
          "dash": "solid",
          "shape": "linear"
         },
         "mode": "lines",
         "name": "ActivePowerVariable__HydroDispatch__Curtailment",
         "plot": {
          "type": "scatter"
         },
         "showlegend": true,
         "type": "scatter",
         "x": [
          "2020-01-01T00:00:00",
          "2020-01-01T01:00:00",
          "2020-01-01T02:00:00",
          "2020-01-01T03:00:00",
          "2020-01-01T04:00:00",
          "2020-01-01T05:00:00",
          "2020-01-01T06:00:00",
          "2020-01-01T07:00:00",
          "2020-01-01T08:00:00",
          "2020-01-01T09:00:00",
          "2020-01-01T10:00:00",
          "2020-01-01T11:00:00",
          "2020-01-01T12:00:00",
          "2020-01-01T13:00:00",
          "2020-01-01T14:00:00",
          "2020-01-01T15:00:00",
          "2020-01-01T16:00:00",
          "2020-01-01T17:00:00",
          "2020-01-01T18:00:00",
          "2020-01-01T19:00:00",
          "2020-01-01T20:00:00",
          "2020-01-01T21:00:00",
          "2020-01-01T22:00:00",
          "2020-01-01T23:00:00"
         ],
         "y": [
          8.857544568953715,
          9.04802939839358,
          8.857544568953715,
          9.04802939839358,
          8.857544568953715,
          8.66705973951385,
          9.04802939839358,
          18.000816382067224,
          17.619846723187496,
          17.619846723187496,
          17.81033155262736,
          17.619846723187496,
          17.81033155262736,
          17.81033155262736,
          17.81033155262736,
          17.81033155262736,
          0,
          0,
          0,
          0,
          8.857544568953715,
          8.857544568953715,
          8.66705973951385,
          8.857544568953715
         ]
        },
        {
         "line": {
          "color": "rgba(24, 127, 148, 1)",
          "dash": "solid",
          "shape": "linear"
         },
         "mode": "lines",
         "name": "ActivePowerVariable__RenewableDispatch__Curtailment",
         "plot": {
          "type": "scatter"
         },
         "showlegend": true,
         "type": "scatter",
         "x": [
          "2020-01-01T00:00:00",
          "2020-01-01T01:00:00",
          "2020-01-01T02:00:00",
          "2020-01-01T03:00:00",
          "2020-01-01T04:00:00",
          "2020-01-01T05:00:00",
          "2020-01-01T06:00:00",
          "2020-01-01T07:00:00",
          "2020-01-01T08:00:00",
          "2020-01-01T09:00:00",
          "2020-01-01T10:00:00",
          "2020-01-01T11:00:00",
          "2020-01-01T12:00:00",
          "2020-01-01T13:00:00",
          "2020-01-01T14:00:00",
          "2020-01-01T15:00:00",
          "2020-01-01T16:00:00",
          "2020-01-01T17:00:00",
          "2020-01-01T18:00:00",
          "2020-01-01T19:00:00",
          "2020-01-01T20:00:00",
          "2020-01-01T21:00:00",
          "2020-01-01T22:00:00",
          "2020-01-01T23:00:00"
         ],
         "y": [
          1860.401449,
          2075.487510499999,
          1933.2606832,
          1860.2350121999993,
          1670.3249002000002,
          1348.3222262000018,
          853.0776141999991,
          1821.083927200001,
          2262.871101200001,
          2119.1970472,
          1895.2639872000022,
          1699.9654502000008,
          1646.9262672000025,
          1573.3771832000011,
          1145.872196199999,
          482.8724632000008,
          0,
          0,
          0,
          0,
          55.36419019999903,
          506.8164581999989,
          937.4177462000007,
          1073.6864649000013
         ]
        },
        {
         "line": {
          "color": "rgba(130, 0, 0, 1)",
          "dash": "solid",
          "shape": "linear"
         },
         "mode": "lines",
         "name": "ActivePowerTimeSeriesParameter__RenewableNonDispatch",
         "plot": {
          "type": "scatter"
         },
         "showlegend": true,
         "type": "scatter",
         "x": [
          "2020-01-01T00:00:00",
          "2020-01-01T01:00:00",
          "2020-01-01T02:00:00",
          "2020-01-01T03:00:00",
          "2020-01-01T04:00:00",
          "2020-01-01T05:00:00",
          "2020-01-01T06:00:00",
          "2020-01-01T07:00:00",
          "2020-01-01T08:00:00",
          "2020-01-01T09:00:00",
          "2020-01-01T10:00:00",
          "2020-01-01T11:00:00",
          "2020-01-01T12:00:00",
          "2020-01-01T13:00:00",
          "2020-01-01T14:00:00",
          "2020-01-01T15:00:00",
          "2020-01-01T16:00:00",
          "2020-01-01T17:00:00",
          "2020-01-01T18:00:00",
          "2020-01-01T19:00:00",
          "2020-01-01T20:00:00",
          "2020-01-01T21:00:00",
          "2020-01-01T22:00:00",
          "2020-01-01T23:00:00"
         ],
         "y": [
          0,
          0,
          0,
          0,
          0,
          0,
          0,
          50.759999999999984,
          127.26,
          185.25000000000003,
          221.5200000000001,
          232.40999999999994,
          228.09000000000006,
          204.54000000000002,
          158.97,
          77.19,
          0,
          0,
          0,
          0,
          0,
          0,
          0,
          0
         ]
        },
        {
         "line": {
          "color": "rgba(91, 152, 68, 1)",
          "dash": "solid",
          "shape": "linear"
         },
         "mode": "lines",
         "name": "ActivePowerVariable__RenewableDispatch",
         "plot": {
          "type": "scatter"
         },
         "showlegend": true,
         "type": "scatter",
         "x": [
          "2020-01-01T00:00:00",
          "2020-01-01T01:00:00",
          "2020-01-01T02:00:00",
          "2020-01-01T03:00:00",
          "2020-01-01T04:00:00",
          "2020-01-01T05:00:00",
          "2020-01-01T06:00:00",
          "2020-01-01T07:00:00",
          "2020-01-01T08:00:00",
          "2020-01-01T09:00:00",
          "2020-01-01T10:00:00",
          "2020-01-01T11:00:00",
          "2020-01-01T12:00:00",
          "2020-01-01T13:00:00",
          "2020-01-01T14:00:00",
          "2020-01-01T15:00:00",
          "2020-01-01T16:00:00",
          "2020-01-01T17:00:00",
          "2020-01-01T18:00:00",
          "2020-01-01T19:00:00",
          "2020-01-01T20:00:00",
          "2020-01-01T21:00:00",
          "2020-01-01T22:00:00",
          "2020-01-01T23:00:00"
         ],
         "y": [
          271.498551,
          205.7124895000006,
          181.33931680000018,
          195.2649878000005,
          328.2750997999997,
          592.3777737999983,
          856.4223858000009,
          833.4160727999994,
          769.3288987999995,
          744.5029527999995,
          714.736012799998,
          710.5345497999991,
          686.8737327999978,
          686.4228167999986,
          721.927803800001,
          782.027536799999,
          141.89999999999998,
          655.8,
          762.4999999999999,
          1019.1,
          1192.7358098000009,
          922.3835418000012,
          616.7822537999991,
          365.013535099999
         ]
        },
        {
         "line": {
          "color": "rgba(133, 61, 101, 1)",
          "dash": "solid",
          "shape": "linear"
         },
         "mode": "lines",
         "name": "ActivePowerVariable__HydroDispatch",
         "plot": {
          "type": "scatter"
         },
         "showlegend": true,
         "type": "scatter",
         "x": [
          "2020-01-01T00:00:00",
          "2020-01-01T01:00:00",
          "2020-01-01T02:00:00",
          "2020-01-01T03:00:00",
          "2020-01-01T04:00:00",
          "2020-01-01T05:00:00",
          "2020-01-01T06:00:00",
          "2020-01-01T07:00:00",
          "2020-01-01T08:00:00",
          "2020-01-01T09:00:00",
          "2020-01-01T10:00:00",
          "2020-01-01T11:00:00",
          "2020-01-01T12:00:00",
          "2020-01-01T13:00:00",
          "2020-01-01T14:00:00",
          "2020-01-01T15:00:00",
          "2020-01-01T16:00:00",
          "2020-01-01T17:00:00",
          "2020-01-01T18:00:00",
          "2020-01-01T19:00:00",
          "2020-01-01T20:00:00",
          "2020-01-01T21:00:00",
          "2020-01-01T22:00:00",
          "2020-01-01T23:00:00"
         ],
         "y": [
          0,
          0,
          0,
          0,
          0,
          0,
          0,
          0,
          0,
          0,
          0,
          0,
          0,
          0,
          0,
          0,
          18.000816382067224,
          17.0483922348679,
          8.857544568953715,
          9.04802939839358,
          0,
          0,
          0,
          0
         ]
        }
       ],
       "frames": [],
       "layout": {
        "barmode": "group",
        "margin": {
         "b": 50,
         "l": 50,
         "r": 50,
         "t": 60
        },
        "set": {
         "display": false
        },
        "template": {
         "data": {
          "bar": [
           {
            "error_x": {
             "color": "#2a3f5f"
            },
            "error_y": {
             "color": "#2a3f5f"
            },
            "marker": {
             "line": {
              "color": "#E5ECF6",
              "width": 0.5
             }
            },
            "type": "bar"
           }
          ],
          "barpolar": [
           {
            "marker": {
             "line": {
              "color": "#E5ECF6",
              "width": 0.5
             }
            },
            "type": "barpolar"
           }
          ],
          "carpet": [
           {
            "aaxis": {
             "endlinecolor": "#2a3f5f",
             "gridcolor": "white",
             "linecolor": "white",
             "minorgridcolor": "white",
             "startlinecolor": "#2a3f5f"
            },
            "baxis": {
             "endlinecolor": "#2a3f5f",
             "gridcolor": "white",
             "linecolor": "white",
             "minorgridcolor": "white",
             "startlinecolor": "#2a3f5f"
            },
            "type": "carpet"
           }
          ],
          "choropleth": [
           {
            "colorbar": {
             "outlinewidth": 0,
             "ticks": ""
            },
            "type": "choropleth"
           }
          ],
          "contour": [
           {
            "colorbar": {
             "outlinewidth": 0,
             "ticks": ""
            },
            "colorscale": [
             [
              0,
              "#0d0887"
             ],
             [
              0.1111111111111111,
              "#46039f"
             ],
             [
              0.2222222222222222,
              "#7201a8"
             ],
             [
              0.3333333333333333,
              "#9c179e"
             ],
             [
              0.4444444444444444,
              "#bd3786"
             ],
             [
              0.5555555555555556,
              "#d8576b"
             ],
             [
              0.6666666666666666,
              "#ed7953"
             ],
             [
              0.7777777777777778,
              "#fb9f3a"
             ],
             [
              0.8888888888888888,
              "#fdca26"
             ],
             [
              1,
              "#f0f921"
             ]
            ],
            "type": "contour"
           }
          ],
          "contourcarpet": [
           {
            "colorbar": {
             "outlinewidth": 0,
             "ticks": ""
            },
            "type": "contourcarpet"
           }
          ],
          "heatmap": [
           {
            "colorbar": {
             "outlinewidth": 0,
             "ticks": ""
            },
            "colorscale": [
             [
              0,
              "#0d0887"
             ],
             [
              0.1111111111111111,
              "#46039f"
             ],
             [
              0.2222222222222222,
              "#7201a8"
             ],
             [
              0.3333333333333333,
              "#9c179e"
             ],
             [
              0.4444444444444444,
              "#bd3786"
             ],
             [
              0.5555555555555556,
              "#d8576b"
             ],
             [
              0.6666666666666666,
              "#ed7953"
             ],
             [
              0.7777777777777778,
              "#fb9f3a"
             ],
             [
              0.8888888888888888,
              "#fdca26"
             ],
             [
              1,
              "#f0f921"
             ]
            ],
            "type": "heatmap"
           }
          ],
          "heatmapgl": [
           {
            "colorbar": {
             "outlinewidth": 0,
             "ticks": ""
            },
            "colorscale": [
             [
              0,
              "#0d0887"
             ],
             [
              0.1111111111111111,
              "#46039f"
             ],
             [
              0.2222222222222222,
              "#7201a8"
             ],
             [
              0.3333333333333333,
              "#9c179e"
             ],
             [
              0.4444444444444444,
              "#bd3786"
             ],
             [
              0.5555555555555556,
              "#d8576b"
             ],
             [
              0.6666666666666666,
              "#ed7953"
             ],
             [
              0.7777777777777778,
              "#fb9f3a"
             ],
             [
              0.8888888888888888,
              "#fdca26"
             ],
             [
              1,
              "#f0f921"
             ]
            ],
            "type": "heatmapgl"
           }
          ],
          "histogram": [
           {
            "marker": {
             "colorbar": {
              "outlinewidth": 0,
              "ticks": ""
             }
            },
            "type": "histogram"
           }
          ],
          "histogram2d": [
           {
            "colorbar": {
             "outlinewidth": 0,
             "ticks": ""
            },
            "colorscale": [
             [
              0,
              "#0d0887"
             ],
             [
              0.1111111111111111,
              "#46039f"
             ],
             [
              0.2222222222222222,
              "#7201a8"
             ],
             [
              0.3333333333333333,
              "#9c179e"
             ],
             [
              0.4444444444444444,
              "#bd3786"
             ],
             [
              0.5555555555555556,
              "#d8576b"
             ],
             [
              0.6666666666666666,
              "#ed7953"
             ],
             [
              0.7777777777777778,
              "#fb9f3a"
             ],
             [
              0.8888888888888888,
              "#fdca26"
             ],
             [
              1,
              "#f0f921"
             ]
            ],
            "type": "histogram2d"
           }
          ],
          "histogram2dcontour": [
           {
            "colorbar": {
             "outlinewidth": 0,
             "ticks": ""
            },
            "colorscale": [
             [
              0,
              "#0d0887"
             ],
             [
              0.1111111111111111,
              "#46039f"
             ],
             [
              0.2222222222222222,
              "#7201a8"
             ],
             [
              0.3333333333333333,
              "#9c179e"
             ],
             [
              0.4444444444444444,
              "#bd3786"
             ],
             [
              0.5555555555555556,
              "#d8576b"
             ],
             [
              0.6666666666666666,
              "#ed7953"
             ],
             [
              0.7777777777777778,
              "#fb9f3a"
             ],
             [
              0.8888888888888888,
              "#fdca26"
             ],
             [
              1,
              "#f0f921"
             ]
            ],
            "type": "histogram2dcontour"
           }
          ],
          "mesh3d": [
           {
            "colorbar": {
             "outlinewidth": 0,
             "ticks": ""
            },
            "type": "mesh3d"
           }
          ],
          "parcoords": [
           {
            "line": {
             "colorbar": {
              "outlinewidth": 0,
              "ticks": ""
             }
            },
            "type": "parcoords"
           }
          ],
          "pie": [
           {
            "automargin": true,
            "type": "pie"
           }
          ],
          "scatter": [
           {
            "marker": {
             "colorbar": {
              "outlinewidth": 0,
              "ticks": ""
             }
            },
            "type": "scatter"
           }
          ],
          "scatter3d": [
           {
            "line": {
             "colorbar": {
              "outlinewidth": 0,
              "ticks": ""
             }
            },
            "marker": {
             "colorbar": {
              "outlinewidth": 0,
              "ticks": ""
             }
            },
            "type": "scatter3d"
           }
          ],
          "scattercarpet": [
           {
            "marker": {
             "colorbar": {
              "outlinewidth": 0,
              "ticks": ""
             }
            },
            "type": "scattercarpet"
           }
          ],
          "scattergeo": [
           {
            "marker": {
             "colorbar": {
              "outlinewidth": 0,
              "ticks": ""
             }
            },
            "type": "scattergeo"
           }
          ],
          "scattergl": [
           {
            "marker": {
             "colorbar": {
              "outlinewidth": 0,
              "ticks": ""
             }
            },
            "type": "scattergl"
           }
          ],
          "scattermapbox": [
           {
            "marker": {
             "colorbar": {
              "outlinewidth": 0,
              "ticks": ""
             }
            },
            "type": "scattermapbox"
           }
          ],
          "scatterpolar": [
           {
            "marker": {
             "colorbar": {
              "outlinewidth": 0,
              "ticks": ""
             }
            },
            "type": "scatterpolar"
           }
          ],
          "scatterpolargl": [
           {
            "marker": {
             "colorbar": {
              "outlinewidth": 0,
              "ticks": ""
             }
            },
            "type": "scatterpolargl"
           }
          ],
          "scatterternary": [
           {
            "marker": {
             "colorbar": {
              "outlinewidth": 0,
              "ticks": ""
             }
            },
            "type": "scatterternary"
           }
          ],
          "surface": [
           {
            "colorbar": {
             "outlinewidth": 0,
             "ticks": ""
            },
            "colorscale": [
             [
              0,
              "#0d0887"
             ],
             [
              0.1111111111111111,
              "#46039f"
             ],
             [
              0.2222222222222222,
              "#7201a8"
             ],
             [
              0.3333333333333333,
              "#9c179e"
             ],
             [
              0.4444444444444444,
              "#bd3786"
             ],
             [
              0.5555555555555556,
              "#d8576b"
             ],
             [
              0.6666666666666666,
              "#ed7953"
             ],
             [
              0.7777777777777778,
              "#fb9f3a"
             ],
             [
              0.8888888888888888,
              "#fdca26"
             ],
             [
              1,
              "#f0f921"
             ]
            ],
            "type": "surface"
           }
          ],
          "table": [
           {
            "cells": {
             "fill": {
              "color": "#EBF0F8"
             },
             "line": {
              "color": "white"
             }
            },
            "header": {
             "fill": {
              "color": "#C8D4E3"
             },
             "line": {
              "color": "white"
             }
            },
            "type": "table"
           }
          ]
         },
         "layout": {
          "annotationdefaults": {
           "arrowcolor": "#2a3f5f",
           "arrowhead": 0,
           "arrowwidth": 1
          },
          "autotypenumbers": "strict",
          "coloraxis": {
           "colorbar": {
            "outlinewidth": 0,
            "ticks": ""
           }
          },
          "colorscale": {
           "diverging": [
            [
             0,
             "#8e0152"
            ],
            [
             0.1,
             "#c51b7d"
            ],
            [
             0.2,
             "#de77ae"
            ],
            [
             0.3,
             "#f1b6da"
            ],
            [
             0.4,
             "#fde0ef"
            ],
            [
             0.5,
             "#f7f7f7"
            ],
            [
             0.6,
             "#e6f5d0"
            ],
            [
             0.7,
             "#b8e186"
            ],
            [
             0.8,
             "#7fbc41"
            ],
            [
             0.9,
             "#4d9221"
            ],
            [
             1,
             "#276419"
            ]
           ],
           "sequential": [
            [
             0,
             "#0d0887"
            ],
            [
             0.1111111111111111,
             "#46039f"
            ],
            [
             0.2222222222222222,
             "#7201a8"
            ],
            [
             0.3333333333333333,
             "#9c179e"
            ],
            [
             0.4444444444444444,
             "#bd3786"
            ],
            [
             0.5555555555555556,
             "#d8576b"
            ],
            [
             0.6666666666666666,
             "#ed7953"
            ],
            [
             0.7777777777777778,
             "#fb9f3a"
            ],
            [
             0.8888888888888888,
             "#fdca26"
            ],
            [
             1,
             "#f0f921"
            ]
           ],
           "sequentialminus": [
            [
             0,
             "#0d0887"
            ],
            [
             0.1111111111111111,
             "#46039f"
            ],
            [
             0.2222222222222222,
             "#7201a8"
            ],
            [
             0.3333333333333333,
             "#9c179e"
            ],
            [
             0.4444444444444444,
             "#bd3786"
            ],
            [
             0.5555555555555556,
             "#d8576b"
            ],
            [
             0.6666666666666666,
             "#ed7953"
            ],
            [
             0.7777777777777778,
             "#fb9f3a"
            ],
            [
             0.8888888888888888,
             "#fdca26"
            ],
            [
             1,
             "#f0f921"
            ]
           ]
          },
          "colorway": [
           "#636efa",
           "#EF553B",
           "#00cc96",
           "#ab63fa",
           "#FFA15A",
           "#19d3f3",
           "#FF6692",
           "#B6E880",
           "#FF97FF",
           "#FECB52"
          ],
          "font": {
           "color": "#2a3f5f"
          },
          "geo": {
           "bgcolor": "white",
           "lakecolor": "white",
           "landcolor": "#E5ECF6",
           "showlakes": true,
           "showland": true,
           "subunitcolor": "white"
          },
          "hoverlabel": {
           "align": "left"
          },
          "hovermode": "closest",
          "mapbox": {
           "style": "light"
          },
          "paper_bgcolor": "white",
          "plot_bgcolor": "#E5ECF6",
          "polar": {
           "angularaxis": {
            "gridcolor": "white",
            "linecolor": "white",
            "ticks": ""
           },
           "bgcolor": "#E5ECF6",
           "radialaxis": {
            "gridcolor": "white",
            "linecolor": "white",
            "ticks": ""
           }
          },
          "scene": {
           "xaxis": {
            "backgroundcolor": "#E5ECF6",
            "gridcolor": "white",
            "gridwidth": 2,
            "linecolor": "white",
            "showbackground": true,
            "ticks": "",
            "zerolinecolor": "white"
           },
           "yaxis": {
            "backgroundcolor": "#E5ECF6",
            "gridcolor": "white",
            "gridwidth": 2,
            "linecolor": "white",
            "showbackground": true,
            "ticks": "",
            "zerolinecolor": "white"
           },
           "zaxis": {
            "backgroundcolor": "#E5ECF6",
            "gridcolor": "white",
            "gridwidth": 2,
            "linecolor": "white",
            "showbackground": true,
            "ticks": "",
            "zerolinecolor": "white"
           }
          },
          "shapedefaults": {
           "line": {
            "color": "#2a3f5f"
           }
          },
          "ternary": {
           "aaxis": {
            "gridcolor": "white",
            "linecolor": "white",
            "ticks": ""
           },
           "baxis": {
            "gridcolor": "white",
            "linecolor": "white",
            "ticks": ""
           },
           "bgcolor": "#E5ECF6",
           "caxis": {
            "gridcolor": "white",
            "linecolor": "white",
            "ticks": ""
           }
          },
          "title": {
           "x": 0.05
          },
          "xaxis": {
           "automargin": true,
           "gridcolor": "white",
           "linecolor": "white",
           "ticks": "",
           "title": {
            "standoff": 15
           },
           "zerolinecolor": "white",
           "zerolinewidth": 2
          },
          "yaxis": {
           "automargin": true,
           "gridcolor": "white",
           "linecolor": "white",
           "ticks": "",
           "title": {
            "standoff": 15
           },
           "zerolinecolor": "white",
           "zerolinewidth": 2
          }
         }
        },
        "title": " ",
        "xaxis": {
         "showticklabels": true,
         "title": "1 day"
        },
        "yaxis": {
         "rangemode": "tozero",
         "showticklabels": true,
         "title": ""
        }
       }
      },
      "text/html": [
       "<html>\n",
       "<head><meta charset=\"utf-8\" /></head>\n",
       "<body>\n",
       "<div>\n",
       "    <script src=\"https://cdnjs.cloudflare.com/ajax/libs/mathjax/2.7.5/MathJax.js?config=TeX-AMS-MML_SVG\"></script>\n",
       "    <script type=\"text/javascript\">\n",
       "window.PlotlyConfig = {MathJaxConfig: 'local'};\n",
       "</script>\n",
       "<script src=\"https://cdn.plot.ly/plotly-2.33.0.min.js\"></script>\n",
       "\n",
       "    <div\n",
       "        id=4867017b-1942-4b82-badf-b13d401c0dba\n",
       "        class=\"plotly-graph-div\"\n",
       "        style=\"height:100%; width:100%;\">\n",
       "    </div>\n",
       "    <script type=\"text/javascript\">\n",
       "        \n",
       "        window.PLOTLYENV = window.PLOTLYENV || {}\n",
       "        \n",
       "        if (document.getElementById('4867017b-1942-4b82-badf-b13d401c0dba')) {\n",
       "    Plotly.newPlot(\n",
       "        '4867017b-1942-4b82-badf-b13d401c0dba',\n",
       "        [{\"showlegend\":true,\"mode\":\"lines\",\"line\":{\"color\":\"rgba(112, 118, 133, 1)\",\"dash\":\"solid\",\"shape\":\"linear\"},\"y\":[3065.8333331999997,3055.3333331999997,3065.8333331999997,3069.3333331999997,3074.5833331999997,3079.8333331999997,3092.0833331999997,3102.5833331999997,3106.0833331999997,3102.5833331999997,3086.8333331999997,3071.0833331999997,3065.8333331999997,3067.5833331999997,3048.3333331999997,3053.5833331999997,3897.5324556179344,3905.2088337651335,3783.0362214310453,3421.250124601605,3099.0833331999997,3093.8333331999997,3090.3333331999997,3088.5833331999997],\"type\":\"scatter\",\"name\":\"ActivePowerVariable__ThermalStandard\",\"plot\":{\"type\":\"scatter\"},\"x\":[\"2020-01-01T00:00:00\",\"2020-01-01T01:00:00\",\"2020-01-01T02:00:00\",\"2020-01-01T03:00:00\",\"2020-01-01T04:00:00\",\"2020-01-01T05:00:00\",\"2020-01-01T06:00:00\",\"2020-01-01T07:00:00\",\"2020-01-01T08:00:00\",\"2020-01-01T09:00:00\",\"2020-01-01T10:00:00\",\"2020-01-01T11:00:00\",\"2020-01-01T12:00:00\",\"2020-01-01T13:00:00\",\"2020-01-01T14:00:00\",\"2020-01-01T15:00:00\",\"2020-01-01T16:00:00\",\"2020-01-01T17:00:00\",\"2020-01-01T18:00:00\",\"2020-01-01T19:00:00\",\"2020-01-01T20:00:00\",\"2020-01-01T21:00:00\",\"2020-01-01T22:00:00\",\"2020-01-01T23:00:00\"]},{\"showlegend\":true,\"mode\":\"lines\",\"line\":{\"color\":\"rgba(91, 98, 114, 1)\",\"dash\":\"solid\",\"shape\":\"linear\"},\"y\":[8.857544568953715,9.04802939839358,8.857544568953715,9.04802939839358,8.857544568953715,8.66705973951385,9.04802939839358,18.000816382067224,17.619846723187496,17.619846723187496,17.81033155262736,17.619846723187496,17.81033155262736,17.81033155262736,17.81033155262736,17.81033155262736,0.0,0.0,0.0,0.0,8.857544568953715,8.857544568953715,8.66705973951385,8.857544568953715],\"type\":\"scatter\",\"name\":\"ActivePowerVariable__HydroDispatch__Curtailment\",\"plot\":{\"type\":\"scatter\"},\"x\":[\"2020-01-01T00:00:00\",\"2020-01-01T01:00:00\",\"2020-01-01T02:00:00\",\"2020-01-01T03:00:00\",\"2020-01-01T04:00:00\",\"2020-01-01T05:00:00\",\"2020-01-01T06:00:00\",\"2020-01-01T07:00:00\",\"2020-01-01T08:00:00\",\"2020-01-01T09:00:00\",\"2020-01-01T10:00:00\",\"2020-01-01T11:00:00\",\"2020-01-01T12:00:00\",\"2020-01-01T13:00:00\",\"2020-01-01T14:00:00\",\"2020-01-01T15:00:00\",\"2020-01-01T16:00:00\",\"2020-01-01T17:00:00\",\"2020-01-01T18:00:00\",\"2020-01-01T19:00:00\",\"2020-01-01T20:00:00\",\"2020-01-01T21:00:00\",\"2020-01-01T22:00:00\",\"2020-01-01T23:00:00\"]},{\"showlegend\":true,\"mode\":\"lines\",\"line\":{\"color\":\"rgba(24, 127, 148, 1)\",\"dash\":\"solid\",\"shape\":\"linear\"},\"y\":[1860.401449,2075.487510499999,1933.2606832,1860.2350121999993,1670.3249002000002,1348.3222262000018,853.0776141999991,1821.083927200001,2262.871101200001,2119.1970472,1895.2639872000022,1699.9654502000008,1646.9262672000025,1573.3771832000011,1145.872196199999,482.8724632000008,0.0,0.0,0.0,0.0,55.36419019999903,506.8164581999989,937.4177462000007,1073.6864649000013],\"type\":\"scatter\",\"name\":\"ActivePowerVariable__RenewableDispatch__Curtailment\",\"plot\":{\"type\":\"scatter\"},\"x\":[\"2020-01-01T00:00:00\",\"2020-01-01T01:00:00\",\"2020-01-01T02:00:00\",\"2020-01-01T03:00:00\",\"2020-01-01T04:00:00\",\"2020-01-01T05:00:00\",\"2020-01-01T06:00:00\",\"2020-01-01T07:00:00\",\"2020-01-01T08:00:00\",\"2020-01-01T09:00:00\",\"2020-01-01T10:00:00\",\"2020-01-01T11:00:00\",\"2020-01-01T12:00:00\",\"2020-01-01T13:00:00\",\"2020-01-01T14:00:00\",\"2020-01-01T15:00:00\",\"2020-01-01T16:00:00\",\"2020-01-01T17:00:00\",\"2020-01-01T18:00:00\",\"2020-01-01T19:00:00\",\"2020-01-01T20:00:00\",\"2020-01-01T21:00:00\",\"2020-01-01T22:00:00\",\"2020-01-01T23:00:00\"]},{\"showlegend\":true,\"mode\":\"lines\",\"line\":{\"color\":\"rgba(130, 0, 0, 1)\",\"dash\":\"solid\",\"shape\":\"linear\"},\"y\":[0.0,0.0,0.0,0.0,0.0,0.0,0.0,50.759999999999984,127.26,185.25000000000003,221.5200000000001,232.40999999999994,228.09000000000006,204.54000000000002,158.97,77.19,0.0,0.0,0.0,0.0,0.0,0.0,0.0,0.0],\"type\":\"scatter\",\"name\":\"ActivePowerTimeSeriesParameter__RenewableNonDispatch\",\"plot\":{\"type\":\"scatter\"},\"x\":[\"2020-01-01T00:00:00\",\"2020-01-01T01:00:00\",\"2020-01-01T02:00:00\",\"2020-01-01T03:00:00\",\"2020-01-01T04:00:00\",\"2020-01-01T05:00:00\",\"2020-01-01T06:00:00\",\"2020-01-01T07:00:00\",\"2020-01-01T08:00:00\",\"2020-01-01T09:00:00\",\"2020-01-01T10:00:00\",\"2020-01-01T11:00:00\",\"2020-01-01T12:00:00\",\"2020-01-01T13:00:00\",\"2020-01-01T14:00:00\",\"2020-01-01T15:00:00\",\"2020-01-01T16:00:00\",\"2020-01-01T17:00:00\",\"2020-01-01T18:00:00\",\"2020-01-01T19:00:00\",\"2020-01-01T20:00:00\",\"2020-01-01T21:00:00\",\"2020-01-01T22:00:00\",\"2020-01-01T23:00:00\"]},{\"showlegend\":true,\"mode\":\"lines\",\"line\":{\"color\":\"rgba(91, 152, 68, 1)\",\"dash\":\"solid\",\"shape\":\"linear\"},\"y\":[271.498551,205.7124895000006,181.33931680000018,195.2649878000005,328.2750997999997,592.3777737999983,856.4223858000009,833.4160727999994,769.3288987999995,744.5029527999995,714.736012799998,710.5345497999991,686.8737327999978,686.4228167999986,721.927803800001,782.027536799999,141.89999999999998,655.8,762.4999999999999,1019.1,1192.7358098000009,922.3835418000012,616.7822537999991,365.013535099999],\"type\":\"scatter\",\"name\":\"ActivePowerVariable__RenewableDispatch\",\"plot\":{\"type\":\"scatter\"},\"x\":[\"2020-01-01T00:00:00\",\"2020-01-01T01:00:00\",\"2020-01-01T02:00:00\",\"2020-01-01T03:00:00\",\"2020-01-01T04:00:00\",\"2020-01-01T05:00:00\",\"2020-01-01T06:00:00\",\"2020-01-01T07:00:00\",\"2020-01-01T08:00:00\",\"2020-01-01T09:00:00\",\"2020-01-01T10:00:00\",\"2020-01-01T11:00:00\",\"2020-01-01T12:00:00\",\"2020-01-01T13:00:00\",\"2020-01-01T14:00:00\",\"2020-01-01T15:00:00\",\"2020-01-01T16:00:00\",\"2020-01-01T17:00:00\",\"2020-01-01T18:00:00\",\"2020-01-01T19:00:00\",\"2020-01-01T20:00:00\",\"2020-01-01T21:00:00\",\"2020-01-01T22:00:00\",\"2020-01-01T23:00:00\"]},{\"showlegend\":true,\"mode\":\"lines\",\"line\":{\"color\":\"rgba(133, 61, 101, 1)\",\"dash\":\"solid\",\"shape\":\"linear\"},\"y\":[0.0,0.0,0.0,0.0,0.0,0.0,0.0,0.0,0.0,0.0,0.0,0.0,0.0,0.0,0.0,0.0,18.000816382067224,17.0483922348679,8.857544568953715,9.04802939839358,0.0,0.0,0.0,0.0],\"type\":\"scatter\",\"name\":\"ActivePowerVariable__HydroDispatch\",\"plot\":{\"type\":\"scatter\"},\"x\":[\"2020-01-01T00:00:00\",\"2020-01-01T01:00:00\",\"2020-01-01T02:00:00\",\"2020-01-01T03:00:00\",\"2020-01-01T04:00:00\",\"2020-01-01T05:00:00\",\"2020-01-01T06:00:00\",\"2020-01-01T07:00:00\",\"2020-01-01T08:00:00\",\"2020-01-01T09:00:00\",\"2020-01-01T10:00:00\",\"2020-01-01T11:00:00\",\"2020-01-01T12:00:00\",\"2020-01-01T13:00:00\",\"2020-01-01T14:00:00\",\"2020-01-01T15:00:00\",\"2020-01-01T16:00:00\",\"2020-01-01T17:00:00\",\"2020-01-01T18:00:00\",\"2020-01-01T19:00:00\",\"2020-01-01T20:00:00\",\"2020-01-01T21:00:00\",\"2020-01-01T22:00:00\",\"2020-01-01T23:00:00\"]}],\n",
       "        {\"xaxis\":{\"showticklabels\":true,\"title\":\"1 day\"},\"template\":{\"layout\":{\"coloraxis\":{\"colorbar\":{\"ticks\":\"\",\"outlinewidth\":0}},\"xaxis\":{\"gridcolor\":\"white\",\"zerolinewidth\":2,\"title\":{\"standoff\":15},\"ticks\":\"\",\"zerolinecolor\":\"white\",\"automargin\":true,\"linecolor\":\"white\"},\"hovermode\":\"closest\",\"paper_bgcolor\":\"white\",\"geo\":{\"showlakes\":true,\"showland\":true,\"landcolor\":\"#E5ECF6\",\"bgcolor\":\"white\",\"subunitcolor\":\"white\",\"lakecolor\":\"white\"},\"colorscale\":{\"sequential\":[[0.0,\"#0d0887\"],[0.1111111111111111,\"#46039f\"],[0.2222222222222222,\"#7201a8\"],[0.3333333333333333,\"#9c179e\"],[0.4444444444444444,\"#bd3786\"],[0.5555555555555556,\"#d8576b\"],[0.6666666666666666,\"#ed7953\"],[0.7777777777777778,\"#fb9f3a\"],[0.8888888888888888,\"#fdca26\"],[1.0,\"#f0f921\"]],\"diverging\":[[0,\"#8e0152\"],[0.1,\"#c51b7d\"],[0.2,\"#de77ae\"],[0.3,\"#f1b6da\"],[0.4,\"#fde0ef\"],[0.5,\"#f7f7f7\"],[0.6,\"#e6f5d0\"],[0.7,\"#b8e186\"],[0.8,\"#7fbc41\"],[0.9,\"#4d9221\"],[1,\"#276419\"]],\"sequentialminus\":[[0.0,\"#0d0887\"],[0.1111111111111111,\"#46039f\"],[0.2222222222222222,\"#7201a8\"],[0.3333333333333333,\"#9c179e\"],[0.4444444444444444,\"#bd3786\"],[0.5555555555555556,\"#d8576b\"],[0.6666666666666666,\"#ed7953\"],[0.7777777777777778,\"#fb9f3a\"],[0.8888888888888888,\"#fdca26\"],[1.0,\"#f0f921\"]]},\"yaxis\":{\"gridcolor\":\"white\",\"zerolinewidth\":2,\"title\":{\"standoff\":15},\"ticks\":\"\",\"zerolinecolor\":\"white\",\"automargin\":true,\"linecolor\":\"white\"},\"shapedefaults\":{\"line\":{\"color\":\"#2a3f5f\"}},\"hoverlabel\":{\"align\":\"left\"},\"mapbox\":{\"style\":\"light\"},\"polar\":{\"angularaxis\":{\"gridcolor\":\"white\",\"ticks\":\"\",\"linecolor\":\"white\"},\"bgcolor\":\"#E5ECF6\",\"radialaxis\":{\"gridcolor\":\"white\",\"ticks\":\"\",\"linecolor\":\"white\"}},\"autotypenumbers\":\"strict\",\"font\":{\"color\":\"#2a3f5f\"},\"ternary\":{\"baxis\":{\"gridcolor\":\"white\",\"ticks\":\"\",\"linecolor\":\"white\"},\"bgcolor\":\"#E5ECF6\",\"caxis\":{\"gridcolor\":\"white\",\"ticks\":\"\",\"linecolor\":\"white\"},\"aaxis\":{\"gridcolor\":\"white\",\"ticks\":\"\",\"linecolor\":\"white\"}},\"annotationdefaults\":{\"arrowhead\":0,\"arrowwidth\":1,\"arrowcolor\":\"#2a3f5f\"},\"plot_bgcolor\":\"#E5ECF6\",\"title\":{\"x\":0.05},\"scene\":{\"xaxis\":{\"gridcolor\":\"white\",\"gridwidth\":2,\"backgroundcolor\":\"#E5ECF6\",\"ticks\":\"\",\"showbackground\":true,\"zerolinecolor\":\"white\",\"linecolor\":\"white\"},\"zaxis\":{\"gridcolor\":\"white\",\"gridwidth\":2,\"backgroundcolor\":\"#E5ECF6\",\"ticks\":\"\",\"showbackground\":true,\"zerolinecolor\":\"white\",\"linecolor\":\"white\"},\"yaxis\":{\"gridcolor\":\"white\",\"gridwidth\":2,\"backgroundcolor\":\"#E5ECF6\",\"ticks\":\"\",\"showbackground\":true,\"zerolinecolor\":\"white\",\"linecolor\":\"white\"}},\"colorway\":[\"#636efa\",\"#EF553B\",\"#00cc96\",\"#ab63fa\",\"#FFA15A\",\"#19d3f3\",\"#FF6692\",\"#B6E880\",\"#FF97FF\",\"#FECB52\"]},\"data\":{\"barpolar\":[{\"type\":\"barpolar\",\"marker\":{\"line\":{\"color\":\"#E5ECF6\",\"width\":0.5}}}],\"carpet\":[{\"aaxis\":{\"gridcolor\":\"white\",\"endlinecolor\":\"#2a3f5f\",\"minorgridcolor\":\"white\",\"startlinecolor\":\"#2a3f5f\",\"linecolor\":\"white\"},\"type\":\"carpet\",\"baxis\":{\"gridcolor\":\"white\",\"endlinecolor\":\"#2a3f5f\",\"minorgridcolor\":\"white\",\"startlinecolor\":\"#2a3f5f\",\"linecolor\":\"white\"}}],\"scatterpolar\":[{\"type\":\"scatterpolar\",\"marker\":{\"colorbar\":{\"ticks\":\"\",\"outlinewidth\":0}}}],\"parcoords\":[{\"line\":{\"colorbar\":{\"ticks\":\"\",\"outlinewidth\":0}},\"type\":\"parcoords\"}],\"scatter\":[{\"type\":\"scatter\",\"marker\":{\"colorbar\":{\"ticks\":\"\",\"outlinewidth\":0}}}],\"histogram2dcontour\":[{\"colorbar\":{\"ticks\":\"\",\"outlinewidth\":0},\"type\":\"histogram2dcontour\",\"colorscale\":[[0.0,\"#0d0887\"],[0.1111111111111111,\"#46039f\"],[0.2222222222222222,\"#7201a8\"],[0.3333333333333333,\"#9c179e\"],[0.4444444444444444,\"#bd3786\"],[0.5555555555555556,\"#d8576b\"],[0.6666666666666666,\"#ed7953\"],[0.7777777777777778,\"#fb9f3a\"],[0.8888888888888888,\"#fdca26\"],[1.0,\"#f0f921\"]]}],\"contour\":[{\"colorbar\":{\"ticks\":\"\",\"outlinewidth\":0},\"type\":\"contour\",\"colorscale\":[[0.0,\"#0d0887\"],[0.1111111111111111,\"#46039f\"],[0.2222222222222222,\"#7201a8\"],[0.3333333333333333,\"#9c179e\"],[0.4444444444444444,\"#bd3786\"],[0.5555555555555556,\"#d8576b\"],[0.6666666666666666,\"#ed7953\"],[0.7777777777777778,\"#fb9f3a\"],[0.8888888888888888,\"#fdca26\"],[1.0,\"#f0f921\"]]}],\"scattercarpet\":[{\"type\":\"scattercarpet\",\"marker\":{\"colorbar\":{\"ticks\":\"\",\"outlinewidth\":0}}}],\"mesh3d\":[{\"colorbar\":{\"ticks\":\"\",\"outlinewidth\":0},\"type\":\"mesh3d\"}],\"surface\":[{\"colorbar\":{\"ticks\":\"\",\"outlinewidth\":0},\"type\":\"surface\",\"colorscale\":[[0.0,\"#0d0887\"],[0.1111111111111111,\"#46039f\"],[0.2222222222222222,\"#7201a8\"],[0.3333333333333333,\"#9c179e\"],[0.4444444444444444,\"#bd3786\"],[0.5555555555555556,\"#d8576b\"],[0.6666666666666666,\"#ed7953\"],[0.7777777777777778,\"#fb9f3a\"],[0.8888888888888888,\"#fdca26\"],[1.0,\"#f0f921\"]]}],\"scattermapbox\":[{\"type\":\"scattermapbox\",\"marker\":{\"colorbar\":{\"ticks\":\"\",\"outlinewidth\":0}}}],\"scattergeo\":[{\"type\":\"scattergeo\",\"marker\":{\"colorbar\":{\"ticks\":\"\",\"outlinewidth\":0}}}],\"histogram\":[{\"type\":\"histogram\",\"marker\":{\"colorbar\":{\"ticks\":\"\",\"outlinewidth\":0}}}],\"pie\":[{\"type\":\"pie\",\"automargin\":true}],\"choropleth\":[{\"colorbar\":{\"ticks\":\"\",\"outlinewidth\":0},\"type\":\"choropleth\"}],\"heatmapgl\":[{\"colorbar\":{\"ticks\":\"\",\"outlinewidth\":0},\"type\":\"heatmapgl\",\"colorscale\":[[0.0,\"#0d0887\"],[0.1111111111111111,\"#46039f\"],[0.2222222222222222,\"#7201a8\"],[0.3333333333333333,\"#9c179e\"],[0.4444444444444444,\"#bd3786\"],[0.5555555555555556,\"#d8576b\"],[0.6666666666666666,\"#ed7953\"],[0.7777777777777778,\"#fb9f3a\"],[0.8888888888888888,\"#fdca26\"],[1.0,\"#f0f921\"]]}],\"bar\":[{\"type\":\"bar\",\"error_y\":{\"color\":\"#2a3f5f\"},\"error_x\":{\"color\":\"#2a3f5f\"},\"marker\":{\"line\":{\"color\":\"#E5ECF6\",\"width\":0.5}}}],\"heatmap\":[{\"colorbar\":{\"ticks\":\"\",\"outlinewidth\":0},\"type\":\"heatmap\",\"colorscale\":[[0.0,\"#0d0887\"],[0.1111111111111111,\"#46039f\"],[0.2222222222222222,\"#7201a8\"],[0.3333333333333333,\"#9c179e\"],[0.4444444444444444,\"#bd3786\"],[0.5555555555555556,\"#d8576b\"],[0.6666666666666666,\"#ed7953\"],[0.7777777777777778,\"#fb9f3a\"],[0.8888888888888888,\"#fdca26\"],[1.0,\"#f0f921\"]]}],\"contourcarpet\":[{\"colorbar\":{\"ticks\":\"\",\"outlinewidth\":0},\"type\":\"contourcarpet\"}],\"table\":[{\"type\":\"table\",\"header\":{\"line\":{\"color\":\"white\"},\"fill\":{\"color\":\"#C8D4E3\"}},\"cells\":{\"line\":{\"color\":\"white\"},\"fill\":{\"color\":\"#EBF0F8\"}}}],\"scatter3d\":[{\"line\":{\"colorbar\":{\"ticks\":\"\",\"outlinewidth\":0}},\"type\":\"scatter3d\",\"marker\":{\"colorbar\":{\"ticks\":\"\",\"outlinewidth\":0}}}],\"scattergl\":[{\"type\":\"scattergl\",\"marker\":{\"colorbar\":{\"ticks\":\"\",\"outlinewidth\":0}}}],\"histogram2d\":[{\"colorbar\":{\"ticks\":\"\",\"outlinewidth\":0},\"type\":\"histogram2d\",\"colorscale\":[[0.0,\"#0d0887\"],[0.1111111111111111,\"#46039f\"],[0.2222222222222222,\"#7201a8\"],[0.3333333333333333,\"#9c179e\"],[0.4444444444444444,\"#bd3786\"],[0.5555555555555556,\"#d8576b\"],[0.6666666666666666,\"#ed7953\"],[0.7777777777777778,\"#fb9f3a\"],[0.8888888888888888,\"#fdca26\"],[1.0,\"#f0f921\"]]}],\"scatterternary\":[{\"type\":\"scatterternary\",\"marker\":{\"colorbar\":{\"ticks\":\"\",\"outlinewidth\":0}}}],\"scatterpolargl\":[{\"type\":\"scatterpolargl\",\"marker\":{\"colorbar\":{\"ticks\":\"\",\"outlinewidth\":0}}}]}},\"barmode\":\"group\",\"margin\":{\"l\":50,\"b\":50,\"r\":50,\"t\":60},\"title\":\" \",\"yaxis\":{\"showticklabels\":true,\"rangemode\":\"tozero\",\"title\":\"\"},\"set\":{\"display\":false}},\n",
       "        {\"editable\":false,\"responsive\":true,\"staticPlot\":false,\"scrollZoom\":true},\n",
       "    )\n",
       "}\n",
       "\n",
       "        \n",
       "    </script>\n",
       "</div>\n",
       "\n",
       "</body>\n",
       "</html>"
      ],
      "text/plain": [
       "data: [\n",
       "  \"scatter with fields line, mode, name, plot, showlegend, type, x, and y\",\n",
       "  \"scatter with fields line, mode, name, plot, showlegend, type, x, and y\",\n",
       "  \"scatter with fields line, mode, name, plot, showlegend, type, x, and y\",\n",
       "  \"scatter with fields line, mode, name, plot, showlegend, type, x, and y\",\n",
       "  \"scatter with fields line, mode, name, plot, showlegend, type, x, and y\",\n",
       "  \"scatter with fields line, mode, name, plot, showlegend, type, x, and y\"\n",
       "]\n",
       "\n",
       "layout: \"layout with fields barmode, margin, set, template, title, xaxis, and yaxis\"\n",
       "\n"
      ]
     },
     "execution_count": 98,
     "metadata": {},
     "output_type": "execute_result"
    }
   ],
   "source": [
    "using PowerGraphics\n",
    "using PowerAnalytics\n",
    "# where \"res\" is a PowerSimulations.SimulationResults object\n",
    "\n",
    "plotlyjs()\n",
    "gen = get_generation_data(res)\n",
    "plot_powerdata(gen)"
   ]
  },
  {
   "cell_type": "code",
   "execution_count": null,
   "id": "0f7c5d42",
   "metadata": {},
   "outputs": [],
   "source": []
  },
  {
   "cell_type": "markdown",
   "id": "13a96a35",
   "metadata": {},
   "source": []
  },
  {
   "cell_type": "code",
   "execution_count": 55,
   "id": "5c243366",
   "metadata": {},
   "outputs": [
    {
     "name": "stdout",
     "output_type": "stream",
     "text": [
      "=== DETAILED INFEASIBILITY ANALYSIS ===\n",
      "\n",
      "=== VARIABLES ANALYSIS ===\n",
      "Total variables: 14160\n",
      "Generation variables: 0\n",
      "Load variables: 0\n",
      "Variables with bounds: 0\n",
      "\n",
      "=== CONSTRAINTS ANALYSIS ===\n",
      "Total constraints: 34440\n",
      "Power Balance Constraint: c3889\n",
      "  RHS (demand): 12.054318841999997 MW\n",
      "  Number of terms: 55\n",
      "  Coefficient range: 1.0 to 1.0\n",
      "Power Balance Constraint: c3890\n",
      "  RHS (demand): 9.798458227000001 MW\n",
      "  Number of terms: 55\n",
      "  Coefficient range: 1.0 to 1.0\n",
      "Power Balance Constraint: c3891\n",
      "  RHS (demand): 11.325726499999996 MW\n",
      "  Number of terms: 55\n",
      "  Coefficient range: 1.0 to 1.0\n",
      "Power Balance Constraint: c3892\n",
      "  RHS (demand): 12.090983210000003 MW\n",
      "  Number of terms: 55\n",
      "  Coefficient range: 1.0 to 1.0\n",
      "Power Balance Constraint: c3893\n",
      "  RHS (demand): 14.042584330000004 MW\n",
      "  Number of terms: 55\n",
      "  Coefficient range: 1.0 to 1.0\n",
      "Power Balance Constraint: c3894\n",
      "  RHS (demand): 17.31511107 MW\n",
      "  Number of terms: 55\n",
      "  Coefficient range: 1.0 to 1.0\n",
      "Power Balance Constraint: c3895\n",
      "  RHS (demand): 22.390057190000018 MW\n",
      "  Number of terms: 55\n",
      "  Coefficient range: 1.0 to 1.0\n",
      "Power Balance Constraint: c3896\n",
      "  RHS (demand): 13.322594060000004 MW\n",
      "  Number of terms: 55\n",
      "  Coefficient range: 1.0 to 1.0\n",
      "Power Balance Constraint: c3897\n",
      "  RHS (demand): 9.704722319999993 MW\n",
      "  Number of terms: 55\n",
      "  Coefficient range: 1.0 to 1.0\n",
      "Power Balance Constraint: c3898\n",
      "  RHS (demand): 11.68636285999999 MW\n",
      "  Number of terms: 55\n",
      "  Coefficient range: 1.0 to 1.0\n",
      "Power Balance Constraint: c3899\n",
      "  RHS (demand): 14.130893459999994 MW\n",
      "  Number of terms: 55\n",
      "  Coefficient range: 1.0 to 1.0\n",
      "Power Balance Constraint: c3900\n",
      "  RHS (demand): 16.03527882999998 MW\n",
      "  Number of terms: 55\n",
      "  Coefficient range: 1.0 to 1.0\n",
      "Power Balance Constraint: c3901\n",
      "  RHS (demand): 16.469970659999998 MW\n",
      "  Number of terms: 55\n",
      "  Coefficient range: 1.0 to 1.0\n",
      "Power Balance Constraint: c3902\n",
      "  RHS (demand): 16.98746150000001 MW\n",
      "  Number of terms: 55\n",
      "  Coefficient range: 1.0 to 1.0\n",
      "Power Balance Constraint: c3903\n",
      "  RHS (demand): 20.614311370000035 MW\n",
      "  Number of terms: 55\n",
      "  Coefficient range: 1.0 to 1.0\n",
      "Power Balance Constraint: c3904\n",
      "  RHS (demand): 26.47900869999999 MW\n",
      "  Number of terms: 55\n",
      "  Coefficient range: 1.0 to 1.0\n",
      "Power Balance Constraint: c3905\n",
      "  RHS (demand): 39.15533272000001 MW\n",
      "  Number of terms: 55\n",
      "  Coefficient range: 1.0 to 1.0\n",
      "Power Balance Constraint: c3906\n",
      "  RHS (demand): 39.22257226000001 MW\n",
      "  Number of terms: 55\n",
      "  Coefficient range: 1.0 to 1.0\n",
      "Power Balance Constraint: c3907\n",
      "  RHS (demand): 37.918937659999976 MW\n",
      "  Number of terms: 55\n",
      "  Coefficient range: 1.0 to 1.0\n",
      "Power Balance Constraint: c3908\n",
      "  RHS (demand): 34.30298153999999 MW\n",
      "  Number of terms: 55\n",
      "  Coefficient range: 1.0 to 1.0\n",
      "Power Balance Constraint: c3909\n",
      "  RHS (demand): 30.43719143 MW\n",
      "  Number of terms: 55\n",
      "  Coefficient range: 1.0 to 1.0\n",
      "Power Balance Constraint: c3910\n",
      "  RHS (demand): 25.870168750000026 MW\n",
      "  Number of terms: 55\n",
      "  Coefficient range: 1.0 to 1.0\n",
      "Power Balance Constraint: c3911\n",
      "  RHS (demand): 21.529155869999997 MW\n",
      "  Number of terms: 55\n",
      "  Coefficient range: 1.0 to 1.0\n",
      "Power Balance Constraint: c3912\n",
      "  RHS (demand): 20.14896868299999 MW\n",
      "  Number of terms: 55\n",
      "  Coefficient range: 1.0 to 1.0\n",
      "Equality constraints: 3912\n",
      "Suspected power balance constraints: 24\n",
      "\n",
      "=== OBJECTIVE ANALYSIS ===\n",
      "Objective sense: min\n",
      "Objective terms: 11448\n",
      "  Coefficient range: 0.01 to 63999.82230000001\n",
      "\n",
      "=== LOOKING FOR INFEASIBILITY SOURCES ===\n",
      "No obviously problematic constraint RHS values found\n",
      "\n",
      "=== DIAGNOSIS ===\n",
      "❌ No generation variables found - system setup issue\n"
     ]
    }
   ],
   "source": [
    "using JSON\n",
    "\n",
    "# Read the infeasible problem file\n",
    "infeasible_file = \"/opt/julia/Sienna/example_dir/infeasible_GenericOpProblem.json\"\n",
    "problem_data = JSON.parsefile(infeasible_file)\n",
    "\n",
    "println(\"=== DETAILED INFEASIBILITY ANALYSIS ===\")\n",
    "\n",
    "# Parse variables to understand generation capacity\n",
    "println(\"\\n=== VARIABLES ANALYSIS ===\")\n",
    "variables = problem_data[\"variables\"]\n",
    "println(\"Total variables: $(length(variables))\")\n",
    "\n",
    "# Look for variables with bounds\n",
    "bounded_vars = 0\n",
    "generation_vars = 0\n",
    "load_vars = 0\n",
    "\n",
    "for var in variables\n",
    "    var_name = get(var, \"name\", \"unknown\")\n",
    "    \n",
    "    # Count different variable types\n",
    "    if contains(var_name, \"ActivePowerVariable\")\n",
    "        generation_vars += 1\n",
    "    elseif contains(var_name, \"PowerLoad\")\n",
    "        load_vars += 1\n",
    "    end\n",
    "    \n",
    "    # Check for bounds\n",
    "    if haskey(var, \"upper_bound\") || haskey(var, \"lower_bound\")\n",
    "        bounded_vars += 1\n",
    "    end\n",
    "end\n",
    "\n",
    "println(\"Generation variables: $generation_vars\")\n",
    "println(\"Load variables: $load_vars\") \n",
    "println(\"Variables with bounds: $bounded_vars\")\n",
    "\n",
    "# Parse constraints to find power balance issues\n",
    "println(\"\\n=== CONSTRAINTS ANALYSIS ===\")\n",
    "constraints = problem_data[\"constraints\"]\n",
    "println(\"Total constraints: $(length(constraints))\")\n",
    "\n",
    "balance_constraints = 0\n",
    "equality_constraints = 0\n",
    "generation_capacity_constraints = 0\n",
    "\n",
    "for constraint in constraints\n",
    "    constraint_name = get(constraint, \"name\", \"unknown\")\n",
    "    \n",
    "    # Check constraint types\n",
    "    if haskey(constraint, \"set\")\n",
    "        set_type = get(constraint[\"set\"], \"type\", \"unknown\")\n",
    "        if set_type == \"EqualTo\"\n",
    "            equality_constraints += 1\n",
    "            \n",
    "            # Check if this looks like a power balance constraint\n",
    "            if haskey(constraint, \"function\") && haskey(constraint[\"function\"], \"terms\")\n",
    "                terms = constraint[\"function\"][\"terms\"]\n",
    "                if length(terms) > 5  # Power balance typically has many terms\n",
    "                    balance_constraints += 1\n",
    "                    \n",
    "                    # Analyze this constraint in detail\n",
    "                    rhs_value = get(constraint[\"set\"], \"value\", 0.0)\n",
    "                    println(\"Power Balance Constraint: $constraint_name\")\n",
    "                    println(\"  RHS (demand): $rhs_value MW\")\n",
    "                    println(\"  Number of terms: $(length(terms))\")\n",
    "                    \n",
    "                    # Check if all coefficients are reasonable\n",
    "                    coeffs = [term[\"coefficient\"] for term in terms]\n",
    "                    println(\"  Coefficient range: $(minimum(coeffs)) to $(maximum(coeffs))\")\n",
    "                end\n",
    "            end\n",
    "        end\n",
    "    end\n",
    "end\n",
    "\n",
    "println(\"Equality constraints: $equality_constraints\")\n",
    "println(\"Suspected power balance constraints: $balance_constraints\")\n",
    "\n",
    "# Look at the objective function\n",
    "println(\"\\n=== OBJECTIVE ANALYSIS ===\")\n",
    "if haskey(problem_data, \"objective\")\n",
    "    obj = problem_data[\"objective\"]\n",
    "    sense = get(obj, \"sense\", \"unknown\")\n",
    "    println(\"Objective sense: $sense\")\n",
    "    \n",
    "    if haskey(obj, \"function\") && haskey(obj[\"function\"], \"terms\")\n",
    "        obj_terms = obj[\"function\"][\"terms\"]\n",
    "        println(\"Objective terms: $(length(obj_terms))\")\n",
    "        \n",
    "        if length(obj_terms) > 0\n",
    "            coeffs = [term[\"coefficient\"] for term in obj_terms]\n",
    "            println(\"  Coefficient range: $(minimum(coeffs)) to $(maximum(coeffs))\")\n",
    "        end\n",
    "    end\n",
    "end\n",
    "\n",
    "# Find specific problematic constraints\n",
    "println(\"\\n=== LOOKING FOR INFEASIBILITY SOURCES ===\")\n",
    "\n",
    "# Check for constraints with very large or small RHS values\n",
    "problematic_constraints = []\n",
    "for constraint in constraints\n",
    "    if haskey(constraint, \"set\") && haskey(constraint[\"set\"], \"value\")\n",
    "        rhs = constraint[\"set\"][\"value\"]\n",
    "        constraint_name = get(constraint, \"name\", \"unknown\")\n",
    "        \n",
    "        # Flag unusual RHS values\n",
    "        if abs(rhs) > 1000 || (abs(rhs) > 0.01 && abs(rhs) < 0.001)\n",
    "            push!(problematic_constraints, (constraint_name, rhs))\n",
    "        end\n",
    "    end\n",
    "end\n",
    "\n",
    "if !isempty(problematic_constraints)\n",
    "    println(\"Constraints with unusual RHS values:\")\n",
    "    for (name, value) in problematic_constraints[1:min(10, end)]\n",
    "        println(\"  $name: $value\")\n",
    "    end\n",
    "else\n",
    "    println(\"No obviously problematic constraint RHS values found\")\n",
    "end\n",
    "\n",
    "# Summary recommendation\n",
    "println(\"\\n=== DIAGNOSIS ===\")\n",
    "if balance_constraints == 0\n",
    "    println(\"❌ No power balance constraints found - model structure issue\")\n",
    "elseif generation_vars == 0\n",
    "    println(\"❌ No generation variables found - system setup issue\")\n",
    "else\n",
    "    println(\"✅ Model structure appears correct\")\n",
    "    println(\"❌ Infeasibility likely due to insufficient generation capacity or time series issues\")\n",
    "    println(\"💡 Try running with a simpler template (ThermalBasicDispatch) and shorter horizon\")\n",
    "end"
   ]
  },
  {
   "cell_type": "code",
   "execution_count": null,
   "id": "b63aa5f1",
   "metadata": {},
   "outputs": [],
   "source": []
  }
 ],
 "metadata": {
  "kernelspec": {
   "display_name": "Julia Sienna 1.11.5",
   "language": "julia",
   "name": "julia-sienna-1.11"
  },
  "language_info": {
   "file_extension": ".jl",
   "mimetype": "application/julia",
   "name": "julia",
   "version": "1.11.5"
  }
 },
 "nbformat": 4,
 "nbformat_minor": 5
}
