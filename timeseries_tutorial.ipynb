{
 "cells": [
  {
   "cell_type": "code",
   "execution_count": 2,
   "id": "1aaca887",
   "metadata": {},
   "outputs": [],
   "source": [
    "using PowerSystems\n",
    "using Dates\n",
    "using TimeSeries"
   ]
  },
  {
   "cell_type": "code",
   "execution_count": 3,
   "id": "6b60023c",
   "metadata": {},
   "outputs": [],
   "source": [
    "system = System(100.0);"
   ]
  },
  {
   "cell_type": "code",
   "execution_count": 4,
   "id": "dc5ac476",
   "metadata": {},
   "outputs": [],
   "source": [
    " bus1 = ACBus(;\n",
    "           number = 1,\n",
    "           name = \"bus1\",\n",
    "           bustype = ACBusTypes.REF,\n",
    "           angle = 0.0,\n",
    "           magnitude = 1.0,\n",
    "           voltage_limits = (min = 0.9, max = 1.05),\n",
    "           base_voltage = 230.0,\n",
    "       );"
   ]
  },
  {
   "cell_type": "code",
   "execution_count": 6,
   "id": "cf2fdb90",
   "metadata": {},
   "outputs": [],
   "source": [
    "wind1 = RenewableDispatch(;\n",
    "           name = \"wind1\",\n",
    "           available = true,\n",
    "           bus = bus1,\n",
    "           active_power = 0.0, # Per-unitized by device base_power\n",
    "           reactive_power = 0.0, # Per-unitized by device base_power\n",
    "           rating = 1.0, # 10 MW per-unitized by device base_power\n",
    "           prime_mover_type = PrimeMovers.WT,\n",
    "           reactive_power_limits = (min = 0.0, max = 0.0), # per-unitized by device base_power\n",
    "           power_factor = 1.0,\n",
    "           operation_cost = RenewableGenerationCost(nothing),\n",
    "           base_power = 10.0, # MVA\n",
    "       );"
   ]
  },
  {
   "cell_type": "code",
   "execution_count": 7,
   "id": "f6b31c80",
   "metadata": {},
   "outputs": [],
   "source": [
    "load1 = PowerLoad(;\n",
    "           name = \"load1\",\n",
    "           available = true,\n",
    "           bus = bus1,\n",
    "           active_power = 0.0, # Per-unitized by device base_power\n",
    "           reactive_power = 0.0, # Per-unitized by device base_power\n",
    "           base_power = 10.0, # MVA\n",
    "           max_active_power = 1.0, # 10 MW per-unitized by device base_power\n",
    "           max_reactive_power = 0.0,\n",
    "       );"
   ]
  },
  {
   "cell_type": "code",
   "execution_count": 8,
   "id": "fdacab4d",
   "metadata": {},
   "outputs": [],
   "source": [
    "load2 = PowerLoad(;\n",
    "           name = \"load2\",\n",
    "           available = true,\n",
    "           bus = bus1,\n",
    "           active_power = 0.0, # Per-unitized by device base_power\n",
    "           reactive_power = 0.0, # Per-unitized by device base_power\n",
    "           base_power = 30.0, # MVA\n",
    "           max_active_power = 1.0, # 10 MW per-unitized by device base_power\n",
    "           max_reactive_power = 0.0,\n",
    "       );"
   ]
  },
  {
   "cell_type": "code",
   "execution_count": 9,
   "id": "741b2ddb",
   "metadata": {},
   "outputs": [],
   "source": [
    "add_components!(system, [bus1, wind1, load1, load2])"
   ]
  },
  {
   "cell_type": "code",
   "execution_count": 43,
   "id": "66e66afd",
   "metadata": {},
   "outputs": [
    {
     "name": "stderr",
     "output_type": "stream",
     "text": [
      "\u001b[36m\u001b[1m[ \u001b[22m\u001b[39m\u001b[36m\u001b[1mInfo: \u001b[22m\u001b[39mUnit System changed to UnitSystem.NATURAL_UNITS = 2\n"
     ]
    }
   ],
   "source": [
    "set_units_base_system!(system, \"NATURAL_UNITS\")"
   ]
  },
  {
   "cell_type": "markdown",
   "id": "735227c7",
   "metadata": {},
   "source": [
    "Add TS data"
   ]
  },
  {
   "cell_type": "code",
   "execution_count": 10,
   "id": "abaac8a7",
   "metadata": {},
   "outputs": [],
   "source": [
    "wind_values = [6.0, 7, 7, 6, 7, 9, 9, 9, 8, 8, 7, 6, 5, 5, 5, 5, 5, 6, 6, 6, 7, 6, 7, 7];\n",
    "resolution = Dates.Minute(5);\n",
    "timestamps = range(DateTime(\"2020-01-01T08:00:00\"); step = resolution, length = 24);\n",
    "wind_timearray = TimeArray(timestamps, wind_values);\n",
    "wind_time_series = SingleTimeSeries(;\n",
    "           name = \"max_active_power\",\n",
    "           data = wind_timearray,\n",
    "       );"
   ]
  },
  {
   "cell_type": "code",
   "execution_count": 11,
   "id": "b9a84255",
   "metadata": {},
   "outputs": [],
   "source": [
    "add_time_series!(system, wind1, wind_time_series);"
   ]
  },
  {
   "cell_type": "code",
   "execution_count": 15,
   "id": "fa0d8c0d",
   "metadata": {},
   "outputs": [
    {
     "name": "stdout",
     "output_type": "stream",
     "text": [
      "┌──────────────────┬──────────────────┬─────────────────────┬─────────────────────┬────────┬─────────────────────┐\n",
      "│\u001b[1m time_series_type \u001b[0m│\u001b[1m             name \u001b[0m│\u001b[1m   initial_timestamp \u001b[0m│\u001b[1m          resolution \u001b[0m│\u001b[1m length \u001b[0m│\u001b[1m            features \u001b[0m│\n",
      "│\u001b[90m           String \u001b[0m│\u001b[90m           String \u001b[0m│\u001b[90m            DateTime \u001b[0m│\u001b[90m         Millisecond \u001b[0m│\u001b[90m  Int64 \u001b[0m│\u001b[90m   Dict{String, Any} \u001b[0m│\n",
      "├──────────────────┼──────────────────┼─────────────────────┼─────────────────────┼────────┼─────────────────────┤\n",
      "│ SingleTimeSeries │ max_active_power │ 2020-01-01T08:00:00 │ 300000 milliseconds │     24 │ Dict{String, Any}() │\n",
      "└──────────────────┴──────────────────┴─────────────────────┴─────────────────────┴────────┴─────────────────────┘\n"
     ]
    }
   ],
   "source": [
    "show_time_series(wind1)\n"
   ]
  },
  {
   "cell_type": "code",
   "execution_count": 18,
   "id": "29ee7cb0",
   "metadata": {},
   "outputs": [
    {
     "name": "stdout",
     "output_type": "stream",
     "text": [
      "PowerSystems functions containing 'time_series':\n",
      "  DeterministicSingleTimeSeries\n",
      "  SingleTimeSeries\n",
      "  StaticTimeSeries\n",
      "  StaticTimeSeriesCache\n",
      "  StaticTimeSeriesKey\n",
      "  TimeSeriesAssociation\n",
      "  TimeSeriesCounts\n",
      "  TimeSeriesData\n",
      "  TimeSeriesForcedOutage\n",
      "  TimeSeriesKey\n",
      "  add_time_series!\n",
      "  begin_time_series_update\n",
      "  bulk_add_time_series!\n",
      "  check_time_series_consistency\n",
      "  clear_time_series!\n",
      "  copy_subcomponent_time_series!\n",
      "  copy_time_series!\n",
      "  get_next_time_series_array!\n",
      "  get_static_time_series_summary_table\n",
      "  get_time_series\n",
      "  get_time_series_array\n",
      "  get_time_series_counts\n",
      "  get_time_series_keys\n",
      "  get_time_series_multiple\n",
      "  get_time_series_resolutions\n",
      "  get_time_series_timestamps\n",
      "  get_time_series_type\n",
      "  get_time_series_values\n",
      "  has_time_series\n",
      "  open_time_series_store!\n",
      "  remove_time_series!\n",
      "  show_time_series\n",
      "  supports_time_series\n",
      "  transform_single_time_series!\n"
     ]
    }
   ],
   "source": [
    "# Check what time series related functions are available\n",
    "println(\"PowerSystems functions containing 'time_series':\")\n",
    "for name in names(PowerSystems)\n",
    "    if occursin(\"time_series\", string(name)) || occursin(\"Time\", string(name))\n",
    "        println(\"  \", name)\n",
    "    end\n",
    "end"
   ]
  },
  {
   "cell_type": "code",
   "execution_count": 17,
   "id": "de2dd61d",
   "metadata": {},
   "outputs": [
    {
     "data": {
      "text/plain": [
       "24×1 TimeArray{Float64, 1, DateTime, Vector{Float64}} 2020-01-01T08:00:00 to 2020-01-01T09:55:00\n",
       "┌─────────────────────┬─────┐\n",
       "│\u001b[1m                     \u001b[0m│\u001b[1m A   \u001b[0m│\n",
       "├─────────────────────┼─────┤\n",
       "│ 2020-01-01T08:00:00 │ 6.0 │\n",
       "│ 2020-01-01T08:05:00 │ 7.0 │\n",
       "│ 2020-01-01T08:10:00 │ 7.0 │\n",
       "│ 2020-01-01T08:15:00 │ 6.0 │\n",
       "│ 2020-01-01T08:20:00 │ 7.0 │\n",
       "│ 2020-01-01T08:25:00 │ 9.0 │\n",
       "│ 2020-01-01T08:30:00 │ 9.0 │\n",
       "│ 2020-01-01T08:35:00 │ 9.0 │\n",
       "│ 2020-01-01T08:40:00 │ 8.0 │\n",
       "│ 2020-01-01T08:45:00 │ 8.0 │\n",
       "│ 2020-01-01T08:50:00 │ 7.0 │\n",
       "│          ⋮          │  ⋮  │\n",
       "│ 2020-01-01T09:10:00 │ 5.0 │\n",
       "│ 2020-01-01T09:15:00 │ 5.0 │\n",
       "│ 2020-01-01T09:20:00 │ 5.0 │\n",
       "│ 2020-01-01T09:25:00 │ 6.0 │\n",
       "│ 2020-01-01T09:30:00 │ 6.0 │\n",
       "│ 2020-01-01T09:35:00 │ 6.0 │\n",
       "│ 2020-01-01T09:40:00 │ 7.0 │\n",
       "│ 2020-01-01T09:45:00 │ 6.0 │\n",
       "│ 2020-01-01T09:50:00 │ 7.0 │\n",
       "│ 2020-01-01T09:55:00 │ 7.0 │\n",
       "└─────────────────────┴─────┘\n",
       "\u001b[36m               3 rows omitted\u001b[0m"
      ]
     },
     "execution_count": 17,
     "metadata": {},
     "output_type": "execute_result"
    }
   ],
   "source": [
    "get_time_series_array(SingleTimeSeries, wind1, \"max_active_power\")"
   ]
  },
  {
   "cell_type": "markdown",
   "id": "2399dce3",
   "metadata": {},
   "source": [
    "Adding a forecast"
   ]
  },
  {
   "cell_type": "code",
   "execution_count": 19,
   "id": "ff49ee17",
   "metadata": {},
   "outputs": [],
   "source": [
    "wind_forecast_data = Dict(\n",
    "           DateTime(\"2020-01-01T08:00:00\") => [5.0, 6, 7, 7, 7, 8, 9, 10, 10, 9, 7, 5],\n",
    "           DateTime(\"2020-01-01T08:30:00\") => [9.0, 9, 9, 9, 8, 7, 6, 5, 4, 5, 4, 4],\n",
    "           DateTime(\"2020-01-01T09:00:00\") => [6.0, 6, 5, 5, 4, 5, 6, 7, 7, 7, 6, 6],\n",
    "       );"
   ]
  },
  {
   "cell_type": "code",
   "execution_count": null,
   "id": "5fb126b7",
   "metadata": {},
   "outputs": [],
   "source": [
    "wind_forecast = Deterministic(\"max_active_power\", wind_forecast_data, resolution);\n",
    "add_time_series!(system, wind1, wind_forecast);\n"
   ]
  },
  {
   "cell_type": "code",
   "execution_count": 23,
   "id": "83af269d",
   "metadata": {},
   "outputs": [
    {
     "name": "stdout",
     "output_type": "stream",
     "text": [
      "┌──────────────────┬──────────────────┬─────────────────────┬─────────────────────┬────────┬─────────────────────┐\n",
      "│\u001b[1m time_series_type \u001b[0m│\u001b[1m             name \u001b[0m│\u001b[1m   initial_timestamp \u001b[0m│\u001b[1m          resolution \u001b[0m│\u001b[1m length \u001b[0m│\u001b[1m            features \u001b[0m│\n",
      "│\u001b[90m           String \u001b[0m│\u001b[90m           String \u001b[0m│\u001b[90m            DateTime \u001b[0m│\u001b[90m         Millisecond \u001b[0m│\u001b[90m  Int64 \u001b[0m│\u001b[90m   Dict{String, Any} \u001b[0m│\n",
      "├──────────────────┼──────────────────┼─────────────────────┼─────────────────────┼────────┼─────────────────────┤\n",
      "│ SingleTimeSeries │ max_active_power │ 2020-01-01T08:00:00 │ 300000 milliseconds │     24 │ Dict{String, Any}() │\n",
      "└──────────────────┴──────────────────┴─────────────────────┴─────────────────────┴────────┴─────────────────────┘\n",
      "┌──────────────────┬──────────────────┬─────────────────────┬────────────┬────────────┬──────────────────────┬───────┬─────────────────────┐\n",
      "│\u001b[1m time_series_type \u001b[0m│\u001b[1m             name \u001b[0m│\u001b[1m   initial_timestamp \u001b[0m│\u001b[1m resolution \u001b[0m│\u001b[1m    horizon \u001b[0m│\u001b[1m             interval \u001b[0m│\u001b[1m count \u001b[0m│\u001b[1m            features \u001b[0m│\n",
      "│\u001b[90m           String \u001b[0m│\u001b[90m           String \u001b[0m│\u001b[90m            DateTime \u001b[0m│\u001b[90m     Minute \u001b[0m│\u001b[90m     Minute \u001b[0m│\u001b[90m          Millisecond \u001b[0m│\u001b[90m Int64 \u001b[0m│\u001b[90m   Dict{String, Any} \u001b[0m│\n",
      "├──────────────────┼──────────────────┼─────────────────────┼────────────┼────────────┼──────────────────────┼───────┼─────────────────────┤\n",
      "│    Deterministic │ max_active_power │ 2020-01-01T08:00:00 │  5 minutes │ 60 minutes │ 1800000 milliseconds │     3 │ Dict{String, Any}() │\n",
      "└──────────────────┴──────────────────┴─────────────────────┴────────────┴────────────┴──────────────────────┴───────┴─────────────────────┘\n"
     ]
    }
   ],
   "source": [
    "show_time_series(wind1)"
   ]
  },
  {
   "cell_type": "code",
   "execution_count": 44,
   "id": "9f39ed14",
   "metadata": {},
   "outputs": [
    {
     "data": {
      "text/plain": [
       "12×1 TimeArray{Float64, 1, DateTime, SubArray{Float64, 1, Vector{Float64}, Tuple{UnitRange{Int64}}, true}} 2020-01-01T08:30:00 to 2020-01-01T09:25:00\n",
       "┌─────────────────────┬─────┐\n",
       "│\u001b[1m                     \u001b[0m│\u001b[1m A   \u001b[0m│\n",
       "├─────────────────────┼─────┤\n",
       "│ 2020-01-01T08:30:00 │ 9.0 │\n",
       "│ 2020-01-01T08:35:00 │ 9.0 │\n",
       "│ 2020-01-01T08:40:00 │ 9.0 │\n",
       "│ 2020-01-01T08:45:00 │ 9.0 │\n",
       "│ 2020-01-01T08:50:00 │ 8.0 │\n",
       "│ 2020-01-01T08:55:00 │ 7.0 │\n",
       "│ 2020-01-01T09:00:00 │ 6.0 │\n",
       "│ 2020-01-01T09:05:00 │ 5.0 │\n",
       "│ 2020-01-01T09:10:00 │ 4.0 │\n",
       "│ 2020-01-01T09:15:00 │ 5.0 │\n",
       "│ 2020-01-01T09:20:00 │ 4.0 │\n",
       "│ 2020-01-01T09:25:00 │ 4.0 │\n",
       "└─────────────────────┴─────┘"
      ]
     },
     "execution_count": 44,
     "metadata": {},
     "output_type": "execute_result"
    }
   ],
   "source": [
    "get_time_series_array(\n",
    "           Deterministic,\n",
    "           wind1,\n",
    "           \"max_active_power\";\n",
    "           start_time = DateTime(\"2020-01-01T08:30:00\"),\n",
    "       )"
   ]
  },
  {
   "cell_type": "markdown",
   "id": "14525660",
   "metadata": {},
   "source": [
    "Load"
   ]
  },
  {
   "cell_type": "code",
   "execution_count": 25,
   "id": "5fc356ce",
   "metadata": {},
   "outputs": [],
   "source": [
    "load_values = [0.3, 0.3, 0.3, 0.3, 0.4, 0.4, 0.4, 0.4, 0.5, 0.5, 0.6, 0.6,\n",
    "           0.7, 0.8, 0.8, 0.8, 0.8, 0.8, 0.9, 0.8, 0.8, 0.8, 0.8, 0.8];"
   ]
  },
  {
   "cell_type": "code",
   "execution_count": 26,
   "id": "6b21b6e5",
   "metadata": {},
   "outputs": [],
   "source": [
    "load_timearray = TimeArray(timestamps, load_values);"
   ]
  },
  {
   "cell_type": "code",
   "execution_count": 38,
   "id": "3327d52b",
   "metadata": {},
   "outputs": [],
   "source": [
    "load_time_series = SingleTimeSeries(;\n",
    "           name = \"max_active_power\",\n",
    "           data = load_timearray,\n",
    "           scaling_factor_multiplier = get_max_active_power,\n",
    "       );"
   ]
  },
  {
   "cell_type": "code",
   "execution_count": 28,
   "id": "1277bb79",
   "metadata": {},
   "outputs": [],
   "source": [
    "add_time_series!(system, [load1, load2], load_time_series);"
   ]
  },
  {
   "cell_type": "code",
   "execution_count": 48,
   "id": "c42b9319",
   "metadata": {},
   "outputs": [
    {
     "data": {
      "text/plain": [
       "24×1 TimeArray{Float64, 1, DateTime, Vector{Float64}} 2020-01-01T08:00:00 to 2020-01-01T09:55:00\n",
       "┌─────────────────────┬──────┐\n",
       "│\u001b[1m                     \u001b[0m│\u001b[1m A    \u001b[0m│\n",
       "├─────────────────────┼──────┤\n",
       "│ 2020-01-01T08:00:00 │  9.0 │\n",
       "│ 2020-01-01T08:05:00 │  9.0 │\n",
       "│ 2020-01-01T08:10:00 │  9.0 │\n",
       "│ 2020-01-01T08:15:00 │  9.0 │\n",
       "│ 2020-01-01T08:20:00 │ 12.0 │\n",
       "│ 2020-01-01T08:25:00 │ 12.0 │\n",
       "│ 2020-01-01T08:30:00 │ 12.0 │\n",
       "│ 2020-01-01T08:35:00 │ 12.0 │\n",
       "│ 2020-01-01T08:40:00 │ 15.0 │\n",
       "│ 2020-01-01T08:45:00 │ 15.0 │\n",
       "│ 2020-01-01T08:50:00 │ 18.0 │\n",
       "│          ⋮          │  ⋮   │\n",
       "│ 2020-01-01T09:10:00 │ 24.0 │\n",
       "│ 2020-01-01T09:15:00 │ 24.0 │\n",
       "│ 2020-01-01T09:20:00 │ 24.0 │\n",
       "│ 2020-01-01T09:25:00 │ 24.0 │\n",
       "│ 2020-01-01T09:30:00 │ 27.0 │\n",
       "│ 2020-01-01T09:35:00 │ 24.0 │\n",
       "│ 2020-01-01T09:40:00 │ 24.0 │\n",
       "│ 2020-01-01T09:45:00 │ 24.0 │\n",
       "│ 2020-01-01T09:50:00 │ 24.0 │\n",
       "│ 2020-01-01T09:55:00 │ 24.0 │\n",
       "└─────────────────────┴──────┘\n",
       "\u001b[36m                3 rows omitted\u001b[0m"
      ]
     },
     "execution_count": 48,
     "metadata": {},
     "output_type": "execute_result"
    }
   ],
   "source": [
    "ts_data = get_time_series_array(SingleTimeSeries, load2, \"max_active_power\") "
   ]
  },
  {
   "cell_type": "code",
   "execution_count": 50,
   "id": "60fbafab",
   "metadata": {},
   "outputs": [
    {
     "data": {
      "image/png": "[encoded data removed]",
      "image/svg+xml": [
       "<?xml version=\"1.0\" encoding=\"utf-8\"?>\n",
       "<svg xmlns=\"http://www.w3.org/2000/svg\" xmlns:xlink=\"http://www.w3.org/1999/xlink\" width=\"600\" height=\"400\" viewBox=\"0 0 2400 1600\">\n",
       "<defs>\n",
       "  <clipPath id=\"clip490\">\n",
       "    <rect x=\"0\" y=\"0\" width=\"2400\" height=\"1600\"/>\n",
       "  </clipPath>\n",
       "</defs>\n",
       "<path clip-path=\"url(#clip490)\" d=\"M0 1600 L2400 1600 L2400 0 L0 0  Z\" fill=\"#ffffff\" fill-rule=\"evenodd\" fill-opacity=\"1\"/>\n",
       "<defs>\n",
       "  <clipPath id=\"clip491\">\n",
       "    <rect x=\"480\" y=\"0\" width=\"1681\" height=\"1600\"/>\n",
       "  </clipPath>\n",
       "</defs>\n",
       "<path clip-path=\"url(#clip490)\" d=\"M203.964 1423.18 L2352.76 1423.18 L2352.76 123.472 L203.964 123.472  Z\" fill=\"#ffffff\" fill-rule=\"evenodd\" fill-opacity=\"1\"/>\n",
       "<defs>\n",
       "  <clipPath id=\"clip492\">\n",
       "    <rect x=\"203\" y=\"123\" width=\"2150\" height=\"1301\"/>\n",
       "  </clipPath>\n",
       "</defs>\n",
       "<polyline clip-path=\"url(#clip492)\" style=\"stroke:#000000; stroke-linecap:round; stroke-linejoin:round; stroke-width:2; stroke-opacity:0.1; fill:none\" points=\"264.778,1423.18 264.778,123.472 \"/>\n",
       "<polyline clip-path=\"url(#clip492)\" style=\"stroke:#000000; stroke-linecap:round; stroke-linejoin:round; stroke-width:2; stroke-opacity:0.1; fill:none\" points=\"1322.43,1423.18 1322.43,123.472 \"/>\n",
       "<polyline clip-path=\"url(#clip492)\" style=\"stroke:#000000; stroke-linecap:round; stroke-linejoin:round; stroke-width:2; stroke-opacity:0.1; fill:none\" points=\"203.964,1318.28 2352.76,1318.28 \"/>\n",
       "<polyline clip-path=\"url(#clip492)\" style=\"stroke:#000000; stroke-linecap:round; stroke-linejoin:round; stroke-width:2; stroke-opacity:0.1; fill:none\" points=\"203.964,977.683 2352.76,977.683 \"/>\n",
       "<polyline clip-path=\"url(#clip492)\" style=\"stroke:#000000; stroke-linecap:round; stroke-linejoin:round; stroke-width:2; stroke-opacity:0.1; fill:none\" points=\"203.964,637.088 2352.76,637.088 \"/>\n",
       "<polyline clip-path=\"url(#clip492)\" style=\"stroke:#000000; stroke-linecap:round; stroke-linejoin:round; stroke-width:2; stroke-opacity:0.1; fill:none\" points=\"203.964,296.494 2352.76,296.494 \"/>\n",
       "<polyline clip-path=\"url(#clip490)\" style=\"stroke:#000000; stroke-linecap:round; stroke-linejoin:round; stroke-width:4; stroke-opacity:1; fill:none\" points=\"203.964,1423.18 2352.76,1423.18 \"/>\n",
       "<polyline clip-path=\"url(#clip490)\" style=\"stroke:#000000; stroke-linecap:round; stroke-linejoin:round; stroke-width:4; stroke-opacity:1; fill:none\" points=\"264.778,1423.18 264.778,1404.28 \"/>\n",
       "<polyline clip-path=\"url(#clip490)\" style=\"stroke:#000000; stroke-linecap:round; stroke-linejoin:round; stroke-width:4; stroke-opacity:1; fill:none\" points=\"1322.43,1423.18 1322.43,1404.28 \"/>\n",
       "<path clip-path=\"url(#clip490)\" d=\"M15.0228 1481.64 L31.3422 1481.64 L31.3422 1485.58 L9.39788 1485.58 L9.39788 1481.64 Q12.0599 1478.89 16.6432 1474.26 Q21.2497 1469.61 22.4302 1468.27 Q24.6756 1465.74 25.5552 1464.01 Q26.458 1462.25 26.458 1460.56 Q26.458 1457.8 24.5135 1456.07 Q22.5922 1454.33 19.4904 1454.33 Q17.2914 1454.33 14.8377 1455.09 Q12.4071 1455.86 9.62936 1457.41 L9.62936 1452.69 Q12.4534 1451.55 14.9071 1450.97 Q17.3608 1450.39 19.3978 1450.39 Q24.7682 1450.39 27.9626 1453.08 Q31.157 1455.77 31.157 1460.26 Q31.157 1462.39 30.3468 1464.31 Q29.5598 1466.2 27.4533 1468.8 Q26.8746 1469.47 23.7728 1472.69 Q20.671 1475.88 15.0228 1481.64 Z\" fill=\"#000000\" fill-rule=\"nonzero\" fill-opacity=\"1\" /><path clip-path=\"url(#clip490)\" d=\"M51.1569 1454.1 Q47.5458 1454.1 45.7171 1457.66 Q43.9116 1461.2 43.9116 1468.33 Q43.9116 1475.44 45.7171 1479.01 Q47.5458 1482.55 51.1569 1482.55 Q54.7912 1482.55 56.5967 1479.01 Q58.4254 1475.44 58.4254 1468.33 Q58.4254 1461.2 56.5967 1457.66 Q54.7912 1454.1 51.1569 1454.1 M51.1569 1450.39 Q56.9671 1450.39 60.0226 1455 Q63.1013 1459.58 63.1013 1468.33 Q63.1013 1477.06 60.0226 1481.67 Q56.9671 1486.25 51.1569 1486.25 Q45.3468 1486.25 42.2681 1481.67 Q39.2125 1477.06 39.2125 1468.33 Q39.2125 1459.58 42.2681 1455 Q45.3468 1450.39 51.1569 1450.39 Z\" fill=\"#000000\" fill-rule=\"nonzero\" fill-opacity=\"1\" /><path clip-path=\"url(#clip490)\" d=\"M75.3466 1481.64 L91.666 1481.64 L91.666 1485.58 L69.7216 1485.58 L69.7216 1481.64 Q72.3836 1478.89 76.967 1474.26 Q81.5734 1469.61 82.754 1468.27 Q84.9993 1465.74 85.8789 1464.01 Q86.7817 1462.25 86.7817 1460.56 Q86.7817 1457.8 84.8373 1456.07 Q82.916 1454.33 79.8142 1454.33 Q77.6151 1454.33 75.1614 1455.09 Q72.7309 1455.86 69.9531 1457.41 L69.9531 1452.69 Q72.7772 1451.55 75.2309 1450.97 Q77.6845 1450.39 79.7216 1450.39 Q85.0919 1450.39 88.2863 1453.08 Q91.4808 1455.77 91.4808 1460.26 Q91.4808 1462.39 90.6706 1464.31 Q89.8836 1466.2 87.7771 1468.8 Q87.1984 1469.47 84.0965 1472.69 Q80.9947 1475.88 75.3466 1481.64 Z\" fill=\"#000000\" fill-rule=\"nonzero\" fill-opacity=\"1\" /><path clip-path=\"url(#clip490)\" d=\"M111.481 1454.1 Q107.87 1454.1 106.041 1457.66 Q104.235 1461.2 104.235 1468.33 Q104.235 1475.44 106.041 1479.01 Q107.87 1482.55 111.481 1482.55 Q115.115 1482.55 116.92 1479.01 Q118.749 1475.44 118.749 1468.33 Q118.749 1461.2 116.92 1457.66 Q115.115 1454.1 111.481 1454.1 M111.481 1450.39 Q117.291 1450.39 120.346 1455 Q123.425 1459.58 123.425 1468.33 Q123.425 1477.06 120.346 1481.67 Q117.291 1486.25 111.481 1486.25 Q105.671 1486.25 102.592 1481.67 Q99.5363 1477.06 99.5363 1468.33 Q99.5363 1459.58 102.592 1455 Q105.671 1450.39 111.481 1450.39 Z\" fill=\"#000000\" fill-rule=\"nonzero\" fill-opacity=\"1\" /><path clip-path=\"url(#clip490)\" d=\"M128.888 1470.7 L141.365 1470.7 L141.365 1474.49 L128.888 1474.49 L128.888 1470.7 Z\" fill=\"#000000\" fill-rule=\"nonzero\" fill-opacity=\"1\" /><path clip-path=\"url(#clip490)\" d=\"M158.749 1454.1 Q155.138 1454.1 153.309 1457.66 Q151.504 1461.2 151.504 1468.33 Q151.504 1475.44 153.309 1479.01 Q155.138 1482.55 158.749 1482.55 Q162.383 1482.55 164.189 1479.01 Q166.017 1475.44 166.017 1468.33 Q166.017 1461.2 164.189 1457.66 Q162.383 1454.1 158.749 1454.1 M158.749 1450.39 Q164.559 1450.39 167.615 1455 Q170.693 1459.58 170.693 1468.33 Q170.693 1477.06 167.615 1481.67 Q164.559 1486.25 158.749 1486.25 Q152.939 1486.25 149.86 1481.67 Q146.805 1477.06 146.805 1468.33 Q146.805 1459.58 149.86 1455 Q152.939 1450.39 158.749 1450.39 Z\" fill=\"#000000\" fill-rule=\"nonzero\" fill-opacity=\"1\" /><path clip-path=\"url(#clip490)\" d=\"M179.721 1481.64 L187.36 1481.64 L187.36 1455.28 L179.05 1456.95 L179.05 1452.69 L187.314 1451.02 L191.989 1451.02 L191.989 1481.64 L199.628 1481.64 L199.628 1485.58 L179.721 1485.58 L179.721 1481.64 Z\" fill=\"#000000\" fill-rule=\"nonzero\" fill-opacity=\"1\" /><path clip-path=\"url(#clip490)\" d=\"M206.318 1470.7 L218.795 1470.7 L218.795 1474.49 L206.318 1474.49 L206.318 1470.7 Z\" fill=\"#000000\" fill-rule=\"nonzero\" fill-opacity=\"1\" /><path clip-path=\"url(#clip490)\" d=\"M236.179 1454.1 Q232.568 1454.1 230.739 1457.66 Q228.934 1461.2 228.934 1468.33 Q228.934 1475.44 230.739 1479.01 Q232.568 1482.55 236.179 1482.55 Q239.813 1482.55 241.619 1479.01 Q243.448 1475.44 243.448 1468.33 Q243.448 1461.2 241.619 1457.66 Q239.813 1454.1 236.179 1454.1 M236.179 1450.39 Q241.989 1450.39 245.045 1455 Q248.123 1459.58 248.123 1468.33 Q248.123 1477.06 245.045 1481.67 Q241.989 1486.25 236.179 1486.25 Q230.369 1486.25 227.29 1481.67 Q224.235 1477.06 224.235 1468.33 Q224.235 1459.58 227.29 1455 Q230.369 1450.39 236.179 1450.39 Z\" fill=\"#000000\" fill-rule=\"nonzero\" fill-opacity=\"1\" /><path clip-path=\"url(#clip490)\" d=\"M257.151 1481.64 L264.79 1481.64 L264.79 1455.28 L256.48 1456.95 L256.48 1452.69 L264.744 1451.02 L269.42 1451.02 L269.42 1481.64 L277.058 1481.64 L277.058 1485.58 L257.151 1485.58 L257.151 1481.64 Z\" fill=\"#000000\" fill-rule=\"nonzero\" fill-opacity=\"1\" /><path clip-path=\"url(#clip490)\" d=\"M281.295 1451.02 L310.531 1451.02 L310.531 1454.96 L298.262 1454.96 L298.262 1485.58 L293.563 1485.58 L293.563 1454.96 L281.295 1454.96 L281.295 1451.02 Z\" fill=\"#000000\" fill-rule=\"nonzero\" fill-opacity=\"1\" /><path clip-path=\"url(#clip490)\" d=\"M325.461 1454.1 Q321.85 1454.1 320.021 1457.66 Q318.216 1461.2 318.216 1468.33 Q318.216 1475.44 320.021 1479.01 Q321.85 1482.55 325.461 1482.55 Q329.095 1482.55 330.901 1479.01 Q332.729 1475.44 332.729 1468.33 Q332.729 1461.2 330.901 1457.66 Q329.095 1454.1 325.461 1454.1 M325.461 1450.39 Q331.271 1450.39 334.327 1455 Q337.405 1459.58 337.405 1468.33 Q337.405 1477.06 334.327 1481.67 Q331.271 1486.25 325.461 1486.25 Q319.651 1486.25 316.572 1481.67 Q313.517 1477.06 313.517 1468.33 Q313.517 1459.58 316.572 1455 Q319.651 1450.39 325.461 1450.39 Z\" fill=\"#000000\" fill-rule=\"nonzero\" fill-opacity=\"1\" /><path clip-path=\"url(#clip490)\" d=\"M355.623 1469.17 Q352.29 1469.17 350.368 1470.95 Q348.47 1472.73 348.47 1475.86 Q348.47 1478.98 350.368 1480.77 Q352.29 1482.55 355.623 1482.55 Q358.956 1482.55 360.877 1480.77 Q362.799 1478.96 362.799 1475.86 Q362.799 1472.73 360.877 1470.95 Q358.979 1469.17 355.623 1469.17 M350.947 1467.18 Q347.938 1466.44 346.248 1464.38 Q344.581 1462.32 344.581 1459.35 Q344.581 1455.21 347.521 1452.8 Q350.484 1450.39 355.623 1450.39 Q360.785 1450.39 363.725 1452.8 Q366.664 1455.21 366.664 1459.35 Q366.664 1462.32 364.975 1464.38 Q363.308 1466.44 360.322 1467.18 Q363.702 1467.96 365.577 1470.26 Q367.475 1472.55 367.475 1475.86 Q367.475 1480.88 364.396 1483.57 Q361.34 1486.25 355.623 1486.25 Q349.905 1486.25 346.827 1483.57 Q343.771 1480.88 343.771 1475.86 Q343.771 1472.55 345.669 1470.26 Q347.567 1467.96 350.947 1467.18 M349.234 1459.79 Q349.234 1462.48 350.901 1463.98 Q352.59 1465.49 355.623 1465.49 Q358.632 1465.49 360.322 1463.98 Q362.035 1462.48 362.035 1459.79 Q362.035 1457.11 360.322 1455.6 Q358.632 1454.1 355.623 1454.1 Q352.59 1454.1 350.901 1455.6 Q349.234 1457.11 349.234 1459.79 Z\" fill=\"#000000\" fill-rule=\"nonzero\" fill-opacity=\"1\" /><path clip-path=\"url(#clip490)\" d=\"M376.271 1479.7 L381.155 1479.7 L381.155 1485.58 L376.271 1485.58 L376.271 1479.7 M376.271 1461.07 L381.155 1461.07 L381.155 1466.95 L376.271 1466.95 L376.271 1461.07 Z\" fill=\"#000000\" fill-rule=\"nonzero\" fill-opacity=\"1\" /><path clip-path=\"url(#clip490)\" d=\"M401.757 1454.1 Q398.146 1454.1 396.317 1457.66 Q394.512 1461.2 394.512 1468.33 Q394.512 1475.44 396.317 1479.01 Q398.146 1482.55 401.757 1482.55 Q405.391 1482.55 407.197 1479.01 Q409.025 1475.44 409.025 1468.33 Q409.025 1461.2 407.197 1457.66 Q405.391 1454.1 401.757 1454.1 M401.757 1450.39 Q407.567 1450.39 410.623 1455 Q413.701 1459.58 413.701 1468.33 Q413.701 1477.06 410.623 1481.67 Q407.567 1486.25 401.757 1486.25 Q395.947 1486.25 392.868 1481.67 Q389.813 1477.06 389.813 1468.33 Q389.813 1459.58 392.868 1455 Q395.947 1450.39 401.757 1450.39 Z\" fill=\"#000000\" fill-rule=\"nonzero\" fill-opacity=\"1\" /><path clip-path=\"url(#clip490)\" d=\"M431.919 1454.1 Q428.308 1454.1 426.479 1457.66 Q424.673 1461.2 424.673 1468.33 Q424.673 1475.44 426.479 1479.01 Q428.308 1482.55 431.919 1482.55 Q435.553 1482.55 437.359 1479.01 Q439.187 1475.44 439.187 1468.33 Q439.187 1461.2 437.359 1457.66 Q435.553 1454.1 431.919 1454.1 M431.919 1450.39 Q437.729 1450.39 440.784 1455 Q443.863 1459.58 443.863 1468.33 Q443.863 1477.06 440.784 1481.67 Q437.729 1486.25 431.919 1486.25 Q426.109 1486.25 423.03 1481.67 Q419.974 1477.06 419.974 1468.33 Q419.974 1459.58 423.03 1455 Q426.109 1450.39 431.919 1450.39 Z\" fill=\"#000000\" fill-rule=\"nonzero\" fill-opacity=\"1\" /><path clip-path=\"url(#clip490)\" d=\"M452.567 1479.7 L457.451 1479.7 L457.451 1485.58 L452.567 1485.58 L452.567 1479.7 M452.567 1461.07 L457.451 1461.07 L457.451 1466.95 L452.567 1466.95 L452.567 1461.07 Z\" fill=\"#000000\" fill-rule=\"nonzero\" fill-opacity=\"1\" /><path clip-path=\"url(#clip490)\" d=\"M478.053 1454.1 Q474.442 1454.1 472.613 1457.66 Q470.807 1461.2 470.807 1468.33 Q470.807 1475.44 472.613 1479.01 Q474.442 1482.55 478.053 1482.55 Q481.687 1482.55 483.493 1479.01 Q485.321 1475.44 485.321 1468.33 Q485.321 1461.2 483.493 1457.66 Q481.687 1454.1 478.053 1454.1 M478.053 1450.39 Q483.863 1450.39 486.918 1455 Q489.997 1459.58 489.997 1468.33 Q489.997 1477.06 486.918 1481.67 Q483.863 1486.25 478.053 1486.25 Q472.243 1486.25 469.164 1481.67 Q466.108 1477.06 466.108 1468.33 Q466.108 1459.58 469.164 1455 Q472.243 1450.39 478.053 1450.39 Z\" fill=\"#000000\" fill-rule=\"nonzero\" fill-opacity=\"1\" /><path clip-path=\"url(#clip490)\" d=\"M508.215 1454.1 Q504.604 1454.1 502.775 1457.66 Q500.969 1461.2 500.969 1468.33 Q500.969 1475.44 502.775 1479.01 Q504.604 1482.55 508.215 1482.55 Q511.849 1482.55 513.654 1479.01 Q515.483 1475.44 515.483 1468.33 Q515.483 1461.2 513.654 1457.66 Q511.849 1454.1 508.215 1454.1 M508.215 1450.39 Q514.025 1450.39 517.08 1455 Q520.159 1459.58 520.159 1468.33 Q520.159 1477.06 517.08 1481.67 Q514.025 1486.25 508.215 1486.25 Q502.404 1486.25 499.326 1481.67 Q496.27 1477.06 496.27 1468.33 Q496.27 1459.58 499.326 1455 Q502.404 1450.39 508.215 1450.39 Z\" fill=\"#000000\" fill-rule=\"nonzero\" fill-opacity=\"1\" /><path clip-path=\"url(#clip490)\" d=\"M1072.67 1481.64 L1088.99 1481.64 L1088.99 1485.58 L1067.05 1485.58 L1067.05 1481.64 Q1069.71 1478.89 1074.29 1474.26 Q1078.9 1469.61 1080.08 1468.27 Q1082.33 1465.74 1083.21 1464.01 Q1084.11 1462.25 1084.11 1460.56 Q1084.11 1457.8 1082.16 1456.07 Q1080.24 1454.33 1077.14 1454.33 Q1074.94 1454.33 1072.49 1455.09 Q1070.06 1455.86 1067.28 1457.41 L1067.28 1452.69 Q1070.1 1451.55 1072.56 1450.97 Q1075.01 1450.39 1077.05 1450.39 Q1082.42 1450.39 1085.61 1453.08 Q1088.81 1455.77 1088.81 1460.26 Q1088.81 1462.39 1088 1464.31 Q1087.21 1466.2 1085.1 1468.8 Q1084.52 1469.47 1081.42 1472.69 Q1078.32 1475.88 1072.67 1481.64 Z\" fill=\"#000000\" fill-rule=\"nonzero\" fill-opacity=\"1\" /><path clip-path=\"url(#clip490)\" d=\"M1108.81 1454.1 Q1105.2 1454.1 1103.37 1457.66 Q1101.56 1461.2 1101.56 1468.33 Q1101.56 1475.44 1103.37 1479.01 Q1105.2 1482.55 1108.81 1482.55 Q1112.44 1482.55 1114.25 1479.01 Q1116.08 1475.44 1116.08 1468.33 Q1116.08 1461.2 1114.25 1457.66 Q1112.44 1454.1 1108.81 1454.1 M1108.81 1450.39 Q1114.62 1450.39 1117.67 1455 Q1120.75 1459.58 1120.75 1468.33 Q1120.75 1477.06 1117.67 1481.67 Q1114.62 1486.25 1108.81 1486.25 Q1103 1486.25 1099.92 1481.67 Q1096.86 1477.06 1096.86 1468.33 Q1096.86 1459.58 1099.92 1455 Q1103 1450.39 1108.81 1450.39 Z\" fill=\"#000000\" fill-rule=\"nonzero\" fill-opacity=\"1\" /><path clip-path=\"url(#clip490)\" d=\"M1133 1481.64 L1149.32 1481.64 L1149.32 1485.58 L1127.37 1485.58 L1127.37 1481.64 Q1130.03 1478.89 1134.62 1474.26 Q1139.22 1469.61 1140.4 1468.27 Q1142.65 1465.74 1143.53 1464.01 Q1144.43 1462.25 1144.43 1460.56 Q1144.43 1457.8 1142.49 1456.07 Q1140.57 1454.33 1137.46 1454.33 Q1135.27 1454.33 1132.81 1455.09 Q1130.38 1455.86 1127.6 1457.41 L1127.6 1452.69 Q1130.43 1451.55 1132.88 1450.97 Q1135.33 1450.39 1137.37 1450.39 Q1142.74 1450.39 1145.94 1453.08 Q1149.13 1455.77 1149.13 1460.26 Q1149.13 1462.39 1148.32 1464.31 Q1147.53 1466.2 1145.43 1468.8 Q1144.85 1469.47 1141.75 1472.69 Q1138.64 1475.88 1133 1481.64 Z\" fill=\"#000000\" fill-rule=\"nonzero\" fill-opacity=\"1\" /><path clip-path=\"url(#clip490)\" d=\"M1169.13 1454.1 Q1165.52 1454.1 1163.69 1457.66 Q1161.89 1461.2 1161.89 1468.33 Q1161.89 1475.44 1163.69 1479.01 Q1165.52 1482.55 1169.13 1482.55 Q1172.76 1482.55 1174.57 1479.01 Q1176.4 1475.44 1176.4 1468.33 Q1176.4 1461.2 1174.57 1457.66 Q1172.76 1454.1 1169.13 1454.1 M1169.13 1450.39 Q1174.94 1450.39 1178 1455 Q1181.08 1459.58 1181.08 1468.33 Q1181.08 1477.06 1178 1481.67 Q1174.94 1486.25 1169.13 1486.25 Q1163.32 1486.25 1160.24 1481.67 Q1157.19 1477.06 1157.19 1468.33 Q1157.19 1459.58 1160.24 1455 Q1163.32 1450.39 1169.13 1450.39 Z\" fill=\"#000000\" fill-rule=\"nonzero\" fill-opacity=\"1\" /><path clip-path=\"url(#clip490)\" d=\"M1186.54 1470.7 L1199.01 1470.7 L1199.01 1474.49 L1186.54 1474.49 L1186.54 1470.7 Z\" fill=\"#000000\" fill-rule=\"nonzero\" fill-opacity=\"1\" /><path clip-path=\"url(#clip490)\" d=\"M1216.4 1454.1 Q1212.79 1454.1 1210.96 1457.66 Q1209.15 1461.2 1209.15 1468.33 Q1209.15 1475.44 1210.96 1479.01 Q1212.79 1482.55 1216.4 1482.55 Q1220.03 1482.55 1221.84 1479.01 Q1223.67 1475.44 1223.67 1468.33 Q1223.67 1461.2 1221.84 1457.66 Q1220.03 1454.1 1216.4 1454.1 M1216.4 1450.39 Q1222.21 1450.39 1225.26 1455 Q1228.34 1459.58 1228.34 1468.33 Q1228.34 1477.06 1225.26 1481.67 Q1222.21 1486.25 1216.4 1486.25 Q1210.59 1486.25 1207.51 1481.67 Q1204.45 1477.06 1204.45 1468.33 Q1204.45 1459.58 1207.51 1455 Q1210.59 1450.39 1216.4 1450.39 Z\" fill=\"#000000\" fill-rule=\"nonzero\" fill-opacity=\"1\" /><path clip-path=\"url(#clip490)\" d=\"M1237.37 1481.64 L1245.01 1481.64 L1245.01 1455.28 L1236.7 1456.95 L1236.7 1452.69 L1244.96 1451.02 L1249.64 1451.02 L1249.64 1481.64 L1257.28 1481.64 L1257.28 1485.58 L1237.37 1485.58 L1237.37 1481.64 Z\" fill=\"#000000\" fill-rule=\"nonzero\" fill-opacity=\"1\" /><path clip-path=\"url(#clip490)\" d=\"M1263.97 1470.7 L1276.44 1470.7 L1276.44 1474.49 L1263.97 1474.49 L1263.97 1470.7 Z\" fill=\"#000000\" fill-rule=\"nonzero\" fill-opacity=\"1\" /><path clip-path=\"url(#clip490)\" d=\"M1293.83 1454.1 Q1290.22 1454.1 1288.39 1457.66 Q1286.58 1461.2 1286.58 1468.33 Q1286.58 1475.44 1288.39 1479.01 Q1290.22 1482.55 1293.83 1482.55 Q1297.46 1482.55 1299.27 1479.01 Q1301.1 1475.44 1301.1 1468.33 Q1301.1 1461.2 1299.27 1457.66 Q1297.46 1454.1 1293.83 1454.1 M1293.83 1450.39 Q1299.64 1450.39 1302.69 1455 Q1305.77 1459.58 1305.77 1468.33 Q1305.77 1477.06 1302.69 1481.67 Q1299.64 1486.25 1293.83 1486.25 Q1288.02 1486.25 1284.94 1481.67 Q1281.88 1477.06 1281.88 1468.33 Q1281.88 1459.58 1284.94 1455 Q1288.02 1450.39 1293.83 1450.39 Z\" fill=\"#000000\" fill-rule=\"nonzero\" fill-opacity=\"1\" /><path clip-path=\"url(#clip490)\" d=\"M1314.8 1481.64 L1322.44 1481.64 L1322.44 1455.28 L1314.13 1456.95 L1314.13 1452.69 L1322.39 1451.02 L1327.07 1451.02 L1327.07 1481.64 L1334.71 1481.64 L1334.71 1485.58 L1314.8 1485.58 L1314.8 1481.64 Z\" fill=\"#000000\" fill-rule=\"nonzero\" fill-opacity=\"1\" /><path clip-path=\"url(#clip490)\" d=\"M1338.94 1451.02 L1368.18 1451.02 L1368.18 1454.96 L1355.91 1454.96 L1355.91 1485.58 L1351.21 1485.58 L1351.21 1454.96 L1338.94 1454.96 L1338.94 1451.02 Z\" fill=\"#000000\" fill-rule=\"nonzero\" fill-opacity=\"1\" /><path clip-path=\"url(#clip490)\" d=\"M1383.11 1454.1 Q1379.5 1454.1 1377.67 1457.66 Q1375.87 1461.2 1375.87 1468.33 Q1375.87 1475.44 1377.67 1479.01 Q1379.5 1482.55 1383.11 1482.55 Q1386.75 1482.55 1388.55 1479.01 Q1390.38 1475.44 1390.38 1468.33 Q1390.38 1461.2 1388.55 1457.66 Q1386.75 1454.1 1383.11 1454.1 M1383.11 1450.39 Q1388.92 1450.39 1391.98 1455 Q1395.06 1459.58 1395.06 1468.33 Q1395.06 1477.06 1391.98 1481.67 Q1388.92 1486.25 1383.11 1486.25 Q1377.3 1486.25 1374.22 1481.67 Q1371.17 1477.06 1371.17 1468.33 Q1371.17 1459.58 1374.22 1455 Q1377.3 1450.39 1383.11 1450.39 Z\" fill=\"#000000\" fill-rule=\"nonzero\" fill-opacity=\"1\" /><path clip-path=\"url(#clip490)\" d=\"M1403.41 1484.86 L1403.41 1480.6 Q1405.17 1481.44 1406.98 1481.88 Q1408.78 1482.32 1410.52 1482.32 Q1415.15 1482.32 1417.58 1479.21 Q1420.03 1476.09 1420.38 1469.75 Q1419.04 1471.74 1416.98 1472.8 Q1414.92 1473.87 1412.42 1473.87 Q1407.23 1473.87 1404.2 1470.74 Q1401.19 1467.59 1401.19 1462.15 Q1401.19 1456.83 1404.34 1453.61 Q1407.49 1450.39 1412.72 1450.39 Q1418.71 1450.39 1421.86 1455 Q1425.03 1459.58 1425.03 1468.33 Q1425.03 1476.51 1421.14 1481.39 Q1417.28 1486.25 1410.73 1486.25 Q1408.97 1486.25 1407.16 1485.9 Q1405.36 1485.56 1403.41 1484.86 M1412.72 1470.21 Q1415.87 1470.21 1417.69 1468.06 Q1419.55 1465.9 1419.55 1462.15 Q1419.55 1458.43 1417.69 1456.27 Q1415.87 1454.1 1412.72 1454.1 Q1409.57 1454.1 1407.72 1456.27 Q1405.89 1458.43 1405.89 1462.15 Q1405.89 1465.9 1407.72 1468.06 Q1409.57 1470.21 1412.72 1470.21 Z\" fill=\"#000000\" fill-rule=\"nonzero\" fill-opacity=\"1\" /><path clip-path=\"url(#clip490)\" d=\"M1433.92 1479.7 L1438.81 1479.7 L1438.81 1485.58 L1433.92 1485.58 L1433.92 1479.7 M1433.92 1461.07 L1438.81 1461.07 L1438.81 1466.95 L1433.92 1466.95 L1433.92 1461.07 Z\" fill=\"#000000\" fill-rule=\"nonzero\" fill-opacity=\"1\" /><path clip-path=\"url(#clip490)\" d=\"M1459.41 1454.1 Q1455.8 1454.1 1453.97 1457.66 Q1452.16 1461.2 1452.16 1468.33 Q1452.16 1475.44 1453.97 1479.01 Q1455.8 1482.55 1459.41 1482.55 Q1463.04 1482.55 1464.85 1479.01 Q1466.68 1475.44 1466.68 1468.33 Q1466.68 1461.2 1464.85 1457.66 Q1463.04 1454.1 1459.41 1454.1 M1459.41 1450.39 Q1465.22 1450.39 1468.27 1455 Q1471.35 1459.58 1471.35 1468.33 Q1471.35 1477.06 1468.27 1481.67 Q1465.22 1486.25 1459.41 1486.25 Q1453.6 1486.25 1450.52 1481.67 Q1447.46 1477.06 1447.46 1468.33 Q1447.46 1459.58 1450.52 1455 Q1453.6 1450.39 1459.41 1450.39 Z\" fill=\"#000000\" fill-rule=\"nonzero\" fill-opacity=\"1\" /><path clip-path=\"url(#clip490)\" d=\"M1489.57 1454.1 Q1485.96 1454.1 1484.13 1457.66 Q1482.32 1461.2 1482.32 1468.33 Q1482.32 1475.44 1484.13 1479.01 Q1485.96 1482.55 1489.57 1482.55 Q1493.2 1482.55 1495.01 1479.01 Q1496.84 1475.44 1496.84 1468.33 Q1496.84 1461.2 1495.01 1457.66 Q1493.2 1454.1 1489.57 1454.1 M1489.57 1450.39 Q1495.38 1450.39 1498.43 1455 Q1501.51 1459.58 1501.51 1468.33 Q1501.51 1477.06 1498.43 1481.67 Q1495.38 1486.25 1489.57 1486.25 Q1483.76 1486.25 1480.68 1481.67 Q1477.62 1477.06 1477.62 1468.33 Q1477.62 1459.58 1480.68 1455 Q1483.76 1450.39 1489.57 1450.39 Z\" fill=\"#000000\" fill-rule=\"nonzero\" fill-opacity=\"1\" /><path clip-path=\"url(#clip490)\" d=\"M1510.22 1479.7 L1515.1 1479.7 L1515.1 1485.58 L1510.22 1485.58 L1510.22 1479.7 M1510.22 1461.07 L1515.1 1461.07 L1515.1 1466.95 L1510.22 1466.95 L1510.22 1461.07 Z\" fill=\"#000000\" fill-rule=\"nonzero\" fill-opacity=\"1\" /><path clip-path=\"url(#clip490)\" d=\"M1535.7 1454.1 Q1532.09 1454.1 1530.26 1457.66 Q1528.46 1461.2 1528.46 1468.33 Q1528.46 1475.44 1530.26 1479.01 Q1532.09 1482.55 1535.7 1482.55 Q1539.34 1482.55 1541.14 1479.01 Q1542.97 1475.44 1542.97 1468.33 Q1542.97 1461.2 1541.14 1457.66 Q1539.34 1454.1 1535.7 1454.1 M1535.7 1450.39 Q1541.51 1450.39 1544.57 1455 Q1547.65 1459.58 1547.65 1468.33 Q1547.65 1477.06 1544.57 1481.67 Q1541.51 1486.25 1535.7 1486.25 Q1529.89 1486.25 1526.81 1481.67 Q1523.76 1477.06 1523.76 1468.33 Q1523.76 1459.58 1526.81 1455 Q1529.89 1450.39 1535.7 1450.39 Z\" fill=\"#000000\" fill-rule=\"nonzero\" fill-opacity=\"1\" /><path clip-path=\"url(#clip490)\" d=\"M1565.86 1454.1 Q1562.25 1454.1 1560.42 1457.66 Q1558.62 1461.2 1558.62 1468.33 Q1558.62 1475.44 1560.42 1479.01 Q1562.25 1482.55 1565.86 1482.55 Q1569.5 1482.55 1571.3 1479.01 Q1573.13 1475.44 1573.13 1468.33 Q1573.13 1461.2 1571.3 1457.66 Q1569.5 1454.1 1565.86 1454.1 M1565.86 1450.39 Q1571.67 1450.39 1574.73 1455 Q1577.81 1459.58 1577.81 1468.33 Q1577.81 1477.06 1574.73 1481.67 Q1571.67 1486.25 1565.86 1486.25 Q1560.05 1486.25 1556.98 1481.67 Q1553.92 1477.06 1553.92 1468.33 Q1553.92 1459.58 1556.98 1455 Q1560.05 1450.39 1565.86 1450.39 Z\" fill=\"#000000\" fill-rule=\"nonzero\" fill-opacity=\"1\" /><path clip-path=\"url(#clip490)\" d=\"M1200.24 1520.52 L1240.44 1520.52 L1240.44 1525.93 L1223.57 1525.93 L1223.57 1568.04 L1217.11 1568.04 L1217.11 1525.93 L1200.24 1525.93 L1200.24 1520.52 Z\" fill=\"#000000\" fill-rule=\"nonzero\" fill-opacity=\"1\" /><path clip-path=\"url(#clip490)\" d=\"M1244.38 1532.4 L1250.24 1532.4 L1250.24 1568.04 L1244.38 1568.04 L1244.38 1532.4 M1244.38 1518.52 L1250.24 1518.52 L1250.24 1525.93 L1244.38 1525.93 L1244.38 1518.52 Z\" fill=\"#000000\" fill-rule=\"nonzero\" fill-opacity=\"1\" /><path clip-path=\"url(#clip490)\" d=\"M1290.25 1539.24 Q1292.44 1535.29 1295.5 1533.41 Q1298.55 1531.54 1302.69 1531.54 Q1308.26 1531.54 1311.29 1535.45 Q1314.31 1539.33 1314.31 1546.53 L1314.31 1568.04 L1308.42 1568.04 L1308.42 1546.72 Q1308.42 1541.59 1306.61 1539.11 Q1304.79 1536.63 1301.07 1536.63 Q1296.52 1536.63 1293.88 1539.65 Q1291.23 1542.68 1291.23 1547.9 L1291.23 1568.04 L1285.35 1568.04 L1285.35 1546.72 Q1285.35 1541.56 1283.53 1539.11 Q1281.72 1536.63 1277.93 1536.63 Q1273.44 1536.63 1270.8 1539.68 Q1268.16 1542.71 1268.16 1547.9 L1268.16 1568.04 L1262.27 1568.04 L1262.27 1532.4 L1268.16 1532.4 L1268.16 1537.93 Q1270.16 1534.66 1272.96 1533.1 Q1275.77 1531.54 1279.62 1531.54 Q1283.5 1531.54 1286.21 1533.51 Q1288.94 1535.48 1290.25 1539.24 Z\" fill=\"#000000\" fill-rule=\"nonzero\" fill-opacity=\"1\" /><path clip-path=\"url(#clip490)\" d=\"M1356.48 1548.76 L1356.48 1551.62 L1329.56 1551.62 Q1329.94 1557.67 1333.18 1560.85 Q1336.46 1564 1342.29 1564 Q1345.66 1564 1348.81 1563.17 Q1352 1562.35 1355.11 1560.69 L1355.11 1566.23 Q1351.96 1567.57 1348.65 1568.27 Q1345.34 1568.97 1341.94 1568.97 Q1333.41 1568.97 1328.41 1564 Q1323.44 1559.04 1323.44 1550.57 Q1323.44 1541.82 1328.16 1536.69 Q1332.9 1531.54 1340.92 1531.54 Q1348.11 1531.54 1352.28 1536.18 Q1356.48 1540.8 1356.48 1548.76 M1350.63 1547.04 Q1350.56 1542.23 1347.92 1539.37 Q1345.31 1536.5 1340.98 1536.5 Q1336.08 1536.5 1333.12 1539.27 Q1330.19 1542.04 1329.75 1547.07 L1350.63 1547.04 Z\" fill=\"#000000\" fill-rule=\"nonzero\" fill-opacity=\"1\" /><polyline clip-path=\"url(#clip490)\" style=\"stroke:#000000; stroke-linecap:round; stroke-linejoin:round; stroke-width:4; stroke-opacity:1; fill:none\" points=\"203.964,1423.18 203.964,123.472 \"/>\n",
       "<polyline clip-path=\"url(#clip490)\" style=\"stroke:#000000; stroke-linecap:round; stroke-linejoin:round; stroke-width:4; stroke-opacity:1; fill:none\" points=\"203.964,1318.28 222.861,1318.28 \"/>\n",
       "<polyline clip-path=\"url(#clip490)\" style=\"stroke:#000000; stroke-linecap:round; stroke-linejoin:round; stroke-width:4; stroke-opacity:1; fill:none\" points=\"203.964,977.683 222.861,977.683 \"/>\n",
       "<polyline clip-path=\"url(#clip490)\" style=\"stroke:#000000; stroke-linecap:round; stroke-linejoin:round; stroke-width:4; stroke-opacity:1; fill:none\" points=\"203.964,637.088 222.861,637.088 \"/>\n",
       "<polyline clip-path=\"url(#clip490)\" style=\"stroke:#000000; stroke-linecap:round; stroke-linejoin:round; stroke-width:4; stroke-opacity:1; fill:none\" points=\"203.964,296.494 222.861,296.494 \"/>\n",
       "<path clip-path=\"url(#clip490)\" d=\"M116.668 1331.62 L124.306 1331.62 L124.306 1305.26 L115.996 1306.92 L115.996 1302.66 L124.26 1301 L128.936 1301 L128.936 1331.62 L136.575 1331.62 L136.575 1335.56 L116.668 1335.56 L116.668 1331.62 Z\" fill=\"#000000\" fill-rule=\"nonzero\" fill-opacity=\"1\" /><path clip-path=\"url(#clip490)\" d=\"M156.019 1304.08 Q152.408 1304.08 150.579 1307.64 Q148.774 1311.18 148.774 1318.31 Q148.774 1325.42 150.579 1328.98 Q152.408 1332.52 156.019 1332.52 Q159.653 1332.52 161.459 1328.98 Q163.288 1325.42 163.288 1318.31 Q163.288 1311.18 161.459 1307.64 Q159.653 1304.08 156.019 1304.08 M156.019 1300.37 Q161.829 1300.37 164.885 1304.98 Q167.964 1309.56 167.964 1318.31 Q167.964 1327.04 164.885 1331.64 Q161.829 1336.23 156.019 1336.23 Q150.209 1336.23 147.13 1331.64 Q144.075 1327.04 144.075 1318.31 Q144.075 1309.56 147.13 1304.98 Q150.209 1300.37 156.019 1300.37 Z\" fill=\"#000000\" fill-rule=\"nonzero\" fill-opacity=\"1\" /><path clip-path=\"url(#clip490)\" d=\"M117.663 991.027 L125.302 991.027 L125.302 964.662 L116.992 966.328 L116.992 962.069 L125.255 960.403 L129.931 960.403 L129.931 991.027 L137.57 991.027 L137.57 994.963 L117.663 994.963 L117.663 991.027 Z\" fill=\"#000000\" fill-rule=\"nonzero\" fill-opacity=\"1\" /><path clip-path=\"url(#clip490)\" d=\"M147.061 960.403 L165.417 960.403 L165.417 964.338 L151.343 964.338 L151.343 972.81 Q152.362 972.463 153.38 972.301 Q154.399 972.115 155.417 972.115 Q161.204 972.115 164.584 975.287 Q167.964 978.458 167.964 983.875 Q167.964 989.453 164.491 992.555 Q161.019 995.634 154.7 995.634 Q152.524 995.634 150.255 995.263 Q148.01 994.893 145.603 994.152 L145.603 989.453 Q147.686 990.588 149.908 991.143 Q152.13 991.699 154.607 991.699 Q158.612 991.699 160.95 989.592 Q163.288 987.486 163.288 983.875 Q163.288 980.264 160.95 978.157 Q158.612 976.051 154.607 976.051 Q152.732 976.051 150.857 976.467 Q149.005 976.884 147.061 977.764 L147.061 960.403 Z\" fill=\"#000000\" fill-rule=\"nonzero\" fill-opacity=\"1\" /><path clip-path=\"url(#clip490)\" d=\"M119.885 650.433 L136.204 650.433 L136.204 654.368 L114.26 654.368 L114.26 650.433 Q116.922 647.678 121.505 643.049 Q126.112 638.396 127.292 637.054 Q129.538 634.53 130.417 632.794 Q131.32 631.035 131.32 629.345 Q131.32 626.591 129.376 624.855 Q127.455 623.118 124.353 623.118 Q122.154 623.118 119.7 623.882 Q117.269 624.646 114.492 626.197 L114.492 621.475 Q117.316 620.341 119.769 619.762 Q122.223 619.183 124.26 619.183 Q129.63 619.183 132.825 621.868 Q136.019 624.554 136.019 629.044 Q136.019 631.174 135.209 633.095 Q134.422 634.993 132.316 637.586 Q131.737 638.257 128.635 641.475 Q125.533 644.669 119.885 650.433 Z\" fill=\"#000000\" fill-rule=\"nonzero\" fill-opacity=\"1\" /><path clip-path=\"url(#clip490)\" d=\"M156.019 622.887 Q152.408 622.887 150.579 626.452 Q148.774 629.993 148.774 637.123 Q148.774 644.229 150.579 647.794 Q152.408 651.336 156.019 651.336 Q159.653 651.336 161.459 647.794 Q163.288 644.229 163.288 637.123 Q163.288 629.993 161.459 626.452 Q159.653 622.887 156.019 622.887 M156.019 619.183 Q161.829 619.183 164.885 623.79 Q167.964 628.373 167.964 637.123 Q167.964 645.85 164.885 650.456 Q161.829 655.04 156.019 655.04 Q150.209 655.04 147.13 650.456 Q144.075 645.85 144.075 637.123 Q144.075 628.373 147.13 623.79 Q150.209 619.183 156.019 619.183 Z\" fill=\"#000000\" fill-rule=\"nonzero\" fill-opacity=\"1\" /><path clip-path=\"url(#clip490)\" d=\"M120.88 309.839 L137.2 309.839 L137.2 313.774 L115.256 313.774 L115.256 309.839 Q117.918 307.084 122.501 302.455 Q127.107 297.802 128.288 296.459 Q130.533 293.936 131.413 292.2 Q132.316 290.441 132.316 288.751 Q132.316 285.996 130.371 284.26 Q128.45 282.524 125.348 282.524 Q123.149 282.524 120.695 283.288 Q118.265 284.052 115.487 285.603 L115.487 280.881 Q118.311 279.746 120.765 279.168 Q123.218 278.589 125.255 278.589 Q130.626 278.589 133.82 281.274 Q137.015 283.959 137.015 288.45 Q137.015 290.58 136.204 292.501 Q135.417 294.399 133.311 296.992 Q132.732 297.663 129.63 300.881 Q126.529 304.075 120.88 309.839 Z\" fill=\"#000000\" fill-rule=\"nonzero\" fill-opacity=\"1\" /><path clip-path=\"url(#clip490)\" d=\"M147.061 279.214 L165.417 279.214 L165.417 283.149 L151.343 283.149 L151.343 291.621 Q152.362 291.274 153.38 291.112 Q154.399 290.927 155.417 290.927 Q161.204 290.927 164.584 294.098 Q167.964 297.269 167.964 302.686 Q167.964 308.265 164.491 311.367 Q161.019 314.445 154.7 314.445 Q152.524 314.445 150.255 314.075 Q148.01 313.705 145.603 312.964 L145.603 308.265 Q147.686 309.399 149.908 309.955 Q152.13 310.51 154.607 310.51 Q158.612 310.51 160.95 308.404 Q163.288 306.297 163.288 302.686 Q163.288 299.075 160.95 296.969 Q158.612 294.862 154.607 294.862 Q152.732 294.862 150.857 295.279 Q149.005 295.695 147.061 296.575 L147.061 279.214 Z\" fill=\"#000000\" fill-rule=\"nonzero\" fill-opacity=\"1\" /><path clip-path=\"url(#clip490)\" d=\"M16.4842 845.354 L16.4842 838.925 L58.5933 838.925 L58.5933 815.785 L64.0042 815.785 L64.0042 845.354 L16.4842 845.354 Z\" fill=\"#000000\" fill-rule=\"nonzero\" fill-opacity=\"1\" /><path clip-path=\"url(#clip490)\" d=\"M32.4621 796.624 Q32.4621 801.335 36.1542 804.072 Q39.8145 806.81 46.212 806.81 Q52.6095 806.81 56.3017 804.104 Q59.9619 801.367 59.9619 796.624 Q59.9619 791.946 56.2698 789.208 Q52.5777 786.471 46.212 786.471 Q39.8781 786.471 36.186 789.208 Q32.4621 791.946 32.4621 796.624 M27.4968 796.624 Q27.4968 788.986 32.4621 784.625 Q37.4273 780.265 46.212 780.265 Q54.9649 780.265 59.9619 784.625 Q64.9272 788.986 64.9272 796.624 Q64.9272 804.295 59.9619 808.656 Q54.9649 812.984 46.212 812.984 Q37.4273 812.984 32.4621 808.656 Q27.4968 804.295 27.4968 796.624 Z\" fill=\"#000000\" fill-rule=\"nonzero\" fill-opacity=\"1\" /><path clip-path=\"url(#clip490)\" d=\"M46.0847 754.356 Q46.0847 761.454 47.7079 764.191 Q49.3312 766.928 53.2461 766.928 Q56.3653 766.928 58.2114 764.891 Q60.0256 762.823 60.0256 759.29 Q60.0256 754.42 56.5881 751.492 Q53.1188 748.532 47.3897 748.532 L46.0847 748.532 L46.0847 754.356 M43.6657 742.675 L64.0042 742.675 L64.0042 748.532 L58.5933 748.532 Q61.8398 750.537 63.3994 753.529 Q64.9272 756.521 64.9272 760.849 Q64.9272 766.324 61.8716 769.57 Q58.7843 772.785 53.6281 772.785 Q47.6125 772.785 44.5569 768.775 Q41.5014 764.732 41.5014 756.743 L41.5014 748.532 L40.9285 748.532 Q36.8862 748.532 34.6901 751.205 Q32.4621 753.847 32.4621 758.653 Q32.4621 761.709 33.1941 764.605 Q33.9262 767.501 35.3903 770.175 L29.9795 770.175 Q28.7381 766.96 28.1334 763.937 Q27.4968 760.913 27.4968 758.048 Q27.4968 750.314 31.5072 746.495 Q35.5176 742.675 43.6657 742.675 Z\" fill=\"#000000\" fill-rule=\"nonzero\" fill-opacity=\"1\" /><path clip-path=\"url(#clip490)\" d=\"M33.7671 707.154 L14.479 707.154 L14.479 701.298 L64.0042 701.298 L64.0042 707.154 L58.657 707.154 Q61.8398 709.001 63.3994 711.833 Q64.9272 714.634 64.9272 718.581 Q64.9272 725.042 59.771 729.116 Q54.6147 733.158 46.212 733.158 Q37.8093 733.158 32.6531 729.116 Q27.4968 725.042 27.4968 718.581 Q27.4968 714.634 29.0564 711.833 Q30.5842 709.001 33.7671 707.154 M46.212 727.111 Q52.6732 727.111 56.3653 724.469 Q60.0256 721.796 60.0256 717.149 Q60.0256 712.502 56.3653 709.828 Q52.6732 707.154 46.212 707.154 Q39.7508 707.154 36.0905 709.828 Q32.3984 712.502 32.3984 717.149 Q32.3984 721.796 36.0905 724.469 Q39.7508 727.111 46.212 727.111 Z\" fill=\"#000000\" fill-rule=\"nonzero\" fill-opacity=\"1\" /><path clip-path=\"url(#clip490)\" d=\"M903.104 12.096 L911.287 12.096 L911.287 65.6895 L940.737 65.6895 L940.737 72.576 L903.104 72.576 L903.104 12.096 Z\" fill=\"#000000\" fill-rule=\"nonzero\" fill-opacity=\"1\" /><path clip-path=\"url(#clip490)\" d=\"M965.124 32.4315 Q959.128 32.4315 955.644 37.1306 Q952.161 41.7891 952.161 49.9314 Q952.161 58.0738 955.604 62.7728 Q959.088 67.4314 965.124 67.4314 Q971.078 67.4314 974.562 62.7323 Q978.046 58.0333 978.046 49.9314 Q978.046 41.8701 974.562 37.1711 Q971.078 32.4315 965.124 32.4315 M965.124 26.1121 Q974.846 26.1121 980.395 32.4315 Q985.945 38.7509 985.945 49.9314 Q985.945 61.0714 980.395 67.4314 Q974.846 73.7508 965.124 73.7508 Q955.361 73.7508 949.811 67.4314 Q944.302 61.0714 944.302 49.9314 Q944.302 38.7509 949.811 32.4315 Q955.361 26.1121 965.124 26.1121 Z\" fill=\"#000000\" fill-rule=\"nonzero\" fill-opacity=\"1\" /><path clip-path=\"url(#clip490)\" d=\"M1018.92 49.7694 Q1009.89 49.7694 1006.4 51.8354 Q1002.92 53.9013 1002.92 58.8839 Q1002.92 62.8538 1005.51 65.2034 Q1008.14 67.5124 1012.64 67.5124 Q1018.84 67.5124 1022.57 63.1374 Q1026.33 58.7219 1026.33 51.4303 L1026.33 49.7694 L1018.92 49.7694 M1033.79 46.6907 L1033.79 72.576 L1026.33 72.576 L1026.33 65.6895 Q1023.78 69.8214 1019.97 71.8063 Q1016.16 73.7508 1010.66 73.7508 Q1003.69 73.7508 999.556 69.8619 Q995.465 65.9325 995.465 59.3701 Q995.465 51.7138 1000.57 47.825 Q1005.71 43.9361 1015.88 43.9361 L1026.33 43.9361 L1026.33 43.2069 Q1026.33 38.0623 1022.93 35.2672 Q1019.57 32.4315 1013.45 32.4315 Q1009.56 32.4315 1005.88 33.3632 Q1002.19 34.295 998.787 36.1584 L998.787 29.2718 Q1002.88 27.692 1006.73 26.9223 Q1010.57 26.1121 1014.22 26.1121 Q1024.06 26.1121 1028.93 31.2163 Q1033.79 36.3204 1033.79 46.6907 Z\" fill=\"#000000\" fill-rule=\"nonzero\" fill-opacity=\"1\" /><path clip-path=\"url(#clip490)\" d=\"M1078.99 34.0924 L1078.99 9.54393 L1086.45 9.54393 L1086.45 72.576 L1078.99 72.576 L1078.99 65.7705 Q1076.64 69.8214 1073.04 71.8063 Q1069.47 73.7508 1064.45 73.7508 Q1056.23 73.7508 1051.04 67.1883 Q1045.9 60.6258 1045.9 49.9314 Q1045.9 39.2371 1051.04 32.6746 Q1056.23 26.1121 1064.45 26.1121 Q1069.47 26.1121 1073.04 28.0971 Q1076.64 30.0415 1078.99 34.0924 M1053.6 49.9314 Q1053.6 58.1548 1056.96 62.8538 Q1060.36 67.5124 1066.27 67.5124 Q1072.19 67.5124 1075.59 62.8538 Q1078.99 58.1548 1078.99 49.9314 Q1078.99 41.7081 1075.59 37.0496 Q1072.19 32.3505 1066.27 32.3505 Q1060.36 32.3505 1056.96 37.0496 Q1053.6 41.7081 1053.6 49.9314 Z\" fill=\"#000000\" fill-rule=\"nonzero\" fill-opacity=\"1\" /><path clip-path=\"url(#clip490)\" d=\"M1109.9 65.6895 L1138.46 65.6895 L1138.46 72.576 L1100.06 72.576 L1100.06 65.6895 Q1104.72 60.8689 1112.74 52.7671 Q1120.8 44.6248 1122.87 42.2752 Q1126.8 37.8598 1128.33 34.8216 Q1129.91 31.7429 1129.91 28.7857 Q1129.91 23.9651 1126.51 20.927 Q1123.15 17.8888 1117.72 17.8888 Q1113.87 17.8888 1109.58 19.2256 Q1105.33 20.5624 1100.46 23.2765 L1100.46 15.0127 Q1105.41 13.0277 1109.7 12.015 Q1113.99 11.0023 1117.56 11.0023 Q1126.96 11.0023 1132.55 15.7013 Q1138.14 20.4004 1138.14 28.2591 Q1138.14 31.9859 1136.72 35.3482 Q1135.34 38.6699 1131.66 43.2069 Q1130.64 44.3817 1125.22 50.0125 Q1119.79 55.6027 1109.9 65.6895 Z\" fill=\"#000000\" fill-rule=\"nonzero\" fill-opacity=\"1\" /><path clip-path=\"url(#clip490)\" d=\"M1172.89 12.096 L1224.06 12.096 L1224.06 18.9825 L1202.59 18.9825 L1202.59 72.576 L1194.36 72.576 L1194.36 18.9825 L1172.89 18.9825 L1172.89 12.096 Z\" fill=\"#000000\" fill-rule=\"nonzero\" fill-opacity=\"1\" /><path clip-path=\"url(#clip490)\" d=\"M1229.08 27.2059 L1236.53 27.2059 L1236.53 72.576 L1229.08 72.576 L1229.08 27.2059 M1229.08 9.54393 L1236.53 9.54393 L1236.53 18.9825 L1229.08 18.9825 L1229.08 9.54393 Z\" fill=\"#000000\" fill-rule=\"nonzero\" fill-opacity=\"1\" /><path clip-path=\"url(#clip490)\" d=\"M1287.45 35.9153 Q1290.25 30.8922 1294.14 28.5022 Q1298.03 26.1121 1303.29 26.1121 Q1310.38 26.1121 1314.23 31.0947 Q1318.08 36.0368 1318.08 45.1919 L1318.08 72.576 L1310.58 72.576 L1310.58 45.4349 Q1310.58 38.913 1308.28 35.7533 Q1305.97 32.5936 1301.23 32.5936 Q1295.43 32.5936 1292.07 36.4419 Q1288.71 40.2903 1288.71 46.9338 L1288.71 72.576 L1281.22 72.576 L1281.22 45.4349 Q1281.22 38.8725 1278.91 35.7533 Q1276.6 32.5936 1271.78 32.5936 Q1266.07 32.5936 1262.7 36.4824 Q1259.34 40.3308 1259.34 46.9338 L1259.34 72.576 L1251.85 72.576 L1251.85 27.2059 L1259.34 27.2059 L1259.34 34.2544 Q1261.89 30.082 1265.46 28.0971 Q1269.02 26.1121 1273.92 26.1121 Q1278.87 26.1121 1282.31 28.6237 Q1285.79 31.1352 1287.45 35.9153 Z\" fill=\"#000000\" fill-rule=\"nonzero\" fill-opacity=\"1\" /><path clip-path=\"url(#clip490)\" d=\"M1371.75 48.0275 L1371.75 51.6733 L1337.48 51.6733 Q1337.97 59.3701 1342.1 63.421 Q1346.27 67.4314 1353.69 67.4314 Q1357.98 67.4314 1361.99 66.3781 Q1366.04 65.3249 1370.01 63.2184 L1370.01 70.267 Q1366 71.9684 1361.79 72.8596 Q1357.58 73.7508 1353.24 73.7508 Q1342.38 73.7508 1336.02 67.4314 Q1329.7 61.1119 1329.7 50.3365 Q1329.7 39.1965 1335.7 32.6746 Q1341.74 26.1121 1351.94 26.1121 Q1361.1 26.1121 1366.41 32.0264 Q1371.75 37.9003 1371.75 48.0275 M1364.3 45.84 Q1364.22 39.7232 1360.86 36.0774 Q1357.53 32.4315 1352.03 32.4315 Q1345.79 32.4315 1342.02 35.9558 Q1338.29 39.4801 1337.73 45.8805 L1364.3 45.84 Z\" fill=\"#000000\" fill-rule=\"nonzero\" fill-opacity=\"1\" /><path clip-path=\"url(#clip490)\" d=\"M1446.94 14.0809 L1446.94 22.0612 Q1442.28 19.8332 1438.15 18.7395 Q1434.02 17.6457 1430.17 17.6457 Q1423.48 17.6457 1419.84 20.2383 Q1416.23 22.8309 1416.23 27.611 Q1416.23 31.6214 1418.62 33.6873 Q1421.05 35.7128 1427.78 36.9686 L1432.72 37.9813 Q1441.87 39.7232 1446.21 44.1387 Q1450.58 48.5136 1450.58 55.8863 Q1450.58 64.6767 1444.67 69.2137 Q1438.8 73.7508 1427.41 73.7508 Q1423.12 73.7508 1418.26 72.7785 Q1413.44 71.8063 1408.25 69.9024 L1408.25 61.4765 Q1413.23 64.2716 1418.01 65.6895 Q1422.79 67.1073 1427.41 67.1073 Q1434.42 67.1073 1438.23 64.3527 Q1442.04 61.598 1442.04 56.4939 Q1442.04 52.0379 1439.28 49.5264 Q1436.57 47.0148 1430.33 45.759 L1425.35 44.7868 Q1416.19 42.9639 1412.1 39.075 Q1408.01 35.1862 1408.01 28.2591 Q1408.01 20.2383 1413.64 15.6203 Q1419.31 11.0023 1429.24 11.0023 Q1433.49 11.0023 1437.9 11.7719 Q1442.32 12.5416 1446.94 14.0809 Z\" fill=\"#000000\" fill-rule=\"nonzero\" fill-opacity=\"1\" /><path clip-path=\"url(#clip490)\" d=\"M1501.83 48.0275 L1501.83 51.6733 L1467.56 51.6733 Q1468.04 59.3701 1472.18 63.421 Q1476.35 67.4314 1483.76 67.4314 Q1488.05 67.4314 1492.07 66.3781 Q1496.12 65.3249 1500.09 63.2184 L1500.09 70.267 Q1496.08 71.9684 1491.86 72.8596 Q1487.65 73.7508 1483.32 73.7508 Q1472.46 73.7508 1466.1 67.4314 Q1459.78 61.1119 1459.78 50.3365 Q1459.78 39.1965 1465.77 32.6746 Q1471.81 26.1121 1482.02 26.1121 Q1491.17 26.1121 1496.48 32.0264 Q1501.83 37.9003 1501.83 48.0275 M1494.37 45.84 Q1494.29 39.7232 1490.93 36.0774 Q1487.61 32.4315 1482.1 32.4315 Q1475.86 32.4315 1472.09 35.9558 Q1468.37 39.4801 1467.8 45.8805 L1494.37 45.84 Z\" fill=\"#000000\" fill-rule=\"nonzero\" fill-opacity=\"1\" /><path clip-path=\"url(#clip490)\" d=\"M1540.35 34.1734 Q1539.1 33.4443 1537.6 33.1202 Q1536.14 32.7556 1534.36 32.7556 Q1528.04 32.7556 1524.63 36.8875 Q1521.27 40.9789 1521.27 48.6757 L1521.27 72.576 L1513.78 72.576 L1513.78 27.2059 L1521.27 27.2059 L1521.27 34.2544 Q1523.62 30.1225 1527.39 28.1376 Q1531.16 26.1121 1536.54 26.1121 Q1537.31 26.1121 1538.25 26.2337 Q1539.18 26.3147 1540.31 26.5172 L1540.35 34.1734 Z\" fill=\"#000000\" fill-rule=\"nonzero\" fill-opacity=\"1\" /><path clip-path=\"url(#clip490)\" d=\"M1548.17 27.2059 L1555.62 27.2059 L1555.62 72.576 L1548.17 72.576 L1548.17 27.2059 M1548.17 9.54393 L1555.62 9.54393 L1555.62 18.9825 L1548.17 18.9825 L1548.17 9.54393 Z\" fill=\"#000000\" fill-rule=\"nonzero\" fill-opacity=\"1\" /><path clip-path=\"url(#clip490)\" d=\"M1610.03 48.0275 L1610.03 51.6733 L1575.76 51.6733 Q1576.24 59.3701 1580.37 63.421 Q1584.55 67.4314 1591.96 67.4314 Q1596.25 67.4314 1600.26 66.3781 Q1604.32 65.3249 1608.29 63.2184 L1608.29 70.267 Q1604.28 71.9684 1600.06 72.8596 Q1595.85 73.7508 1591.51 73.7508 Q1580.66 73.7508 1574.3 67.4314 Q1567.98 61.1119 1567.98 50.3365 Q1567.98 39.1965 1573.97 32.6746 Q1580.01 26.1121 1590.22 26.1121 Q1599.37 26.1121 1604.68 32.0264 Q1610.03 37.9003 1610.03 48.0275 M1602.57 45.84 Q1602.49 39.7232 1599.13 36.0774 Q1595.81 32.4315 1590.3 32.4315 Q1584.06 32.4315 1580.29 35.9558 Q1576.57 39.4801 1576 45.8805 L1602.57 45.84 Z\" fill=\"#000000\" fill-rule=\"nonzero\" fill-opacity=\"1\" /><path clip-path=\"url(#clip490)\" d=\"M1651.18 28.5427 L1651.18 35.5912 Q1648.03 33.9709 1644.62 33.1607 Q1641.22 32.3505 1637.57 32.3505 Q1632.02 32.3505 1629.23 34.0519 Q1626.47 35.7533 1626.47 39.156 Q1626.47 41.7486 1628.46 43.2475 Q1630.44 44.7058 1636.44 46.0426 L1638.99 46.6097 Q1646.93 48.3111 1650.25 51.4303 Q1653.62 54.509 1653.62 60.0587 Q1653.62 66.3781 1648.59 70.0644 Q1643.61 73.7508 1634.86 73.7508 Q1631.21 73.7508 1627.24 73.0216 Q1623.31 72.3329 1618.94 70.9151 L1618.94 63.2184 Q1623.07 65.3654 1627.08 66.4591 Q1631.09 67.5124 1635.02 67.5124 Q1640.29 67.5124 1643.12 65.73 Q1645.96 63.9071 1645.96 60.6258 Q1645.96 57.5877 1643.89 55.9673 Q1641.87 54.3469 1634.94 52.8481 L1632.35 52.2405 Q1625.42 50.7821 1622.34 47.7845 Q1619.26 44.7463 1619.26 39.4801 Q1619.26 33.0797 1623.8 29.5959 Q1628.34 26.1121 1636.68 26.1121 Q1640.81 26.1121 1644.46 26.7198 Q1648.11 27.3274 1651.18 28.5427 Z\" fill=\"#000000\" fill-rule=\"nonzero\" fill-opacity=\"1\" /><polyline clip-path=\"url(#clip492)\" style=\"stroke:#009af9; stroke-linecap:round; stroke-linejoin:round; stroke-width:8; stroke-opacity:1; fill:none\" points=\"264.778,1386.4 352.916,1386.4 441.053,1386.4 529.191,1386.4 617.328,1182.04 705.466,1182.04 793.603,1182.04 881.741,1182.04 969.878,977.683 1058.02,977.683 1146.15,773.326 1234.29,773.326 1322.43,568.969 1410.57,364.613 1498.7,364.613 1586.84,364.613 1674.98,364.613 1763.12,364.613 1851.25,160.256 1939.39,364.613 2027.53,364.613 2115.67,364.613 2203.8,364.613 2291.94,364.613 \"/>\n",
       "</svg>\n"
      ],
      "text/html": [
       "<?xml version=\"1.0\" encoding=\"utf-8\"?>\n",
       "<svg xmlns=\"http://www.w3.org/2000/svg\" xmlns:xlink=\"http://www.w3.org/1999/xlink\" width=\"600\" height=\"400\" viewBox=\"0 0 2400 1600\">\n",
       "<defs>\n",
       "  <clipPath id=\"clip540\">\n",
       "    <rect x=\"0\" y=\"0\" width=\"2400\" height=\"1600\"/>\n",
       "  </clipPath>\n",
       "</defs>\n",
       "<path clip-path=\"url(#clip540)\" d=\"M0 1600 L2400 1600 L2400 0 L0 0  Z\" fill=\"#ffffff\" fill-rule=\"evenodd\" fill-opacity=\"1\"/>\n",
       "<defs>\n",
       "  <clipPath id=\"clip541\">\n",
       "    <rect x=\"480\" y=\"0\" width=\"1681\" height=\"1600\"/>\n",
       "  </clipPath>\n",
       "</defs>\n",
       "<path clip-path=\"url(#clip540)\" d=\"M203.964 1423.18 L2352.76 1423.18 L2352.76 123.472 L203.964 123.472  Z\" fill=\"#ffffff\" fill-rule=\"evenodd\" fill-opacity=\"1\"/>\n",
       "<defs>\n",
       "  <clipPath id=\"clip542\">\n",
       "    <rect x=\"203\" y=\"123\" width=\"2150\" height=\"1301\"/>\n",
       "  </clipPath>\n",
       "</defs>\n",
       "<polyline clip-path=\"url(#clip542)\" style=\"stroke:#000000; stroke-linecap:round; stroke-linejoin:round; stroke-width:2; stroke-opacity:0.1; fill:none\" points=\"264.778,1423.18 264.778,123.472 \"/>\n",
       "<polyline clip-path=\"url(#clip542)\" style=\"stroke:#000000; stroke-linecap:round; stroke-linejoin:round; stroke-width:2; stroke-opacity:0.1; fill:none\" points=\"1322.43,1423.18 1322.43,123.472 \"/>\n",
       "<polyline clip-path=\"url(#clip542)\" style=\"stroke:#000000; stroke-linecap:round; stroke-linejoin:round; stroke-width:2; stroke-opacity:0.1; fill:none\" points=\"203.964,1318.28 2352.76,1318.28 \"/>\n",
       "<polyline clip-path=\"url(#clip542)\" style=\"stroke:#000000; stroke-linecap:round; stroke-linejoin:round; stroke-width:2; stroke-opacity:0.1; fill:none\" points=\"203.964,977.683 2352.76,977.683 \"/>\n",
       "<polyline clip-path=\"url(#clip542)\" style=\"stroke:#000000; stroke-linecap:round; stroke-linejoin:round; stroke-width:2; stroke-opacity:0.1; fill:none\" points=\"203.964,637.088 2352.76,637.088 \"/>\n",
       "<polyline clip-path=\"url(#clip542)\" style=\"stroke:#000000; stroke-linecap:round; stroke-linejoin:round; stroke-width:2; stroke-opacity:0.1; fill:none\" points=\"203.964,296.494 2352.76,296.494 \"/>\n",
       "<polyline clip-path=\"url(#clip540)\" style=\"stroke:#000000; stroke-linecap:round; stroke-linejoin:round; stroke-width:4; stroke-opacity:1; fill:none\" points=\"203.964,1423.18 2352.76,1423.18 \"/>\n",
       "<polyline clip-path=\"url(#clip540)\" style=\"stroke:#000000; stroke-linecap:round; stroke-linejoin:round; stroke-width:4; stroke-opacity:1; fill:none\" points=\"264.778,1423.18 264.778,1404.28 \"/>\n",
       "<polyline clip-path=\"url(#clip540)\" style=\"stroke:#000000; stroke-linecap:round; stroke-linejoin:round; stroke-width:4; stroke-opacity:1; fill:none\" points=\"1322.43,1423.18 1322.43,1404.28 \"/>\n",
       "<path clip-path=\"url(#clip540)\" d=\"M15.0228 1481.64 L31.3422 1481.64 L31.3422 1485.58 L9.39788 1485.58 L9.39788 1481.64 Q12.0599 1478.89 16.6432 1474.26 Q21.2497 1469.61 22.4302 1468.27 Q24.6756 1465.74 25.5552 1464.01 Q26.458 1462.25 26.458 1460.56 Q26.458 1457.8 24.5135 1456.07 Q22.5922 1454.33 19.4904 1454.33 Q17.2914 1454.33 14.8377 1455.09 Q12.4071 1455.86 9.62936 1457.41 L9.62936 1452.69 Q12.4534 1451.55 14.9071 1450.97 Q17.3608 1450.39 19.3978 1450.39 Q24.7682 1450.39 27.9626 1453.08 Q31.157 1455.77 31.157 1460.26 Q31.157 1462.39 30.3468 1464.31 Q29.5598 1466.2 27.4533 1468.8 Q26.8746 1469.47 23.7728 1472.69 Q20.671 1475.88 15.0228 1481.64 Z\" fill=\"#000000\" fill-rule=\"nonzero\" fill-opacity=\"1\" /><path clip-path=\"url(#clip540)\" d=\"M51.1569 1454.1 Q47.5458 1454.1 45.7171 1457.66 Q43.9116 1461.2 43.9116 1468.33 Q43.9116 1475.44 45.7171 1479.01 Q47.5458 1482.55 51.1569 1482.55 Q54.7912 1482.55 56.5967 1479.01 Q58.4254 1475.44 58.4254 1468.33 Q58.4254 1461.2 56.5967 1457.66 Q54.7912 1454.1 51.1569 1454.1 M51.1569 1450.39 Q56.9671 1450.39 60.0226 1455 Q63.1013 1459.58 63.1013 1468.33 Q63.1013 1477.06 60.0226 1481.67 Q56.9671 1486.25 51.1569 1486.25 Q45.3468 1486.25 42.2681 1481.67 Q39.2125 1477.06 39.2125 1468.33 Q39.2125 1459.58 42.2681 1455 Q45.3468 1450.39 51.1569 1450.39 Z\" fill=\"#000000\" fill-rule=\"nonzero\" fill-opacity=\"1\" /><path clip-path=\"url(#clip540)\" d=\"M75.3466 1481.64 L91.666 1481.64 L91.666 1485.58 L69.7216 1485.58 L69.7216 1481.64 Q72.3836 1478.89 76.967 1474.26 Q81.5734 1469.61 82.754 1468.27 Q84.9993 1465.74 85.8789 1464.01 Q86.7817 1462.25 86.7817 1460.56 Q86.7817 1457.8 84.8373 1456.07 Q82.916 1454.33 79.8142 1454.33 Q77.6151 1454.33 75.1614 1455.09 Q72.7309 1455.86 69.9531 1457.41 L69.9531 1452.69 Q72.7772 1451.55 75.2309 1450.97 Q77.6845 1450.39 79.7216 1450.39 Q85.0919 1450.39 88.2863 1453.08 Q91.4808 1455.77 91.4808 1460.26 Q91.4808 1462.39 90.6706 1464.31 Q89.8836 1466.2 87.7771 1468.8 Q87.1984 1469.47 84.0965 1472.69 Q80.9947 1475.88 75.3466 1481.64 Z\" fill=\"#000000\" fill-rule=\"nonzero\" fill-opacity=\"1\" /><path clip-path=\"url(#clip540)\" d=\"M111.481 1454.1 Q107.87 1454.1 106.041 1457.66 Q104.235 1461.2 104.235 1468.33 Q104.235 1475.44 106.041 1479.01 Q107.87 1482.55 111.481 1482.55 Q115.115 1482.55 116.92 1479.01 Q118.749 1475.44 118.749 1468.33 Q118.749 1461.2 116.92 1457.66 Q115.115 1454.1 111.481 1454.1 M111.481 1450.39 Q117.291 1450.39 120.346 1455 Q123.425 1459.58 123.425 1468.33 Q123.425 1477.06 120.346 1481.67 Q117.291 1486.25 111.481 1486.25 Q105.671 1486.25 102.592 1481.67 Q99.5363 1477.06 99.5363 1468.33 Q99.5363 1459.58 102.592 1455 Q105.671 1450.39 111.481 1450.39 Z\" fill=\"#000000\" fill-rule=\"nonzero\" fill-opacity=\"1\" /><path clip-path=\"url(#clip540)\" d=\"M128.888 1470.7 L141.365 1470.7 L141.365 1474.49 L128.888 1474.49 L128.888 1470.7 Z\" fill=\"#000000\" fill-rule=\"nonzero\" fill-opacity=\"1\" /><path clip-path=\"url(#clip540)\" d=\"M158.749 1454.1 Q155.138 1454.1 153.309 1457.66 Q151.504 1461.2 151.504 1468.33 Q151.504 1475.44 153.309 1479.01 Q155.138 1482.55 158.749 1482.55 Q162.383 1482.55 164.189 1479.01 Q166.017 1475.44 166.017 1468.33 Q166.017 1461.2 164.189 1457.66 Q162.383 1454.1 158.749 1454.1 M158.749 1450.39 Q164.559 1450.39 167.615 1455 Q170.693 1459.58 170.693 1468.33 Q170.693 1477.06 167.615 1481.67 Q164.559 1486.25 158.749 1486.25 Q152.939 1486.25 149.86 1481.67 Q146.805 1477.06 146.805 1468.33 Q146.805 1459.58 149.86 1455 Q152.939 1450.39 158.749 1450.39 Z\" fill=\"#000000\" fill-rule=\"nonzero\" fill-opacity=\"1\" /><path clip-path=\"url(#clip540)\" d=\"M179.721 1481.64 L187.36 1481.64 L187.36 1455.28 L179.05 1456.95 L179.05 1452.69 L187.314 1451.02 L191.989 1451.02 L191.989 1481.64 L199.628 1481.64 L199.628 1485.58 L179.721 1485.58 L179.721 1481.64 Z\" fill=\"#000000\" fill-rule=\"nonzero\" fill-opacity=\"1\" /><path clip-path=\"url(#clip540)\" d=\"M206.318 1470.7 L218.795 1470.7 L218.795 1474.49 L206.318 1474.49 L206.318 1470.7 Z\" fill=\"#000000\" fill-rule=\"nonzero\" fill-opacity=\"1\" /><path clip-path=\"url(#clip540)\" d=\"M236.179 1454.1 Q232.568 1454.1 230.739 1457.66 Q228.934 1461.2 228.934 1468.33 Q228.934 1475.44 230.739 1479.01 Q232.568 1482.55 236.179 1482.55 Q239.813 1482.55 241.619 1479.01 Q243.448 1475.44 243.448 1468.33 Q243.448 1461.2 241.619 1457.66 Q239.813 1454.1 236.179 1454.1 M236.179 1450.39 Q241.989 1450.39 245.045 1455 Q248.123 1459.58 248.123 1468.33 Q248.123 1477.06 245.045 1481.67 Q241.989 1486.25 236.179 1486.25 Q230.369 1486.25 227.29 1481.67 Q224.235 1477.06 224.235 1468.33 Q224.235 1459.58 227.29 1455 Q230.369 1450.39 236.179 1450.39 Z\" fill=\"#000000\" fill-rule=\"nonzero\" fill-opacity=\"1\" /><path clip-path=\"url(#clip540)\" d=\"M257.151 1481.64 L264.79 1481.64 L264.79 1455.28 L256.48 1456.95 L256.48 1452.69 L264.744 1451.02 L269.42 1451.02 L269.42 1481.64 L277.058 1481.64 L277.058 1485.58 L257.151 1485.58 L257.151 1481.64 Z\" fill=\"#000000\" fill-rule=\"nonzero\" fill-opacity=\"1\" /><path clip-path=\"url(#clip540)\" d=\"M281.295 1451.02 L310.531 1451.02 L310.531 1454.96 L298.262 1454.96 L298.262 1485.58 L293.563 1485.58 L293.563 1454.96 L281.295 1454.96 L281.295 1451.02 Z\" fill=\"#000000\" fill-rule=\"nonzero\" fill-opacity=\"1\" /><path clip-path=\"url(#clip540)\" d=\"M325.461 1454.1 Q321.85 1454.1 320.021 1457.66 Q318.216 1461.2 318.216 1468.33 Q318.216 1475.44 320.021 1479.01 Q321.85 1482.55 325.461 1482.55 Q329.095 1482.55 330.901 1479.01 Q332.729 1475.44 332.729 1468.33 Q332.729 1461.2 330.901 1457.66 Q329.095 1454.1 325.461 1454.1 M325.461 1450.39 Q331.271 1450.39 334.327 1455 Q337.405 1459.58 337.405 1468.33 Q337.405 1477.06 334.327 1481.67 Q331.271 1486.25 325.461 1486.25 Q319.651 1486.25 316.572 1481.67 Q313.517 1477.06 313.517 1468.33 Q313.517 1459.58 316.572 1455 Q319.651 1450.39 325.461 1450.39 Z\" fill=\"#000000\" fill-rule=\"nonzero\" fill-opacity=\"1\" /><path clip-path=\"url(#clip540)\" d=\"M355.623 1469.17 Q352.29 1469.17 350.368 1470.95 Q348.47 1472.73 348.47 1475.86 Q348.47 1478.98 350.368 1480.77 Q352.29 1482.55 355.623 1482.55 Q358.956 1482.55 360.877 1480.77 Q362.799 1478.96 362.799 1475.86 Q362.799 1472.73 360.877 1470.95 Q358.979 1469.17 355.623 1469.17 M350.947 1467.18 Q347.938 1466.44 346.248 1464.38 Q344.581 1462.32 344.581 1459.35 Q344.581 1455.21 347.521 1452.8 Q350.484 1450.39 355.623 1450.39 Q360.785 1450.39 363.725 1452.8 Q366.664 1455.21 366.664 1459.35 Q366.664 1462.32 364.975 1464.38 Q363.308 1466.44 360.322 1467.18 Q363.702 1467.96 365.577 1470.26 Q367.475 1472.55 367.475 1475.86 Q367.475 1480.88 364.396 1483.57 Q361.34 1486.25 355.623 1486.25 Q349.905 1486.25 346.827 1483.57 Q343.771 1480.88 343.771 1475.86 Q343.771 1472.55 345.669 1470.26 Q347.567 1467.96 350.947 1467.18 M349.234 1459.79 Q349.234 1462.48 350.901 1463.98 Q352.59 1465.49 355.623 1465.49 Q358.632 1465.49 360.322 1463.98 Q362.035 1462.48 362.035 1459.79 Q362.035 1457.11 360.322 1455.6 Q358.632 1454.1 355.623 1454.1 Q352.59 1454.1 350.901 1455.6 Q349.234 1457.11 349.234 1459.79 Z\" fill=\"#000000\" fill-rule=\"nonzero\" fill-opacity=\"1\" /><path clip-path=\"url(#clip540)\" d=\"M376.271 1479.7 L381.155 1479.7 L381.155 1485.58 L376.271 1485.58 L376.271 1479.7 M376.271 1461.07 L381.155 1461.07 L381.155 1466.95 L376.271 1466.95 L376.271 1461.07 Z\" fill=\"#000000\" fill-rule=\"nonzero\" fill-opacity=\"1\" /><path clip-path=\"url(#clip540)\" d=\"M401.757 1454.1 Q398.146 1454.1 396.317 1457.66 Q394.512 1461.2 394.512 1468.33 Q394.512 1475.44 396.317 1479.01 Q398.146 1482.55 401.757 1482.55 Q405.391 1482.55 407.197 1479.01 Q409.025 1475.44 409.025 1468.33 Q409.025 1461.2 407.197 1457.66 Q405.391 1454.1 401.757 1454.1 M401.757 1450.39 Q407.567 1450.39 410.623 1455 Q413.701 1459.58 413.701 1468.33 Q413.701 1477.06 410.623 1481.67 Q407.567 1486.25 401.757 1486.25 Q395.947 1486.25 392.868 1481.67 Q389.813 1477.06 389.813 1468.33 Q389.813 1459.58 392.868 1455 Q395.947 1450.39 401.757 1450.39 Z\" fill=\"#000000\" fill-rule=\"nonzero\" fill-opacity=\"1\" /><path clip-path=\"url(#clip540)\" d=\"M431.919 1454.1 Q428.308 1454.1 426.479 1457.66 Q424.673 1461.2 424.673 1468.33 Q424.673 1475.44 426.479 1479.01 Q428.308 1482.55 431.919 1482.55 Q435.553 1482.55 437.359 1479.01 Q439.187 1475.44 439.187 1468.33 Q439.187 1461.2 437.359 1457.66 Q435.553 1454.1 431.919 1454.1 M431.919 1450.39 Q437.729 1450.39 440.784 1455 Q443.863 1459.58 443.863 1468.33 Q443.863 1477.06 440.784 1481.67 Q437.729 1486.25 431.919 1486.25 Q426.109 1486.25 423.03 1481.67 Q419.974 1477.06 419.974 1468.33 Q419.974 1459.58 423.03 1455 Q426.109 1450.39 431.919 1450.39 Z\" fill=\"#000000\" fill-rule=\"nonzero\" fill-opacity=\"1\" /><path clip-path=\"url(#clip540)\" d=\"M452.567 1479.7 L457.451 1479.7 L457.451 1485.58 L452.567 1485.58 L452.567 1479.7 M452.567 1461.07 L457.451 1461.07 L457.451 1466.95 L452.567 1466.95 L452.567 1461.07 Z\" fill=\"#000000\" fill-rule=\"nonzero\" fill-opacity=\"1\" /><path clip-path=\"url(#clip540)\" d=\"M478.053 1454.1 Q474.442 1454.1 472.613 1457.66 Q470.807 1461.2 470.807 1468.33 Q470.807 1475.44 472.613 1479.01 Q474.442 1482.55 478.053 1482.55 Q481.687 1482.55 483.493 1479.01 Q485.321 1475.44 485.321 1468.33 Q485.321 1461.2 483.493 1457.66 Q481.687 1454.1 478.053 1454.1 M478.053 1450.39 Q483.863 1450.39 486.918 1455 Q489.997 1459.58 489.997 1468.33 Q489.997 1477.06 486.918 1481.67 Q483.863 1486.25 478.053 1486.25 Q472.243 1486.25 469.164 1481.67 Q466.108 1477.06 466.108 1468.33 Q466.108 1459.58 469.164 1455 Q472.243 1450.39 478.053 1450.39 Z\" fill=\"#000000\" fill-rule=\"nonzero\" fill-opacity=\"1\" /><path clip-path=\"url(#clip540)\" d=\"M508.215 1454.1 Q504.604 1454.1 502.775 1457.66 Q500.969 1461.2 500.969 1468.33 Q500.969 1475.44 502.775 1479.01 Q504.604 1482.55 508.215 1482.55 Q511.849 1482.55 513.654 1479.01 Q515.483 1475.44 515.483 1468.33 Q515.483 1461.2 513.654 1457.66 Q511.849 1454.1 508.215 1454.1 M508.215 1450.39 Q514.025 1450.39 517.08 1455 Q520.159 1459.58 520.159 1468.33 Q520.159 1477.06 517.08 1481.67 Q514.025 1486.25 508.215 1486.25 Q502.404 1486.25 499.326 1481.67 Q496.27 1477.06 496.27 1468.33 Q496.27 1459.58 499.326 1455 Q502.404 1450.39 508.215 1450.39 Z\" fill=\"#000000\" fill-rule=\"nonzero\" fill-opacity=\"1\" /><path clip-path=\"url(#clip540)\" d=\"M1072.67 1481.64 L1088.99 1481.64 L1088.99 1485.58 L1067.05 1485.58 L1067.05 1481.64 Q1069.71 1478.89 1074.29 1474.26 Q1078.9 1469.61 1080.08 1468.27 Q1082.33 1465.74 1083.21 1464.01 Q1084.11 1462.25 1084.11 1460.56 Q1084.11 1457.8 1082.16 1456.07 Q1080.24 1454.33 1077.14 1454.33 Q1074.94 1454.33 1072.49 1455.09 Q1070.06 1455.86 1067.28 1457.41 L1067.28 1452.69 Q1070.1 1451.55 1072.56 1450.97 Q1075.01 1450.39 1077.05 1450.39 Q1082.42 1450.39 1085.61 1453.08 Q1088.81 1455.77 1088.81 1460.26 Q1088.81 1462.39 1088 1464.31 Q1087.21 1466.2 1085.1 1468.8 Q1084.52 1469.47 1081.42 1472.69 Q1078.32 1475.88 1072.67 1481.64 Z\" fill=\"#000000\" fill-rule=\"nonzero\" fill-opacity=\"1\" /><path clip-path=\"url(#clip540)\" d=\"M1108.81 1454.1 Q1105.2 1454.1 1103.37 1457.66 Q1101.56 1461.2 1101.56 1468.33 Q1101.56 1475.44 1103.37 1479.01 Q1105.2 1482.55 1108.81 1482.55 Q1112.44 1482.55 1114.25 1479.01 Q1116.08 1475.44 1116.08 1468.33 Q1116.08 1461.2 1114.25 1457.66 Q1112.44 1454.1 1108.81 1454.1 M1108.81 1450.39 Q1114.62 1450.39 1117.67 1455 Q1120.75 1459.58 1120.75 1468.33 Q1120.75 1477.06 1117.67 1481.67 Q1114.62 1486.25 1108.81 1486.25 Q1103 1486.25 1099.92 1481.67 Q1096.86 1477.06 1096.86 1468.33 Q1096.86 1459.58 1099.92 1455 Q1103 1450.39 1108.81 1450.39 Z\" fill=\"#000000\" fill-rule=\"nonzero\" fill-opacity=\"1\" /><path clip-path=\"url(#clip540)\" d=\"M1133 1481.64 L1149.32 1481.64 L1149.32 1485.58 L1127.37 1485.58 L1127.37 1481.64 Q1130.03 1478.89 1134.62 1474.26 Q1139.22 1469.61 1140.4 1468.27 Q1142.65 1465.74 1143.53 1464.01 Q1144.43 1462.25 1144.43 1460.56 Q1144.43 1457.8 1142.49 1456.07 Q1140.57 1454.33 1137.46 1454.33 Q1135.27 1454.33 1132.81 1455.09 Q1130.38 1455.86 1127.6 1457.41 L1127.6 1452.69 Q1130.43 1451.55 1132.88 1450.97 Q1135.33 1450.39 1137.37 1450.39 Q1142.74 1450.39 1145.94 1453.08 Q1149.13 1455.77 1149.13 1460.26 Q1149.13 1462.39 1148.32 1464.31 Q1147.53 1466.2 1145.43 1468.8 Q1144.85 1469.47 1141.75 1472.69 Q1138.64 1475.88 1133 1481.64 Z\" fill=\"#000000\" fill-rule=\"nonzero\" fill-opacity=\"1\" /><path clip-path=\"url(#clip540)\" d=\"M1169.13 1454.1 Q1165.52 1454.1 1163.69 1457.66 Q1161.89 1461.2 1161.89 1468.33 Q1161.89 1475.44 1163.69 1479.01 Q1165.52 1482.55 1169.13 1482.55 Q1172.76 1482.55 1174.57 1479.01 Q1176.4 1475.44 1176.4 1468.33 Q1176.4 1461.2 1174.57 1457.66 Q1172.76 1454.1 1169.13 1454.1 M1169.13 1450.39 Q1174.94 1450.39 1178 1455 Q1181.08 1459.58 1181.08 1468.33 Q1181.08 1477.06 1178 1481.67 Q1174.94 1486.25 1169.13 1486.25 Q1163.32 1486.25 1160.24 1481.67 Q1157.19 1477.06 1157.19 1468.33 Q1157.19 1459.58 1160.24 1455 Q1163.32 1450.39 1169.13 1450.39 Z\" fill=\"#000000\" fill-rule=\"nonzero\" fill-opacity=\"1\" /><path clip-path=\"url(#clip540)\" d=\"M1186.54 1470.7 L1199.01 1470.7 L1199.01 1474.49 L1186.54 1474.49 L1186.54 1470.7 Z\" fill=\"#000000\" fill-rule=\"nonzero\" fill-opacity=\"1\" /><path clip-path=\"url(#clip540)\" d=\"M1216.4 1454.1 Q1212.79 1454.1 1210.96 1457.66 Q1209.15 1461.2 1209.15 1468.33 Q1209.15 1475.44 1210.96 1479.01 Q1212.79 1482.55 1216.4 1482.55 Q1220.03 1482.55 1221.84 1479.01 Q1223.67 1475.44 1223.67 1468.33 Q1223.67 1461.2 1221.84 1457.66 Q1220.03 1454.1 1216.4 1454.1 M1216.4 1450.39 Q1222.21 1450.39 1225.26 1455 Q1228.34 1459.58 1228.34 1468.33 Q1228.34 1477.06 1225.26 1481.67 Q1222.21 1486.25 1216.4 1486.25 Q1210.59 1486.25 1207.51 1481.67 Q1204.45 1477.06 1204.45 1468.33 Q1204.45 1459.58 1207.51 1455 Q1210.59 1450.39 1216.4 1450.39 Z\" fill=\"#000000\" fill-rule=\"nonzero\" fill-opacity=\"1\" /><path clip-path=\"url(#clip540)\" d=\"M1237.37 1481.64 L1245.01 1481.64 L1245.01 1455.28 L1236.7 1456.95 L1236.7 1452.69 L1244.96 1451.02 L1249.64 1451.02 L1249.64 1481.64 L1257.28 1481.64 L1257.28 1485.58 L1237.37 1485.58 L1237.37 1481.64 Z\" fill=\"#000000\" fill-rule=\"nonzero\" fill-opacity=\"1\" /><path clip-path=\"url(#clip540)\" d=\"M1263.97 1470.7 L1276.44 1470.7 L1276.44 1474.49 L1263.97 1474.49 L1263.97 1470.7 Z\" fill=\"#000000\" fill-rule=\"nonzero\" fill-opacity=\"1\" /><path clip-path=\"url(#clip540)\" d=\"M1293.83 1454.1 Q1290.22 1454.1 1288.39 1457.66 Q1286.58 1461.2 1286.58 1468.33 Q1286.58 1475.44 1288.39 1479.01 Q1290.22 1482.55 1293.83 1482.55 Q1297.46 1482.55 1299.27 1479.01 Q1301.1 1475.44 1301.1 1468.33 Q1301.1 1461.2 1299.27 1457.66 Q1297.46 1454.1 1293.83 1454.1 M1293.83 1450.39 Q1299.64 1450.39 1302.69 1455 Q1305.77 1459.58 1305.77 1468.33 Q1305.77 1477.06 1302.69 1481.67 Q1299.64 1486.25 1293.83 1486.25 Q1288.02 1486.25 1284.94 1481.67 Q1281.88 1477.06 1281.88 1468.33 Q1281.88 1459.58 1284.94 1455 Q1288.02 1450.39 1293.83 1450.39 Z\" fill=\"#000000\" fill-rule=\"nonzero\" fill-opacity=\"1\" /><path clip-path=\"url(#clip540)\" d=\"M1314.8 1481.64 L1322.44 1481.64 L1322.44 1455.28 L1314.13 1456.95 L1314.13 1452.69 L1322.39 1451.02 L1327.07 1451.02 L1327.07 1481.64 L1334.71 1481.64 L1334.71 1485.58 L1314.8 1485.58 L1314.8 1481.64 Z\" fill=\"#000000\" fill-rule=\"nonzero\" fill-opacity=\"1\" /><path clip-path=\"url(#clip540)\" d=\"M1338.94 1451.02 L1368.18 1451.02 L1368.18 1454.96 L1355.91 1454.96 L1355.91 1485.58 L1351.21 1485.58 L1351.21 1454.96 L1338.94 1454.96 L1338.94 1451.02 Z\" fill=\"#000000\" fill-rule=\"nonzero\" fill-opacity=\"1\" /><path clip-path=\"url(#clip540)\" d=\"M1383.11 1454.1 Q1379.5 1454.1 1377.67 1457.66 Q1375.87 1461.2 1375.87 1468.33 Q1375.87 1475.44 1377.67 1479.01 Q1379.5 1482.55 1383.11 1482.55 Q1386.75 1482.55 1388.55 1479.01 Q1390.38 1475.44 1390.38 1468.33 Q1390.38 1461.2 1388.55 1457.66 Q1386.75 1454.1 1383.11 1454.1 M1383.11 1450.39 Q1388.92 1450.39 1391.98 1455 Q1395.06 1459.58 1395.06 1468.33 Q1395.06 1477.06 1391.98 1481.67 Q1388.92 1486.25 1383.11 1486.25 Q1377.3 1486.25 1374.22 1481.67 Q1371.17 1477.06 1371.17 1468.33 Q1371.17 1459.58 1374.22 1455 Q1377.3 1450.39 1383.11 1450.39 Z\" fill=\"#000000\" fill-rule=\"nonzero\" fill-opacity=\"1\" /><path clip-path=\"url(#clip540)\" d=\"M1403.41 1484.86 L1403.41 1480.6 Q1405.17 1481.44 1406.98 1481.88 Q1408.78 1482.32 1410.52 1482.32 Q1415.15 1482.32 1417.58 1479.21 Q1420.03 1476.09 1420.38 1469.75 Q1419.04 1471.74 1416.98 1472.8 Q1414.92 1473.87 1412.42 1473.87 Q1407.23 1473.87 1404.2 1470.74 Q1401.19 1467.59 1401.19 1462.15 Q1401.19 1456.83 1404.34 1453.61 Q1407.49 1450.39 1412.72 1450.39 Q1418.71 1450.39 1421.86 1455 Q1425.03 1459.58 1425.03 1468.33 Q1425.03 1476.51 1421.14 1481.39 Q1417.28 1486.25 1410.73 1486.25 Q1408.97 1486.25 1407.16 1485.9 Q1405.36 1485.56 1403.41 1484.86 M1412.72 1470.21 Q1415.87 1470.21 1417.69 1468.06 Q1419.55 1465.9 1419.55 1462.15 Q1419.55 1458.43 1417.69 1456.27 Q1415.87 1454.1 1412.72 1454.1 Q1409.57 1454.1 1407.72 1456.27 Q1405.89 1458.43 1405.89 1462.15 Q1405.89 1465.9 1407.72 1468.06 Q1409.57 1470.21 1412.72 1470.21 Z\" fill=\"#000000\" fill-rule=\"nonzero\" fill-opacity=\"1\" /><path clip-path=\"url(#clip540)\" d=\"M1433.92 1479.7 L1438.81 1479.7 L1438.81 1485.58 L1433.92 1485.58 L1433.92 1479.7 M1433.92 1461.07 L1438.81 1461.07 L1438.81 1466.95 L1433.92 1466.95 L1433.92 1461.07 Z\" fill=\"#000000\" fill-rule=\"nonzero\" fill-opacity=\"1\" /><path clip-path=\"url(#clip540)\" d=\"M1459.41 1454.1 Q1455.8 1454.1 1453.97 1457.66 Q1452.16 1461.2 1452.16 1468.33 Q1452.16 1475.44 1453.97 1479.01 Q1455.8 1482.55 1459.41 1482.55 Q1463.04 1482.55 1464.85 1479.01 Q1466.68 1475.44 1466.68 1468.33 Q1466.68 1461.2 1464.85 1457.66 Q1463.04 1454.1 1459.41 1454.1 M1459.41 1450.39 Q1465.22 1450.39 1468.27 1455 Q1471.35 1459.58 1471.35 1468.33 Q1471.35 1477.06 1468.27 1481.67 Q1465.22 1486.25 1459.41 1486.25 Q1453.6 1486.25 1450.52 1481.67 Q1447.46 1477.06 1447.46 1468.33 Q1447.46 1459.58 1450.52 1455 Q1453.6 1450.39 1459.41 1450.39 Z\" fill=\"#000000\" fill-rule=\"nonzero\" fill-opacity=\"1\" /><path clip-path=\"url(#clip540)\" d=\"M1489.57 1454.1 Q1485.96 1454.1 1484.13 1457.66 Q1482.32 1461.2 1482.32 1468.33 Q1482.32 1475.44 1484.13 1479.01 Q1485.96 1482.55 1489.57 1482.55 Q1493.2 1482.55 1495.01 1479.01 Q1496.84 1475.44 1496.84 1468.33 Q1496.84 1461.2 1495.01 1457.66 Q1493.2 1454.1 1489.57 1454.1 M1489.57 1450.39 Q1495.38 1450.39 1498.43 1455 Q1501.51 1459.58 1501.51 1468.33 Q1501.51 1477.06 1498.43 1481.67 Q1495.38 1486.25 1489.57 1486.25 Q1483.76 1486.25 1480.68 1481.67 Q1477.62 1477.06 1477.62 1468.33 Q1477.62 1459.58 1480.68 1455 Q1483.76 1450.39 1489.57 1450.39 Z\" fill=\"#000000\" fill-rule=\"nonzero\" fill-opacity=\"1\" /><path clip-path=\"url(#clip540)\" d=\"M1510.22 1479.7 L1515.1 1479.7 L1515.1 1485.58 L1510.22 1485.58 L1510.22 1479.7 M1510.22 1461.07 L1515.1 1461.07 L1515.1 1466.95 L1510.22 1466.95 L1510.22 1461.07 Z\" fill=\"#000000\" fill-rule=\"nonzero\" fill-opacity=\"1\" /><path clip-path=\"url(#clip540)\" d=\"M1535.7 1454.1 Q1532.09 1454.1 1530.26 1457.66 Q1528.46 1461.2 1528.46 1468.33 Q1528.46 1475.44 1530.26 1479.01 Q1532.09 1482.55 1535.7 1482.55 Q1539.34 1482.55 1541.14 1479.01 Q1542.97 1475.44 1542.97 1468.33 Q1542.97 1461.2 1541.14 1457.66 Q1539.34 1454.1 1535.7 1454.1 M1535.7 1450.39 Q1541.51 1450.39 1544.57 1455 Q1547.65 1459.58 1547.65 1468.33 Q1547.65 1477.06 1544.57 1481.67 Q1541.51 1486.25 1535.7 1486.25 Q1529.89 1486.25 1526.81 1481.67 Q1523.76 1477.06 1523.76 1468.33 Q1523.76 1459.58 1526.81 1455 Q1529.89 1450.39 1535.7 1450.39 Z\" fill=\"#000000\" fill-rule=\"nonzero\" fill-opacity=\"1\" /><path clip-path=\"url(#clip540)\" d=\"M1565.86 1454.1 Q1562.25 1454.1 1560.42 1457.66 Q1558.62 1461.2 1558.62 1468.33 Q1558.62 1475.44 1560.42 1479.01 Q1562.25 1482.55 1565.86 1482.55 Q1569.5 1482.55 1571.3 1479.01 Q1573.13 1475.44 1573.13 1468.33 Q1573.13 1461.2 1571.3 1457.66 Q1569.5 1454.1 1565.86 1454.1 M1565.86 1450.39 Q1571.67 1450.39 1574.73 1455 Q1577.81 1459.58 1577.81 1468.33 Q1577.81 1477.06 1574.73 1481.67 Q1571.67 1486.25 1565.86 1486.25 Q1560.05 1486.25 1556.98 1481.67 Q1553.92 1477.06 1553.92 1468.33 Q1553.92 1459.58 1556.98 1455 Q1560.05 1450.39 1565.86 1450.39 Z\" fill=\"#000000\" fill-rule=\"nonzero\" fill-opacity=\"1\" /><path clip-path=\"url(#clip540)\" d=\"M1200.24 1520.52 L1240.44 1520.52 L1240.44 1525.93 L1223.57 1525.93 L1223.57 1568.04 L1217.11 1568.04 L1217.11 1525.93 L1200.24 1525.93 L1200.24 1520.52 Z\" fill=\"#000000\" fill-rule=\"nonzero\" fill-opacity=\"1\" /><path clip-path=\"url(#clip540)\" d=\"M1244.38 1532.4 L1250.24 1532.4 L1250.24 1568.04 L1244.38 1568.04 L1244.38 1532.4 M1244.38 1518.52 L1250.24 1518.52 L1250.24 1525.93 L1244.38 1525.93 L1244.38 1518.52 Z\" fill=\"#000000\" fill-rule=\"nonzero\" fill-opacity=\"1\" /><path clip-path=\"url(#clip540)\" d=\"M1290.25 1539.24 Q1292.44 1535.29 1295.5 1533.41 Q1298.55 1531.54 1302.69 1531.54 Q1308.26 1531.54 1311.29 1535.45 Q1314.31 1539.33 1314.31 1546.53 L1314.31 1568.04 L1308.42 1568.04 L1308.42 1546.72 Q1308.42 1541.59 1306.61 1539.11 Q1304.79 1536.63 1301.07 1536.63 Q1296.52 1536.63 1293.88 1539.65 Q1291.23 1542.68 1291.23 1547.9 L1291.23 1568.04 L1285.35 1568.04 L1285.35 1546.72 Q1285.35 1541.56 1283.53 1539.11 Q1281.72 1536.63 1277.93 1536.63 Q1273.44 1536.63 1270.8 1539.68 Q1268.16 1542.71 1268.16 1547.9 L1268.16 1568.04 L1262.27 1568.04 L1262.27 1532.4 L1268.16 1532.4 L1268.16 1537.93 Q1270.16 1534.66 1272.96 1533.1 Q1275.77 1531.54 1279.62 1531.54 Q1283.5 1531.54 1286.21 1533.51 Q1288.94 1535.48 1290.25 1539.24 Z\" fill=\"#000000\" fill-rule=\"nonzero\" fill-opacity=\"1\" /><path clip-path=\"url(#clip540)\" d=\"M1356.48 1548.76 L1356.48 1551.62 L1329.56 1551.62 Q1329.94 1557.67 1333.18 1560.85 Q1336.46 1564 1342.29 1564 Q1345.66 1564 1348.81 1563.17 Q1352 1562.35 1355.11 1560.69 L1355.11 1566.23 Q1351.96 1567.57 1348.65 1568.27 Q1345.34 1568.97 1341.94 1568.97 Q1333.41 1568.97 1328.41 1564 Q1323.44 1559.04 1323.44 1550.57 Q1323.44 1541.82 1328.16 1536.69 Q1332.9 1531.54 1340.92 1531.54 Q1348.11 1531.54 1352.28 1536.18 Q1356.48 1540.8 1356.48 1548.76 M1350.63 1547.04 Q1350.56 1542.23 1347.92 1539.37 Q1345.31 1536.5 1340.98 1536.5 Q1336.08 1536.5 1333.12 1539.27 Q1330.19 1542.04 1329.75 1547.07 L1350.63 1547.04 Z\" fill=\"#000000\" fill-rule=\"nonzero\" fill-opacity=\"1\" /><polyline clip-path=\"url(#clip540)\" style=\"stroke:#000000; stroke-linecap:round; stroke-linejoin:round; stroke-width:4; stroke-opacity:1; fill:none\" points=\"203.964,1423.18 203.964,123.472 \"/>\n",
       "<polyline clip-path=\"url(#clip540)\" style=\"stroke:#000000; stroke-linecap:round; stroke-linejoin:round; stroke-width:4; stroke-opacity:1; fill:none\" points=\"203.964,1318.28 222.861,1318.28 \"/>\n",
       "<polyline clip-path=\"url(#clip540)\" style=\"stroke:#000000; stroke-linecap:round; stroke-linejoin:round; stroke-width:4; stroke-opacity:1; fill:none\" points=\"203.964,977.683 222.861,977.683 \"/>\n",
       "<polyline clip-path=\"url(#clip540)\" style=\"stroke:#000000; stroke-linecap:round; stroke-linejoin:round; stroke-width:4; stroke-opacity:1; fill:none\" points=\"203.964,637.088 222.861,637.088 \"/>\n",
       "<polyline clip-path=\"url(#clip540)\" style=\"stroke:#000000; stroke-linecap:round; stroke-linejoin:round; stroke-width:4; stroke-opacity:1; fill:none\" points=\"203.964,296.494 222.861,296.494 \"/>\n",
       "<path clip-path=\"url(#clip540)\" d=\"M116.668 1331.62 L124.306 1331.62 L124.306 1305.26 L115.996 1306.92 L115.996 1302.66 L124.26 1301 L128.936 1301 L128.936 1331.62 L136.575 1331.62 L136.575 1335.56 L116.668 1335.56 L116.668 1331.62 Z\" fill=\"#000000\" fill-rule=\"nonzero\" fill-opacity=\"1\" /><path clip-path=\"url(#clip540)\" d=\"M156.019 1304.08 Q152.408 1304.08 150.579 1307.64 Q148.774 1311.18 148.774 1318.31 Q148.774 1325.42 150.579 1328.98 Q152.408 1332.52 156.019 1332.52 Q159.653 1332.52 161.459 1328.98 Q163.288 1325.42 163.288 1318.31 Q163.288 1311.18 161.459 1307.64 Q159.653 1304.08 156.019 1304.08 M156.019 1300.37 Q161.829 1300.37 164.885 1304.98 Q167.964 1309.56 167.964 1318.31 Q167.964 1327.04 164.885 1331.64 Q161.829 1336.23 156.019 1336.23 Q150.209 1336.23 147.13 1331.64 Q144.075 1327.04 144.075 1318.31 Q144.075 1309.56 147.13 1304.98 Q150.209 1300.37 156.019 1300.37 Z\" fill=\"#000000\" fill-rule=\"nonzero\" fill-opacity=\"1\" /><path clip-path=\"url(#clip540)\" d=\"M117.663 991.027 L125.302 991.027 L125.302 964.662 L116.992 966.328 L116.992 962.069 L125.255 960.403 L129.931 960.403 L129.931 991.027 L137.57 991.027 L137.57 994.963 L117.663 994.963 L117.663 991.027 Z\" fill=\"#000000\" fill-rule=\"nonzero\" fill-opacity=\"1\" /><path clip-path=\"url(#clip540)\" d=\"M147.061 960.403 L165.417 960.403 L165.417 964.338 L151.343 964.338 L151.343 972.81 Q152.362 972.463 153.38 972.301 Q154.399 972.115 155.417 972.115 Q161.204 972.115 164.584 975.287 Q167.964 978.458 167.964 983.875 Q167.964 989.453 164.491 992.555 Q161.019 995.634 154.7 995.634 Q152.524 995.634 150.255 995.263 Q148.01 994.893 145.603 994.152 L145.603 989.453 Q147.686 990.588 149.908 991.143 Q152.13 991.699 154.607 991.699 Q158.612 991.699 160.95 989.592 Q163.288 987.486 163.288 983.875 Q163.288 980.264 160.95 978.157 Q158.612 976.051 154.607 976.051 Q152.732 976.051 150.857 976.467 Q149.005 976.884 147.061 977.764 L147.061 960.403 Z\" fill=\"#000000\" fill-rule=\"nonzero\" fill-opacity=\"1\" /><path clip-path=\"url(#clip540)\" d=\"M119.885 650.433 L136.204 650.433 L136.204 654.368 L114.26 654.368 L114.26 650.433 Q116.922 647.678 121.505 643.049 Q126.112 638.396 127.292 637.054 Q129.538 634.53 130.417 632.794 Q131.32 631.035 131.32 629.345 Q131.32 626.591 129.376 624.855 Q127.455 623.118 124.353 623.118 Q122.154 623.118 119.7 623.882 Q117.269 624.646 114.492 626.197 L114.492 621.475 Q117.316 620.341 119.769 619.762 Q122.223 619.183 124.26 619.183 Q129.63 619.183 132.825 621.868 Q136.019 624.554 136.019 629.044 Q136.019 631.174 135.209 633.095 Q134.422 634.993 132.316 637.586 Q131.737 638.257 128.635 641.475 Q125.533 644.669 119.885 650.433 Z\" fill=\"#000000\" fill-rule=\"nonzero\" fill-opacity=\"1\" /><path clip-path=\"url(#clip540)\" d=\"M156.019 622.887 Q152.408 622.887 150.579 626.452 Q148.774 629.993 148.774 637.123 Q148.774 644.229 150.579 647.794 Q152.408 651.336 156.019 651.336 Q159.653 651.336 161.459 647.794 Q163.288 644.229 163.288 637.123 Q163.288 629.993 161.459 626.452 Q159.653 622.887 156.019 622.887 M156.019 619.183 Q161.829 619.183 164.885 623.79 Q167.964 628.373 167.964 637.123 Q167.964 645.85 164.885 650.456 Q161.829 655.04 156.019 655.04 Q150.209 655.04 147.13 650.456 Q144.075 645.85 144.075 637.123 Q144.075 628.373 147.13 623.79 Q150.209 619.183 156.019 619.183 Z\" fill=\"#000000\" fill-rule=\"nonzero\" fill-opacity=\"1\" /><path clip-path=\"url(#clip540)\" d=\"M120.88 309.839 L137.2 309.839 L137.2 313.774 L115.256 313.774 L115.256 309.839 Q117.918 307.084 122.501 302.455 Q127.107 297.802 128.288 296.459 Q130.533 293.936 131.413 292.2 Q132.316 290.441 132.316 288.751 Q132.316 285.996 130.371 284.26 Q128.45 282.524 125.348 282.524 Q123.149 282.524 120.695 283.288 Q118.265 284.052 115.487 285.603 L115.487 280.881 Q118.311 279.746 120.765 279.168 Q123.218 278.589 125.255 278.589 Q130.626 278.589 133.82 281.274 Q137.015 283.959 137.015 288.45 Q137.015 290.58 136.204 292.501 Q135.417 294.399 133.311 296.992 Q132.732 297.663 129.63 300.881 Q126.529 304.075 120.88 309.839 Z\" fill=\"#000000\" fill-rule=\"nonzero\" fill-opacity=\"1\" /><path clip-path=\"url(#clip540)\" d=\"M147.061 279.214 L165.417 279.214 L165.417 283.149 L151.343 283.149 L151.343 291.621 Q152.362 291.274 153.38 291.112 Q154.399 290.927 155.417 290.927 Q161.204 290.927 164.584 294.098 Q167.964 297.269 167.964 302.686 Q167.964 308.265 164.491 311.367 Q161.019 314.445 154.7 314.445 Q152.524 314.445 150.255 314.075 Q148.01 313.705 145.603 312.964 L145.603 308.265 Q147.686 309.399 149.908 309.955 Q152.13 310.51 154.607 310.51 Q158.612 310.51 160.95 308.404 Q163.288 306.297 163.288 302.686 Q163.288 299.075 160.95 296.969 Q158.612 294.862 154.607 294.862 Q152.732 294.862 150.857 295.279 Q149.005 295.695 147.061 296.575 L147.061 279.214 Z\" fill=\"#000000\" fill-rule=\"nonzero\" fill-opacity=\"1\" /><path clip-path=\"url(#clip540)\" d=\"M16.4842 845.354 L16.4842 838.925 L58.5933 838.925 L58.5933 815.785 L64.0042 815.785 L64.0042 845.354 L16.4842 845.354 Z\" fill=\"#000000\" fill-rule=\"nonzero\" fill-opacity=\"1\" /><path clip-path=\"url(#clip540)\" d=\"M32.4621 796.624 Q32.4621 801.335 36.1542 804.072 Q39.8145 806.81 46.212 806.81 Q52.6095 806.81 56.3017 804.104 Q59.9619 801.367 59.9619 796.624 Q59.9619 791.946 56.2698 789.208 Q52.5777 786.471 46.212 786.471 Q39.8781 786.471 36.186 789.208 Q32.4621 791.946 32.4621 796.624 M27.4968 796.624 Q27.4968 788.986 32.4621 784.625 Q37.4273 780.265 46.212 780.265 Q54.9649 780.265 59.9619 784.625 Q64.9272 788.986 64.9272 796.624 Q64.9272 804.295 59.9619 808.656 Q54.9649 812.984 46.212 812.984 Q37.4273 812.984 32.4621 808.656 Q27.4968 804.295 27.4968 796.624 Z\" fill=\"#000000\" fill-rule=\"nonzero\" fill-opacity=\"1\" /><path clip-path=\"url(#clip540)\" d=\"M46.0847 754.356 Q46.0847 761.454 47.7079 764.191 Q49.3312 766.928 53.2461 766.928 Q56.3653 766.928 58.2114 764.891 Q60.0256 762.823 60.0256 759.29 Q60.0256 754.42 56.5881 751.492 Q53.1188 748.532 47.3897 748.532 L46.0847 748.532 L46.0847 754.356 M43.6657 742.675 L64.0042 742.675 L64.0042 748.532 L58.5933 748.532 Q61.8398 750.537 63.3994 753.529 Q64.9272 756.521 64.9272 760.849 Q64.9272 766.324 61.8716 769.57 Q58.7843 772.785 53.6281 772.785 Q47.6125 772.785 44.5569 768.775 Q41.5014 764.732 41.5014 756.743 L41.5014 748.532 L40.9285 748.532 Q36.8862 748.532 34.6901 751.205 Q32.4621 753.847 32.4621 758.653 Q32.4621 761.709 33.1941 764.605 Q33.9262 767.501 35.3903 770.175 L29.9795 770.175 Q28.7381 766.96 28.1334 763.937 Q27.4968 760.913 27.4968 758.048 Q27.4968 750.314 31.5072 746.495 Q35.5176 742.675 43.6657 742.675 Z\" fill=\"#000000\" fill-rule=\"nonzero\" fill-opacity=\"1\" /><path clip-path=\"url(#clip540)\" d=\"M33.7671 707.154 L14.479 707.154 L14.479 701.298 L64.0042 701.298 L64.0042 707.154 L58.657 707.154 Q61.8398 709.001 63.3994 711.833 Q64.9272 714.634 64.9272 718.581 Q64.9272 725.042 59.771 729.116 Q54.6147 733.158 46.212 733.158 Q37.8093 733.158 32.6531 729.116 Q27.4968 725.042 27.4968 718.581 Q27.4968 714.634 29.0564 711.833 Q30.5842 709.001 33.7671 707.154 M46.212 727.111 Q52.6732 727.111 56.3653 724.469 Q60.0256 721.796 60.0256 717.149 Q60.0256 712.502 56.3653 709.828 Q52.6732 707.154 46.212 707.154 Q39.7508 707.154 36.0905 709.828 Q32.3984 712.502 32.3984 717.149 Q32.3984 721.796 36.0905 724.469 Q39.7508 727.111 46.212 727.111 Z\" fill=\"#000000\" fill-rule=\"nonzero\" fill-opacity=\"1\" /><path clip-path=\"url(#clip540)\" d=\"M903.104 12.096 L911.287 12.096 L911.287 65.6895 L940.737 65.6895 L940.737 72.576 L903.104 72.576 L903.104 12.096 Z\" fill=\"#000000\" fill-rule=\"nonzero\" fill-opacity=\"1\" /><path clip-path=\"url(#clip540)\" d=\"M965.124 32.4315 Q959.128 32.4315 955.644 37.1306 Q952.161 41.7891 952.161 49.9314 Q952.161 58.0738 955.604 62.7728 Q959.088 67.4314 965.124 67.4314 Q971.078 67.4314 974.562 62.7323 Q978.046 58.0333 978.046 49.9314 Q978.046 41.8701 974.562 37.1711 Q971.078 32.4315 965.124 32.4315 M965.124 26.1121 Q974.846 26.1121 980.395 32.4315 Q985.945 38.7509 985.945 49.9314 Q985.945 61.0714 980.395 67.4314 Q974.846 73.7508 965.124 73.7508 Q955.361 73.7508 949.811 67.4314 Q944.302 61.0714 944.302 49.9314 Q944.302 38.7509 949.811 32.4315 Q955.361 26.1121 965.124 26.1121 Z\" fill=\"#000000\" fill-rule=\"nonzero\" fill-opacity=\"1\" /><path clip-path=\"url(#clip540)\" d=\"M1018.92 49.7694 Q1009.89 49.7694 1006.4 51.8354 Q1002.92 53.9013 1002.92 58.8839 Q1002.92 62.8538 1005.51 65.2034 Q1008.14 67.5124 1012.64 67.5124 Q1018.84 67.5124 1022.57 63.1374 Q1026.33 58.7219 1026.33 51.4303 L1026.33 49.7694 L1018.92 49.7694 M1033.79 46.6907 L1033.79 72.576 L1026.33 72.576 L1026.33 65.6895 Q1023.78 69.8214 1019.97 71.8063 Q1016.16 73.7508 1010.66 73.7508 Q1003.69 73.7508 999.556 69.8619 Q995.465 65.9325 995.465 59.3701 Q995.465 51.7138 1000.57 47.825 Q1005.71 43.9361 1015.88 43.9361 L1026.33 43.9361 L1026.33 43.2069 Q1026.33 38.0623 1022.93 35.2672 Q1019.57 32.4315 1013.45 32.4315 Q1009.56 32.4315 1005.88 33.3632 Q1002.19 34.295 998.787 36.1584 L998.787 29.2718 Q1002.88 27.692 1006.73 26.9223 Q1010.57 26.1121 1014.22 26.1121 Q1024.06 26.1121 1028.93 31.2163 Q1033.79 36.3204 1033.79 46.6907 Z\" fill=\"#000000\" fill-rule=\"nonzero\" fill-opacity=\"1\" /><path clip-path=\"url(#clip540)\" d=\"M1078.99 34.0924 L1078.99 9.54393 L1086.45 9.54393 L1086.45 72.576 L1078.99 72.576 L1078.99 65.7705 Q1076.64 69.8214 1073.04 71.8063 Q1069.47 73.7508 1064.45 73.7508 Q1056.23 73.7508 1051.04 67.1883 Q1045.9 60.6258 1045.9 49.9314 Q1045.9 39.2371 1051.04 32.6746 Q1056.23 26.1121 1064.45 26.1121 Q1069.47 26.1121 1073.04 28.0971 Q1076.64 30.0415 1078.99 34.0924 M1053.6 49.9314 Q1053.6 58.1548 1056.96 62.8538 Q1060.36 67.5124 1066.27 67.5124 Q1072.19 67.5124 1075.59 62.8538 Q1078.99 58.1548 1078.99 49.9314 Q1078.99 41.7081 1075.59 37.0496 Q1072.19 32.3505 1066.27 32.3505 Q1060.36 32.3505 1056.96 37.0496 Q1053.6 41.7081 1053.6 49.9314 Z\" fill=\"#000000\" fill-rule=\"nonzero\" fill-opacity=\"1\" /><path clip-path=\"url(#clip540)\" d=\"M1109.9 65.6895 L1138.46 65.6895 L1138.46 72.576 L1100.06 72.576 L1100.06 65.6895 Q1104.72 60.8689 1112.74 52.7671 Q1120.8 44.6248 1122.87 42.2752 Q1126.8 37.8598 1128.33 34.8216 Q1129.91 31.7429 1129.91 28.7857 Q1129.91 23.9651 1126.51 20.927 Q1123.15 17.8888 1117.72 17.8888 Q1113.87 17.8888 1109.58 19.2256 Q1105.33 20.5624 1100.46 23.2765 L1100.46 15.0127 Q1105.41 13.0277 1109.7 12.015 Q1113.99 11.0023 1117.56 11.0023 Q1126.96 11.0023 1132.55 15.7013 Q1138.14 20.4004 1138.14 28.2591 Q1138.14 31.9859 1136.72 35.3482 Q1135.34 38.6699 1131.66 43.2069 Q1130.64 44.3817 1125.22 50.0125 Q1119.79 55.6027 1109.9 65.6895 Z\" fill=\"#000000\" fill-rule=\"nonzero\" fill-opacity=\"1\" /><path clip-path=\"url(#clip540)\" d=\"M1172.89 12.096 L1224.06 12.096 L1224.06 18.9825 L1202.59 18.9825 L1202.59 72.576 L1194.36 72.576 L1194.36 18.9825 L1172.89 18.9825 L1172.89 12.096 Z\" fill=\"#000000\" fill-rule=\"nonzero\" fill-opacity=\"1\" /><path clip-path=\"url(#clip540)\" d=\"M1229.08 27.2059 L1236.53 27.2059 L1236.53 72.576 L1229.08 72.576 L1229.08 27.2059 M1229.08 9.54393 L1236.53 9.54393 L1236.53 18.9825 L1229.08 18.9825 L1229.08 9.54393 Z\" fill=\"#000000\" fill-rule=\"nonzero\" fill-opacity=\"1\" /><path clip-path=\"url(#clip540)\" d=\"M1287.45 35.9153 Q1290.25 30.8922 1294.14 28.5022 Q1298.03 26.1121 1303.29 26.1121 Q1310.38 26.1121 1314.23 31.0947 Q1318.08 36.0368 1318.08 45.1919 L1318.08 72.576 L1310.58 72.576 L1310.58 45.4349 Q1310.58 38.913 1308.28 35.7533 Q1305.97 32.5936 1301.23 32.5936 Q1295.43 32.5936 1292.07 36.4419 Q1288.71 40.2903 1288.71 46.9338 L1288.71 72.576 L1281.22 72.576 L1281.22 45.4349 Q1281.22 38.8725 1278.91 35.7533 Q1276.6 32.5936 1271.78 32.5936 Q1266.07 32.5936 1262.7 36.4824 Q1259.34 40.3308 1259.34 46.9338 L1259.34 72.576 L1251.85 72.576 L1251.85 27.2059 L1259.34 27.2059 L1259.34 34.2544 Q1261.89 30.082 1265.46 28.0971 Q1269.02 26.1121 1273.92 26.1121 Q1278.87 26.1121 1282.31 28.6237 Q1285.79 31.1352 1287.45 35.9153 Z\" fill=\"#000000\" fill-rule=\"nonzero\" fill-opacity=\"1\" /><path clip-path=\"url(#clip540)\" d=\"M1371.75 48.0275 L1371.75 51.6733 L1337.48 51.6733 Q1337.97 59.3701 1342.1 63.421 Q1346.27 67.4314 1353.69 67.4314 Q1357.98 67.4314 1361.99 66.3781 Q1366.04 65.3249 1370.01 63.2184 L1370.01 70.267 Q1366 71.9684 1361.79 72.8596 Q1357.58 73.7508 1353.24 73.7508 Q1342.38 73.7508 1336.02 67.4314 Q1329.7 61.1119 1329.7 50.3365 Q1329.7 39.1965 1335.7 32.6746 Q1341.74 26.1121 1351.94 26.1121 Q1361.1 26.1121 1366.41 32.0264 Q1371.75 37.9003 1371.75 48.0275 M1364.3 45.84 Q1364.22 39.7232 1360.86 36.0774 Q1357.53 32.4315 1352.03 32.4315 Q1345.79 32.4315 1342.02 35.9558 Q1338.29 39.4801 1337.73 45.8805 L1364.3 45.84 Z\" fill=\"#000000\" fill-rule=\"nonzero\" fill-opacity=\"1\" /><path clip-path=\"url(#clip540)\" d=\"M1446.94 14.0809 L1446.94 22.0612 Q1442.28 19.8332 1438.15 18.7395 Q1434.02 17.6457 1430.17 17.6457 Q1423.48 17.6457 1419.84 20.2383 Q1416.23 22.8309 1416.23 27.611 Q1416.23 31.6214 1418.62 33.6873 Q1421.05 35.7128 1427.78 36.9686 L1432.72 37.9813 Q1441.87 39.7232 1446.21 44.1387 Q1450.58 48.5136 1450.58 55.8863 Q1450.58 64.6767 1444.67 69.2137 Q1438.8 73.7508 1427.41 73.7508 Q1423.12 73.7508 1418.26 72.7785 Q1413.44 71.8063 1408.25 69.9024 L1408.25 61.4765 Q1413.23 64.2716 1418.01 65.6895 Q1422.79 67.1073 1427.41 67.1073 Q1434.42 67.1073 1438.23 64.3527 Q1442.04 61.598 1442.04 56.4939 Q1442.04 52.0379 1439.28 49.5264 Q1436.57 47.0148 1430.33 45.759 L1425.35 44.7868 Q1416.19 42.9639 1412.1 39.075 Q1408.01 35.1862 1408.01 28.2591 Q1408.01 20.2383 1413.64 15.6203 Q1419.31 11.0023 1429.24 11.0023 Q1433.49 11.0023 1437.9 11.7719 Q1442.32 12.5416 1446.94 14.0809 Z\" fill=\"#000000\" fill-rule=\"nonzero\" fill-opacity=\"1\" /><path clip-path=\"url(#clip540)\" d=\"M1501.83 48.0275 L1501.83 51.6733 L1467.56 51.6733 Q1468.04 59.3701 1472.18 63.421 Q1476.35 67.4314 1483.76 67.4314 Q1488.05 67.4314 1492.07 66.3781 Q1496.12 65.3249 1500.09 63.2184 L1500.09 70.267 Q1496.08 71.9684 1491.86 72.8596 Q1487.65 73.7508 1483.32 73.7508 Q1472.46 73.7508 1466.1 67.4314 Q1459.78 61.1119 1459.78 50.3365 Q1459.78 39.1965 1465.77 32.6746 Q1471.81 26.1121 1482.02 26.1121 Q1491.17 26.1121 1496.48 32.0264 Q1501.83 37.9003 1501.83 48.0275 M1494.37 45.84 Q1494.29 39.7232 1490.93 36.0774 Q1487.61 32.4315 1482.1 32.4315 Q1475.86 32.4315 1472.09 35.9558 Q1468.37 39.4801 1467.8 45.8805 L1494.37 45.84 Z\" fill=\"#000000\" fill-rule=\"nonzero\" fill-opacity=\"1\" /><path clip-path=\"url(#clip540)\" d=\"M1540.35 34.1734 Q1539.1 33.4443 1537.6 33.1202 Q1536.14 32.7556 1534.36 32.7556 Q1528.04 32.7556 1524.63 36.8875 Q1521.27 40.9789 1521.27 48.6757 L1521.27 72.576 L1513.78 72.576 L1513.78 27.2059 L1521.27 27.2059 L1521.27 34.2544 Q1523.62 30.1225 1527.39 28.1376 Q1531.16 26.1121 1536.54 26.1121 Q1537.31 26.1121 1538.25 26.2337 Q1539.18 26.3147 1540.31 26.5172 L1540.35 34.1734 Z\" fill=\"#000000\" fill-rule=\"nonzero\" fill-opacity=\"1\" /><path clip-path=\"url(#clip540)\" d=\"M1548.17 27.2059 L1555.62 27.2059 L1555.62 72.576 L1548.17 72.576 L1548.17 27.2059 M1548.17 9.54393 L1555.62 9.54393 L1555.62 18.9825 L1548.17 18.9825 L1548.17 9.54393 Z\" fill=\"#000000\" fill-rule=\"nonzero\" fill-opacity=\"1\" /><path clip-path=\"url(#clip540)\" d=\"M1610.03 48.0275 L1610.03 51.6733 L1575.76 51.6733 Q1576.24 59.3701 1580.37 63.421 Q1584.55 67.4314 1591.96 67.4314 Q1596.25 67.4314 1600.26 66.3781 Q1604.32 65.3249 1608.29 63.2184 L1608.29 70.267 Q1604.28 71.9684 1600.06 72.8596 Q1595.85 73.7508 1591.51 73.7508 Q1580.66 73.7508 1574.3 67.4314 Q1567.98 61.1119 1567.98 50.3365 Q1567.98 39.1965 1573.97 32.6746 Q1580.01 26.1121 1590.22 26.1121 Q1599.37 26.1121 1604.68 32.0264 Q1610.03 37.9003 1610.03 48.0275 M1602.57 45.84 Q1602.49 39.7232 1599.13 36.0774 Q1595.81 32.4315 1590.3 32.4315 Q1584.06 32.4315 1580.29 35.9558 Q1576.57 39.4801 1576 45.8805 L1602.57 45.84 Z\" fill=\"#000000\" fill-rule=\"nonzero\" fill-opacity=\"1\" /><path clip-path=\"url(#clip540)\" d=\"M1651.18 28.5427 L1651.18 35.5912 Q1648.03 33.9709 1644.62 33.1607 Q1641.22 32.3505 1637.57 32.3505 Q1632.02 32.3505 1629.23 34.0519 Q1626.47 35.7533 1626.47 39.156 Q1626.47 41.7486 1628.46 43.2475 Q1630.44 44.7058 1636.44 46.0426 L1638.99 46.6097 Q1646.93 48.3111 1650.25 51.4303 Q1653.62 54.509 1653.62 60.0587 Q1653.62 66.3781 1648.59 70.0644 Q1643.61 73.7508 1634.86 73.7508 Q1631.21 73.7508 1627.24 73.0216 Q1623.31 72.3329 1618.94 70.9151 L1618.94 63.2184 Q1623.07 65.3654 1627.08 66.4591 Q1631.09 67.5124 1635.02 67.5124 Q1640.29 67.5124 1643.12 65.73 Q1645.96 63.9071 1645.96 60.6258 Q1645.96 57.5877 1643.89 55.9673 Q1641.87 54.3469 1634.94 52.8481 L1632.35 52.2405 Q1625.42 50.7821 1622.34 47.7845 Q1619.26 44.7463 1619.26 39.4801 Q1619.26 33.0797 1623.8 29.5959 Q1628.34 26.1121 1636.68 26.1121 Q1640.81 26.1121 1644.46 26.7198 Q1648.11 27.3274 1651.18 28.5427 Z\" fill=\"#000000\" fill-rule=\"nonzero\" fill-opacity=\"1\" /><polyline clip-path=\"url(#clip542)\" style=\"stroke:#009af9; stroke-linecap:round; stroke-linejoin:round; stroke-width:8; stroke-opacity:1; fill:none\" points=\"264.778,1386.4 352.916,1386.4 441.053,1386.4 529.191,1386.4 617.328,1182.04 705.466,1182.04 793.603,1182.04 881.741,1182.04 969.878,977.683 1058.02,977.683 1146.15,773.326 1234.29,773.326 1322.43,568.969 1410.57,364.613 1498.7,364.613 1586.84,364.613 1674.98,364.613 1763.12,364.613 1851.25,160.256 1939.39,364.613 2027.53,364.613 2115.67,364.613 2203.8,364.613 2291.94,364.613 \"/>\n",
       "</svg>\n"
      ]
     },
     "execution_count": 50,
     "metadata": {},
     "output_type": "execute_result"
    }
   ],
   "source": [
    "plot(ts_data, \n",
    "     title = \"Load2 Time Series\", \n",
    "     xlabel = \"Time\", \n",
    "     ylabel = \"Load\",\n",
    "     linewidth = 2,\n",
    "     legend = false)"
   ]
  },
  {
   "cell_type": "code",
   "execution_count": 51,
   "id": "0d82c476",
   "metadata": {},
   "outputs": [],
   "source": [
    "transform_single_time_series!(\n",
    "           system,\n",
    "           Dates.Hour(1), # horizon\n",
    "           Dates.Minute(30), # interval\n",
    "       );"
   ]
  },
  {
   "cell_type": "code",
   "execution_count": 54,
   "id": "b4ff3d27",
   "metadata": {},
   "outputs": [
    {
     "data": {
      "text/plain": [
       "PowerLoad: load1:\n",
       "   name: load1\n",
       "   available: true\n",
       "   bus: ACBus: bus1\n",
       "   active_power: 0.0\n",
       "   reactive_power: 0.0\n",
       "   base_power: 10.0\n",
       "   max_active_power: 10.0\n",
       "   max_reactive_power: 0.0\n",
       "   services: 0-element Vector{Service}\n",
       "   dynamic_injector: nothing\n",
       "   ext: Dict{String, Any}()\n",
       "   InfrastructureSystems.SystemUnitsSettings:\n",
       "      base_value: 100.0\n",
       "      unit_system: UnitSystem.NATURAL_UNITS = 2\n",
       "   has_supplemental_attributes: false\n",
       "   has_time_series: true"
      ]
     },
     "execution_count": 54,
     "metadata": {},
     "output_type": "execute_result"
    }
   ],
   "source": [
    "load1"
   ]
  },
  {
   "cell_type": "code",
   "execution_count": 56,
   "id": "4b22bc84",
   "metadata": {},
   "outputs": [
    {
     "data": {
      "text/plain": [
       "12×1 TimeArray{Float64, 1, DateTime, Vector{Float64}} 2020-01-01T08:00:00 to 2020-01-01T08:55:00\n",
       "┌─────────────────────┬─────┐\n",
       "│\u001b[1m                     \u001b[0m│\u001b[1m A   \u001b[0m│\n",
       "├─────────────────────┼─────┤\n",
       "│ 2020-01-01T08:00:00 │ 3.0 │\n",
       "│ 2020-01-01T08:05:00 │ 3.0 │\n",
       "│ 2020-01-01T08:10:00 │ 3.0 │\n",
       "│ 2020-01-01T08:15:00 │ 3.0 │\n",
       "│ 2020-01-01T08:20:00 │ 4.0 │\n",
       "│ 2020-01-01T08:25:00 │ 4.0 │\n",
       "│ 2020-01-01T08:30:00 │ 4.0 │\n",
       "│ 2020-01-01T08:35:00 │ 4.0 │\n",
       "│ 2020-01-01T08:40:00 │ 5.0 │\n",
       "│ 2020-01-01T08:45:00 │ 5.0 │\n",
       "│ 2020-01-01T08:50:00 │ 6.0 │\n",
       "│ 2020-01-01T08:55:00 │ 6.0 │\n",
       "└─────────────────────┴─────┘"
      ]
     },
     "execution_count": 56,
     "metadata": {},
     "output_type": "execute_result"
    }
   ],
   "source": [
    " get_time_series_array(\n",
    "           DeterministicSingleTimeSeries,\n",
    "           load1,\n",
    "           \"max_active_power\";\n",
    "           start_time = DateTime(\"2020-01-01T08:00:00\"),\n",
    "       )"
   ]
  },
  {
   "cell_type": "code",
   "execution_count": 61,
   "id": "d2e40bdf",
   "metadata": {},
   "outputs": [
    {
     "data": {
      "text/plain": [
       "24×1 TimeArray{Float64, 1, DateTime, Vector{Float64}} 2020-01-01T08:00:00 to 2020-01-01T09:55:00\n",
       "┌─────────────────────┬─────┐\n",
       "│\u001b[1m                     \u001b[0m│\u001b[1m A   \u001b[0m│\n",
       "├─────────────────────┼─────┤\n",
       "│ 2020-01-01T08:00:00 │ 3.0 │\n",
       "│ 2020-01-01T08:05:00 │ 3.0 │\n",
       "│ 2020-01-01T08:10:00 │ 3.0 │\n",
       "│ 2020-01-01T08:15:00 │ 3.0 │\n",
       "│ 2020-01-01T08:20:00 │ 4.0 │\n",
       "│ 2020-01-01T08:25:00 │ 4.0 │\n",
       "│ 2020-01-01T08:30:00 │ 4.0 │\n",
       "│ 2020-01-01T08:35:00 │ 4.0 │\n",
       "│ 2020-01-01T08:40:00 │ 5.0 │\n",
       "│ 2020-01-01T08:45:00 │ 5.0 │\n",
       "│ 2020-01-01T08:50:00 │ 6.0 │\n",
       "│          ⋮          │  ⋮  │\n",
       "│ 2020-01-01T09:10:00 │ 8.0 │\n",
       "│ 2020-01-01T09:15:00 │ 8.0 │\n",
       "│ 2020-01-01T09:20:00 │ 8.0 │\n",
       "│ 2020-01-01T09:25:00 │ 8.0 │\n",
       "│ 2020-01-01T09:30:00 │ 9.0 │\n",
       "│ 2020-01-01T09:35:00 │ 8.0 │\n",
       "│ 2020-01-01T09:40:00 │ 8.0 │\n",
       "│ 2020-01-01T09:45:00 │ 8.0 │\n",
       "│ 2020-01-01T09:50:00 │ 8.0 │\n",
       "│ 2020-01-01T09:55:00 │ 8.0 │\n",
       "└─────────────────────┴─────┘\n",
       "\u001b[36m               3 rows omitted\u001b[0m"
      ]
     },
     "execution_count": 61,
     "metadata": {},
     "output_type": "execute_result"
    }
   ],
   "source": [
    " get_time_series_array(\n",
    "           SingleTimeSeries,\n",
    "           load1,\n",
    "           \"max_active_power\";\n",
    "       )"
   ]
  },
  {
   "cell_type": "code",
   "execution_count": null,
   "id": "b030a14e",
   "metadata": {},
   "outputs": [],
   "source": []
  },
  {
   "cell_type": "markdown",
   "id": "d8c4cc0d",
   "metadata": {},
   "source": [
    "Sanity checks"
   ]
  },
  {
   "cell_type": "code",
   "execution_count": 62,
   "id": "8cc1d6a5",
   "metadata": {},
   "outputs": [
    {
     "data": {
      "text/html": [
       "<table>\n",
       "  <caption style = \"text-align: left;\">System</caption>\n",
       "  <thead>\n",
       "    <tr class = \"header headerLastRow\">\n",
       "      <th style = \"text-align: left;\">Property</th>\n",
       "      <th style = \"text-align: left;\">Value</th>\n",
       "    </tr>\n",
       "  </thead>\n",
       "  <tbody>\n",
       "    <tr>\n",
       "      <td style = \"text-align: left;\">Name</td>\n",
       "      <td style = \"text-align: left;\"></td>\n",
       "    </tr>\n",
       "    <tr>\n",
       "      <td style = \"text-align: left;\">Description</td>\n",
       "      <td style = \"text-align: left;\"></td>\n",
       "    </tr>\n",
       "    <tr>\n",
       "      <td style = \"text-align: left;\">System Units Base</td>\n",
       "      <td style = \"text-align: left;\">NATURAL_UNITS</td>\n",
       "    </tr>\n",
       "    <tr>\n",
       "      <td style = \"text-align: left;\">Base Power</td>\n",
       "      <td style = \"text-align: left;\">100.0</td>\n",
       "    </tr>\n",
       "    <tr>\n",
       "      <td style = \"text-align: left;\">Base Frequency</td>\n",
       "      <td style = \"text-align: left;\">60.0</td>\n",
       "    </tr>\n",
       "    <tr>\n",
       "      <td style = \"text-align: left;\">Num Components</td>\n",
       "      <td style = \"text-align: left;\">4</td>\n",
       "    </tr>\n",
       "  </tbody>\n",
       "</table>\n",
       "\n",
       "<table>\n",
       "  <caption style = \"text-align: left;\">Static Components</caption>\n",
       "  <thead>\n",
       "    <tr class = \"header headerLastRow\">\n",
       "      <th style = \"text-align: left;\">Type</th>\n",
       "      <th style = \"text-align: left;\">Count</th>\n",
       "    </tr>\n",
       "  </thead>\n",
       "  <tbody>\n",
       "    <tr>\n",
       "      <td style = \"text-align: left;\">ACBus</td>\n",
       "      <td style = \"text-align: left;\">1</td>\n",
       "    </tr>\n",
       "    <tr>\n",
       "      <td style = \"text-align: left;\">PowerLoad</td>\n",
       "      <td style = \"text-align: left;\">2</td>\n",
       "    </tr>\n",
       "    <tr>\n",
       "      <td style = \"text-align: left;\">RenewableDispatch</td>\n",
       "      <td style = \"text-align: left;\">1</td>\n",
       "    </tr>\n",
       "  </tbody>\n",
       "</table>\n",
       "\n",
       "<table>\n",
       "  <caption style = \"text-align: left;\">StaticTimeSeries Summary</caption>\n",
       "  <thead>\n",
       "    <tr class = \"header\">\n",
       "      <th style = \"text-align: left;\">owner_type</th>\n",
       "      <th style = \"text-align: left;\">owner_category</th>\n",
       "      <th style = \"text-align: left;\">time_series_type</th>\n",
       "      <th style = \"text-align: left;\">initial_timestamp</th>\n",
       "      <th style = \"text-align: left;\">resolution</th>\n",
       "      <th style = \"text-align: left;\">count</th>\n",
       "      <th style = \"text-align: left;\">time_step_count</th>\n",
       "    </tr>\n",
       "    <tr class = \"subheader headerLastRow\">\n",
       "      <th style = \"text-align: left;\">String</th>\n",
       "      <th style = \"text-align: left;\">String</th>\n",
       "      <th style = \"text-align: left;\">String</th>\n",
       "      <th style = \"text-align: left;\">String</th>\n",
       "      <th style = \"text-align: left;\">Dates.CompoundPeriod</th>\n",
       "      <th style = \"text-align: left;\">Int64</th>\n",
       "      <th style = \"text-align: left;\">Int64</th>\n",
       "    </tr>\n",
       "  </thead>\n",
       "  <tbody>\n",
       "    <tr>\n",
       "      <td style = \"text-align: left;\">PowerLoad</td>\n",
       "      <td style = \"text-align: left;\">Component</td>\n",
       "      <td style = \"text-align: left;\">SingleTimeSeries</td>\n",
       "      <td style = \"text-align: left;\">2020-01-01T08:00:00</td>\n",
       "      <td style = \"text-align: left;\">5 minutes</td>\n",
       "      <td style = \"text-align: left;\">2</td>\n",
       "      <td style = \"text-align: left;\">24</td>\n",
       "    </tr>\n",
       "    <tr>\n",
       "      <td style = \"text-align: left;\">RenewableDispatch</td>\n",
       "      <td style = \"text-align: left;\">Component</td>\n",
       "      <td style = \"text-align: left;\">SingleTimeSeries</td>\n",
       "      <td style = \"text-align: left;\">2020-01-01T08:00:00</td>\n",
       "      <td style = \"text-align: left;\">5 minutes</td>\n",
       "      <td style = \"text-align: left;\">1</td>\n",
       "      <td style = \"text-align: left;\">24</td>\n",
       "    </tr>\n",
       "  </tbody>\n",
       "</table>\n",
       "<table>\n",
       "  <caption style = \"text-align: left;\">Forecast Summary</caption>\n",
       "  <thead>\n",
       "    <tr class = \"header\">\n",
       "      <th style = \"text-align: left;\">owner_type</th>\n",
       "      <th style = \"text-align: left;\">owner_category</th>\n",
       "      <th style = \"text-align: left;\">time_series_type</th>\n",
       "      <th style = \"text-align: left;\">initial_timestamp</th>\n",
       "      <th style = \"text-align: left;\">resolution</th>\n",
       "      <th style = \"text-align: left;\">count</th>\n",
       "      <th style = \"text-align: left;\">horizon</th>\n",
       "      <th style = \"text-align: left;\">interval</th>\n",
       "      <th style = \"text-align: left;\">window_count</th>\n",
       "    </tr>\n",
       "    <tr class = \"subheader headerLastRow\">\n",
       "      <th style = \"text-align: left;\">String</th>\n",
       "      <th style = \"text-align: left;\">String</th>\n",
       "      <th style = \"text-align: left;\">String</th>\n",
       "      <th style = \"text-align: left;\">String</th>\n",
       "      <th style = \"text-align: left;\">Dates.CompoundPeriod</th>\n",
       "      <th style = \"text-align: left;\">Int64</th>\n",
       "      <th style = \"text-align: left;\">Dates.CompoundPeriod</th>\n",
       "      <th style = \"text-align: left;\">Dates.CompoundPeriod</th>\n",
       "      <th style = \"text-align: left;\">Int64</th>\n",
       "    </tr>\n",
       "  </thead>\n",
       "  <tbody>\n",
       "    <tr>\n",
       "      <td style = \"text-align: left;\">PowerLoad</td>\n",
       "      <td style = \"text-align: left;\">Component</td>\n",
       "      <td style = \"text-align: left;\">DeterministicSingleTimeSeries</td>\n",
       "      <td style = \"text-align: left;\">2020-01-01T08:00:00</td>\n",
       "      <td style = \"text-align: left;\">5 minutes</td>\n",
       "      <td style = \"text-align: left;\">2</td>\n",
       "      <td style = \"text-align: left;\">1 hour</td>\n",
       "      <td style = \"text-align: left;\">30 minutes</td>\n",
       "      <td style = \"text-align: left;\">3</td>\n",
       "    </tr>\n",
       "    <tr>\n",
       "      <td style = \"text-align: left;\">RenewableDispatch</td>\n",
       "      <td style = \"text-align: left;\">Component</td>\n",
       "      <td style = \"text-align: left;\">Deterministic</td>\n",
       "      <td style = \"text-align: left;\">2020-01-01T08:00:00</td>\n",
       "      <td style = \"text-align: left;\">5 minutes</td>\n",
       "      <td style = \"text-align: left;\">1</td>\n",
       "      <td style = \"text-align: left;\">1 hour</td>\n",
       "      <td style = \"text-align: left;\">30 minutes</td>\n",
       "      <td style = \"text-align: left;\">3</td>\n",
       "    </tr>\n",
       "    <tr>\n",
       "      <td style = \"text-align: left;\">RenewableDispatch</td>\n",
       "      <td style = \"text-align: left;\">Component</td>\n",
       "      <td style = \"text-align: left;\">DeterministicSingleTimeSeries</td>\n",
       "      <td style = \"text-align: left;\">2020-01-01T08:00:00</td>\n",
       "      <td style = \"text-align: left;\">5 minutes</td>\n",
       "      <td style = \"text-align: left;\">1</td>\n",
       "      <td style = \"text-align: left;\">1 hour</td>\n",
       "      <td style = \"text-align: left;\">30 minutes</td>\n",
       "      <td style = \"text-align: left;\">3</td>\n",
       "    </tr>\n",
       "  </tbody>\n",
       "</table>\n"
      ],
      "text/plain": [
       "\u001b[1mSystem\u001b[0m\n",
       "┌───────────────────┬───────────────┐\n",
       "│\u001b[1m Property          \u001b[0m│\u001b[1m Value         \u001b[0m│\n",
       "├───────────────────┼───────────────┤\n",
       "│ Name              │               │\n",
       "│ Description       │               │\n",
       "│ System Units Base │ NATURAL_UNITS │\n",
       "│ Base Power        │ 100.0         │\n",
       "│ Base Frequency    │ 60.0          │\n",
       "│ Num Components    │ 4             │\n",
       "└───────────────────┴───────────────┘\n",
       "\n",
       "\u001b[1mStatic Components\u001b[0m\n",
       "┌───────────────────┬───────┐\n",
       "│\u001b[1m Type              \u001b[0m│\u001b[1m Count \u001b[0m│\n",
       "├───────────────────┼───────┤\n",
       "│ ACBus             │ 1     │\n",
       "│ PowerLoad         │ 2     │\n",
       "│ RenewableDispatch │ 1     │\n",
       "└───────────────────┴───────┘\n",
       "\n",
       "\u001b[1mStaticTimeSeries Summary\u001b[0m\n",
       "┌───────────────────┬────────────────┬──────────────────┬───────────────────────\n",
       "│\u001b[1m owner_type        \u001b[0m│\u001b[1m owner_category \u001b[0m│\u001b[1m time_series_type \u001b[0m│\u001b[1m initial_timestamp   \u001b[0m ⋯\n",
       "│\u001b[90m String            \u001b[0m│\u001b[90m String         \u001b[0m│\u001b[90m String           \u001b[0m│\u001b[90m String              \u001b[0m ⋯\n",
       "├───────────────────┼────────────────┼──────────────────┼───────────────────────\n",
       "│ PowerLoad         │ Component      │ SingleTimeSeries │ 2020-01-01T08:00:00  ⋯\n",
       "│ RenewableDispatch │ Component      │ SingleTimeSeries │ 2020-01-01T08:00:00  ⋯\n",
       "└───────────────────┴────────────────┴──────────────────┴───────────────────────\n",
       "\u001b[36m                                                               3 columns omitted\u001b[0m\n",
       "\u001b[1mForecast Summary\u001b[0m\n",
       "┌───────────────────┬────────────────┬───────────────────────────────┬──────────\n",
       "│\u001b[1m owner_type        \u001b[0m│\u001b[1m owner_category \u001b[0m│\u001b[1m time_series_type              \u001b[0m│\u001b[1m initial\u001b[0m ⋯\n",
       "│\u001b[90m String            \u001b[0m│\u001b[90m String         \u001b[0m│\u001b[90m String                        \u001b[0m│\u001b[90m String \u001b[0m ⋯\n",
       "├───────────────────┼────────────────┼───────────────────────────────┼──────────\n",
       "│ PowerLoad         │ Component      │ DeterministicSingleTimeSeries │ 2020-01 ⋯\n",
       "│ RenewableDispatch │ Component      │ Deterministic                 │ 2020-01 ⋯\n",
       "│ RenewableDispatch │ Component      │ DeterministicSingleTimeSeries │ 2020-01 ⋯\n",
       "└───────────────────┴────────────────┴───────────────────────────────┴──────────\n",
       "\u001b[36m                                                               6 columns omitted\u001b[0m\n"
      ]
     },
     "execution_count": 62,
     "metadata": {},
     "output_type": "execute_result"
    }
   ],
   "source": [
    "system"
   ]
  },
  {
   "cell_type": "code",
   "execution_count": 63,
   "id": "3b13fa40",
   "metadata": {},
   "outputs": [],
   "source": [
    "for g in get_components(x -> has_time_series(x), RenewableDispatch, system)\n",
    "           remove_time_series!(system, DeterministicSingleTimeSeries, g, \"max_active_power\")\n",
    "       end"
   ]
  },
  {
   "cell_type": "code",
   "execution_count": 64,
   "id": "08108495",
   "metadata": {},
   "outputs": [
    {
     "data": {
      "text/html": [
       "<table>\n",
       "  <caption style = \"text-align: left;\">System</caption>\n",
       "  <thead>\n",
       "    <tr class = \"header headerLastRow\">\n",
       "      <th style = \"text-align: left;\">Property</th>\n",
       "      <th style = \"text-align: left;\">Value</th>\n",
       "    </tr>\n",
       "  </thead>\n",
       "  <tbody>\n",
       "    <tr>\n",
       "      <td style = \"text-align: left;\">Name</td>\n",
       "      <td style = \"text-align: left;\"></td>\n",
       "    </tr>\n",
       "    <tr>\n",
       "      <td style = \"text-align: left;\">Description</td>\n",
       "      <td style = \"text-align: left;\"></td>\n",
       "    </tr>\n",
       "    <tr>\n",
       "      <td style = \"text-align: left;\">System Units Base</td>\n",
       "      <td style = \"text-align: left;\">NATURAL_UNITS</td>\n",
       "    </tr>\n",
       "    <tr>\n",
       "      <td style = \"text-align: left;\">Base Power</td>\n",
       "      <td style = \"text-align: left;\">100.0</td>\n",
       "    </tr>\n",
       "    <tr>\n",
       "      <td style = \"text-align: left;\">Base Frequency</td>\n",
       "      <td style = \"text-align: left;\">60.0</td>\n",
       "    </tr>\n",
       "    <tr>\n",
       "      <td style = \"text-align: left;\">Num Components</td>\n",
       "      <td style = \"text-align: left;\">4</td>\n",
       "    </tr>\n",
       "  </tbody>\n",
       "</table>\n",
       "\n",
       "<table>\n",
       "  <caption style = \"text-align: left;\">Static Components</caption>\n",
       "  <thead>\n",
       "    <tr class = \"header headerLastRow\">\n",
       "      <th style = \"text-align: left;\">Type</th>\n",
       "      <th style = \"text-align: left;\">Count</th>\n",
       "    </tr>\n",
       "  </thead>\n",
       "  <tbody>\n",
       "    <tr>\n",
       "      <td style = \"text-align: left;\">ACBus</td>\n",
       "      <td style = \"text-align: left;\">1</td>\n",
       "    </tr>\n",
       "    <tr>\n",
       "      <td style = \"text-align: left;\">PowerLoad</td>\n",
       "      <td style = \"text-align: left;\">2</td>\n",
       "    </tr>\n",
       "    <tr>\n",
       "      <td style = \"text-align: left;\">RenewableDispatch</td>\n",
       "      <td style = \"text-align: left;\">1</td>\n",
       "    </tr>\n",
       "  </tbody>\n",
       "</table>\n",
       "\n",
       "<table>\n",
       "  <caption style = \"text-align: left;\">StaticTimeSeries Summary</caption>\n",
       "  <thead>\n",
       "    <tr class = \"header\">\n",
       "      <th style = \"text-align: left;\">owner_type</th>\n",
       "      <th style = \"text-align: left;\">owner_category</th>\n",
       "      <th style = \"text-align: left;\">time_series_type</th>\n",
       "      <th style = \"text-align: left;\">initial_timestamp</th>\n",
       "      <th style = \"text-align: left;\">resolution</th>\n",
       "      <th style = \"text-align: left;\">count</th>\n",
       "      <th style = \"text-align: left;\">time_step_count</th>\n",
       "    </tr>\n",
       "    <tr class = \"subheader headerLastRow\">\n",
       "      <th style = \"text-align: left;\">String</th>\n",
       "      <th style = \"text-align: left;\">String</th>\n",
       "      <th style = \"text-align: left;\">String</th>\n",
       "      <th style = \"text-align: left;\">String</th>\n",
       "      <th style = \"text-align: left;\">Dates.CompoundPeriod</th>\n",
       "      <th style = \"text-align: left;\">Int64</th>\n",
       "      <th style = \"text-align: left;\">Int64</th>\n",
       "    </tr>\n",
       "  </thead>\n",
       "  <tbody>\n",
       "    <tr>\n",
       "      <td style = \"text-align: left;\">PowerLoad</td>\n",
       "      <td style = \"text-align: left;\">Component</td>\n",
       "      <td style = \"text-align: left;\">SingleTimeSeries</td>\n",
       "      <td style = \"text-align: left;\">2020-01-01T08:00:00</td>\n",
       "      <td style = \"text-align: left;\">5 minutes</td>\n",
       "      <td style = \"text-align: left;\">2</td>\n",
       "      <td style = \"text-align: left;\">24</td>\n",
       "    </tr>\n",
       "    <tr>\n",
       "      <td style = \"text-align: left;\">RenewableDispatch</td>\n",
       "      <td style = \"text-align: left;\">Component</td>\n",
       "      <td style = \"text-align: left;\">SingleTimeSeries</td>\n",
       "      <td style = \"text-align: left;\">2020-01-01T08:00:00</td>\n",
       "      <td style = \"text-align: left;\">5 minutes</td>\n",
       "      <td style = \"text-align: left;\">1</td>\n",
       "      <td style = \"text-align: left;\">24</td>\n",
       "    </tr>\n",
       "  </tbody>\n",
       "</table>\n",
       "<table>\n",
       "  <caption style = \"text-align: left;\">Forecast Summary</caption>\n",
       "  <thead>\n",
       "    <tr class = \"header\">\n",
       "      <th style = \"text-align: left;\">owner_type</th>\n",
       "      <th style = \"text-align: left;\">owner_category</th>\n",
       "      <th style = \"text-align: left;\">time_series_type</th>\n",
       "      <th style = \"text-align: left;\">initial_timestamp</th>\n",
       "      <th style = \"text-align: left;\">resolution</th>\n",
       "      <th style = \"text-align: left;\">count</th>\n",
       "      <th style = \"text-align: left;\">horizon</th>\n",
       "      <th style = \"text-align: left;\">interval</th>\n",
       "      <th style = \"text-align: left;\">window_count</th>\n",
       "    </tr>\n",
       "    <tr class = \"subheader headerLastRow\">\n",
       "      <th style = \"text-align: left;\">String</th>\n",
       "      <th style = \"text-align: left;\">String</th>\n",
       "      <th style = \"text-align: left;\">String</th>\n",
       "      <th style = \"text-align: left;\">String</th>\n",
       "      <th style = \"text-align: left;\">Dates.CompoundPeriod</th>\n",
       "      <th style = \"text-align: left;\">Int64</th>\n",
       "      <th style = \"text-align: left;\">Dates.CompoundPeriod</th>\n",
       "      <th style = \"text-align: left;\">Dates.CompoundPeriod</th>\n",
       "      <th style = \"text-align: left;\">Int64</th>\n",
       "    </tr>\n",
       "  </thead>\n",
       "  <tbody>\n",
       "    <tr>\n",
       "      <td style = \"text-align: left;\">PowerLoad</td>\n",
       "      <td style = \"text-align: left;\">Component</td>\n",
       "      <td style = \"text-align: left;\">DeterministicSingleTimeSeries</td>\n",
       "      <td style = \"text-align: left;\">2020-01-01T08:00:00</td>\n",
       "      <td style = \"text-align: left;\">5 minutes</td>\n",
       "      <td style = \"text-align: left;\">2</td>\n",
       "      <td style = \"text-align: left;\">1 hour</td>\n",
       "      <td style = \"text-align: left;\">30 minutes</td>\n",
       "      <td style = \"text-align: left;\">3</td>\n",
       "    </tr>\n",
       "    <tr>\n",
       "      <td style = \"text-align: left;\">RenewableDispatch</td>\n",
       "      <td style = \"text-align: left;\">Component</td>\n",
       "      <td style = \"text-align: left;\">Deterministic</td>\n",
       "      <td style = \"text-align: left;\">2020-01-01T08:00:00</td>\n",
       "      <td style = \"text-align: left;\">5 minutes</td>\n",
       "      <td style = \"text-align: left;\">1</td>\n",
       "      <td style = \"text-align: left;\">1 hour</td>\n",
       "      <td style = \"text-align: left;\">30 minutes</td>\n",
       "      <td style = \"text-align: left;\">3</td>\n",
       "    </tr>\n",
       "  </tbody>\n",
       "</table>\n"
      ],
      "text/plain": [
       "\u001b[1mSystem\u001b[0m\n",
       "┌───────────────────┬───────────────┐\n",
       "│\u001b[1m Property          \u001b[0m│\u001b[1m Value         \u001b[0m│\n",
       "├───────────────────┼───────────────┤\n",
       "│ Name              │               │\n",
       "│ Description       │               │\n",
       "│ System Units Base │ NATURAL_UNITS │\n",
       "│ Base Power        │ 100.0         │\n",
       "│ Base Frequency    │ 60.0          │\n",
       "│ Num Components    │ 4             │\n",
       "└───────────────────┴───────────────┘\n",
       "\n",
       "\u001b[1mStatic Components\u001b[0m\n",
       "┌───────────────────┬───────┐\n",
       "│\u001b[1m Type              \u001b[0m│\u001b[1m Count \u001b[0m│\n",
       "├───────────────────┼───────┤\n",
       "│ ACBus             │ 1     │\n",
       "│ PowerLoad         │ 2     │\n",
       "│ RenewableDispatch │ 1     │\n",
       "└───────────────────┴───────┘\n",
       "\n",
       "\u001b[1mStaticTimeSeries Summary\u001b[0m\n",
       "┌───────────────────┬────────────────┬──────────────────┬───────────────────────\n",
       "│\u001b[1m owner_type        \u001b[0m│\u001b[1m owner_category \u001b[0m│\u001b[1m time_series_type \u001b[0m│\u001b[1m initial_timestamp   \u001b[0m ⋯\n",
       "│\u001b[90m String            \u001b[0m│\u001b[90m String         \u001b[0m│\u001b[90m String           \u001b[0m│\u001b[90m String              \u001b[0m ⋯\n",
       "├───────────────────┼────────────────┼──────────────────┼───────────────────────\n",
       "│ PowerLoad         │ Component      │ SingleTimeSeries │ 2020-01-01T08:00:00  ⋯\n",
       "│ RenewableDispatch │ Component      │ SingleTimeSeries │ 2020-01-01T08:00:00  ⋯\n",
       "└───────────────────┴────────────────┴──────────────────┴───────────────────────\n",
       "\u001b[36m                                                               3 columns omitted\u001b[0m\n",
       "\u001b[1mForecast Summary\u001b[0m\n",
       "┌───────────────────┬────────────────┬───────────────────────────────┬──────────\n",
       "│\u001b[1m owner_type        \u001b[0m│\u001b[1m owner_category \u001b[0m│\u001b[1m time_series_type              \u001b[0m│\u001b[1m initial\u001b[0m ⋯\n",
       "│\u001b[90m String            \u001b[0m│\u001b[90m String         \u001b[0m│\u001b[90m String                        \u001b[0m│\u001b[90m String \u001b[0m ⋯\n",
       "├───────────────────┼────────────────┼───────────────────────────────┼──────────\n",
       "│ PowerLoad         │ Component      │ DeterministicSingleTimeSeries │ 2020-01 ⋯\n",
       "│ RenewableDispatch │ Component      │ Deterministic                 │ 2020-01 ⋯\n",
       "└───────────────────┴────────────────┴───────────────────────────────┴──────────\n",
       "\u001b[36m                                                               6 columns omitted\u001b[0m\n"
      ]
     },
     "execution_count": 64,
     "metadata": {},
     "output_type": "execute_result"
    }
   ],
   "source": [
    "system"
   ]
  },
  {
   "cell_type": "code",
   "execution_count": 65,
   "id": "39f76c7b",
   "metadata": {},
   "outputs": [
    {
     "data": {
      "text/plain": [
       "2-element Vector{TimeSeriesKey}:\n",
       " ForecastKey(Deterministic, \"max_active_power\", DateTime(\"2020-01-01T08:00:00\"), Minute(5), Minute(60), Millisecond(1800000), 3, Dict{String, Any}())\n",
       " StaticTimeSeriesKey(SingleTimeSeries, \"max_active_power\", DateTime(\"2020-01-01T08:00:00\"), Millisecond(300000), 24, Dict{String, Any}())"
      ]
     },
     "execution_count": 65,
     "metadata": {},
     "output_type": "execute_result"
    }
   ],
   "source": [
    "keys = get_time_series_keys(wind1)"
   ]
  },
  {
   "cell_type": "code",
   "execution_count": 67,
   "id": "251996d4",
   "metadata": {},
   "outputs": [
    {
     "name": "stdout",
     "output_type": "stream",
     "text": [
      "values(maximum(window)) = [10.0]\n",
      "values(maximum(window)) = [9.0]\n",
      "values(maximum(window)) = [7.0]\n"
     ]
    }
   ],
   "source": [
    "forecast = get_time_series(wind1, keys[1])\n",
    "for window in iterate_windows(forecast)\n",
    "           @show values(maximum(window))\n",
    "       end"
   ]
  },
  {
   "cell_type": "code",
   "execution_count": 68,
   "id": "f70947fe",
   "metadata": {},
   "outputs": [
    {
     "data": {
      "text/plain": [
       "10.0"
      ]
     },
     "execution_count": 68,
     "metadata": {},
     "output_type": "execute_result"
    }
   ],
   "source": [
    "get_max_active_power(wind1)"
   ]
  }
 ],
 "metadata": {
  "kernelspec": {
   "display_name": "Sienna 1.11.5",
   "language": "julia",
   "name": "sienna-1.11"
  },
  "language_info": {
   "file_extension": ".jl",
   "mimetype": "application/julia",
   "name": "julia",
   "version": "1.11.5"
  }
 },
 "nbformat": 4,
 "nbformat_minor": 5
}
